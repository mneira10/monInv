{
 "cells": [
  {
   "cell_type": "code",
   "execution_count": 25,
   "metadata": {},
   "outputs": [],
   "source": [
    "import pandas as pd"
   ]
  },
  {
   "cell_type": "code",
   "execution_count": 26,
   "metadata": {},
   "outputs": [],
   "source": [
    "DATA_PATH = './data/'\n",
    "LIGHTCURVES_PATH = DATA_PATH + 'lightcurves/'\n",
    "FEATURES_PATH = DATA_PATH + 'features/'\n",
    "FEATURES_4D = DATA_PATH + '4dFeatures/'\n",
    "JUST_RED = DATA_PATH + 'just_red/'"
   ]
  },
  {
   "cell_type": "code",
   "execution_count": 27,
   "metadata": {},
   "outputs": [],
   "source": [
    "def colapseFilters(df,objType):\n",
    "    idList = list(df.index.get_level_values('ID').unique())\n",
    "    filterList= ['i','r','z','g']\n",
    "    cols = [\"ID\"]\n",
    "    original_cols = list(df.columns)\n",
    "    new_cols = []\n",
    "    for iFilter in filterList:\n",
    "        new_cols += [col + \"_\"+iFilter for col in original_cols]\n",
    "    cols += new_cols\n",
    "    alldf = pd.DataFrame(columns = cols)\n",
    "\n",
    "    for iter_num,iD in enumerate(idList):\n",
    "        #print status\n",
    "        if(iter_num%((len(idList)/100)//1)==0 ):\n",
    "            print(\"{}% done\".format(iter_num/((len(idList)/100)//1)) )\n",
    "            \n",
    "#         print(\"-{}-\".format(iD))\n",
    "        \n",
    "        item = df.loc[iD,:,:]\n",
    "\n",
    "        values = []\n",
    "        for iFilter in filterList:\n",
    "\n",
    "            #Because of Diegos algorithm, we have that copy_num always has value 0\n",
    "            #Thus, we can ignore it and get all values of the item using item.loc[0]\n",
    "            try:\n",
    "                values += list(item.loc[0].loc[iFilter])\n",
    "\n",
    "            #An exception means that there is no filter in that object, thus the values\n",
    "            #are set to 0\n",
    "            except:\n",
    "                values += [0.0]*32\n",
    "\n",
    "        values = [iD] + values\n",
    "\n",
    "        alldf.loc[len(alldf)]= values\n",
    "        \n",
    "    alldf = alldf.drop(['Class_i','Class_r','Class_z','Class_g'], axis=1)\n",
    "    alldf['Class'] = objType\n",
    "\n",
    "    return alldf\n",
    "\n",
    "#must delete class columns and only have 1!!"
   ]
  },
  {
   "cell_type": "code",
   "execution_count": 28,
   "metadata": {},
   "outputs": [],
   "source": [
    "filenames = ['SN','MSN','NSN']\n",
    "dfs = {}\n",
    "for name in filenames:\n",
    "    dfs[name] =  pd.read_pickle(FEATURES_PATH+name+\".pickle\")\n",
    "    \n"
   ]
  },
  {
   "cell_type": "code",
   "execution_count": 30,
   "metadata": {},
   "outputs": [
    {
     "data": {
      "text/plain": [
       "(15122, 32)"
      ]
     },
     "execution_count": 30,
     "metadata": {},
     "output_type": "execute_result"
    }
   ],
   "source": [
    "dfs[\"SN\"].shape"
   ]
  },
  {
   "cell_type": "code",
   "execution_count": null,
   "metadata": {},
   "outputs": [],
   "source": [
    "allsns = colapseFilters(dfs['SN'],'sn')"
   ]
  },
  {
   "cell_type": "code",
   "execution_count": 118,
   "metadata": {},
   "outputs": [],
   "source": [
    "allsns.to_pickle(FEATURES_4D + \"allSNS.pickle\")"
   ]
  },
  {
   "cell_type": "code",
   "execution_count": 149,
   "metadata": {},
   "outputs": [
    {
     "name": "stdout",
     "output_type": "stream",
     "text": [
      "0.0% done\n",
      "1.0% done\n",
      "2.0% done\n",
      "3.0% done\n",
      "4.0% done\n",
      "5.0% done\n",
      "6.0% done\n",
      "7.0% done\n",
      "8.0% done\n",
      "9.0% done\n",
      "10.0% done\n",
      "11.0% done\n",
      "12.0% done\n",
      "13.0% done\n",
      "14.0% done\n",
      "15.0% done\n",
      "16.0% done\n",
      "17.0% done\n",
      "18.0% done\n",
      "19.0% done\n",
      "20.0% done\n",
      "21.0% done\n",
      "22.0% done\n",
      "23.0% done\n",
      "24.0% done\n",
      "25.0% done\n",
      "26.0% done\n",
      "27.0% done\n",
      "28.0% done\n",
      "29.0% done\n",
      "30.0% done\n",
      "31.0% done\n",
      "32.0% done\n",
      "33.0% done\n",
      "34.0% done\n",
      "35.0% done\n",
      "36.0% done\n",
      "37.0% done\n",
      "38.0% done\n",
      "39.0% done\n",
      "40.0% done\n",
      "41.0% done\n",
      "42.0% done\n",
      "43.0% done\n",
      "44.0% done\n",
      "45.0% done\n",
      "46.0% done\n",
      "47.0% done\n",
      "48.0% done\n",
      "49.0% done\n",
      "50.0% done\n",
      "51.0% done\n",
      "52.0% done\n",
      "53.0% done\n",
      "54.0% done\n",
      "55.0% done\n",
      "56.0% done\n",
      "57.0% done\n",
      "58.0% done\n",
      "59.0% done\n",
      "60.0% done\n",
      "61.0% done\n",
      "62.0% done\n",
      "63.0% done\n",
      "64.0% done\n",
      "65.0% done\n",
      "66.0% done\n",
      "67.0% done\n",
      "68.0% done\n",
      "69.0% done\n",
      "70.0% done\n",
      "71.0% done\n",
      "72.0% done\n",
      "73.0% done\n",
      "74.0% done\n",
      "75.0% done\n",
      "76.0% done\n",
      "77.0% done\n",
      "78.0% done\n",
      "79.0% done\n",
      "80.0% done\n",
      "81.0% done\n",
      "82.0% done\n",
      "83.0% done\n",
      "84.0% done\n",
      "85.0% done\n",
      "86.0% done\n",
      "87.0% done\n",
      "88.0% done\n",
      "89.0% done\n",
      "90.0% done\n",
      "91.0% done\n",
      "92.0% done\n",
      "93.0% done\n",
      "94.0% done\n",
      "95.0% done\n",
      "96.0% done\n",
      "97.0% done\n",
      "98.0% done\n",
      "99.0% done\n",
      "100.0% done\n",
      "101.0% done\n",
      "102.0% done\n",
      "103.0% done\n",
      "104.0% done\n",
      "105.0% done\n",
      "106.0% done\n",
      "107.0% done\n",
      "108.0% done\n",
      "109.0% done\n",
      "110.0% done\n",
      "111.0% done\n",
      "112.0% done\n",
      "113.0% done\n",
      "114.0% done\n",
      "115.0% done\n",
      "116.0% done\n",
      "117.0% done\n",
      "118.0% done\n",
      "119.0% done\n",
      "120.0% done\n",
      "121.0% done\n",
      "122.0% done\n",
      "123.0% done\n",
      "124.0% done\n",
      "125.0% done\n",
      "126.0% done\n",
      "127.0% done\n",
      "128.0% done\n",
      "129.0% done\n",
      "130.0% done\n",
      "131.0% done\n",
      "132.0% done\n",
      "133.0% done\n",
      "134.0% done\n",
      "135.0% done\n",
      "136.0% done\n",
      "137.0% done\n",
      "138.0% done\n",
      "139.0% done\n",
      "140.0% done\n",
      "141.0% done\n",
      "142.0% done\n",
      "143.0% done\n",
      "144.0% done\n",
      "145.0% done\n",
      "146.0% done\n",
      "147.0% done\n",
      "148.0% done\n",
      "149.0% done\n",
      "150.0% done\n",
      "151.0% done\n",
      "152.0% done\n"
     ]
    }
   ],
   "source": [
    "allmsn = colapseFilters(dfs['MSN'],'sn')\n",
    "allmsn.to_pickle(FEATURES_4D + \"allMSN.pickle\")\n"
   ]
  },
  {
   "cell_type": "code",
   "execution_count": 150,
   "metadata": {},
   "outputs": [
    {
     "name": "stdout",
     "output_type": "stream",
     "text": [
      "0.0% done\n",
      "1.0% done\n",
      "2.0% done\n",
      "3.0% done\n",
      "4.0% done\n",
      "5.0% done\n",
      "6.0% done\n",
      "7.0% done\n",
      "8.0% done\n",
      "9.0% done\n",
      "10.0% done\n",
      "11.0% done\n",
      "12.0% done\n",
      "13.0% done\n",
      "14.0% done\n",
      "15.0% done\n",
      "16.0% done\n",
      "17.0% done\n",
      "18.0% done\n",
      "19.0% done\n",
      "20.0% done\n",
      "21.0% done\n",
      "22.0% done\n",
      "23.0% done\n",
      "24.0% done\n",
      "25.0% done\n",
      "26.0% done\n",
      "27.0% done\n",
      "28.0% done\n",
      "29.0% done\n",
      "30.0% done\n",
      "31.0% done\n",
      "32.0% done\n",
      "33.0% done\n",
      "34.0% done\n",
      "35.0% done\n",
      "36.0% done\n",
      "37.0% done\n",
      "38.0% done\n",
      "39.0% done\n",
      "40.0% done\n",
      "41.0% done\n",
      "42.0% done\n",
      "43.0% done\n",
      "44.0% done\n",
      "45.0% done\n",
      "46.0% done\n",
      "47.0% done\n",
      "48.0% done\n",
      "49.0% done\n",
      "50.0% done\n",
      "51.0% done\n",
      "52.0% done\n",
      "53.0% done\n",
      "54.0% done\n",
      "55.0% done\n",
      "56.0% done\n",
      "57.0% done\n",
      "58.0% done\n",
      "59.0% done\n",
      "60.0% done\n",
      "61.0% done\n",
      "62.0% done\n",
      "63.0% done\n",
      "64.0% done\n",
      "65.0% done\n",
      "66.0% done\n",
      "67.0% done\n",
      "68.0% done\n",
      "69.0% done\n",
      "70.0% done\n",
      "71.0% done\n",
      "72.0% done\n",
      "73.0% done\n",
      "74.0% done\n",
      "75.0% done\n",
      "76.0% done\n",
      "77.0% done\n",
      "78.0% done\n",
      "79.0% done\n",
      "80.0% done\n",
      "81.0% done\n",
      "82.0% done\n",
      "83.0% done\n",
      "84.0% done\n",
      "85.0% done\n",
      "86.0% done\n",
      "87.0% done\n",
      "88.0% done\n",
      "89.0% done\n",
      "90.0% done\n",
      "91.0% done\n",
      "92.0% done\n",
      "93.0% done\n",
      "94.0% done\n",
      "95.0% done\n",
      "96.0% done\n",
      "97.0% done\n",
      "98.0% done\n",
      "99.0% done\n",
      "100.0% done\n"
     ]
    }
   ],
   "source": [
    "allnsn = colapseFilters(dfs['NSN'],'nsn')\n",
    "allnsn.to_pickle(FEATURES_4D + \"allNSN.pickle\")"
   ]
  },
  {
   "cell_type": "code",
   "execution_count": 133,
   "metadata": {},
   "outputs": [
    {
     "data": {
      "text/html": [
       "<div>\n",
       "<style scoped>\n",
       "    .dataframe tbody tr th:only-of-type {\n",
       "        vertical-align: middle;\n",
       "    }\n",
       "\n",
       "    .dataframe tbody tr th {\n",
       "        vertical-align: top;\n",
       "    }\n",
       "\n",
       "    .dataframe thead th {\n",
       "        text-align: right;\n",
       "    }\n",
       "</style>\n",
       "<table border=\"1\" class=\"dataframe\">\n",
       "  <thead>\n",
       "    <tr style=\"text-align: right;\">\n",
       "      <th></th>\n",
       "      <th></th>\n",
       "      <th>Class</th>\n",
       "      <th>ObsCount</th>\n",
       "      <th>amplitude</th>\n",
       "      <th>beyond1st</th>\n",
       "      <th>flux_percentile_ratio_mid20</th>\n",
       "      <th>flux_percentile_ratio_mid35</th>\n",
       "      <th>flux_percentile_ratio_mid50</th>\n",
       "      <th>flux_percentile_ratio_mid65</th>\n",
       "      <th>flux_percentile_ratio_mid80</th>\n",
       "      <th>kurtosis</th>\n",
       "      <th>...</th>\n",
       "      <th>poly3_t3</th>\n",
       "      <th>poly4_t1</th>\n",
       "      <th>poly4_t2</th>\n",
       "      <th>poly4_t3</th>\n",
       "      <th>poly4_t4</th>\n",
       "      <th>skew</th>\n",
       "      <th>small_kurtosis</th>\n",
       "      <th>std</th>\n",
       "      <th>stetson_j</th>\n",
       "      <th>stetson_k</th>\n",
       "    </tr>\n",
       "    <tr>\n",
       "      <th>copy_num</th>\n",
       "      <th>BANDPASS</th>\n",
       "      <th></th>\n",
       "      <th></th>\n",
       "      <th></th>\n",
       "      <th></th>\n",
       "      <th></th>\n",
       "      <th></th>\n",
       "      <th></th>\n",
       "      <th></th>\n",
       "      <th></th>\n",
       "      <th></th>\n",
       "      <th></th>\n",
       "      <th></th>\n",
       "      <th></th>\n",
       "      <th></th>\n",
       "      <th></th>\n",
       "      <th></th>\n",
       "      <th></th>\n",
       "      <th></th>\n",
       "      <th></th>\n",
       "      <th></th>\n",
       "      <th></th>\n",
       "    </tr>\n",
       "  </thead>\n",
       "  <tbody>\n",
       "    <tr>\n",
       "      <th>0</th>\n",
       "      <th>g</th>\n",
       "      <td>non-sn</td>\n",
       "      <td>5</td>\n",
       "      <td>2.321184</td>\n",
       "      <td>0.4</td>\n",
       "      <td>0.269491</td>\n",
       "      <td>0.471609</td>\n",
       "      <td>0.673726</td>\n",
       "      <td>0.796079</td>\n",
       "      <td>0.918432</td>\n",
       "      <td>-2.427036</td>\n",
       "      <td>...</td>\n",
       "      <td>0.000008</td>\n",
       "      <td>-0.007648</td>\n",
       "      <td>-0.005654</td>\n",
       "      <td>0.000001</td>\n",
       "      <td>0.000002</td>\n",
       "      <td>-0.39382</td>\n",
       "      <td>-8.0</td>\n",
       "      <td>1.997072</td>\n",
       "      <td>-2.198548</td>\n",
       "      <td>0.934757</td>\n",
       "    </tr>\n",
       "  </tbody>\n",
       "</table>\n",
       "<p>1 rows × 32 columns</p>\n",
       "</div>"
      ],
      "text/plain": [
       "                    Class  ObsCount  amplitude  beyond1st  \\\n",
       "copy_num BANDPASS                                           \n",
       "0        g         non-sn         5   2.321184        0.4   \n",
       "\n",
       "                   flux_percentile_ratio_mid20  flux_percentile_ratio_mid35  \\\n",
       "copy_num BANDPASS                                                             \n",
       "0        g                            0.269491                     0.471609   \n",
       "\n",
       "                   flux_percentile_ratio_mid50  flux_percentile_ratio_mid65  \\\n",
       "copy_num BANDPASS                                                             \n",
       "0        g                            0.673726                     0.796079   \n",
       "\n",
       "                   flux_percentile_ratio_mid80  kurtosis    ...      poly3_t3  \\\n",
       "copy_num BANDPASS                                           ...                 \n",
       "0        g                            0.918432 -2.427036    ...      0.000008   \n",
       "\n",
       "                   poly4_t1  poly4_t2  poly4_t3  poly4_t4     skew  \\\n",
       "copy_num BANDPASS                                                    \n",
       "0        g        -0.007648 -0.005654  0.000001  0.000002 -0.39382   \n",
       "\n",
       "                   small_kurtosis       std  stetson_j  stetson_k  \n",
       "copy_num BANDPASS                                                  \n",
       "0        g                   -8.0  1.997072  -2.198548   0.934757  \n",
       "\n",
       "[1 rows x 32 columns]"
      ]
     },
     "execution_count": 133,
     "metadata": {},
     "output_type": "execute_result"
    }
   ],
   "source": [
    "dfs[\"NSN\"].loc[dfs[\"NSN\"].index.get_level_values(\"ID\").unique()[0],:,:]"
   ]
  },
  {
   "cell_type": "markdown",
   "metadata": {},
   "source": [
    "## Getting only red filters"
   ]
  },
  {
   "cell_type": "code",
   "execution_count": 22,
   "metadata": {},
   "outputs": [],
   "source": [
    "sn_red = dfs[\"SN\"][dfs[\"SN\"].index.get_level_values('BANDPASS') == 'r']"
   ]
  },
  {
   "cell_type": "code",
   "execution_count": 24,
   "metadata": {},
   "outputs": [
    {
     "data": {
      "text/plain": [
       "(15122, 32)"
      ]
     },
     "execution_count": 24,
     "metadata": {},
     "output_type": "execute_result"
    }
   ],
   "source": [
    "dfs[\"SN\"].shape"
   ]
  },
  {
   "cell_type": "code",
   "execution_count": 23,
   "metadata": {},
   "outputs": [
    {
     "data": {
      "text/plain": [
       "(4862, 32)"
      ]
     },
     "execution_count": 23,
     "metadata": {},
     "output_type": "execute_result"
    }
   ],
   "source": [
    "sn_red.shape"
   ]
  },
  {
   "cell_type": "code",
   "execution_count": 13,
   "metadata": {},
   "outputs": [],
   "source": [
    "sn_red.to_pickle(JUST_RED + 'sn_just_red.pickle')"
   ]
  },
  {
   "cell_type": "code",
   "execution_count": 15,
   "metadata": {},
   "outputs": [],
   "source": [
    "nsn_red = dfs[\"NSN\"][dfs[\"NSN\"].index.get_level_values('BANDPASS') == 'r']"
   ]
  },
  {
   "cell_type": "code",
   "execution_count": 18,
   "metadata": {},
   "outputs": [
    {
     "data": {
      "text/plain": [
       "(94054, 32)"
      ]
     },
     "execution_count": 18,
     "metadata": {},
     "output_type": "execute_result"
    }
   ],
   "source": [
    "nsn_red.shape"
   ]
  },
  {
   "cell_type": "code",
   "execution_count": 17,
   "metadata": {},
   "outputs": [],
   "source": [
    "nsn_red.to_pickle(JUST_RED + 'nsn_just_red.pickle')"
   ]
  },
  {
   "cell_type": "code",
   "execution_count": 19,
   "metadata": {},
   "outputs": [],
   "source": [
    "msn_red = dfs[\"MSN\"][dfs[\"MSN\"].index.get_level_values('BANDPASS') == 'r']"
   ]
  },
  {
   "cell_type": "code",
   "execution_count": 21,
   "metadata": {},
   "outputs": [],
   "source": [
    "msn_red.to_pickle(JUST_RED+\"msn_just_red.pickle\")"
   ]
  },
  {
   "cell_type": "code",
   "execution_count": null,
   "metadata": {},
   "outputs": [],
   "source": []
  }
 ],
 "metadata": {
  "kernelspec": {
   "display_name": "Python 3",
   "language": "python",
   "name": "python3"
  },
  "language_info": {
   "codemirror_mode": {
    "name": "ipython",
    "version": 3
   },
   "file_extension": ".py",
   "mimetype": "text/x-python",
   "name": "python",
   "nbconvert_exporter": "python",
   "pygments_lexer": "ipython3",
   "version": "3.6.4"
  }
 },
 "nbformat": 4,
 "nbformat_minor": 2
}
