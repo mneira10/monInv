{
 "cells": [
  {
   "cell_type": "code",
   "execution_count": 1,
   "metadata": {},
   "outputs": [],
   "source": [
    "%reload_ext autoreload\n",
    "%autoreload 2"
   ]
  },
  {
   "cell_type": "code",
   "execution_count": 2,
   "metadata": {},
   "outputs": [],
   "source": [
    "DATA_PATH = './data/'\n",
    "LIGHTCURVES_PATH = DATA_PATH + 'lightcurves/'\n",
    "FEATURES_PATH = DATA_PATH + 'features/'"
   ]
  },
  {
   "cell_type": "code",
   "execution_count": 3,
   "metadata": {
    "scrolled": true
   },
   "outputs": [],
   "source": [
    "import numpy as np\n",
    "import pandas as pd\n",
    "import measurements, extract\n",
    "import matplotlib.pyplot as plt\n",
    "import inputs2\n",
    "from log_progress import log_progress"
   ]
  },
  {
   "cell_type": "code",
   "execution_count": 4,
   "metadata": {},
   "outputs": [],
   "source": [
    "def unique_ids_list(df_lcs):\n",
    "    return df_lcs.index.get_level_values('ID').unique().format()\n",
    "\n",
    "def print_num_ids_shape(df_lcs):\n",
    "    unique_ids = unique_ids_list(df_lcs)\n",
    "    print('Num IDs: {}  Shape: {}'.format(len(unique_ids), df_lcs.shape))"
   ]
  },
  {
   "cell_type": "markdown",
   "metadata": {},
   "source": [
    "#### Import"
   ]
  },
  {
   "cell_type": "markdown",
   "metadata": {},
   "source": [
    "Import __supernova__ lightcurves"
   ]
  },
  {
   "cell_type": "code",
   "execution_count": 5,
   "metadata": {
    "scrolled": true
   },
   "outputs": [
    {
     "name": "stdout",
     "output_type": "stream",
     "text": [
      "Num IDs: 5000  Shape: (186510, 4)\n"
     ]
    }
   ],
   "source": [
    "filename = 'sns_clean.pickle'\n",
    "indir = LIGHTCURVES_PATH; filepath = indir + filename\n",
    "sns = pd.read_pickle(filepath)\n",
    "print_num_ids_shape(sns)"
   ]
  },
  {
   "cell_type": "code",
   "execution_count": 6,
   "metadata": {},
   "outputs": [
    {
     "data": {
      "text/plain": [
       "Index(['SN_0', 'SN_1', 'SN_2', 'SN_3', 'SN_4', 'SN_5', 'SN_6', 'SN_7', 'SN_8',\n",
       "       'SN_9',\n",
       "       ...\n",
       "       'SN_4994', 'SN_4995', 'SN_4996', 'SN_4997', 'SN_4998', 'SN_4999',\n",
       "       'SN_5000', 'SN_5001', 'SN_5002', 'SN_5003'],\n",
       "      dtype='object', name='ID', length=5000)"
      ]
     },
     "execution_count": 6,
     "metadata": {},
     "output_type": "execute_result"
    }
   ],
   "source": [
    "(sns.index.get_level_values(\"ID\").unique())"
   ]
  },
  {
   "cell_type": "markdown",
   "metadata": {},
   "source": [
    "Import __non-supernovas__ light curves"
   ]
  },
  {
   "cell_type": "code",
   "execution_count": 6,
   "metadata": {},
   "outputs": [
    {
     "name": "stdout",
     "output_type": "stream",
     "text": [
      "Num IDs: 172189  Shape: (8580130, 4)\n"
     ]
    }
   ],
   "source": [
    "filename = 'not_sns_clean.pickle'\n",
    "indir = LIGHTCURVES_PATH; filepath = indir + filename\n",
    "nsns = pd.read_pickle(filepath)\n",
    "print_num_ids_shape(nsns)"
   ]
  },
  {
   "cell_type": "markdown",
   "metadata": {},
   "source": [
    "Import __measured supernova___ lightcurves"
   ]
  },
  {
   "cell_type": "code",
   "execution_count": 7,
   "metadata": {},
   "outputs": [
    {
     "name": "stdout",
     "output_type": "stream",
     "text": [
      "Num IDs: 155  Shape: (8604, 4)\n"
     ]
    }
   ],
   "source": [
    "filename = 'measured_sns_clean.pickle'\n",
    "indir = LIGHTCURVES_PATH; filepath = indir + filename\n",
    "msns = pd.read_pickle(filepath)\n",
    "print_num_ids_shape(msns)"
   ]
  },
  {
   "cell_type": "code",
   "execution_count": 8,
   "metadata": {},
   "outputs": [
    {
     "data": {
      "text/html": [
       "<div>\n",
       "<style scoped>\n",
       "    .dataframe tbody tr th:only-of-type {\n",
       "        vertical-align: middle;\n",
       "    }\n",
       "\n",
       "    .dataframe tbody tr th {\n",
       "        vertical-align: top;\n",
       "    }\n",
       "\n",
       "    .dataframe thead th {\n",
       "        text-align: right;\n",
       "    }\n",
       "</style>\n",
       "<table border=\"1\" class=\"dataframe\">\n",
       "  <thead>\n",
       "    <tr style=\"text-align: right;\">\n",
       "      <th></th>\n",
       "      <th></th>\n",
       "      <th>MJD</th>\n",
       "      <th>FLUX</th>\n",
       "      <th>FLUX_ERROR</th>\n",
       "      <th>BANDPASS</th>\n",
       "    </tr>\n",
       "    <tr>\n",
       "      <th>ID</th>\n",
       "      <th>observation_id</th>\n",
       "      <th></th>\n",
       "      <th></th>\n",
       "      <th></th>\n",
       "      <th></th>\n",
       "    </tr>\n",
       "  </thead>\n",
       "  <tbody>\n",
       "    <tr>\n",
       "      <th rowspan=\"5\" valign=\"top\">MSN_10502</th>\n",
       "      <th>0</th>\n",
       "      <td>53169.0</td>\n",
       "      <td>258.411133</td>\n",
       "      <td>0.353578</td>\n",
       "      <td>z</td>\n",
       "    </tr>\n",
       "    <tr>\n",
       "      <th>1</th>\n",
       "      <td>53198.0</td>\n",
       "      <td>84.515526</td>\n",
       "      <td>0.065914</td>\n",
       "      <td>r</td>\n",
       "    </tr>\n",
       "    <tr>\n",
       "      <th>2</th>\n",
       "      <td>53193.0</td>\n",
       "      <td>417.638702</td>\n",
       "      <td>0.081262</td>\n",
       "      <td>i</td>\n",
       "    </tr>\n",
       "    <tr>\n",
       "      <th>3</th>\n",
       "      <td>53178.0</td>\n",
       "      <td>175.297058</td>\n",
       "      <td>0.045678</td>\n",
       "      <td>r</td>\n",
       "    </tr>\n",
       "    <tr>\n",
       "      <th>4</th>\n",
       "      <td>53178.0</td>\n",
       "      <td>458.938141</td>\n",
       "      <td>0.156932</td>\n",
       "      <td>i</td>\n",
       "    </tr>\n",
       "  </tbody>\n",
       "</table>\n",
       "</div>"
      ],
      "text/plain": [
       "                              MJD        FLUX  FLUX_ERROR BANDPASS\n",
       "ID        observation_id                                          \n",
       "MSN_10502 0               53169.0  258.411133    0.353578        z\n",
       "          1               53198.0   84.515526    0.065914        r\n",
       "          2               53193.0  417.638702    0.081262        i\n",
       "          3               53178.0  175.297058    0.045678        r\n",
       "          4               53178.0  458.938141    0.156932        i"
      ]
     },
     "execution_count": 8,
     "metadata": {},
     "output_type": "execute_result"
    }
   ],
   "source": [
    "msns.head()\n"
   ]
  },
  {
   "cell_type": "code",
   "execution_count": 9,
   "metadata": {},
   "outputs": [
    {
     "name": "stdout",
     "output_type": "stream",
     "text": [
      "Num IDs: 4869  Shape: (440469, 3)\n"
     ]
    }
   ],
   "source": [
    "filename = \"diego_t_clean.pickle\"\n",
    "indir = LIGHTCURVES_PATH; filepath = indir + filename\n",
    "nt = pd.read_pickle(filepath)\n",
    "print_num_ids_shape(nt)"
   ]
  },
  {
   "cell_type": "code",
   "execution_count": 11,
   "metadata": {},
   "outputs": [
    {
     "data": {
      "text/html": [
       "<div>\n",
       "<style scoped>\n",
       "    .dataframe tbody tr th:only-of-type {\n",
       "        vertical-align: middle;\n",
       "    }\n",
       "\n",
       "    .dataframe tbody tr th {\n",
       "        vertical-align: top;\n",
       "    }\n",
       "\n",
       "    .dataframe thead th {\n",
       "        text-align: right;\n",
       "    }\n",
       "</style>\n",
       "<table border=\"1\" class=\"dataframe\">\n",
       "  <thead>\n",
       "    <tr style=\"text-align: right;\">\n",
       "      <th></th>\n",
       "      <th></th>\n",
       "      <th>Mag</th>\n",
       "      <th>Magerr</th>\n",
       "      <th>MJD</th>\n",
       "    </tr>\n",
       "    <tr>\n",
       "      <th>ID</th>\n",
       "      <th>observation_id</th>\n",
       "      <th></th>\n",
       "      <th></th>\n",
       "      <th></th>\n",
       "    </tr>\n",
       "  </thead>\n",
       "  <tbody>\n",
       "    <tr>\n",
       "      <th rowspan=\"5\" valign=\"top\">TranID1209190181234125108</th>\n",
       "      <th>451469</th>\n",
       "      <td>18.1952</td>\n",
       "      <td>0.123607</td>\n",
       "      <td>56189.314816</td>\n",
       "    </tr>\n",
       "    <tr>\n",
       "      <th>451470</th>\n",
       "      <td>18.2097</td>\n",
       "      <td>0.124706</td>\n",
       "      <td>56189.322996</td>\n",
       "    </tr>\n",
       "    <tr>\n",
       "      <th>451471</th>\n",
       "      <td>18.5116</td>\n",
       "      <td>0.138816</td>\n",
       "      <td>56205.285887</td>\n",
       "    </tr>\n",
       "    <tr>\n",
       "      <th>451472</th>\n",
       "      <td>18.3150</td>\n",
       "      <td>0.128915</td>\n",
       "      <td>56205.292631</td>\n",
       "    </tr>\n",
       "    <tr>\n",
       "      <th>451473</th>\n",
       "      <td>18.6342</td>\n",
       "      <td>0.152335</td>\n",
       "      <td>56218.237507</td>\n",
       "    </tr>\n",
       "  </tbody>\n",
       "</table>\n",
       "</div>"
      ],
      "text/plain": [
       "                                              Mag    Magerr           MJD\n",
       "ID                        observation_id                                 \n",
       "TranID1209190181234125108 451469          18.1952  0.123607  56189.314816\n",
       "                          451470          18.2097  0.124706  56189.322996\n",
       "                          451471          18.5116  0.138816  56205.285887\n",
       "                          451472          18.3150  0.128915  56205.292631\n",
       "                          451473          18.6342  0.152335  56218.237507"
      ]
     },
     "execution_count": 11,
     "metadata": {},
     "output_type": "execute_result"
    }
   ],
   "source": [
    "nt.tail()"
   ]
  },
  {
   "cell_type": "markdown",
   "metadata": {},
   "source": [
    "### Add class and set BANDPASS as index\n"
   ]
  },
  {
   "cell_type": "markdown",
   "metadata": {},
   "source": [
    "__SN__"
   ]
  },
  {
   "cell_type": "code",
   "execution_count": 9,
   "metadata": {},
   "outputs": [],
   "source": [
    "sns['class'] = 'sn'\n",
    "msns['class'] = 'sn'"
   ]
  },
  {
   "cell_type": "markdown",
   "metadata": {},
   "source": [
    "__Non-SN__"
   ]
  },
  {
   "cell_type": "code",
   "execution_count": 10,
   "metadata": {},
   "outputs": [],
   "source": [
    "nsns['class'] = 'non-sn'"
   ]
  },
  {
   "cell_type": "code",
   "execution_count": 11,
   "metadata": {},
   "outputs": [],
   "source": [
    "sns = sns.set_index(['BANDPASS'], append=True)"
   ]
  },
  {
   "cell_type": "code",
   "execution_count": 12,
   "metadata": {},
   "outputs": [],
   "source": [
    "nsns = nsns.set_index(['BANDPASS'], append=True)"
   ]
  },
  {
   "cell_type": "code",
   "execution_count": 13,
   "metadata": {},
   "outputs": [],
   "source": [
    "msns= msns.set_index(['BANDPASS'],append=True)"
   ]
  },
  {
   "cell_type": "code",
   "execution_count": 14,
   "metadata": {},
   "outputs": [
    {
     "data": {
      "text/html": [
       "<div>\n",
       "<style scoped>\n",
       "    .dataframe tbody tr th:only-of-type {\n",
       "        vertical-align: middle;\n",
       "    }\n",
       "\n",
       "    .dataframe tbody tr th {\n",
       "        vertical-align: top;\n",
       "    }\n",
       "\n",
       "    .dataframe thead th {\n",
       "        text-align: right;\n",
       "    }\n",
       "</style>\n",
       "<table border=\"1\" class=\"dataframe\">\n",
       "  <thead>\n",
       "    <tr style=\"text-align: right;\">\n",
       "      <th></th>\n",
       "      <th></th>\n",
       "      <th></th>\n",
       "      <th>MJD</th>\n",
       "      <th>FLUX</th>\n",
       "      <th>FLUX_ERROR</th>\n",
       "      <th>class</th>\n",
       "    </tr>\n",
       "    <tr>\n",
       "      <th>ID</th>\n",
       "      <th>observation_id</th>\n",
       "      <th>BANDPASS</th>\n",
       "      <th></th>\n",
       "      <th></th>\n",
       "      <th></th>\n",
       "      <th></th>\n",
       "    </tr>\n",
       "  </thead>\n",
       "  <tbody>\n",
       "    <tr>\n",
       "      <th rowspan=\"5\" valign=\"top\">MSN_10502</th>\n",
       "      <th>0</th>\n",
       "      <th>z</th>\n",
       "      <td>53169.0</td>\n",
       "      <td>258.411133</td>\n",
       "      <td>0.353578</td>\n",
       "      <td>sn</td>\n",
       "    </tr>\n",
       "    <tr>\n",
       "      <th>1</th>\n",
       "      <th>r</th>\n",
       "      <td>53198.0</td>\n",
       "      <td>84.515526</td>\n",
       "      <td>0.065914</td>\n",
       "      <td>sn</td>\n",
       "    </tr>\n",
       "    <tr>\n",
       "      <th>2</th>\n",
       "      <th>i</th>\n",
       "      <td>53193.0</td>\n",
       "      <td>417.638702</td>\n",
       "      <td>0.081262</td>\n",
       "      <td>sn</td>\n",
       "    </tr>\n",
       "    <tr>\n",
       "      <th>3</th>\n",
       "      <th>r</th>\n",
       "      <td>53178.0</td>\n",
       "      <td>175.297058</td>\n",
       "      <td>0.045678</td>\n",
       "      <td>sn</td>\n",
       "    </tr>\n",
       "    <tr>\n",
       "      <th>4</th>\n",
       "      <th>i</th>\n",
       "      <td>53178.0</td>\n",
       "      <td>458.938141</td>\n",
       "      <td>0.156932</td>\n",
       "      <td>sn</td>\n",
       "    </tr>\n",
       "  </tbody>\n",
       "</table>\n",
       "</div>"
      ],
      "text/plain": [
       "                                       MJD        FLUX  FLUX_ERROR class\n",
       "ID        observation_id BANDPASS                                       \n",
       "MSN_10502 0              z         53169.0  258.411133    0.353578    sn\n",
       "          1              r         53198.0   84.515526    0.065914    sn\n",
       "          2              i         53193.0  417.638702    0.081262    sn\n",
       "          3              r         53178.0  175.297058    0.045678    sn\n",
       "          4              i         53178.0  458.938141    0.156932    sn"
      ]
     },
     "execution_count": 14,
     "metadata": {},
     "output_type": "execute_result"
    }
   ],
   "source": [
    "msns.head()"
   ]
  },
  {
   "cell_type": "markdown",
   "metadata": {},
   "source": [
    "#### Filter"
   ]
  },
  {
   "cell_type": "code",
   "execution_count": null,
   "metadata": {},
   "outputs": [],
   "source": [
    "sns.index.get_values"
   ]
  },
  {
   "cell_type": "code",
   "execution_count": 18,
   "metadata": {},
   "outputs": [
    {
     "data": {
      "text/html": [
       "<div>\n",
       "<style scoped>\n",
       "    .dataframe tbody tr th:only-of-type {\n",
       "        vertical-align: middle;\n",
       "    }\n",
       "\n",
       "    .dataframe tbody tr th {\n",
       "        vertical-align: top;\n",
       "    }\n",
       "\n",
       "    .dataframe thead th {\n",
       "        text-align: right;\n",
       "    }\n",
       "</style>\n",
       "<table border=\"1\" class=\"dataframe\">\n",
       "  <thead>\n",
       "    <tr style=\"text-align: right;\">\n",
       "      <th></th>\n",
       "      <th></th>\n",
       "      <th></th>\n",
       "      <th>MJD</th>\n",
       "      <th>FLUX</th>\n",
       "      <th>FLUX_ERROR</th>\n",
       "      <th>class</th>\n",
       "    </tr>\n",
       "    <tr>\n",
       "      <th>ID</th>\n",
       "      <th>observation_id</th>\n",
       "      <th>BANDPASS</th>\n",
       "      <th></th>\n",
       "      <th></th>\n",
       "      <th></th>\n",
       "      <th></th>\n",
       "    </tr>\n",
       "  </thead>\n",
       "  <tbody>\n",
       "    <tr>\n",
       "      <th rowspan=\"5\" valign=\"top\">SN_0</th>\n",
       "      <th>0</th>\n",
       "      <th>i</th>\n",
       "      <td>53094.543</td>\n",
       "      <td>18.7260</td>\n",
       "      <td>2.064</td>\n",
       "      <td>sn</td>\n",
       "    </tr>\n",
       "    <tr>\n",
       "      <th>1</th>\n",
       "      <th>r</th>\n",
       "      <td>53094.586</td>\n",
       "      <td>7.3375</td>\n",
       "      <td>1.673</td>\n",
       "      <td>sn</td>\n",
       "    </tr>\n",
       "    <tr>\n",
       "      <th>2</th>\n",
       "      <th>z</th>\n",
       "      <td>53094.613</td>\n",
       "      <td>9.8390</td>\n",
       "      <td>9.255</td>\n",
       "      <td>sn</td>\n",
       "    </tr>\n",
       "    <tr>\n",
       "      <th>3</th>\n",
       "      <th>i</th>\n",
       "      <td>53109.492</td>\n",
       "      <td>125.7100</td>\n",
       "      <td>3.098</td>\n",
       "      <td>sn</td>\n",
       "    </tr>\n",
       "    <tr>\n",
       "      <th>4</th>\n",
       "      <th>r</th>\n",
       "      <td>53109.539</td>\n",
       "      <td>110.4600</td>\n",
       "      <td>2.639</td>\n",
       "      <td>sn</td>\n",
       "    </tr>\n",
       "  </tbody>\n",
       "</table>\n",
       "</div>"
      ],
      "text/plain": [
       "                                    MJD      FLUX  FLUX_ERROR class\n",
       "ID   observation_id BANDPASS                                       \n",
       "SN_0 0              i         53094.543   18.7260       2.064    sn\n",
       "     1              r         53094.586    7.3375       1.673    sn\n",
       "     2              z         53094.613    9.8390       9.255    sn\n",
       "     3              i         53109.492  125.7100       3.098    sn\n",
       "     4              r         53109.539  110.4600       2.639    sn"
      ]
     },
     "execution_count": 18,
     "metadata": {},
     "output_type": "execute_result"
    }
   ],
   "source": [
    "sns.head()"
   ]
  },
  {
   "cell_type": "markdown",
   "metadata": {},
   "source": [
    "# Make columns index again and then run the filter"
   ]
  },
  {
   "cell_type": "code",
   "execution_count": 19,
   "metadata": {},
   "outputs": [],
   "source": [
    "def filter_light_curves(sns, min_obs):\n",
    "#     df_count = df_lcs.groupby(['ID','BANDPASS'], as_index=True).count()\n",
    "#     df_count['ObsCount'] = df_count['FLUX']\n",
    "#     df_count = df_count[['ObsCount']]\n",
    "# #     df_count.head()\n",
    "#     df_lcs_with_counts = df_lcs.join(df_count, how='inner')\n",
    "#     # Remove objects with less than min_obs\n",
    "#     df_filtered = df_lcs_with_counts[df_lcs_with_counts.ObsCount >= min_obs]\n",
    "    \n",
    "    df_count = sns.groupby(['ID','BANDPASS'], as_index=True).count()\n",
    "    df_count['ObsCount'] = df_count['FLUX']\n",
    "    df_count = df_count[['ObsCount']]\n",
    "\n",
    "    sns = sns.reset_index(level=['ID', 'BANDPASS'])\n",
    "    df_count = df_count.reset_index(level=['ID', 'BANDPASS'])\n",
    "\n",
    "    df_lcs_with_counts = sns.merge(df_count,on=['ID','BANDPASS'])\n",
    "\n",
    "    df_lcs_with_counts.head()\n",
    "\n",
    "    df_lcs_with_counts.index.name = 'observation_id'\n",
    "    df_lcs_with_counts = df_lcs_with_counts.set_index(['ID'], append=True)\n",
    "    df_lcs_with_counts = df_lcs_with_counts.set_index(['BANDPASS'], append=True)\n",
    "    df_lcs_with_counts = df_lcs_with_counts.reorder_levels(['ID', 'observation_id','BANDPASS'])\n",
    "#     # Remove ObsCount\n",
    "    df_filtered = df_lcs_with_counts[df_lcs_with_counts.ObsCount >= min_obs]\n",
    "    df_filtered = df_filtered.drop(['ObsCount'], axis=1)\n",
    "# \n",
    "\n",
    "    return df_filtered\n",
    "\n",
    "def merge_multi(self, df, on):\n",
    "    return self.reset_index().join(df,on=on,how=inner).set_index(self.index.names)\n",
    "\n",
    "def sample(df_lcs, num_samples):\n",
    "    # Set random seed\n",
    "    np.random.seed(42)\n",
    "    # Sample non-transient subset of same size as transients\n",
    "    IDs = np.random.choice(unique_ids_list(df_lcs), size=num_samples, replace=False)\n",
    "#     print(IDs); return\n",
    "    df_sampled = df_nont.loc[IDs]\n",
    "    return df_sampled"
   ]
  },
  {
   "cell_type": "markdown",
   "metadata": {},
   "source": [
    "Filter __supernova__ light curves"
   ]
  },
  {
   "cell_type": "code",
   "execution_count": 20,
   "metadata": {
    "scrolled": true
   },
   "outputs": [
    {
     "name": "stdout",
     "output_type": "stream",
     "text": [
      "Num IDs: 5000  Shape: (179730, 4)\n"
     ]
    }
   ],
   "source": [
    "df_sn_5 = filter_light_curves(sns, 5)\n",
    "print_num_ids_shape(df_sn_5)\n",
    "\n",
    "del sns"
   ]
  },
  {
   "cell_type": "code",
   "execution_count": 21,
   "metadata": {},
   "outputs": [
    {
     "data": {
      "text/html": [
       "<div>\n",
       "<style scoped>\n",
       "    .dataframe tbody tr th:only-of-type {\n",
       "        vertical-align: middle;\n",
       "    }\n",
       "\n",
       "    .dataframe tbody tr th {\n",
       "        vertical-align: top;\n",
       "    }\n",
       "\n",
       "    .dataframe thead th {\n",
       "        text-align: right;\n",
       "    }\n",
       "</style>\n",
       "<table border=\"1\" class=\"dataframe\">\n",
       "  <thead>\n",
       "    <tr style=\"text-align: right;\">\n",
       "      <th></th>\n",
       "      <th></th>\n",
       "      <th></th>\n",
       "      <th>MJD</th>\n",
       "      <th>FLUX</th>\n",
       "      <th>FLUX_ERROR</th>\n",
       "      <th>class</th>\n",
       "    </tr>\n",
       "    <tr>\n",
       "      <th>ID</th>\n",
       "      <th>observation_id</th>\n",
       "      <th>BANDPASS</th>\n",
       "      <th></th>\n",
       "      <th></th>\n",
       "      <th></th>\n",
       "      <th></th>\n",
       "    </tr>\n",
       "  </thead>\n",
       "  <tbody>\n",
       "    <tr>\n",
       "      <th rowspan=\"5\" valign=\"top\">SN_0</th>\n",
       "      <th>0</th>\n",
       "      <th>i</th>\n",
       "      <td>53094.543</td>\n",
       "      <td>18.726</td>\n",
       "      <td>2.064</td>\n",
       "      <td>sn</td>\n",
       "    </tr>\n",
       "    <tr>\n",
       "      <th>1</th>\n",
       "      <th>i</th>\n",
       "      <td>53109.492</td>\n",
       "      <td>125.710</td>\n",
       "      <td>3.098</td>\n",
       "      <td>sn</td>\n",
       "    </tr>\n",
       "    <tr>\n",
       "      <th>2</th>\n",
       "      <th>i</th>\n",
       "      <td>53112.527</td>\n",
       "      <td>139.860</td>\n",
       "      <td>4.138</td>\n",
       "      <td>sn</td>\n",
       "    </tr>\n",
       "    <tr>\n",
       "      <th>3</th>\n",
       "      <th>i</th>\n",
       "      <td>53116.500</td>\n",
       "      <td>151.710</td>\n",
       "      <td>3.352</td>\n",
       "      <td>sn</td>\n",
       "    </tr>\n",
       "    <tr>\n",
       "      <th>4</th>\n",
       "      <th>i</th>\n",
       "      <td>53117.441</td>\n",
       "      <td>156.310</td>\n",
       "      <td>4.463</td>\n",
       "      <td>sn</td>\n",
       "    </tr>\n",
       "  </tbody>\n",
       "</table>\n",
       "</div>"
      ],
      "text/plain": [
       "                                    MJD     FLUX  FLUX_ERROR class\n",
       "ID   observation_id BANDPASS                                      \n",
       "SN_0 0              i         53094.543   18.726       2.064    sn\n",
       "     1              i         53109.492  125.710       3.098    sn\n",
       "     2              i         53112.527  139.860       4.138    sn\n",
       "     3              i         53116.500  151.710       3.352    sn\n",
       "     4              i         53117.441  156.310       4.463    sn"
      ]
     },
     "execution_count": 21,
     "metadata": {},
     "output_type": "execute_result"
    }
   ],
   "source": [
    "df_sn_5.head()"
   ]
  },
  {
   "cell_type": "markdown",
   "metadata": {},
   "source": [
    "Filter __non-supernova__ lightcurves"
   ]
  },
  {
   "cell_type": "code",
   "execution_count": 16,
   "metadata": {},
   "outputs": [
    {
     "name": "stdout",
     "output_type": "stream",
     "text": [
      "Num IDs: 161855  Shape: (7806031, 4)\n"
     ]
    }
   ],
   "source": [
    "df_nsns_5 = filter_light_curves(nsns, 5)\n",
    "print_num_ids_shape(df_nsns_5)\n",
    "\n",
    "del nsns"
   ]
  },
  {
   "cell_type": "code",
   "execution_count": 35,
   "metadata": {},
   "outputs": [
    {
     "name": "stdout",
     "output_type": "stream",
     "text": [
      "Num IDs: 153  Shape: (8236, 4)\n"
     ]
    }
   ],
   "source": [
    "df_msns_5 = filter_light_curves(msns,5)\n",
    "print_num_ids_shape(df_msns_5)\n",
    "del msns"
   ]
  },
  {
   "cell_type": "markdown",
   "metadata": {},
   "source": [
    "#### Oversample - we dont need this - set copies to 0 "
   ]
  },
  {
   "cell_type": "code",
   "execution_count": 23,
   "metadata": {},
   "outputs": [],
   "source": [
    "def oversample(df_lcs, copies=0):\n",
    "    df_oversample = df_lcs.copy()\n",
    "    df_oversample['copy_num'] = 0\n",
    "    for i in range(1, copies+1):\n",
    "        df_temp = df_lcs.copy()\n",
    "        df_temp['copy_num'] = i\n",
    "        df_temp['Mag'] = np.random.normal(df_lcs.Mag, df_lcs.Magerr)\n",
    "        df_oversample = df_oversample.append(df_temp)\n",
    "        \n",
    "    df_oversample = df_oversample.set_index(['copy_num'], append=True)\n",
    "    return df_oversample"
   ]
  },
  {
   "cell_type": "markdown",
   "metadata": {},
   "source": [
    "Oversample __supernovas__ light curves"
   ]
  },
  {
   "cell_type": "code",
   "execution_count": 24,
   "metadata": {},
   "outputs": [
    {
     "name": "stdout",
     "output_type": "stream",
     "text": [
      "Num IDs: 5000  Shape: (179730, 4)\n"
     ]
    }
   ],
   "source": [
    "df_sns_0_os = oversample(df_sn_5, 0)\n",
    "print_num_ids_shape(df_sns_0_os)\n",
    "\n",
    "del df_sn_5"
   ]
  },
  {
   "cell_type": "markdown",
   "metadata": {},
   "source": [
    "Oversample __non-supernovas__ light curves"
   ]
  },
  {
   "cell_type": "code",
   "execution_count": 19,
   "metadata": {
    "scrolled": true
   },
   "outputs": [
    {
     "name": "stdout",
     "output_type": "stream",
     "text": [
      "Num IDs: 161855  Shape: (7806031, 4)\n"
     ]
    }
   ],
   "source": [
    "df_nsns_0_os = oversample(df_nsns_5, 0)\n",
    "print_num_ids_shape(df_nsns_0_os)\n",
    "\n",
    "del df_nsns_5"
   ]
  },
  {
   "cell_type": "markdown",
   "metadata": {},
   "source": [
    "Overssample __measured supernova__ light curves"
   ]
  },
  {
   "cell_type": "code",
   "execution_count": 37,
   "metadata": {},
   "outputs": [
    {
     "name": "stdout",
     "output_type": "stream",
     "text": [
      "Num IDs: 153  Shape: (8236, 4)\n"
     ]
    }
   ],
   "source": [
    "df_msns_0_os = oversample(df_msns_5, 0)\n",
    "print_num_ids_shape(df_msns_0_os)\n",
    "\n",
    "del df_msns_5"
   ]
  },
  {
   "cell_type": "markdown",
   "metadata": {},
   "source": [
    "#### Feature Extraction"
   ]
  },
  {
   "cell_type": "code",
   "execution_count": 25,
   "metadata": {},
   "outputs": [],
   "source": [
    "def extract_features(df_sns_0_os):\n",
    "    num_copy_list = df_sns_0_os.index.get_level_values('copy_num').unique()    \n",
    "    num_copies = len(num_copy_list)\n",
    "\n",
    "    # Extract IDs list\n",
    "    unique_ids_list = df_sns_0_os.index.get_level_values('ID').unique()\n",
    "    num_ids = len(unique_ids_list)\n",
    "\n",
    "    # Extract bandpass list\n",
    "    unique_bandpass_list = df_sns_0_os.index.get_level_values('BANDPASS').unique()\n",
    "    num_bandpass = len(unique_bandpass_list)\n",
    "\n",
    "    # Create empty feature dict\n",
    "    feats_dict = extract.feature_dict(30)\n",
    "    feats_dict['ObsCount'] = []\n",
    "    feats_dict['Class'] = []\n",
    "\n",
    "    # Add 'ID', 'copy_num' and 'BANDPASS' index lists\n",
    "    index_id_list = []\n",
    "    index_copy_num_list = []\n",
    "    index_bandpass_list =  []\n",
    "\n",
    "    num_objects = num_ids*num_copies*num_bandpass\n",
    "    for num_copy in num_copy_list:\n",
    "        for i, obj_id in enumerate(unique_ids_list):\n",
    "            for j, bandpass_id in enumerate(unique_bandpass_list):\n",
    "\n",
    "                # Print status\n",
    "                current_object_i = (num_copy+1)*i + j\n",
    "                if(current_object_i%int(num_objects/10) == 0):\n",
    "                    print(current_object_i, '/', num_objects)\n",
    "\n",
    "                # Get current object light curve\n",
    "                df_object = df_sns_0_os.loc[obj_id,:,bandpass_id,num_copy]\n",
    "                if(len(df_object)==0): \n",
    "                    continue\n",
    "\n",
    "                # Get features\n",
    "                obj_feats = extract.features(df_object, feats_dict)\n",
    "\n",
    "                # Append features\n",
    "                for k,v in obj_feats.items():\n",
    "                    feats_dict[k].append(obj_feats[k])\n",
    "\n",
    "                # Append Indexes\n",
    "                index_id_list.append(obj_id)\n",
    "                index_copy_num_list.append(num_copy)\n",
    "                index_bandpass_list.append(bandpass_id)\n",
    "\n",
    "                # Append class and obs_count\n",
    "                assert(len(df_object['class'].unique()) == 1)\n",
    "                feats_dict['Class'].append(df_object['class'].unique()[0])\n",
    "                feats_dict['ObsCount'].append(df_object.shape[0])\n",
    "\n",
    "    # Create feature dataframe\n",
    "    df_feats = pd.DataFrame(feats_dict).set_index([index_id_list,index_copy_num_list,index_bandpass_list])\n",
    "    df_feats.index.names = ['ID', 'copy_num','BANDPASS']\n",
    "    return df_feats\n",
    "\n",
    "def save_features(df_feats, obj_type,filename):\n",
    "    outdir = FEATURES_PATH\n",
    "    filename_raw = '{}.pickle'\n",
    "    filename = filename_raw.format(filename)\n",
    "    assert(df_feats.shape[1]==32) # 30 + ['num_obs'+'class']\n",
    "    df_feats.to_pickle(outdir + filename)"
   ]
  },
  {
   "cell_type": "markdown",
   "metadata": {},
   "source": [
    "#### Generate Features"
   ]
  },
  {
   "cell_type": "code",
   "execution_count": 26,
   "metadata": {},
   "outputs": [],
   "source": [
    "def generate_features(df_all, sn, min_obs,output_filename):\n",
    "    obj_type = 'SN' if sn else 'NSN'\n",
    "    \n",
    "    # Generate features based on light curves\n",
    "    df_feats = extract_features(df_all)\n",
    "    \n",
    "    # Save features\n",
    "    save_features(df_feats, obj_type,output_filename)\n",
    "    \n",
    "    # Log Finished\n",
    "    print('Finished task type={} obs={}'.format(obj_type, min_obs) )\n",
    "    \n",
    "    return df_feats"
   ]
  },
  {
   "cell_type": "markdown",
   "metadata": {},
   "source": [
    "Generate features __transient__ light curves"
   ]
  },
  {
   "cell_type": "code",
   "execution_count": 27,
   "metadata": {
    "scrolled": true
   },
   "outputs": [
    {
     "name": "stdout",
     "output_type": "stream",
     "text": [
      "0 / 20000\n",
      "2000 / 20000\n",
      "2000 / 20000\n",
      "2000 / 20000\n",
      "2000 / 20000\n",
      "4000 / 20000\n",
      "4000 / 20000\n",
      "4000 / 20000\n",
      "4000 / 20000\n",
      "Finished task type=SN obs=5\n"
     ]
    }
   ],
   "source": [
    "sns_feats = generate_features(df_sns_0_os, sn=True, min_obs=5,output_filename=\"SN\")"
   ]
  },
  {
   "cell_type": "code",
   "execution_count": 78,
   "metadata": {
    "scrolled": true
   },
   "outputs": [
    {
     "name": "stdout",
     "output_type": "stream",
     "text": [
      "0 / 647420\n"
     ]
    },
    {
     "name": "stderr",
     "output_type": "stream",
     "text": [
      "/home/mauro/Documents/U/monitoriaInv/monInv/measurements.py:72: RuntimeWarning: invalid value encountered in double_scalars\n",
      "  weighted_mean = (ss_mag / ss_magerr).sum() /  (1./ss_magerr).sum()\n",
      "/home/mauro/Documents/U/monitoriaInv/monInv/measurements.py:110: RuntimeWarning: invalid value encountered in double_scalars\n",
      "  return sigmas.abs().mean() / np.sqrt(sigmas.pow(2.).mean())\n"
     ]
    },
    {
     "name": "stdout",
     "output_type": "stream",
     "text": [
      "64742 / 647420\n",
      "64742 / 647420\n",
      "64742 / 647420\n",
      "64742 / 647420\n",
      "129484 / 647420\n",
      "129484 / 647420\n",
      "129484 / 647420\n",
      "129484 / 647420\n",
      "Finished task type=NSN obs=5\n"
     ]
    }
   ],
   "source": [
    "nsns_feats = generate_features(df_nsns_0_os, sn=False, min_obs=5,output_filename=\"NSN\")"
   ]
  },
  {
   "cell_type": "code",
   "execution_count": 25,
   "metadata": {},
   "outputs": [
    {
     "name": "stdout",
     "output_type": "stream",
     "text": [
      "0 / 612\n",
      "61 / 612\n",
      "61 / 612\n",
      "61 / 612\n",
      "61 / 612\n",
      "122 / 612\n",
      "122 / 612\n",
      "122 / 612\n",
      "122 / 612\n",
      "Finished task type=SN obs=5\n"
     ]
    }
   ],
   "source": [
    "msns_feats = generate_features(df_msns_0_os,sn=True,min_obs=5,output_filename=\"MSN\")"
   ]
  },
  {
   "cell_type": "code",
   "execution_count": null,
   "metadata": {},
   "outputs": [],
   "source": []
  }
 ],
 "metadata": {
  "kernelspec": {
   "display_name": "Python 3",
   "language": "python",
   "name": "python3"
  },
  "language_info": {
   "codemirror_mode": {
    "name": "ipython",
    "version": 3
   },
   "file_extension": ".py",
   "mimetype": "text/x-python",
   "name": "python",
   "nbconvert_exporter": "python",
   "pygments_lexer": "ipython3",
   "version": "3.6.4"
  }
 },
 "nbformat": 4,
 "nbformat_minor": 2
}
