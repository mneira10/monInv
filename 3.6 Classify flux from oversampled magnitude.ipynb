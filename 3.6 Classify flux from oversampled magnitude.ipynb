{
 "cells": [
  {
   "cell_type": "code",
   "execution_count": 2,
   "metadata": {},
   "outputs": [],
   "source": [
    "from sklearn.ensemble import RandomForestClassifier\n",
    "import sklearn.metrics\n",
    "import pandas as pd\n",
    "import numpy as np\n",
    "np.random.seed(0)\n",
    "from sklearn.model_selection import GridSearchCV, StratifiedKFold  # , cross_val_score\n",
    "from sklearn.metrics import make_scorer, accuracy_score, precision_score, recall_score, f1_score, precision_recall_fscore_support, confusion_matrix  # , classification_report\n",
    "from sklearn.model_selection import train_test_split\n",
    "\n",
    "from sklearn.metrics import precision_recall_curve\n",
    "import matplotlib.pyplot as plt\n",
    "from sklearn.metrics import average_precision_score\n",
    "from scipy import integrate\n"
   ]
  },
  {
   "cell_type": "code",
   "execution_count": 3,
   "metadata": {},
   "outputs": [],
   "source": [
    "DATA_PATH = \"./data/features/fluxFromMagOversample/\"\n"
   ]
  },
  {
   "cell_type": "code",
   "execution_count": 4,
   "metadata": {},
   "outputs": [],
   "source": [
    "diego_t = pd.read_pickle(DATA_PATH+\"/T.pickle\")\n",
    "diego_nt = pd.read_pickle(DATA_PATH+\"/NT.pickle\")"
   ]
  },
  {
   "cell_type": "code",
   "execution_count": 5,
   "metadata": {},
   "outputs": [],
   "source": [
    "diego_t['bin_class'] = diego_t['Class']==\"SN\"\n",
    "diego_t[\"fact_Class\"] = pd.factorize(diego_t['bin_class'])[0]\n",
    "diego_nt['bin_class'] = diego_nt['Class']==\"SN\"\n",
    "diego_nt[\"fact_Class\"] = pd.factorize(diego_nt['bin_class'])[0]"
   ]
  },
  {
   "cell_type": "code",
   "execution_count": 6,
   "metadata": {},
   "outputs": [
    {
     "data": {
      "text/html": [
       "<div>\n",
       "<style scoped>\n",
       "    .dataframe tbody tr th:only-of-type {\n",
       "        vertical-align: middle;\n",
       "    }\n",
       "\n",
       "    .dataframe tbody tr th {\n",
       "        vertical-align: top;\n",
       "    }\n",
       "\n",
       "    .dataframe thead th {\n",
       "        text-align: right;\n",
       "    }\n",
       "</style>\n",
       "<table border=\"1\" class=\"dataframe\">\n",
       "  <thead>\n",
       "    <tr style=\"text-align: right;\">\n",
       "      <th></th>\n",
       "      <th></th>\n",
       "      <th>Class</th>\n",
       "      <th>ObsCount</th>\n",
       "      <th>amplitude</th>\n",
       "      <th>beyond1st</th>\n",
       "      <th>flux_percentile_ratio_mid20</th>\n",
       "      <th>flux_percentile_ratio_mid35</th>\n",
       "      <th>flux_percentile_ratio_mid50</th>\n",
       "      <th>flux_percentile_ratio_mid65</th>\n",
       "      <th>flux_percentile_ratio_mid80</th>\n",
       "      <th>kurtosis</th>\n",
       "      <th>...</th>\n",
       "      <th>poly4_t2</th>\n",
       "      <th>poly4_t3</th>\n",
       "      <th>poly4_t4</th>\n",
       "      <th>skew</th>\n",
       "      <th>small_kurtosis</th>\n",
       "      <th>std</th>\n",
       "      <th>stetson_j</th>\n",
       "      <th>stetson_k</th>\n",
       "      <th>bin_class</th>\n",
       "      <th>fact_Class</th>\n",
       "    </tr>\n",
       "    <tr>\n",
       "      <th>ID</th>\n",
       "      <th>copy_num</th>\n",
       "      <th></th>\n",
       "      <th></th>\n",
       "      <th></th>\n",
       "      <th></th>\n",
       "      <th></th>\n",
       "      <th></th>\n",
       "      <th></th>\n",
       "      <th></th>\n",
       "      <th></th>\n",
       "      <th></th>\n",
       "      <th></th>\n",
       "      <th></th>\n",
       "      <th></th>\n",
       "      <th></th>\n",
       "      <th></th>\n",
       "      <th></th>\n",
       "      <th></th>\n",
       "      <th></th>\n",
       "      <th></th>\n",
       "      <th></th>\n",
       "      <th></th>\n",
       "    </tr>\n",
       "  </thead>\n",
       "  <tbody>\n",
       "    <tr>\n",
       "      <th>TranID1409030010044114444</th>\n",
       "      <th>0</th>\n",
       "      <td>SN?</td>\n",
       "      <td>13</td>\n",
       "      <td>6.606619e-20</td>\n",
       "      <td>0.153846</td>\n",
       "      <td>0.067363</td>\n",
       "      <td>0.145074</td>\n",
       "      <td>0.159700</td>\n",
       "      <td>0.296120</td>\n",
       "      <td>0.519169</td>\n",
       "      <td>0</td>\n",
       "      <td>...</td>\n",
       "      <td>-4.924016e-26</td>\n",
       "      <td>-3.251950e-29</td>\n",
       "      <td>4.063888e-32</td>\n",
       "      <td>0</td>\n",
       "      <td>-3.927273</td>\n",
       "      <td>3.625611e-20</td>\n",
       "      <td>2.653184</td>\n",
       "      <td>0.674821</td>\n",
       "      <td>False</td>\n",
       "      <td>0</td>\n",
       "    </tr>\n",
       "    <tr>\n",
       "      <th>TranID1209210010044118805</th>\n",
       "      <th>0</th>\n",
       "      <td>Flare</td>\n",
       "      <td>68</td>\n",
       "      <td>4.046382e-17</td>\n",
       "      <td>0.014706</td>\n",
       "      <td>0.043604</td>\n",
       "      <td>0.077573</td>\n",
       "      <td>0.111773</td>\n",
       "      <td>0.140895</td>\n",
       "      <td>0.215354</td>\n",
       "      <td>0</td>\n",
       "      <td>...</td>\n",
       "      <td>7.742926e-24</td>\n",
       "      <td>1.676101e-28</td>\n",
       "      <td>-3.274201e-30</td>\n",
       "      <td>0</td>\n",
       "      <td>-3.139161</td>\n",
       "      <td>9.811163e-18</td>\n",
       "      <td>351.818004</td>\n",
       "      <td>0.715629</td>\n",
       "      <td>False</td>\n",
       "      <td>0</td>\n",
       "    </tr>\n",
       "    <tr>\n",
       "      <th>TranID1310250040014131234</th>\n",
       "      <th>0</th>\n",
       "      <td>SN</td>\n",
       "      <td>185</td>\n",
       "      <td>4.205281e-18</td>\n",
       "      <td>0.043243</td>\n",
       "      <td>0.025245</td>\n",
       "      <td>0.061235</td>\n",
       "      <td>0.082459</td>\n",
       "      <td>0.126591</td>\n",
       "      <td>0.314544</td>\n",
       "      <td>0</td>\n",
       "      <td>...</td>\n",
       "      <td>-1.044870e-24</td>\n",
       "      <td>5.970998e-28</td>\n",
       "      <td>6.915890e-31</td>\n",
       "      <td>0</td>\n",
       "      <td>-3.049541</td>\n",
       "      <td>1.364362e-18</td>\n",
       "      <td>21.488547</td>\n",
       "      <td>0.663141</td>\n",
       "      <td>True</td>\n",
       "      <td>1</td>\n",
       "    </tr>\n",
       "    <tr>\n",
       "      <th>TranID801010040034114166</th>\n",
       "      <th>0</th>\n",
       "      <td>Var?</td>\n",
       "      <td>26</td>\n",
       "      <td>1.704704e-19</td>\n",
       "      <td>0.038462</td>\n",
       "      <td>0.178109</td>\n",
       "      <td>0.267323</td>\n",
       "      <td>0.307942</td>\n",
       "      <td>0.636355</td>\n",
       "      <td>0.910583</td>\n",
       "      <td>0</td>\n",
       "      <td>...</td>\n",
       "      <td>8.845517e-26</td>\n",
       "      <td>4.664982e-30</td>\n",
       "      <td>-3.847573e-32</td>\n",
       "      <td>0</td>\n",
       "      <td>-3.396739</td>\n",
       "      <td>6.714612e-20</td>\n",
       "      <td>5.465193</td>\n",
       "      <td>0.710980</td>\n",
       "      <td>False</td>\n",
       "      <td>0</td>\n",
       "    </tr>\n",
       "    <tr>\n",
       "      <th>TranID1011080040044131101</th>\n",
       "      <th>0</th>\n",
       "      <td>SN</td>\n",
       "      <td>41</td>\n",
       "      <td>3.023817e-19</td>\n",
       "      <td>0.121951</td>\n",
       "      <td>0.031154</td>\n",
       "      <td>0.055487</td>\n",
       "      <td>0.073229</td>\n",
       "      <td>0.405480</td>\n",
       "      <td>0.874745</td>\n",
       "      <td>0</td>\n",
       "      <td>...</td>\n",
       "      <td>-1.303991e-25</td>\n",
       "      <td>-2.135346e-29</td>\n",
       "      <td>6.109557e-32</td>\n",
       "      <td>0</td>\n",
       "      <td>-3.238866</td>\n",
       "      <td>1.047484e-19</td>\n",
       "      <td>10.394458</td>\n",
       "      <td>0.710591</td>\n",
       "      <td>True</td>\n",
       "      <td>1</td>\n",
       "    </tr>\n",
       "  </tbody>\n",
       "</table>\n",
       "<p>5 rows × 34 columns</p>\n",
       "</div>"
      ],
      "text/plain": [
       "                                    Class  ObsCount     amplitude  beyond1st  \\\n",
       "ID                        copy_num                                             \n",
       "TranID1409030010044114444 0           SN?        13  6.606619e-20   0.153846   \n",
       "TranID1209210010044118805 0         Flare        68  4.046382e-17   0.014706   \n",
       "TranID1310250040014131234 0            SN       185  4.205281e-18   0.043243   \n",
       "TranID801010040034114166  0          Var?        26  1.704704e-19   0.038462   \n",
       "TranID1011080040044131101 0            SN        41  3.023817e-19   0.121951   \n",
       "\n",
       "                                    flux_percentile_ratio_mid20  \\\n",
       "ID                        copy_num                                \n",
       "TranID1409030010044114444 0                            0.067363   \n",
       "TranID1209210010044118805 0                            0.043604   \n",
       "TranID1310250040014131234 0                            0.025245   \n",
       "TranID801010040034114166  0                            0.178109   \n",
       "TranID1011080040044131101 0                            0.031154   \n",
       "\n",
       "                                    flux_percentile_ratio_mid35  \\\n",
       "ID                        copy_num                                \n",
       "TranID1409030010044114444 0                            0.145074   \n",
       "TranID1209210010044118805 0                            0.077573   \n",
       "TranID1310250040014131234 0                            0.061235   \n",
       "TranID801010040034114166  0                            0.267323   \n",
       "TranID1011080040044131101 0                            0.055487   \n",
       "\n",
       "                                    flux_percentile_ratio_mid50  \\\n",
       "ID                        copy_num                                \n",
       "TranID1409030010044114444 0                            0.159700   \n",
       "TranID1209210010044118805 0                            0.111773   \n",
       "TranID1310250040014131234 0                            0.082459   \n",
       "TranID801010040034114166  0                            0.307942   \n",
       "TranID1011080040044131101 0                            0.073229   \n",
       "\n",
       "                                    flux_percentile_ratio_mid65  \\\n",
       "ID                        copy_num                                \n",
       "TranID1409030010044114444 0                            0.296120   \n",
       "TranID1209210010044118805 0                            0.140895   \n",
       "TranID1310250040014131234 0                            0.126591   \n",
       "TranID801010040034114166  0                            0.636355   \n",
       "TranID1011080040044131101 0                            0.405480   \n",
       "\n",
       "                                    flux_percentile_ratio_mid80  kurtosis  \\\n",
       "ID                        copy_num                                          \n",
       "TranID1409030010044114444 0                            0.519169         0   \n",
       "TranID1209210010044118805 0                            0.215354         0   \n",
       "TranID1310250040014131234 0                            0.314544         0   \n",
       "TranID801010040034114166  0                            0.910583         0   \n",
       "TranID1011080040044131101 0                            0.874745         0   \n",
       "\n",
       "                                       ...          poly4_t2      poly4_t3  \\\n",
       "ID                        copy_num     ...                                   \n",
       "TranID1409030010044114444 0            ...     -4.924016e-26 -3.251950e-29   \n",
       "TranID1209210010044118805 0            ...      7.742926e-24  1.676101e-28   \n",
       "TranID1310250040014131234 0            ...     -1.044870e-24  5.970998e-28   \n",
       "TranID801010040034114166  0            ...      8.845517e-26  4.664982e-30   \n",
       "TranID1011080040044131101 0            ...     -1.303991e-25 -2.135346e-29   \n",
       "\n",
       "                                        poly4_t4  skew  small_kurtosis  \\\n",
       "ID                        copy_num                                       \n",
       "TranID1409030010044114444 0         4.063888e-32     0       -3.927273   \n",
       "TranID1209210010044118805 0        -3.274201e-30     0       -3.139161   \n",
       "TranID1310250040014131234 0         6.915890e-31     0       -3.049541   \n",
       "TranID801010040034114166  0        -3.847573e-32     0       -3.396739   \n",
       "TranID1011080040044131101 0         6.109557e-32     0       -3.238866   \n",
       "\n",
       "                                             std   stetson_j  stetson_k  \\\n",
       "ID                        copy_num                                        \n",
       "TranID1409030010044114444 0         3.625611e-20    2.653184   0.674821   \n",
       "TranID1209210010044118805 0         9.811163e-18  351.818004   0.715629   \n",
       "TranID1310250040014131234 0         1.364362e-18   21.488547   0.663141   \n",
       "TranID801010040034114166  0         6.714612e-20    5.465193   0.710980   \n",
       "TranID1011080040044131101 0         1.047484e-19   10.394458   0.710591   \n",
       "\n",
       "                                    bin_class  fact_Class  \n",
       "ID                        copy_num                         \n",
       "TranID1409030010044114444 0             False           0  \n",
       "TranID1209210010044118805 0             False           0  \n",
       "TranID1310250040014131234 0              True           1  \n",
       "TranID801010040034114166  0             False           0  \n",
       "TranID1011080040044131101 0              True           1  \n",
       "\n",
       "[5 rows x 34 columns]"
      ]
     },
     "execution_count": 6,
     "metadata": {},
     "output_type": "execute_result"
    }
   ],
   "source": [
    "diego_t.head()"
   ]
  },
  {
   "cell_type": "code",
   "execution_count": 15,
   "metadata": {},
   "outputs": [
    {
     "data": {
      "text/html": [
       "<div>\n",
       "<style scoped>\n",
       "    .dataframe tbody tr th:only-of-type {\n",
       "        vertical-align: middle;\n",
       "    }\n",
       "\n",
       "    .dataframe tbody tr th {\n",
       "        vertical-align: top;\n",
       "    }\n",
       "\n",
       "    .dataframe thead th {\n",
       "        text-align: right;\n",
       "    }\n",
       "</style>\n",
       "<table border=\"1\" class=\"dataframe\">\n",
       "  <thead>\n",
       "    <tr style=\"text-align: right;\">\n",
       "      <th></th>\n",
       "      <th></th>\n",
       "      <th>Class</th>\n",
       "      <th>ObsCount</th>\n",
       "      <th>amplitude</th>\n",
       "      <th>beyond1st</th>\n",
       "      <th>flux_percentile_ratio_mid20</th>\n",
       "      <th>flux_percentile_ratio_mid35</th>\n",
       "      <th>flux_percentile_ratio_mid50</th>\n",
       "      <th>flux_percentile_ratio_mid65</th>\n",
       "      <th>flux_percentile_ratio_mid80</th>\n",
       "      <th>kurtosis</th>\n",
       "      <th>...</th>\n",
       "      <th>poly4_t2</th>\n",
       "      <th>poly4_t3</th>\n",
       "      <th>poly4_t4</th>\n",
       "      <th>skew</th>\n",
       "      <th>small_kurtosis</th>\n",
       "      <th>std</th>\n",
       "      <th>stetson_j</th>\n",
       "      <th>stetson_k</th>\n",
       "      <th>bin_class</th>\n",
       "      <th>fact_Class</th>\n",
       "    </tr>\n",
       "    <tr>\n",
       "      <th>ID</th>\n",
       "      <th>copy_num</th>\n",
       "      <th></th>\n",
       "      <th></th>\n",
       "      <th></th>\n",
       "      <th></th>\n",
       "      <th></th>\n",
       "      <th></th>\n",
       "      <th></th>\n",
       "      <th></th>\n",
       "      <th></th>\n",
       "      <th></th>\n",
       "      <th></th>\n",
       "      <th></th>\n",
       "      <th></th>\n",
       "      <th></th>\n",
       "      <th></th>\n",
       "      <th></th>\n",
       "      <th></th>\n",
       "      <th></th>\n",
       "      <th></th>\n",
       "      <th></th>\n",
       "      <th></th>\n",
       "    </tr>\n",
       "  </thead>\n",
       "  <tbody>\n",
       "    <tr>\n",
       "      <th>CataID1121048016765</th>\n",
       "      <th>0</th>\n",
       "      <td>non-transient</td>\n",
       "      <td>37</td>\n",
       "      <td>2.333440e-20</td>\n",
       "      <td>0.081081</td>\n",
       "      <td>0.085689</td>\n",
       "      <td>0.139318</td>\n",
       "      <td>0.186693</td>\n",
       "      <td>0.273474</td>\n",
       "      <td>0.379936</td>\n",
       "      <td>0</td>\n",
       "      <td>...</td>\n",
       "      <td>-1.227713e-27</td>\n",
       "      <td>-6.351738e-30</td>\n",
       "      <td>-2.764374e-33</td>\n",
       "      <td>0</td>\n",
       "      <td>-3.267227</td>\n",
       "      <td>8.182450e-21</td>\n",
       "      <td>0.961691</td>\n",
       "      <td>0.413107</td>\n",
       "      <td>False</td>\n",
       "      <td>0</td>\n",
       "    </tr>\n",
       "    <tr>\n",
       "      <th>CataID1121048016959</th>\n",
       "      <th>0</th>\n",
       "      <td>non-transient</td>\n",
       "      <td>162</td>\n",
       "      <td>7.375637e-20</td>\n",
       "      <td>0.117284</td>\n",
       "      <td>0.121476</td>\n",
       "      <td>0.216808</td>\n",
       "      <td>0.321775</td>\n",
       "      <td>0.543173</td>\n",
       "      <td>0.720385</td>\n",
       "      <td>0</td>\n",
       "      <td>...</td>\n",
       "      <td>3.435789e-27</td>\n",
       "      <td>5.131534e-31</td>\n",
       "      <td>-2.966116e-33</td>\n",
       "      <td>0</td>\n",
       "      <td>-3.056722</td>\n",
       "      <td>1.718766e-20</td>\n",
       "      <td>1.165157</td>\n",
       "      <td>0.638360</td>\n",
       "      <td>False</td>\n",
       "      <td>0</td>\n",
       "    </tr>\n",
       "    <tr>\n",
       "      <th>CataID1112021056668</th>\n",
       "      <th>0</th>\n",
       "      <td>non-transient</td>\n",
       "      <td>25</td>\n",
       "      <td>8.243111e-20</td>\n",
       "      <td>0.120000</td>\n",
       "      <td>0.074063</td>\n",
       "      <td>0.118072</td>\n",
       "      <td>0.167083</td>\n",
       "      <td>0.239397</td>\n",
       "      <td>0.649333</td>\n",
       "      <td>0</td>\n",
       "      <td>...</td>\n",
       "      <td>-1.019394e-25</td>\n",
       "      <td>-3.455726e-30</td>\n",
       "      <td>8.090981e-32</td>\n",
       "      <td>0</td>\n",
       "      <td>-3.415020</td>\n",
       "      <td>4.244134e-20</td>\n",
       "      <td>1.720962</td>\n",
       "      <td>0.687566</td>\n",
       "      <td>False</td>\n",
       "      <td>0</td>\n",
       "    </tr>\n",
       "    <tr>\n",
       "      <th>CataID1112021056680</th>\n",
       "      <th>0</th>\n",
       "      <td>non-transient</td>\n",
       "      <td>342</td>\n",
       "      <td>1.607906e-18</td>\n",
       "      <td>0.318713</td>\n",
       "      <td>0.089792</td>\n",
       "      <td>0.222260</td>\n",
       "      <td>0.329158</td>\n",
       "      <td>0.509584</td>\n",
       "      <td>0.750055</td>\n",
       "      <td>0</td>\n",
       "      <td>...</td>\n",
       "      <td>-1.461579e-25</td>\n",
       "      <td>-6.128517e-29</td>\n",
       "      <td>1.091448e-31</td>\n",
       "      <td>0</td>\n",
       "      <td>-3.026575</td>\n",
       "      <td>4.551548e-19</td>\n",
       "      <td>0.182665</td>\n",
       "      <td>0.501163</td>\n",
       "      <td>False</td>\n",
       "      <td>0</td>\n",
       "    </tr>\n",
       "    <tr>\n",
       "      <th>CataID1112021056719</th>\n",
       "      <th>0</th>\n",
       "      <td>non-transient</td>\n",
       "      <td>368</td>\n",
       "      <td>1.262493e-17</td>\n",
       "      <td>0.271739</td>\n",
       "      <td>0.131166</td>\n",
       "      <td>0.262401</td>\n",
       "      <td>0.393776</td>\n",
       "      <td>0.525359</td>\n",
       "      <td>0.789431</td>\n",
       "      <td>0</td>\n",
       "      <td>...</td>\n",
       "      <td>1.956175e-24</td>\n",
       "      <td>-1.700624e-28</td>\n",
       "      <td>-9.859054e-31</td>\n",
       "      <td>0</td>\n",
       "      <td>-3.024680</td>\n",
       "      <td>2.825978e-18</td>\n",
       "      <td>0.064208</td>\n",
       "      <td>0.768530</td>\n",
       "      <td>False</td>\n",
       "      <td>0</td>\n",
       "    </tr>\n",
       "  </tbody>\n",
       "</table>\n",
       "<p>5 rows × 34 columns</p>\n",
       "</div>"
      ],
      "text/plain": [
       "                                      Class  ObsCount     amplitude  \\\n",
       "ID                  copy_num                                          \n",
       "CataID1121048016765 0         non-transient        37  2.333440e-20   \n",
       "CataID1121048016959 0         non-transient       162  7.375637e-20   \n",
       "CataID1112021056668 0         non-transient        25  8.243111e-20   \n",
       "CataID1112021056680 0         non-transient       342  1.607906e-18   \n",
       "CataID1112021056719 0         non-transient       368  1.262493e-17   \n",
       "\n",
       "                              beyond1st  flux_percentile_ratio_mid20  \\\n",
       "ID                  copy_num                                           \n",
       "CataID1121048016765 0          0.081081                     0.085689   \n",
       "CataID1121048016959 0          0.117284                     0.121476   \n",
       "CataID1112021056668 0          0.120000                     0.074063   \n",
       "CataID1112021056680 0          0.318713                     0.089792   \n",
       "CataID1112021056719 0          0.271739                     0.131166   \n",
       "\n",
       "                              flux_percentile_ratio_mid35  \\\n",
       "ID                  copy_num                                \n",
       "CataID1121048016765 0                            0.139318   \n",
       "CataID1121048016959 0                            0.216808   \n",
       "CataID1112021056668 0                            0.118072   \n",
       "CataID1112021056680 0                            0.222260   \n",
       "CataID1112021056719 0                            0.262401   \n",
       "\n",
       "                              flux_percentile_ratio_mid50  \\\n",
       "ID                  copy_num                                \n",
       "CataID1121048016765 0                            0.186693   \n",
       "CataID1121048016959 0                            0.321775   \n",
       "CataID1112021056668 0                            0.167083   \n",
       "CataID1112021056680 0                            0.329158   \n",
       "CataID1112021056719 0                            0.393776   \n",
       "\n",
       "                              flux_percentile_ratio_mid65  \\\n",
       "ID                  copy_num                                \n",
       "CataID1121048016765 0                            0.273474   \n",
       "CataID1121048016959 0                            0.543173   \n",
       "CataID1112021056668 0                            0.239397   \n",
       "CataID1112021056680 0                            0.509584   \n",
       "CataID1112021056719 0                            0.525359   \n",
       "\n",
       "                              flux_percentile_ratio_mid80  kurtosis  \\\n",
       "ID                  copy_num                                          \n",
       "CataID1121048016765 0                            0.379936         0   \n",
       "CataID1121048016959 0                            0.720385         0   \n",
       "CataID1112021056668 0                            0.649333         0   \n",
       "CataID1112021056680 0                            0.750055         0   \n",
       "CataID1112021056719 0                            0.789431         0   \n",
       "\n",
       "                                 ...          poly4_t2      poly4_t3  \\\n",
       "ID                  copy_num     ...                                   \n",
       "CataID1121048016765 0            ...     -1.227713e-27 -6.351738e-30   \n",
       "CataID1121048016959 0            ...      3.435789e-27  5.131534e-31   \n",
       "CataID1112021056668 0            ...     -1.019394e-25 -3.455726e-30   \n",
       "CataID1112021056680 0            ...     -1.461579e-25 -6.128517e-29   \n",
       "CataID1112021056719 0            ...      1.956175e-24 -1.700624e-28   \n",
       "\n",
       "                                  poly4_t4  skew  small_kurtosis  \\\n",
       "ID                  copy_num                                       \n",
       "CataID1121048016765 0        -2.764374e-33     0       -3.267227   \n",
       "CataID1121048016959 0        -2.966116e-33     0       -3.056722   \n",
       "CataID1112021056668 0         8.090981e-32     0       -3.415020   \n",
       "CataID1112021056680 0         1.091448e-31     0       -3.026575   \n",
       "CataID1112021056719 0        -9.859054e-31     0       -3.024680   \n",
       "\n",
       "                                       std  stetson_j  stetson_k  bin_class  \\\n",
       "ID                  copy_num                                                  \n",
       "CataID1121048016765 0         8.182450e-21   0.961691   0.413107      False   \n",
       "CataID1121048016959 0         1.718766e-20   1.165157   0.638360      False   \n",
       "CataID1112021056668 0         4.244134e-20   1.720962   0.687566      False   \n",
       "CataID1112021056680 0         4.551548e-19   0.182665   0.501163      False   \n",
       "CataID1112021056719 0         2.825978e-18   0.064208   0.768530      False   \n",
       "\n",
       "                              fact_Class  \n",
       "ID                  copy_num              \n",
       "CataID1121048016765 0                  0  \n",
       "CataID1121048016959 0                  0  \n",
       "CataID1112021056668 0                  0  \n",
       "CataID1112021056680 0                  0  \n",
       "CataID1112021056719 0                  0  \n",
       "\n",
       "[5 rows x 34 columns]"
      ]
     },
     "execution_count": 15,
     "metadata": {},
     "output_type": "execute_result"
    }
   ],
   "source": [
    "diego_nt.head()"
   ]
  },
  {
   "cell_type": "code",
   "execution_count": 16,
   "metadata": {},
   "outputs": [],
   "source": [
    "diego_t = diego_t.sample(frac=1)\n",
    "diego_nt = diego_nt.sample(frac=1)"
   ]
  },
  {
   "cell_type": "code",
   "execution_count": 17,
   "metadata": {},
   "outputs": [],
   "source": [
    "all_train, all_test= train_test_split(diego_t,test_size = 0.25)"
   ]
  },
  {
   "cell_type": "code",
   "execution_count": 18,
   "metadata": {},
   "outputs": [],
   "source": [
    "all_train = all_train.sample(frac=1)\n",
    "all_test = all_test.sample(frac=1)"
   ]
  },
  {
   "cell_type": "code",
   "execution_count": 20,
   "metadata": {},
   "outputs": [],
   "source": [
    "all_test = all_test.iloc[all_test.index.get_level_values('copy_num') == 0]"
   ]
  },
  {
   "cell_type": "code",
   "execution_count": 21,
   "metadata": {},
   "outputs": [
    {
     "name": "stdout",
     "output_type": "stream",
     "text": [
      "Index(['amplitude', 'beyond1st', 'flux_percentile_ratio_mid20',\n",
      "       'flux_percentile_ratio_mid35', 'flux_percentile_ratio_mid50',\n",
      "       'flux_percentile_ratio_mid65', 'flux_percentile_ratio_mid80',\n",
      "       'kurtosis', 'max_slope', 'median_absolute_deviation',\n",
      "       'median_buffer_range_percentage', 'pair_slope_trend',\n",
      "       'pair_slope_trend_last_30', 'percent_amplitude',\n",
      "       'percent_difference_flux_percentile', 'poly1_t1', 'poly2_t1',\n",
      "       'poly2_t2', 'poly3_t1', 'poly3_t2', 'poly3_t3', 'poly4_t1', 'poly4_t2',\n",
      "       'poly4_t3', 'poly4_t4', 'skew', 'small_kurtosis', 'std', 'stetson_j',\n",
      "       'stetson_k'],\n",
      "      dtype='object')\n"
     ]
    }
   ],
   "source": [
    "features = all_train.columns[2:-2]\n",
    "print(features)\n",
    "y_train = np.array(all_train['fact_Class'])\n",
    "y_test = np.array(all_test['fact_Class'])"
   ]
  },
  {
   "cell_type": "code",
   "execution_count": 22,
   "metadata": {},
   "outputs": [
    {
     "name": "stdout",
     "output_type": "stream",
     "text": [
      "35219\n",
      "1062\n"
     ]
    }
   ],
   "source": [
    "print(len(y_train))\n",
    "print(len(y_test))"
   ]
  },
  {
   "cell_type": "markdown",
   "metadata": {},
   "source": [
    "# Train the algorithm"
   ]
  },
  {
   "cell_type": "code",
   "execution_count": 23,
   "metadata": {},
   "outputs": [
    {
     "data": {
      "text/plain": [
       "RandomForestClassifier(bootstrap=True, class_weight='balanced',\n",
       "            criterion='gini', max_depth=None, max_features='auto',\n",
       "            max_leaf_nodes=None, min_impurity_decrease=0.0,\n",
       "            min_impurity_split=None, min_samples_leaf=1,\n",
       "            min_samples_split=2, min_weight_fraction_leaf=0.0,\n",
       "            n_estimators=50, n_jobs=1, oob_score=False, random_state=0,\n",
       "            verbose=0, warm_start=False)"
      ]
     },
     "execution_count": 23,
     "metadata": {},
     "output_type": "execute_result"
    }
   ],
   "source": [
    "clf = RandomForestClassifier(n_estimators=50,random_state=0, class_weight='balanced')\n",
    "clf.fit(all_train[features], y_train)"
   ]
  },
  {
   "cell_type": "code",
   "execution_count": 24,
   "metadata": {},
   "outputs": [
    {
     "data": {
      "text/plain": [
       "0.8258003766478342"
      ]
     },
     "execution_count": 24,
     "metadata": {},
     "output_type": "execute_result"
    }
   ],
   "source": [
    "clf.score(all_test[features],y_test)"
   ]
  },
  {
   "cell_type": "code",
   "execution_count": 25,
   "metadata": {},
   "outputs": [
    {
     "data": {
      "text/html": [
       "<div>\n",
       "<style scoped>\n",
       "    .dataframe tbody tr th:only-of-type {\n",
       "        vertical-align: middle;\n",
       "    }\n",
       "\n",
       "    .dataframe tbody tr th {\n",
       "        vertical-align: top;\n",
       "    }\n",
       "\n",
       "    .dataframe thead th {\n",
       "        text-align: right;\n",
       "    }\n",
       "</style>\n",
       "<table border=\"1\" class=\"dataframe\">\n",
       "  <thead>\n",
       "    <tr style=\"text-align: right;\">\n",
       "      <th>Actual</th>\n",
       "      <th>0</th>\n",
       "      <th>1</th>\n",
       "    </tr>\n",
       "    <tr>\n",
       "      <th>Predicted</th>\n",
       "      <th></th>\n",
       "      <th></th>\n",
       "    </tr>\n",
       "  </thead>\n",
       "  <tbody>\n",
       "    <tr>\n",
       "      <th>0</th>\n",
       "      <td>702</td>\n",
       "      <td>142</td>\n",
       "    </tr>\n",
       "    <tr>\n",
       "      <th>1</th>\n",
       "      <td>43</td>\n",
       "      <td>175</td>\n",
       "    </tr>\n",
       "  </tbody>\n",
       "</table>\n",
       "</div>"
      ],
      "text/plain": [
       "Actual        0    1\n",
       "Predicted           \n",
       "0           702  142\n",
       "1            43  175"
      ]
     },
     "execution_count": 25,
     "metadata": {},
     "output_type": "execute_result"
    }
   ],
   "source": [
    "preds = clf.predict(all_test[features])\n",
    "pd.crosstab(preds, y_test, rownames=['Predicted '], colnames=['Actual '])"
   ]
  },
  {
   "cell_type": "code",
   "execution_count": 26,
   "metadata": {},
   "outputs": [
    {
     "data": {
      "text/plain": [
       "Text(0,0.5,'precision')"
      ]
     },
     "execution_count": 26,
     "metadata": {},
     "output_type": "execute_result"
    },
    {
     "data": {
      "image/png": "[encoded data removed]",
      "text/plain": [
       "<matplotlib.figure.Figure at 0x7f8d05583668>"
      ]
     },
     "metadata": {},
     "output_type": "display_data"
    }
   ],
   "source": [
    "# plt.style.use(['dark_background'])\n",
    "preds1 = clf.predict_proba(all_test[features])\n",
    "precision, recall, _ = precision_recall_curve(y_test, preds1[:,0],pos_label=0)\n",
    "\n",
    "plt.step(recall,precision)\n",
    "plt.fill_between(recall, precision,step='pre', alpha=0.2,\n",
    "                 color='b')\n",
    "plt.xlabel('recall')\n",
    "plt.ylabel('precision')"
   ]
  },
  {
   "cell_type": "code",
   "execution_count": 27,
   "metadata": {},
   "outputs": [
    {
     "data": {
      "text/plain": [
       "0.956866709395011"
      ]
     },
     "execution_count": 27,
     "metadata": {},
     "output_type": "execute_result"
    }
   ],
   "source": [
    "integrate.trapz(precision[::-1],recall[::-1])"
   ]
  },
  {
   "cell_type": "code",
   "execution_count": 28,
   "metadata": {},
   "outputs": [
    {
     "data": {
      "text/plain": [
       "0.6542056074766356"
      ]
     },
     "execution_count": 28,
     "metadata": {},
     "output_type": "execute_result"
    }
   ],
   "source": [
    "\n",
    "f1_score(np.array(preds),np.array(y_test))"
   ]
  },
  {
   "cell_type": "markdown",
   "metadata": {},
   "source": [
    "# Transients and non-transients"
   ]
  },
  {
   "cell_type": "code",
   "execution_count": 8,
   "metadata": {},
   "outputs": [],
   "source": [
    "alldata = pd.concat([diego_t,diego_nt])\n",
    "\n",
    "alldata = alldata.sample(frac=1)\n",
    "\n",
    "all_train, all_test= train_test_split(alldata,test_size = 0.25)\n",
    "\n",
    "all_test = all_test.iloc[all_test.index.get_level_values('copy_num') == 0]"
   ]
  },
  {
   "cell_type": "code",
   "execution_count": 9,
   "metadata": {},
   "outputs": [],
   "source": [
    "all_train = all_train.sample(frac=1)\n",
    "all_test = all_test.sample(frac=1)"
   ]
  },
  {
   "cell_type": "code",
   "execution_count": 10,
   "metadata": {},
   "outputs": [
    {
     "name": "stdout",
     "output_type": "stream",
     "text": [
      "Index(['amplitude', 'beyond1st', 'flux_percentile_ratio_mid20',\n",
      "       'flux_percentile_ratio_mid35', 'flux_percentile_ratio_mid50',\n",
      "       'flux_percentile_ratio_mid65', 'flux_percentile_ratio_mid80',\n",
      "       'kurtosis', 'max_slope', 'median_absolute_deviation',\n",
      "       'median_buffer_range_percentage', 'pair_slope_trend',\n",
      "       'pair_slope_trend_last_30', 'percent_amplitude',\n",
      "       'percent_difference_flux_percentile', 'poly1_t1', 'poly2_t1',\n",
      "       'poly2_t2', 'poly3_t1', 'poly3_t2', 'poly3_t3', 'poly4_t1', 'poly4_t2',\n",
      "       'poly4_t3', 'poly4_t4', 'skew', 'small_kurtosis', 'std', 'stetson_j',\n",
      "       'stetson_k'],\n",
      "      dtype='object')\n"
     ]
    }
   ],
   "source": [
    "features = all_train.columns[2:-2]\n",
    "print(features)\n",
    "y_train = np.array(all_train['fact_Class'])\n",
    "y_test = np.array(all_test['fact_Class'])"
   ]
  },
  {
   "cell_type": "code",
   "execution_count": 11,
   "metadata": {},
   "outputs": [
    {
     "name": "stdout",
     "output_type": "stream",
     "text": [
      "46614\n",
      "4848\n"
     ]
    }
   ],
   "source": [
    "print(len(y_train))\n",
    "print(len(y_test))\n"
   ]
  },
  {
   "cell_type": "code",
   "execution_count": 12,
   "metadata": {},
   "outputs": [
    {
     "data": {
      "text/plain": [
       "RandomForestClassifier(bootstrap=True, class_weight='balanced',\n",
       "            criterion='gini', max_depth=None, max_features='auto',\n",
       "            max_leaf_nodes=None, min_impurity_decrease=0.0,\n",
       "            min_impurity_split=None, min_samples_leaf=1,\n",
       "            min_samples_split=2, min_weight_fraction_leaf=0.0,\n",
       "            n_estimators=50, n_jobs=1, oob_score=False, random_state=0,\n",
       "            verbose=0, warm_start=False)"
      ]
     },
     "execution_count": 12,
     "metadata": {},
     "output_type": "execute_result"
    }
   ],
   "source": [
    "clf = RandomForestClassifier(n_estimators=50,random_state=0, class_weight='balanced')\n",
    "clf.fit(all_train[features], y_train)"
   ]
  },
  {
   "cell_type": "code",
   "execution_count": 13,
   "metadata": {},
   "outputs": [
    {
     "data": {
      "text/plain": [
       "0.9420379537953796"
      ]
     },
     "execution_count": 13,
     "metadata": {},
     "output_type": "execute_result"
    }
   ],
   "source": [
    "clf.score(all_test[features],y_test)"
   ]
  },
  {
   "cell_type": "code",
   "execution_count": 14,
   "metadata": {},
   "outputs": [
    {
     "data": {
      "text/html": [
       "<div>\n",
       "<style scoped>\n",
       "    .dataframe tbody tr th:only-of-type {\n",
       "        vertical-align: middle;\n",
       "    }\n",
       "\n",
       "    .dataframe tbody tr th {\n",
       "        vertical-align: top;\n",
       "    }\n",
       "\n",
       "    .dataframe thead th {\n",
       "        text-align: right;\n",
       "    }\n",
       "</style>\n",
       "<table border=\"1\" class=\"dataframe\">\n",
       "  <thead>\n",
       "    <tr style=\"text-align: right;\">\n",
       "      <th>Actual</th>\n",
       "      <th>0</th>\n",
       "      <th>1</th>\n",
       "    </tr>\n",
       "    <tr>\n",
       "      <th>Predicted</th>\n",
       "      <th></th>\n",
       "      <th></th>\n",
       "    </tr>\n",
       "  </thead>\n",
       "  <tbody>\n",
       "    <tr>\n",
       "      <th>0</th>\n",
       "      <td>4460</td>\n",
       "      <td>207</td>\n",
       "    </tr>\n",
       "    <tr>\n",
       "      <th>1</th>\n",
       "      <td>74</td>\n",
       "      <td>107</td>\n",
       "    </tr>\n",
       "  </tbody>\n",
       "</table>\n",
       "</div>"
      ],
      "text/plain": [
       "Actual         0    1\n",
       "Predicted            \n",
       "0           4460  207\n",
       "1             74  107"
      ]
     },
     "execution_count": 14,
     "metadata": {},
     "output_type": "execute_result"
    }
   ],
   "source": [
    "preds = clf.predict(all_test[features])\n",
    "pd.crosstab(preds, y_test, rownames=['Predicted '], colnames=['Actual '])"
   ]
  },
  {
   "cell_type": "code",
   "execution_count": 15,
   "metadata": {},
   "outputs": [
    {
     "data": {
      "text/plain": [
       "Text(0,0.5,'precision')"
      ]
     },
     "execution_count": 15,
     "metadata": {},
     "output_type": "execute_result"
    },
    {
     "data": {
      "image/png": "[encoded data removed]",
      "text/plain": [
       "<matplotlib.figure.Figure at 0x7f1c33b8a5c0>"
      ]
     },
     "metadata": {},
     "output_type": "display_data"
    }
   ],
   "source": [
    "# plt.style.use(['dark_background'])\n",
    "preds1 = clf.predict_proba(all_test[features])\n",
    "precision, recall, _ = precision_recall_curve(y_test, preds1[:,0],pos_label=0)\n",
    "\n",
    "plt.step(recall,precision)\n",
    "plt.fill_between(recall, precision,step='pre', alpha=0.2,\n",
    "                 color='b')\n",
    "plt.xlabel('recall')\n",
    "plt.ylabel('precision')"
   ]
  },
  {
   "cell_type": "code",
   "execution_count": 16,
   "metadata": {},
   "outputs": [
    {
     "data": {
      "text/plain": [
       "0.9910129350843291"
      ]
     },
     "execution_count": 16,
     "metadata": {},
     "output_type": "execute_result"
    }
   ],
   "source": [
    "integrate.trapz(precision[::-1],recall[::-1])"
   ]
  },
  {
   "cell_type": "code",
   "execution_count": 17,
   "metadata": {},
   "outputs": [
    {
     "data": {
      "text/plain": [
       "0.43232323232323233"
      ]
     },
     "execution_count": 17,
     "metadata": {},
     "output_type": "execute_result"
    }
   ],
   "source": [
    "f1_score(np.array(preds),np.array(y_test))"
   ]
  },
  {
   "cell_type": "code",
   "execution_count": null,
   "metadata": {},
   "outputs": [],
   "source": []
  }
 ],
 "metadata": {
  "kernelspec": {
   "display_name": "Python 3",
   "language": "python",
   "name": "python3"
  },
  "language_info": {
   "codemirror_mode": {
    "name": "ipython",
    "version": 3
   },
   "file_extension": ".py",
   "mimetype": "text/x-python",
   "name": "python",
   "nbconvert_exporter": "python",
   "pygments_lexer": "ipython3",
   "version": "3.6.4"
  }
 },
 "nbformat": 4,
 "nbformat_minor": 2
}
