{
 "cells": [
  {
   "cell_type": "code",
   "execution_count": 43,
   "metadata": {},
   "outputs": [],
   "source": [
    "from sklearn.ensemble import RandomForestClassifier\n",
    "import sklearn.metrics\n",
    "import pandas as pd\n",
    "import numpy as np\n",
    "np.random.seed(0)\n",
    "from sklearn.model_selection import GridSearchCV, StratifiedKFold  # , cross_val_score\n",
    "from sklearn.metrics import make_scorer, accuracy_score, precision_score, recall_score, f1_score, precision_recall_fscore_support, confusion_matrix  # , classification_report\n",
    "from sklearn.model_selection import train_test_split\n",
    "\n",
    "from sklearn.metrics import precision_recall_curve\n",
    "import matplotlib.pyplot as plt\n",
    "from sklearn.metrics import average_precision_score\n",
    "from scipy import integrate\n"
   ]
  },
  {
   "cell_type": "code",
   "execution_count": 44,
   "metadata": {},
   "outputs": [],
   "source": [
    "DATA_PATH = \"./data/\"\n"
   ]
  },
  {
   "cell_type": "code",
   "execution_count": 45,
   "metadata": {},
   "outputs": [
    {
     "name": "stdout",
     "output_type": "stream",
     "text": [
      "(46959, 32)\n"
     ]
    }
   ],
   "source": [
    "diego_t = pd.read_pickle(DATA_PATH+\"/features/T.pickle\")\n",
    "diego_nt = pd.read_pickle(DATA_PATH+\"/features/NT.pickle\")\n",
    "print(diego_t.shape)"
   ]
  },
  {
   "cell_type": "code",
   "execution_count": 46,
   "metadata": {},
   "outputs": [],
   "source": [
    "all_diego = pd.concat([diego_nt,diego_t])"
   ]
  },
  {
   "cell_type": "code",
   "execution_count": 47,
   "metadata": {},
   "outputs": [],
   "source": [
    "all_diego['bin_class'] = all_diego['Class']==\"SN\"\n",
    "all_diego[\"fact_Class\"] = pd.factorize(all_diego['bin_class'])[0]"
   ]
  },
  {
   "cell_type": "code",
   "execution_count": 48,
   "metadata": {},
   "outputs": [
    {
     "data": {
      "text/html": [
       "<div>\n",
       "<style scoped>\n",
       "    .dataframe tbody tr th:only-of-type {\n",
       "        vertical-align: middle;\n",
       "    }\n",
       "\n",
       "    .dataframe tbody tr th {\n",
       "        vertical-align: top;\n",
       "    }\n",
       "\n",
       "    .dataframe thead th {\n",
       "        text-align: right;\n",
       "    }\n",
       "</style>\n",
       "<table border=\"1\" class=\"dataframe\">\n",
       "  <thead>\n",
       "    <tr style=\"text-align: right;\">\n",
       "      <th></th>\n",
       "      <th></th>\n",
       "      <th>Class</th>\n",
       "      <th>ObsCount</th>\n",
       "      <th>amplitude</th>\n",
       "      <th>beyond1st</th>\n",
       "      <th>flux_percentile_ratio_mid20</th>\n",
       "      <th>flux_percentile_ratio_mid35</th>\n",
       "      <th>flux_percentile_ratio_mid50</th>\n",
       "      <th>flux_percentile_ratio_mid65</th>\n",
       "      <th>flux_percentile_ratio_mid80</th>\n",
       "      <th>kurtosis</th>\n",
       "      <th>...</th>\n",
       "      <th>poly4_t2</th>\n",
       "      <th>poly4_t3</th>\n",
       "      <th>poly4_t4</th>\n",
       "      <th>skew</th>\n",
       "      <th>small_kurtosis</th>\n",
       "      <th>std</th>\n",
       "      <th>stetson_j</th>\n",
       "      <th>stetson_k</th>\n",
       "      <th>bin_class</th>\n",
       "      <th>fact_Class</th>\n",
       "    </tr>\n",
       "    <tr>\n",
       "      <th>ID</th>\n",
       "      <th>copy_num</th>\n",
       "      <th></th>\n",
       "      <th></th>\n",
       "      <th></th>\n",
       "      <th></th>\n",
       "      <th></th>\n",
       "      <th></th>\n",
       "      <th></th>\n",
       "      <th></th>\n",
       "      <th></th>\n",
       "      <th></th>\n",
       "      <th></th>\n",
       "      <th></th>\n",
       "      <th></th>\n",
       "      <th></th>\n",
       "      <th></th>\n",
       "      <th></th>\n",
       "      <th></th>\n",
       "      <th></th>\n",
       "      <th></th>\n",
       "      <th></th>\n",
       "      <th></th>\n",
       "    </tr>\n",
       "  </thead>\n",
       "  <tbody>\n",
       "    <tr>\n",
       "      <th>TranID1310131381024102178</th>\n",
       "      <th>10</th>\n",
       "      <td>SN</td>\n",
       "      <td>7</td>\n",
       "      <td>0.360233</td>\n",
       "      <td>0.142857</td>\n",
       "      <td>0.159294</td>\n",
       "      <td>0.288508</td>\n",
       "      <td>0.495671</td>\n",
       "      <td>0.702834</td>\n",
       "      <td>0.882508</td>\n",
       "      <td>2.395244</td>\n",
       "      <td>...</td>\n",
       "      <td>-382.104064</td>\n",
       "      <td>-1.942155e+01</td>\n",
       "      <td>5.596853e+00</td>\n",
       "      <td>1.661791</td>\n",
       "      <td>-5.400000</td>\n",
       "      <td>0.261047</td>\n",
       "      <td>0.542345</td>\n",
       "      <td>0.867954</td>\n",
       "      <td>True</td>\n",
       "      <td>1</td>\n",
       "    </tr>\n",
       "    <tr>\n",
       "      <th>TranID1009110011274140658</th>\n",
       "      <th>10</th>\n",
       "      <td>CV</td>\n",
       "      <td>19</td>\n",
       "      <td>1.620788</td>\n",
       "      <td>0.526316</td>\n",
       "      <td>0.004615</td>\n",
       "      <td>0.008413</td>\n",
       "      <td>0.013528</td>\n",
       "      <td>0.029901</td>\n",
       "      <td>0.835680</td>\n",
       "      <td>0.681493</td>\n",
       "      <td>...</td>\n",
       "      <td>-0.000005</td>\n",
       "      <td>1.501891e-09</td>\n",
       "      <td>4.993123e-12</td>\n",
       "      <td>-1.215647</td>\n",
       "      <td>-3.573529</td>\n",
       "      <td>0.976924</td>\n",
       "      <td>3.151000</td>\n",
       "      <td>0.559249</td>\n",
       "      <td>False</td>\n",
       "      <td>0</td>\n",
       "    </tr>\n",
       "    <tr>\n",
       "      <th>TranID1006191261154142735</th>\n",
       "      <th>10</th>\n",
       "      <td>SN</td>\n",
       "      <td>7</td>\n",
       "      <td>1.587182</td>\n",
       "      <td>0.142857</td>\n",
       "      <td>0.063803</td>\n",
       "      <td>0.130331</td>\n",
       "      <td>0.346260</td>\n",
       "      <td>0.562190</td>\n",
       "      <td>0.822649</td>\n",
       "      <td>3.165782</td>\n",
       "      <td>...</td>\n",
       "      <td>-0.060319</td>\n",
       "      <td>-2.832678e-06</td>\n",
       "      <td>2.576439e-08</td>\n",
       "      <td>1.564664</td>\n",
       "      <td>-5.400000</td>\n",
       "      <td>1.036647</td>\n",
       "      <td>-0.404262</td>\n",
       "      <td>0.756193</td>\n",
       "      <td>True</td>\n",
       "      <td>1</td>\n",
       "    </tr>\n",
       "    <tr>\n",
       "      <th>TranID1409031291124154648</th>\n",
       "      <th>10</th>\n",
       "      <td>CV</td>\n",
       "      <td>37</td>\n",
       "      <td>1.602574</td>\n",
       "      <td>0.297297</td>\n",
       "      <td>0.102388</td>\n",
       "      <td>0.249139</td>\n",
       "      <td>0.461230</td>\n",
       "      <td>0.513607</td>\n",
       "      <td>0.760052</td>\n",
       "      <td>-0.107470</td>\n",
       "      <td>...</td>\n",
       "      <td>-0.000001</td>\n",
       "      <td>-1.417808e-09</td>\n",
       "      <td>7.777308e-13</td>\n",
       "      <td>0.831387</td>\n",
       "      <td>-3.267227</td>\n",
       "      <td>0.823078</td>\n",
       "      <td>1.710220</td>\n",
       "      <td>0.831793</td>\n",
       "      <td>False</td>\n",
       "      <td>0</td>\n",
       "    </tr>\n",
       "    <tr>\n",
       "      <th>TranID1209190181234125108</th>\n",
       "      <th>10</th>\n",
       "      <td>SN</td>\n",
       "      <td>16</td>\n",
       "      <td>0.597726</td>\n",
       "      <td>0.250000</td>\n",
       "      <td>0.113485</td>\n",
       "      <td>0.252952</td>\n",
       "      <td>0.347970</td>\n",
       "      <td>0.475463</td>\n",
       "      <td>0.723253</td>\n",
       "      <td>2.013827</td>\n",
       "      <td>...</td>\n",
       "      <td>-0.150831</td>\n",
       "      <td>4.647583e-06</td>\n",
       "      <td>1.943760e-04</td>\n",
       "      <td>1.250014</td>\n",
       "      <td>-3.708791</td>\n",
       "      <td>0.299568</td>\n",
       "      <td>0.477280</td>\n",
       "      <td>0.788695</td>\n",
       "      <td>True</td>\n",
       "      <td>1</td>\n",
       "    </tr>\n",
       "  </tbody>\n",
       "</table>\n",
       "<p>5 rows × 34 columns</p>\n",
       "</div>"
      ],
      "text/plain": [
       "                                   Class  ObsCount  amplitude  beyond1st  \\\n",
       "ID                        copy_num                                         \n",
       "TranID1310131381024102178 10          SN         7   0.360233   0.142857   \n",
       "TranID1009110011274140658 10          CV        19   1.620788   0.526316   \n",
       "TranID1006191261154142735 10          SN         7   1.587182   0.142857   \n",
       "TranID1409031291124154648 10          CV        37   1.602574   0.297297   \n",
       "TranID1209190181234125108 10          SN        16   0.597726   0.250000   \n",
       "\n",
       "                                    flux_percentile_ratio_mid20  \\\n",
       "ID                        copy_num                                \n",
       "TranID1310131381024102178 10                           0.159294   \n",
       "TranID1009110011274140658 10                           0.004615   \n",
       "TranID1006191261154142735 10                           0.063803   \n",
       "TranID1409031291124154648 10                           0.102388   \n",
       "TranID1209190181234125108 10                           0.113485   \n",
       "\n",
       "                                    flux_percentile_ratio_mid35  \\\n",
       "ID                        copy_num                                \n",
       "TranID1310131381024102178 10                           0.288508   \n",
       "TranID1009110011274140658 10                           0.008413   \n",
       "TranID1006191261154142735 10                           0.130331   \n",
       "TranID1409031291124154648 10                           0.249139   \n",
       "TranID1209190181234125108 10                           0.252952   \n",
       "\n",
       "                                    flux_percentile_ratio_mid50  \\\n",
       "ID                        copy_num                                \n",
       "TranID1310131381024102178 10                           0.495671   \n",
       "TranID1009110011274140658 10                           0.013528   \n",
       "TranID1006191261154142735 10                           0.346260   \n",
       "TranID1409031291124154648 10                           0.461230   \n",
       "TranID1209190181234125108 10                           0.347970   \n",
       "\n",
       "                                    flux_percentile_ratio_mid65  \\\n",
       "ID                        copy_num                                \n",
       "TranID1310131381024102178 10                           0.702834   \n",
       "TranID1009110011274140658 10                           0.029901   \n",
       "TranID1006191261154142735 10                           0.562190   \n",
       "TranID1409031291124154648 10                           0.513607   \n",
       "TranID1209190181234125108 10                           0.475463   \n",
       "\n",
       "                                    flux_percentile_ratio_mid80  kurtosis  \\\n",
       "ID                        copy_num                                          \n",
       "TranID1310131381024102178 10                           0.882508  2.395244   \n",
       "TranID1009110011274140658 10                           0.835680  0.681493   \n",
       "TranID1006191261154142735 10                           0.822649  3.165782   \n",
       "TranID1409031291124154648 10                           0.760052 -0.107470   \n",
       "TranID1209190181234125108 10                           0.723253  2.013827   \n",
       "\n",
       "                                       ...        poly4_t2      poly4_t3  \\\n",
       "ID                        copy_num     ...                                 \n",
       "TranID1310131381024102178 10           ...     -382.104064 -1.942155e+01   \n",
       "TranID1009110011274140658 10           ...       -0.000005  1.501891e-09   \n",
       "TranID1006191261154142735 10           ...       -0.060319 -2.832678e-06   \n",
       "TranID1409031291124154648 10           ...       -0.000001 -1.417808e-09   \n",
       "TranID1209190181234125108 10           ...       -0.150831  4.647583e-06   \n",
       "\n",
       "                                        poly4_t4      skew  small_kurtosis  \\\n",
       "ID                        copy_num                                           \n",
       "TranID1310131381024102178 10        5.596853e+00  1.661791       -5.400000   \n",
       "TranID1009110011274140658 10        4.993123e-12 -1.215647       -3.573529   \n",
       "TranID1006191261154142735 10        2.576439e-08  1.564664       -5.400000   \n",
       "TranID1409031291124154648 10        7.777308e-13  0.831387       -3.267227   \n",
       "TranID1209190181234125108 10        1.943760e-04  1.250014       -3.708791   \n",
       "\n",
       "                                         std  stetson_j  stetson_k  bin_class  \\\n",
       "ID                        copy_num                                              \n",
       "TranID1310131381024102178 10        0.261047   0.542345   0.867954       True   \n",
       "TranID1009110011274140658 10        0.976924   3.151000   0.559249      False   \n",
       "TranID1006191261154142735 10        1.036647  -0.404262   0.756193       True   \n",
       "TranID1409031291124154648 10        0.823078   1.710220   0.831793      False   \n",
       "TranID1209190181234125108 10        0.299568   0.477280   0.788695       True   \n",
       "\n",
       "                                    fact_Class  \n",
       "ID                        copy_num              \n",
       "TranID1310131381024102178 10                 1  \n",
       "TranID1009110011274140658 10                 0  \n",
       "TranID1006191261154142735 10                 1  \n",
       "TranID1409031291124154648 10                 0  \n",
       "TranID1209190181234125108 10                 1  \n",
       "\n",
       "[5 rows x 34 columns]"
      ]
     },
     "execution_count": 48,
     "metadata": {},
     "output_type": "execute_result"
    }
   ],
   "source": [
    "all_diego.tail()\n"
   ]
  },
  {
   "cell_type": "code",
   "execution_count": 49,
   "metadata": {},
   "outputs": [],
   "source": [
    "all_diego = all_diego.sample(frac=1)"
   ]
  },
  {
   "cell_type": "code",
   "execution_count": 50,
   "metadata": {},
   "outputs": [],
   "source": [
    "all_train, all_test= train_test_split(all_diego,test_size = 0.25)"
   ]
  },
  {
   "cell_type": "code",
   "execution_count": 51,
   "metadata": {},
   "outputs": [],
   "source": [
    "all_train = all_train.sample(frac=1)\n",
    "all_test = all_test.sample(frac=1)"
   ]
  },
  {
   "cell_type": "code",
   "execution_count": 52,
   "metadata": {},
   "outputs": [
    {
     "name": "stdout",
     "output_type": "stream",
     "text": [
      "Index(['amplitude', 'beyond1st', 'flux_percentile_ratio_mid20',\n",
      "       'flux_percentile_ratio_mid35', 'flux_percentile_ratio_mid50',\n",
      "       'flux_percentile_ratio_mid65', 'flux_percentile_ratio_mid80',\n",
      "       'kurtosis', 'max_slope', 'median_absolute_deviation',\n",
      "       'median_buffer_range_percentage', 'pair_slope_trend',\n",
      "       'pair_slope_trend_last_30', 'percent_amplitude',\n",
      "       'percent_difference_flux_percentile', 'poly1_t1', 'poly2_t1',\n",
      "       'poly2_t2', 'poly3_t1', 'poly3_t2', 'poly3_t3', 'poly4_t1', 'poly4_t2',\n",
      "       'poly4_t3', 'poly4_t4', 'skew', 'small_kurtosis', 'std', 'stetson_j',\n",
      "       'stetson_k'],\n",
      "      dtype='object')\n"
     ]
    }
   ],
   "source": [
    "features = all_train.columns[2:-2]\n",
    "print(features)\n",
    "y_train = np.array(all_train['fact_Class'])\n",
    "y_test = np.array(all_test['fact_Class'])\n"
   ]
  },
  {
   "cell_type": "code",
   "execution_count": 53,
   "metadata": {},
   "outputs": [
    {
     "name": "stdout",
     "output_type": "stream",
     "text": [
      "46614\n",
      "15538\n"
     ]
    }
   ],
   "source": [
    "print(len(y_train))\n",
    "print(len(y_test))\n"
   ]
  },
  {
   "cell_type": "code",
   "execution_count": 54,
   "metadata": {},
   "outputs": [
    {
     "data": {
      "text/plain": [
       "RandomForestClassifier(bootstrap=True, class_weight='balanced',\n",
       "            criterion='gini', max_depth=None, max_features='auto',\n",
       "            max_leaf_nodes=None, min_impurity_decrease=0.0,\n",
       "            min_impurity_split=None, min_samples_leaf=1,\n",
       "            min_samples_split=2, min_weight_fraction_leaf=0.0,\n",
       "            n_estimators=50, n_jobs=1, oob_score=False, random_state=0,\n",
       "            verbose=0, warm_start=False)"
      ]
     },
     "execution_count": 54,
     "metadata": {},
     "output_type": "execute_result"
    }
   ],
   "source": [
    "clf = RandomForestClassifier(n_estimators=50,random_state=0, class_weight='balanced')\n",
    "clf.fit(all_train[features], y_train)"
   ]
  },
  {
   "cell_type": "code",
   "execution_count": 55,
   "metadata": {},
   "outputs": [
    {
     "data": {
      "text/plain": [
       "0.9133093062170163"
      ]
     },
     "execution_count": 55,
     "metadata": {},
     "output_type": "execute_result"
    }
   ],
   "source": [
    "clf.score(all_test[features],y_test)"
   ]
  },
  {
   "cell_type": "code",
   "execution_count": 56,
   "metadata": {},
   "outputs": [
    {
     "data": {
      "text/html": [
       "<div>\n",
       "<style scoped>\n",
       "    .dataframe tbody tr th:only-of-type {\n",
       "        vertical-align: middle;\n",
       "    }\n",
       "\n",
       "    .dataframe tbody tr th {\n",
       "        vertical-align: top;\n",
       "    }\n",
       "\n",
       "    .dataframe thead th {\n",
       "        text-align: right;\n",
       "    }\n",
       "</style>\n",
       "<table border=\"1\" class=\"dataframe\">\n",
       "  <thead>\n",
       "    <tr style=\"text-align: right;\">\n",
       "      <th>Actual</th>\n",
       "      <th>0</th>\n",
       "      <th>1</th>\n",
       "    </tr>\n",
       "    <tr>\n",
       "      <th>Predicted</th>\n",
       "      <th></th>\n",
       "      <th></th>\n",
       "    </tr>\n",
       "  </thead>\n",
       "  <tbody>\n",
       "    <tr>\n",
       "      <th>0</th>\n",
       "      <td>11761</td>\n",
       "      <td>1127</td>\n",
       "    </tr>\n",
       "    <tr>\n",
       "      <th>1</th>\n",
       "      <td>220</td>\n",
       "      <td>2430</td>\n",
       "    </tr>\n",
       "  </tbody>\n",
       "</table>\n",
       "</div>"
      ],
      "text/plain": [
       "Actual          0     1\n",
       "Predicted              \n",
       "0           11761  1127\n",
       "1             220  2430"
      ]
     },
     "execution_count": 56,
     "metadata": {},
     "output_type": "execute_result"
    }
   ],
   "source": [
    "preds = clf.predict(all_test[features])\n",
    "pd.crosstab(preds, y_test, rownames=['Predicted '], colnames=['Actual '])"
   ]
  },
  {
   "cell_type": "code",
   "execution_count": 57,
   "metadata": {},
   "outputs": [
    {
     "data": {
      "text/plain": [
       "0.9169811320754717"
      ]
     },
     "execution_count": 57,
     "metadata": {},
     "output_type": "execute_result"
    }
   ],
   "source": [
    "2430/(2430+220)"
   ]
  },
  {
   "cell_type": "code",
   "execution_count": 65,
   "metadata": {},
   "outputs": [
    {
     "name": "stdout",
     "output_type": "stream",
     "text": [
      "precision  0.9169811320754717\n",
      "recall  0.6831599662637053\n",
      "f1  0.7829869502174963\n",
      "accuracy  0.9133093062170163\n"
     ]
    }
   ],
   "source": [
    "tp = pd.crosstab(preds, y_test, rownames=['Predicted '], colnames=['Actual '])[1][1]\n",
    "tn = pd.crosstab(preds, y_test, rownames=['Predicted '], colnames=['Actual '])[0][0]\n",
    "fp = pd.crosstab(preds, y_test, rownames=['Predicted '], colnames=['Actual '])[0][1]\n",
    "fn = pd.crosstab(preds, y_test, rownames=['Predicted '], colnames=['Actual '])[1][0]\n",
    "precision = tp/(tp+fp)\n",
    "recall = tp/(tp+fn)\n",
    "f1  = 2*precision*recall/(precision+recall)\n",
    "accuracy = (tp+tn)/(tp+tn+fp+fn)\n",
    "print('precision ',precision)\n",
    "print('recall ', recall)\n",
    "print('f1 ',f1)\n",
    "print('accuracy ',accuracy)"
   ]
  },
  {
   "cell_type": "code",
   "execution_count": 59,
   "metadata": {},
   "outputs": [
    {
     "name": "stdout",
     "output_type": "stream",
     "text": [
      "0.9133093062170163\n"
     ]
    }
   ],
   "source": [
    "print((tp+tn)/(tp+tn+fp+fn))"
   ]
  },
  {
   "cell_type": "code",
   "execution_count": 60,
   "metadata": {},
   "outputs": [
    {
     "data": {
      "text/plain": [
       "220"
      ]
     },
     "execution_count": 60,
     "metadata": {},
     "output_type": "execute_result"
    }
   ],
   "source": [
    "pd.crosstab(preds, y_test, rownames=['Predicted '], colnames=['Actual '])[0][1]"
   ]
  },
  {
   "cell_type": "code",
   "execution_count": 61,
   "metadata": {},
   "outputs": [
    {
     "data": {
      "text/plain": [
       "Text(0.5,1,'Transients + non-transients - Magnitude')"
      ]
     },
     "execution_count": 61,
     "metadata": {},
     "output_type": "execute_result"
    },
    {
     "data": {
      "image/png": "[encoded data removed]",
      "text/plain": [
       "<matplotlib.figure.Figure at 0x7fe32ba8fcf8>"
      ]
     },
     "metadata": {},
     "output_type": "display_data"
    }
   ],
   "source": [
    "\n",
    "preds1 = clf.predict_proba(all_test[features])\n",
    "precision, recall, _ = precision_recall_curve(y_test, preds1[:,0],pos_label=0)\n",
    "\n",
    "plt.step(recall,precision)\n",
    "plt.fill_between(recall, precision,step='pre', alpha=0.2,\n",
    "                 color='b')\n",
    "plt.xlabel('recall')\n",
    "plt.ylabel('precision')\n",
    "plt.title('Transients + non-transients - Magnitude')\n"
   ]
  },
  {
   "cell_type": "code",
   "execution_count": 62,
   "metadata": {},
   "outputs": [
    {
     "data": {
      "text/plain": [
       "0.9885333998678388"
      ]
     },
     "execution_count": 62,
     "metadata": {},
     "output_type": "execute_result"
    }
   ],
   "source": [
    "integrate.trapz(precision[::-1],recall[::-1])"
   ]
  },
  {
   "cell_type": "code",
   "execution_count": 63,
   "metadata": {},
   "outputs": [
    {
     "data": {
      "text/html": [
       "<div>\n",
       "<style scoped>\n",
       "    .dataframe tbody tr th:only-of-type {\n",
       "        vertical-align: middle;\n",
       "    }\n",
       "\n",
       "    .dataframe tbody tr th {\n",
       "        vertical-align: top;\n",
       "    }\n",
       "\n",
       "    .dataframe thead th {\n",
       "        text-align: right;\n",
       "    }\n",
       "</style>\n",
       "<table border=\"1\" class=\"dataframe\">\n",
       "  <thead>\n",
       "    <tr style=\"text-align: right;\">\n",
       "      <th>Actual</th>\n",
       "      <th>0</th>\n",
       "      <th>1</th>\n",
       "    </tr>\n",
       "    <tr>\n",
       "      <th>Predicted</th>\n",
       "      <th></th>\n",
       "      <th></th>\n",
       "    </tr>\n",
       "  </thead>\n",
       "  <tbody>\n",
       "    <tr>\n",
       "      <th>0</th>\n",
       "      <td>11761</td>\n",
       "      <td>1127</td>\n",
       "    </tr>\n",
       "    <tr>\n",
       "      <th>1</th>\n",
       "      <td>220</td>\n",
       "      <td>2430</td>\n",
       "    </tr>\n",
       "  </tbody>\n",
       "</table>\n",
       "</div>"
      ],
      "text/plain": [
       "Actual          0     1\n",
       "Predicted              \n",
       "0           11761  1127\n",
       "1             220  2430"
      ]
     },
     "execution_count": 63,
     "metadata": {},
     "output_type": "execute_result"
    }
   ],
   "source": [
    "preds = clf.predict(all_test[features])\n",
    "pd.crosstab(preds, y_test, rownames=['Predicted '], colnames=['Actual '])"
   ]
  },
  {
   "cell_type": "code",
   "execution_count": 64,
   "metadata": {},
   "outputs": [
    {
     "data": {
      "text/plain": [
       "0.7829869502174963"
      ]
     },
     "execution_count": 64,
     "metadata": {},
     "output_type": "execute_result"
    }
   ],
   "source": [
    "\n",
    "f1_score(np.array(preds),np.array(y_test))"
   ]
  },
  {
   "cell_type": "code",
   "execution_count": 29,
   "metadata": {},
   "outputs": [
    {
     "data": {
      "text/plain": [
       "0.6831599662637053"
      ]
     },
     "execution_count": 29,
     "metadata": {},
     "output_type": "execute_result"
    }
   ],
   "source": [
    "precision_score(preds,y_test)"
   ]
  },
  {
   "cell_type": "code",
   "execution_count": 31,
   "metadata": {},
   "outputs": [
    {
     "data": {
      "text/plain": [
       "0.9133093062170163"
      ]
     },
     "execution_count": 31,
     "metadata": {},
     "output_type": "execute_result"
    }
   ],
   "source": [
    "accuracy_score(preds,y_test)"
   ]
  },
  {
   "cell_type": "code",
   "execution_count": 21,
   "metadata": {},
   "outputs": [
    {
     "data": {
      "image/png": "[encoded data removed]",
      "text/plain": [
       "<matplotlib.figure.Figure at 0x7f37c664d550>"
      ]
     },
     "metadata": {},
     "output_type": "display_data"
    }
   ],
   "source": [
    "dfs = {}\n",
    "for clase in all_diego.reset_index().Class.unique():\n",
    "    dfs[clase] = all_diego[all_diego['Class']==clase]\n",
    "\n",
    "numObjs = {}\n",
    "for k in dfs.keys():\n",
    "    numObjs[k] = len(dfs[k])\n",
    "\n",
    "plt.bar(numObjs.keys(),numObjs.values())\n",
    "plt.xticks(rotation='vertical')\n",
    "\n",
    "N = len(numObjs)\n",
    "plt.gca().margins(x=0)\n",
    "plt.gcf().canvas.draw()\n",
    "tl = plt.gca().get_xticklabels()\n",
    "maxsize = max([t.get_window_extent().width for t in tl])\n",
    "m = 0.2 # inch margin\n",
    "s = maxsize/plt.gcf().dpi*N+2*m\n",
    "margin = m/plt.gcf().get_size_inches()[0]\n",
    "\n",
    "plt.gcf().subplots_adjust(left=margin, right=1.-margin)\n",
    "plt.gcf().set_size_inches(s, plt.gcf().get_size_inches()[1])\n"
   ]
  },
  {
   "cell_type": "code",
   "execution_count": null,
   "metadata": {},
   "outputs": [],
   "source": []
  }
 ],
 "metadata": {
  "kernelspec": {
   "display_name": "Python 3",
   "language": "python",
   "name": "python3"
  },
  "language_info": {
   "codemirror_mode": {
    "name": "ipython",
    "version": 3
   },
   "file_extension": ".py",
   "mimetype": "text/x-python",
   "name": "python",
   "nbconvert_exporter": "python",
   "pygments_lexer": "ipython3",
   "version": "3.6.4"
  }
 },
 "nbformat": 4,
 "nbformat_minor": 2
}
