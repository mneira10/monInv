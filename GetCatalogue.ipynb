{
 "cells": [
  {
   "cell_type": "code",
   "execution_count": 56,
   "metadata": {},
   "outputs": [],
   "source": [
    "import pandas as pd\n",
    "import numpy as np\n"
   ]
  },
  {
   "cell_type": "markdown",
   "metadata": {},
   "source": [
    "## Light-curves"
   ]
  },
  {
   "cell_type": "code",
   "execution_count": 57,
   "metadata": {},
   "outputs": [],
   "source": [
    "diego_lc_t = pd.read_pickle(\"data/lightcurves/diego_t_clean.pickle\")\n",
    "diego_lc_nt = pd.read_pickle(\"data/lightcurves/diego_nt_clean.pickle\")"
   ]
  },
  {
   "cell_type": "markdown",
   "metadata": {},
   "source": [
    "## Extracted features"
   ]
  },
  {
   "cell_type": "code",
   "execution_count": 58,
   "metadata": {},
   "outputs": [],
   "source": [
    "diego_feat_t = pd.read_pickle(\"data/features/T.pickle\")\n",
    "diego_feat_nt = pd.read_pickle(\"data/features/NT.pickle\")\n"
   ]
  },
  {
   "cell_type": "code",
   "execution_count": 59,
   "metadata": {},
   "outputs": [
    {
     "data": {
      "text/html": [
       "<div>\n",
       "<style scoped>\n",
       "    .dataframe tbody tr th:only-of-type {\n",
       "        vertical-align: middle;\n",
       "    }\n",
       "\n",
       "    .dataframe tbody tr th {\n",
       "        vertical-align: top;\n",
       "    }\n",
       "\n",
       "    .dataframe thead th {\n",
       "        text-align: right;\n",
       "    }\n",
       "</style>\n",
       "<table border=\"1\" class=\"dataframe\">\n",
       "  <thead>\n",
       "    <tr style=\"text-align: right;\">\n",
       "      <th></th>\n",
       "      <th></th>\n",
       "      <th>Class</th>\n",
       "      <th>ObsCount</th>\n",
       "      <th>amplitude</th>\n",
       "      <th>beyond1st</th>\n",
       "      <th>flux_percentile_ratio_mid20</th>\n",
       "      <th>flux_percentile_ratio_mid35</th>\n",
       "      <th>flux_percentile_ratio_mid50</th>\n",
       "      <th>flux_percentile_ratio_mid65</th>\n",
       "      <th>flux_percentile_ratio_mid80</th>\n",
       "      <th>kurtosis</th>\n",
       "      <th>...</th>\n",
       "      <th>poly3_t3</th>\n",
       "      <th>poly4_t1</th>\n",
       "      <th>poly4_t2</th>\n",
       "      <th>poly4_t3</th>\n",
       "      <th>poly4_t4</th>\n",
       "      <th>skew</th>\n",
       "      <th>small_kurtosis</th>\n",
       "      <th>std</th>\n",
       "      <th>stetson_j</th>\n",
       "      <th>stetson_k</th>\n",
       "    </tr>\n",
       "    <tr>\n",
       "      <th>ID</th>\n",
       "      <th>copy_num</th>\n",
       "      <th></th>\n",
       "      <th></th>\n",
       "      <th></th>\n",
       "      <th></th>\n",
       "      <th></th>\n",
       "      <th></th>\n",
       "      <th></th>\n",
       "      <th></th>\n",
       "      <th></th>\n",
       "      <th></th>\n",
       "      <th></th>\n",
       "      <th></th>\n",
       "      <th></th>\n",
       "      <th></th>\n",
       "      <th></th>\n",
       "      <th></th>\n",
       "      <th></th>\n",
       "      <th></th>\n",
       "      <th></th>\n",
       "      <th></th>\n",
       "      <th></th>\n",
       "    </tr>\n",
       "  </thead>\n",
       "  <tbody>\n",
       "    <tr>\n",
       "      <th>TranID1409030010044114444</th>\n",
       "      <th>0</th>\n",
       "      <td>SN?</td>\n",
       "      <td>13</td>\n",
       "      <td>1.12135</td>\n",
       "      <td>0.307692</td>\n",
       "      <td>0.067363</td>\n",
       "      <td>0.145074</td>\n",
       "      <td>0.159700</td>\n",
       "      <td>0.296120</td>\n",
       "      <td>0.519169</td>\n",
       "      <td>-0.552947</td>\n",
       "      <td>...</td>\n",
       "      <td>1.774041e-10</td>\n",
       "      <td>-0.000117</td>\n",
       "      <td>1.393948e-07</td>\n",
       "      <td>2.573913e-10</td>\n",
       "      <td>-3.677913e-13</td>\n",
       "      <td>-0.287598</td>\n",
       "      <td>-3.927273</td>\n",
       "      <td>0.681471</td>\n",
       "      <td>-0.562822</td>\n",
       "      <td>0.707972</td>\n",
       "    </tr>\n",
       "    <tr>\n",
       "      <th>TranID1209210010044118805</th>\n",
       "      <th>0</th>\n",
       "      <td>Flare</td>\n",
       "      <td>68</td>\n",
       "      <td>2.56960</td>\n",
       "      <td>0.352941</td>\n",
       "      <td>0.043604</td>\n",
       "      <td>0.077573</td>\n",
       "      <td>0.111773</td>\n",
       "      <td>0.140895</td>\n",
       "      <td>0.215354</td>\n",
       "      <td>10.041946</td>\n",
       "      <td>...</td>\n",
       "      <td>1.418397e-10</td>\n",
       "      <td>-0.000269</td>\n",
       "      <td>-7.297054e-07</td>\n",
       "      <td>4.150062e-11</td>\n",
       "      <td>2.744152e-13</td>\n",
       "      <td>-2.355343</td>\n",
       "      <td>-3.139161</td>\n",
       "      <td>0.788365</td>\n",
       "      <td>0.941645</td>\n",
       "      <td>0.322600</td>\n",
       "    </tr>\n",
       "    <tr>\n",
       "      <th>TranID1310250040014131234</th>\n",
       "      <th>0</th>\n",
       "      <td>SN</td>\n",
       "      <td>185</td>\n",
       "      <td>1.88140</td>\n",
       "      <td>0.297297</td>\n",
       "      <td>0.025245</td>\n",
       "      <td>0.061235</td>\n",
       "      <td>0.082459</td>\n",
       "      <td>0.126591</td>\n",
       "      <td>0.314544</td>\n",
       "      <td>3.159501</td>\n",
       "      <td>...</td>\n",
       "      <td>-2.623620e-10</td>\n",
       "      <td>0.000095</td>\n",
       "      <td>4.197685e-07</td>\n",
       "      <td>-2.467111e-10</td>\n",
       "      <td>-2.952595e-13</td>\n",
       "      <td>-1.412739</td>\n",
       "      <td>-3.049541</td>\n",
       "      <td>0.656324</td>\n",
       "      <td>1.700725</td>\n",
       "      <td>0.492124</td>\n",
       "    </tr>\n",
       "    <tr>\n",
       "      <th>TranID801010040034114166</th>\n",
       "      <th>0</th>\n",
       "      <td>Var?</td>\n",
       "      <td>26</td>\n",
       "      <td>1.27585</td>\n",
       "      <td>0.384615</td>\n",
       "      <td>0.178109</td>\n",
       "      <td>0.267323</td>\n",
       "      <td>0.307942</td>\n",
       "      <td>0.636355</td>\n",
       "      <td>0.910583</td>\n",
       "      <td>-0.590139</td>\n",
       "      <td>...</td>\n",
       "      <td>-3.794982e-10</td>\n",
       "      <td>0.000357</td>\n",
       "      <td>-1.531308e-06</td>\n",
       "      <td>5.664993e-12</td>\n",
       "      <td>7.185570e-13</td>\n",
       "      <td>-0.458774</td>\n",
       "      <td>-3.396739</td>\n",
       "      <td>0.686460</td>\n",
       "      <td>0.922882</td>\n",
       "      <td>0.738895</td>\n",
       "    </tr>\n",
       "    <tr>\n",
       "      <th>TranID1011080040044131101</th>\n",
       "      <th>0</th>\n",
       "      <td>SN</td>\n",
       "      <td>41</td>\n",
       "      <td>1.46335</td>\n",
       "      <td>0.439024</td>\n",
       "      <td>0.031154</td>\n",
       "      <td>0.055487</td>\n",
       "      <td>0.073229</td>\n",
       "      <td>0.405480</td>\n",
       "      <td>0.874745</td>\n",
       "      <td>-0.155772</td>\n",
       "      <td>...</td>\n",
       "      <td>4.323233e-10</td>\n",
       "      <td>-0.000240</td>\n",
       "      <td>1.428477e-06</td>\n",
       "      <td>9.526601e-12</td>\n",
       "      <td>-6.340534e-13</td>\n",
       "      <td>-0.794969</td>\n",
       "      <td>-3.238866</td>\n",
       "      <td>0.753666</td>\n",
       "      <td>0.984150</td>\n",
       "      <td>0.627376</td>\n",
       "    </tr>\n",
       "  </tbody>\n",
       "</table>\n",
       "<p>5 rows × 32 columns</p>\n",
       "</div>"
      ],
      "text/plain": [
       "                                    Class  ObsCount  amplitude  beyond1st  \\\n",
       "ID                        copy_num                                          \n",
       "TranID1409030010044114444 0           SN?        13    1.12135   0.307692   \n",
       "TranID1209210010044118805 0         Flare        68    2.56960   0.352941   \n",
       "TranID1310250040014131234 0            SN       185    1.88140   0.297297   \n",
       "TranID801010040034114166  0          Var?        26    1.27585   0.384615   \n",
       "TranID1011080040044131101 0            SN        41    1.46335   0.439024   \n",
       "\n",
       "                                    flux_percentile_ratio_mid20  \\\n",
       "ID                        copy_num                                \n",
       "TranID1409030010044114444 0                            0.067363   \n",
       "TranID1209210010044118805 0                            0.043604   \n",
       "TranID1310250040014131234 0                            0.025245   \n",
       "TranID801010040034114166  0                            0.178109   \n",
       "TranID1011080040044131101 0                            0.031154   \n",
       "\n",
       "                                    flux_percentile_ratio_mid35  \\\n",
       "ID                        copy_num                                \n",
       "TranID1409030010044114444 0                            0.145074   \n",
       "TranID1209210010044118805 0                            0.077573   \n",
       "TranID1310250040014131234 0                            0.061235   \n",
       "TranID801010040034114166  0                            0.267323   \n",
       "TranID1011080040044131101 0                            0.055487   \n",
       "\n",
       "                                    flux_percentile_ratio_mid50  \\\n",
       "ID                        copy_num                                \n",
       "TranID1409030010044114444 0                            0.159700   \n",
       "TranID1209210010044118805 0                            0.111773   \n",
       "TranID1310250040014131234 0                            0.082459   \n",
       "TranID801010040034114166  0                            0.307942   \n",
       "TranID1011080040044131101 0                            0.073229   \n",
       "\n",
       "                                    flux_percentile_ratio_mid65  \\\n",
       "ID                        copy_num                                \n",
       "TranID1409030010044114444 0                            0.296120   \n",
       "TranID1209210010044118805 0                            0.140895   \n",
       "TranID1310250040014131234 0                            0.126591   \n",
       "TranID801010040034114166  0                            0.636355   \n",
       "TranID1011080040044131101 0                            0.405480   \n",
       "\n",
       "                                    flux_percentile_ratio_mid80   kurtosis  \\\n",
       "ID                        copy_num                                           \n",
       "TranID1409030010044114444 0                            0.519169  -0.552947   \n",
       "TranID1209210010044118805 0                            0.215354  10.041946   \n",
       "TranID1310250040014131234 0                            0.314544   3.159501   \n",
       "TranID801010040034114166  0                            0.910583  -0.590139   \n",
       "TranID1011080040044131101 0                            0.874745  -0.155772   \n",
       "\n",
       "                                      ...          poly3_t3  poly4_t1  \\\n",
       "ID                        copy_num    ...                               \n",
       "TranID1409030010044114444 0           ...      1.774041e-10 -0.000117   \n",
       "TranID1209210010044118805 0           ...      1.418397e-10 -0.000269   \n",
       "TranID1310250040014131234 0           ...     -2.623620e-10  0.000095   \n",
       "TranID801010040034114166  0           ...     -3.794982e-10  0.000357   \n",
       "TranID1011080040044131101 0           ...      4.323233e-10 -0.000240   \n",
       "\n",
       "                                        poly4_t2      poly4_t3      poly4_t4  \\\n",
       "ID                        copy_num                                             \n",
       "TranID1409030010044114444 0         1.393948e-07  2.573913e-10 -3.677913e-13   \n",
       "TranID1209210010044118805 0        -7.297054e-07  4.150062e-11  2.744152e-13   \n",
       "TranID1310250040014131234 0         4.197685e-07 -2.467111e-10 -2.952595e-13   \n",
       "TranID801010040034114166  0        -1.531308e-06  5.664993e-12  7.185570e-13   \n",
       "TranID1011080040044131101 0         1.428477e-06  9.526601e-12 -6.340534e-13   \n",
       "\n",
       "                                        skew  small_kurtosis       std  \\\n",
       "ID                        copy_num                                       \n",
       "TranID1409030010044114444 0        -0.287598       -3.927273  0.681471   \n",
       "TranID1209210010044118805 0        -2.355343       -3.139161  0.788365   \n",
       "TranID1310250040014131234 0        -1.412739       -3.049541  0.656324   \n",
       "TranID801010040034114166  0        -0.458774       -3.396739  0.686460   \n",
       "TranID1011080040044131101 0        -0.794969       -3.238866  0.753666   \n",
       "\n",
       "                                    stetson_j  stetson_k  \n",
       "ID                        copy_num                        \n",
       "TranID1409030010044114444 0         -0.562822   0.707972  \n",
       "TranID1209210010044118805 0          0.941645   0.322600  \n",
       "TranID1310250040014131234 0          1.700725   0.492124  \n",
       "TranID801010040034114166  0          0.922882   0.738895  \n",
       "TranID1011080040044131101 0          0.984150   0.627376  \n",
       "\n",
       "[5 rows x 32 columns]"
      ]
     },
     "execution_count": 59,
     "metadata": {},
     "output_type": "execute_result"
    }
   ],
   "source": [
    "diego_feat_t.head()"
   ]
  },
  {
   "cell_type": "markdown",
   "metadata": {},
   "source": [
    "## Hay 14k Supernovas y 32k transientes no supernovas "
   ]
  },
  {
   "cell_type": "code",
   "execution_count": 46,
   "metadata": {},
   "outputs": [
    {
     "data": {
      "text/plain": [
       "(14223, 32)"
      ]
     },
     "execution_count": 46,
     "metadata": {},
     "output_type": "execute_result"
    }
   ],
   "source": [
    "diego_feat_t[diego_feat_t[\"Class\"]==\"SN\"].shape"
   ]
  },
  {
   "cell_type": "code",
   "execution_count": 47,
   "metadata": {},
   "outputs": [
    {
     "data": {
      "text/plain": [
       "(32736, 32)"
      ]
     },
     "execution_count": 47,
     "metadata": {},
     "output_type": "execute_result"
    }
   ],
   "source": [
    "diego_feat_t[diego_feat_t[\"Class\"]!=\"SN\"].shape"
   ]
  },
  {
   "cell_type": "code",
   "execution_count": 22,
   "metadata": {},
   "outputs": [],
   "source": [
    "diego_feat_t.reset_index()[['ID','Class']].to_pickle(\"./data/transientCatalogue.pickle\")"
   ]
  },
  {
   "cell_type": "code",
   "execution_count": 60,
   "metadata": {},
   "outputs": [
    {
     "data": {
      "text/html": [
       "<div>\n",
       "<style scoped>\n",
       "    .dataframe tbody tr th:only-of-type {\n",
       "        vertical-align: middle;\n",
       "    }\n",
       "\n",
       "    .dataframe tbody tr th {\n",
       "        vertical-align: top;\n",
       "    }\n",
       "\n",
       "    .dataframe thead th {\n",
       "        text-align: right;\n",
       "    }\n",
       "</style>\n",
       "<table border=\"1\" class=\"dataframe\">\n",
       "  <thead>\n",
       "    <tr style=\"text-align: right;\">\n",
       "      <th></th>\n",
       "      <th></th>\n",
       "      <th>Mag</th>\n",
       "      <th>Magerr</th>\n",
       "      <th>MJD</th>\n",
       "    </tr>\n",
       "    <tr>\n",
       "      <th>ID</th>\n",
       "      <th>observation_id</th>\n",
       "      <th></th>\n",
       "      <th></th>\n",
       "      <th></th>\n",
       "    </tr>\n",
       "  </thead>\n",
       "  <tbody>\n",
       "    <tr>\n",
       "      <th rowspan=\"5\" valign=\"top\">TranID1409030010044114444</th>\n",
       "      <th>0</th>\n",
       "      <td>18.8765</td>\n",
       "      <td>0.166417</td>\n",
       "      <td>53766.089871</td>\n",
       "    </tr>\n",
       "    <tr>\n",
       "      <th>1</th>\n",
       "      <td>20.0519</td>\n",
       "      <td>0.281733</td>\n",
       "      <td>53990.458866</td>\n",
       "    </tr>\n",
       "    <tr>\n",
       "      <th>2</th>\n",
       "      <td>20.2199</td>\n",
       "      <td>0.295764</td>\n",
       "      <td>53996.286004</td>\n",
       "    </tr>\n",
       "    <tr>\n",
       "      <th>3</th>\n",
       "      <td>21.1192</td>\n",
       "      <td>0.495390</td>\n",
       "      <td>54385.205789</td>\n",
       "    </tr>\n",
       "    <tr>\n",
       "      <th>4</th>\n",
       "      <td>19.3289</td>\n",
       "      <td>0.195002</td>\n",
       "      <td>54355.282285</td>\n",
       "    </tr>\n",
       "  </tbody>\n",
       "</table>\n",
       "</div>"
      ],
      "text/plain": [
       "                                              Mag    Magerr           MJD\n",
       "ID                        observation_id                                 \n",
       "TranID1409030010044114444 0               18.8765  0.166417  53766.089871\n",
       "                          1               20.0519  0.281733  53990.458866\n",
       "                          2               20.2199  0.295764  53996.286004\n",
       "                          3               21.1192  0.495390  54385.205789\n",
       "                          4               19.3289  0.195002  54355.282285"
      ]
     },
     "execution_count": 60,
     "metadata": {},
     "output_type": "execute_result"
    }
   ],
   "source": [
    "diego_lc_t.head()"
   ]
  },
  {
   "cell_type": "code",
   "execution_count": 61,
   "metadata": {},
   "outputs": [
    {
     "data": {
      "text/plain": [
       "(440469, 3)"
      ]
     },
     "execution_count": 61,
     "metadata": {},
     "output_type": "execute_result"
    }
   ],
   "source": [
    "diego_lc_t.shape"
   ]
  },
  {
   "cell_type": "code",
   "execution_count": 62,
   "metadata": {},
   "outputs": [],
   "source": [
    "def mag_to_flux(ss_mag):\n",
    "    return 10. ** (-ss_mag)"
   ]
  },
  {
   "cell_type": "code",
   "execution_count": 63,
   "metadata": {},
   "outputs": [],
   "source": [
    "diego_lc_t[\"Flux\"] = mag_to_flux(diego_lc_t[\"Mag\"])\n",
    "diego_lc_t[\"FluxErr\"] = (10**(-2*diego_lc_t[\"Mag\"])*(np.log(10)**2) *diego_lc_t[\"Magerr\"]**2)**0.5"
   ]
  },
  {
   "cell_type": "code",
   "execution_count": 64,
   "metadata": {},
   "outputs": [
    {
     "data": {
      "text/html": [
       "<div>\n",
       "<style scoped>\n",
       "    .dataframe tbody tr th:only-of-type {\n",
       "        vertical-align: middle;\n",
       "    }\n",
       "\n",
       "    .dataframe tbody tr th {\n",
       "        vertical-align: top;\n",
       "    }\n",
       "\n",
       "    .dataframe thead th {\n",
       "        text-align: right;\n",
       "    }\n",
       "</style>\n",
       "<table border=\"1\" class=\"dataframe\">\n",
       "  <thead>\n",
       "    <tr style=\"text-align: right;\">\n",
       "      <th></th>\n",
       "      <th></th>\n",
       "      <th>Mag</th>\n",
       "      <th>Magerr</th>\n",
       "      <th>MJD</th>\n",
       "      <th>Flux</th>\n",
       "      <th>FluxErr</th>\n",
       "    </tr>\n",
       "    <tr>\n",
       "      <th>ID</th>\n",
       "      <th>observation_id</th>\n",
       "      <th></th>\n",
       "      <th></th>\n",
       "      <th></th>\n",
       "      <th></th>\n",
       "      <th></th>\n",
       "    </tr>\n",
       "  </thead>\n",
       "  <tbody>\n",
       "    <tr>\n",
       "      <th rowspan=\"5\" valign=\"top\">TranID1409030010044114444</th>\n",
       "      <th>0</th>\n",
       "      <td>18.8765</td>\n",
       "      <td>0.166417</td>\n",
       "      <td>53766.089871</td>\n",
       "      <td>1.328924e-19</td>\n",
       "      <td>5.092278e-20</td>\n",
       "    </tr>\n",
       "    <tr>\n",
       "      <th>1</th>\n",
       "      <td>20.0519</td>\n",
       "      <td>0.281733</td>\n",
       "      <td>53990.458866</td>\n",
       "      <td>8.873603e-21</td>\n",
       "      <td>5.756425e-21</td>\n",
       "    </tr>\n",
       "    <tr>\n",
       "      <th>2</th>\n",
       "      <td>20.2199</td>\n",
       "      <td>0.295764</td>\n",
       "      <td>53996.286004</td>\n",
       "      <td>6.026983e-21</td>\n",
       "      <td>4.104502e-21</td>\n",
       "    </tr>\n",
       "    <tr>\n",
       "      <th>3</th>\n",
       "      <td>21.1192</td>\n",
       "      <td>0.495390</td>\n",
       "      <td>54385.205789</td>\n",
       "      <td>7.599762e-22</td>\n",
       "      <td>8.668874e-22</td>\n",
       "    </tr>\n",
       "    <tr>\n",
       "      <th>4</th>\n",
       "      <td>19.3289</td>\n",
       "      <td>0.195002</td>\n",
       "      <td>54355.282285</td>\n",
       "      <td>4.689213e-20</td>\n",
       "      <td>2.105495e-20</td>\n",
       "    </tr>\n",
       "  </tbody>\n",
       "</table>\n",
       "</div>"
      ],
      "text/plain": [
       "                                              Mag    Magerr           MJD  \\\n",
       "ID                        observation_id                                    \n",
       "TranID1409030010044114444 0               18.8765  0.166417  53766.089871   \n",
       "                          1               20.0519  0.281733  53990.458866   \n",
       "                          2               20.2199  0.295764  53996.286004   \n",
       "                          3               21.1192  0.495390  54385.205789   \n",
       "                          4               19.3289  0.195002  54355.282285   \n",
       "\n",
       "                                                  Flux       FluxErr  \n",
       "ID                        observation_id                              \n",
       "TranID1409030010044114444 0               1.328924e-19  5.092278e-20  \n",
       "                          1               8.873603e-21  5.756425e-21  \n",
       "                          2               6.026983e-21  4.104502e-21  \n",
       "                          3               7.599762e-22  8.668874e-22  \n",
       "                          4               4.689213e-20  2.105495e-20  "
      ]
     },
     "execution_count": 64,
     "metadata": {},
     "output_type": "execute_result"
    }
   ],
   "source": [
    "diego_lc_t.head()"
   ]
  },
  {
   "cell_type": "code",
   "execution_count": 65,
   "metadata": {},
   "outputs": [
    {
     "data": {
      "text/plain": [
       "(440469, 5)"
      ]
     },
     "execution_count": 65,
     "metadata": {},
     "output_type": "execute_result"
    }
   ],
   "source": [
    "diego_lc_t.shape"
   ]
  },
  {
   "cell_type": "code",
   "execution_count": 66,
   "metadata": {},
   "outputs": [],
   "source": [
    "diego_lc_t.to_pickle(\"data/lightcurves/diego_tlc_clean_flux.pickle\")"
   ]
  },
  {
   "cell_type": "code",
   "execution_count": null,
   "metadata": {},
   "outputs": [],
   "source": []
  }
 ],
 "metadata": {
  "kernelspec": {
   "display_name": "Python 3",
   "language": "python",
   "name": "python3"
  },
  "language_info": {
   "codemirror_mode": {
    "name": "ipython",
    "version": 3
   },
   "file_extension": ".py",
   "mimetype": "text/x-python",
   "name": "python",
   "nbconvert_exporter": "python",
   "pygments_lexer": "ipython3",
   "version": "3.6.4"
  }
 },
 "nbformat": 4,
 "nbformat_minor": 2
}
