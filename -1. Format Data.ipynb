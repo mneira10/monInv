{
 "cells": [
  {
   "cell_type": "code",
   "execution_count": 1,
   "metadata": {},
   "outputs": [],
   "source": [
    "DATA_PATH = './data/'\n",
    "LIGHTCURVES_PATH = DATA_PATH + 'lightcurves/'\n",
    "FEATURES_PATH = DATA_PATH + 'features/'\n",
    "SIM_SNS_PATH = DATA_PATH + \"/simulated_SNs/\""
   ]
  },
  {
   "cell_type": "code",
   "execution_count": 12,
   "metadata": {},
   "outputs": [],
   "source": [
    "import numpy as np\n",
    "import matplotlib.pyplot as plt\n",
    "import pandas as pd\n",
    "import sncosmo as sncosmo\n",
    "from astropy.table import Table\n",
    "import os as os\n",
    "# module to view progress in for loops\n",
    "from log_progress import log_progress"
   ]
  },
  {
   "cell_type": "markdown",
   "metadata": {},
   "source": [
    "# Non-transients"
   ]
  },
  {
   "cell_type": "code",
   "execution_count": 15,
   "metadata": {},
   "outputs": [],
   "source": [
    "all_results_3 = pd.read_pickle(DATA_PATH + \"all_results_3.pkl\")\n",
    "indexes = pd.read_csv(DATA_PATH + \"indicesYearsSN.dat\",delimiter = \" \")"
   ]
  },
  {
   "cell_type": "code",
   "execution_count": 22,
   "metadata": {},
   "outputs": [
    {
     "data": {
      "text/html": [
       "<div>\n",
       "<style scoped>\n",
       "    .dataframe tbody tr th:only-of-type {\n",
       "        vertical-align: middle;\n",
       "    }\n",
       "\n",
       "    .dataframe tbody tr th {\n",
       "        vertical-align: top;\n",
       "    }\n",
       "\n",
       "    .dataframe thead th {\n",
       "        text-align: right;\n",
       "    }\n",
       "</style>\n",
       "<table border=\"1\" class=\"dataframe\">\n",
       "  <thead>\n",
       "    <tr style=\"text-align: right;\">\n",
       "      <th></th>\n",
       "      <th>mjd</th>\n",
       "      <th>classification</th>\n",
       "      <th>zpsys</th>\n",
       "      <th>flux</th>\n",
       "      <th>ra</th>\n",
       "      <th>flux_error</th>\n",
       "      <th>dec</th>\n",
       "      <th>zp</th>\n",
       "      <th>bandpass</th>\n",
       "      <th>magnitude</th>\n",
       "      <th>magnitude_error</th>\n",
       "      <th>ID</th>\n",
       "    </tr>\n",
       "  </thead>\n",
       "  <tbody>\n",
       "    <tr>\n",
       "      <th>0</th>\n",
       "      <td>53080.0</td>\n",
       "      <td>6.0</td>\n",
       "      <td>ab</td>\n",
       "      <td>72.388634</td>\n",
       "      <td>3.764254</td>\n",
       "      <td>0.974762</td>\n",
       "      <td>0.923296</td>\n",
       "      <td>30.0</td>\n",
       "      <td>sdssi</td>\n",
       "      <td>25.350824</td>\n",
       "      <td>0.014620</td>\n",
       "      <td>0</td>\n",
       "    </tr>\n",
       "    <tr>\n",
       "      <th>1</th>\n",
       "      <td>53083.0</td>\n",
       "      <td>6.0</td>\n",
       "      <td>ab</td>\n",
       "      <td>18.016556</td>\n",
       "      <td>3.764254</td>\n",
       "      <td>0.850242</td>\n",
       "      <td>0.923296</td>\n",
       "      <td>30.0</td>\n",
       "      <td>sdssg</td>\n",
       "      <td>26.860821</td>\n",
       "      <td>0.051238</td>\n",
       "      <td>0</td>\n",
       "    </tr>\n",
       "    <tr>\n",
       "      <th>2</th>\n",
       "      <td>53083.0</td>\n",
       "      <td>6.0</td>\n",
       "      <td>ab</td>\n",
       "      <td>82.849670</td>\n",
       "      <td>3.764254</td>\n",
       "      <td>1.209626</td>\n",
       "      <td>0.923296</td>\n",
       "      <td>30.0</td>\n",
       "      <td>sdssi</td>\n",
       "      <td>25.204273</td>\n",
       "      <td>0.015852</td>\n",
       "      <td>0</td>\n",
       "    </tr>\n",
       "    <tr>\n",
       "      <th>3</th>\n",
       "      <td>53109.0</td>\n",
       "      <td>6.0</td>\n",
       "      <td>ab</td>\n",
       "      <td>15.385023</td>\n",
       "      <td>3.764255</td>\n",
       "      <td>1.162016</td>\n",
       "      <td>0.923296</td>\n",
       "      <td>30.0</td>\n",
       "      <td>sdssg</td>\n",
       "      <td>27.032255</td>\n",
       "      <td>0.082005</td>\n",
       "      <td>0</td>\n",
       "    </tr>\n",
       "    <tr>\n",
       "      <th>4</th>\n",
       "      <td>53138.0</td>\n",
       "      <td>6.0</td>\n",
       "      <td>ab</td>\n",
       "      <td>19.325619</td>\n",
       "      <td>3.764254</td>\n",
       "      <td>0.896431</td>\n",
       "      <td>0.923296</td>\n",
       "      <td>30.0</td>\n",
       "      <td>sdssg</td>\n",
       "      <td>26.784666</td>\n",
       "      <td>0.050363</td>\n",
       "      <td>0</td>\n",
       "    </tr>\n",
       "  </tbody>\n",
       "</table>\n",
       "</div>"
      ],
      "text/plain": [
       "       mjd  classification zpsys       flux        ra  flux_error       dec  \\\n",
       "0  53080.0             6.0    ab  72.388634  3.764254    0.974762  0.923296   \n",
       "1  53083.0             6.0    ab  18.016556  3.764254    0.850242  0.923296   \n",
       "2  53083.0             6.0    ab  82.849670  3.764254    1.209626  0.923296   \n",
       "3  53109.0             6.0    ab  15.385023  3.764255    1.162016  0.923296   \n",
       "4  53138.0             6.0    ab  19.325619  3.764254    0.896431  0.923296   \n",
       "\n",
       "     zp bandpass  magnitude  magnitude_error  ID  \n",
       "0  30.0    sdssi  25.350824         0.014620   0  \n",
       "1  30.0    sdssg  26.860821         0.051238   0  \n",
       "2  30.0    sdssi  25.204273         0.015852   0  \n",
       "3  30.0    sdssg  27.032255         0.082005   0  \n",
       "4  30.0    sdssg  26.784666         0.050363   0  "
      ]
     },
     "execution_count": 22,
     "metadata": {},
     "output_type": "execute_result"
    }
   ],
   "source": [
    "all_results_3.head()"
   ]
  },
  {
   "cell_type": "code",
   "execution_count": 23,
   "metadata": {},
   "outputs": [
    {
     "data": {
      "text/html": [
       "<div>\n",
       "<style scoped>\n",
       "    .dataframe tbody tr th:only-of-type {\n",
       "        vertical-align: middle;\n",
       "    }\n",
       "\n",
       "    .dataframe tbody tr th {\n",
       "        vertical-align: top;\n",
       "    }\n",
       "\n",
       "    .dataframe thead th {\n",
       "        text-align: right;\n",
       "    }\n",
       "</style>\n",
       "<table border=\"1\" class=\"dataframe\">\n",
       "  <thead>\n",
       "    <tr style=\"text-align: right;\">\n",
       "      <th></th>\n",
       "      <th>index</th>\n",
       "      <th>year</th>\n",
       "    </tr>\n",
       "  </thead>\n",
       "  <tbody>\n",
       "    <tr>\n",
       "      <th>0</th>\n",
       "      <td>163691</td>\n",
       "      <td>2004.205585</td>\n",
       "    </tr>\n",
       "    <tr>\n",
       "      <th>1</th>\n",
       "      <td>58213</td>\n",
       "      <td>2004.205585</td>\n",
       "    </tr>\n",
       "    <tr>\n",
       "      <th>2</th>\n",
       "      <td>165776</td>\n",
       "      <td>2004.205585</td>\n",
       "    </tr>\n",
       "    <tr>\n",
       "      <th>3</th>\n",
       "      <td>166853</td>\n",
       "      <td>2004.205585</td>\n",
       "    </tr>\n",
       "    <tr>\n",
       "      <th>4</th>\n",
       "      <td>70829</td>\n",
       "      <td>2004.205585</td>\n",
       "    </tr>\n",
       "  </tbody>\n",
       "</table>\n",
       "</div>"
      ],
      "text/plain": [
       "    index         year\n",
       "0  163691  2004.205585\n",
       "1   58213  2004.205585\n",
       "2  165776  2004.205585\n",
       "3  166853  2004.205585\n",
       "4   70829  2004.205585"
      ]
     },
     "execution_count": 23,
     "metadata": {},
     "output_type": "execute_result"
    }
   ],
   "source": [
    "indexes.head()"
   ]
  },
  {
   "cell_type": "markdown",
   "metadata": {},
   "source": [
    "### Remove transient light curves\n",
    "Indexes have info on the transient light curves. To get non transients, we have to exlude them from the whole dataset."
   ]
  },
  {
   "cell_type": "code",
   "execution_count": 18,
   "metadata": {},
   "outputs": [],
   "source": [
    "non_transient = all_results_3[~all_results_3[\"ID\"].isin(indexes[\"index\"])]"
   ]
  },
  {
   "cell_type": "code",
   "execution_count": 26,
   "metadata": {},
   "outputs": [],
   "source": [
    "non_transient.to_pickle(LIGHTCURVES_PATH + \"nontransient_lightcurves.pickle\")"
   ]
  },
  {
   "cell_type": "markdown",
   "metadata": {},
   "source": [
    "# Transients"
   ]
  },
  {
   "cell_type": "code",
   "execution_count": 4,
   "metadata": {},
   "outputs": [],
   "source": [
    "sn_df = pd.DataFrame()"
   ]
  },
  {
   "cell_type": "code",
   "execution_count": 7,
   "metadata": {},
   "outputs": [
    {
     "data": {
      "application/vnd.jupyter.widget-view+json": {
       "model_id": "fc51854ef4d941cbb3faccdbb6e5d28f",
       "version_major": 2,
       "version_minor": 0
      },
      "text/plain": [
       "VBox(children=(HTML(value=''), IntProgress(value=0, max=5004)))"
      ]
     },
     "metadata": {},
     "output_type": "display_data"
    }
   ],
   "source": [
    "for i,fle in log_progress(enumerate(os.listdir(SIM_SNS_PATH)),every=1, size=len(os.listdir(SIM_SNS_PATH))):\n",
    "    if fle.endswith(\".DAT\"):\n",
    "        sn_obj, tables = sncosmo.read_snana_ascii(SIM_SNS_PATH + fle, default_tablename =\"OBS\")\n",
    "        temp_df = Table(tables['OBS']).to_pandas()\n",
    "        temp_df['ID'] = \"SN_\"+str(i)\n",
    "        sn_df=sn_df.append(temp_df,ignore_index=True)\n",
    "        \n",
    "        "
   ]
  },
  {
   "cell_type": "markdown",
   "metadata": {},
   "source": [
    "### Saving data to disk\n",
    "\n"
   ]
  },
  {
   "cell_type": "code",
   "execution_count": 9,
   "metadata": {},
   "outputs": [],
   "source": [
    "sn_df.to_pickle(LIGHTCURVES_PATH + \"SNS.pickle\")\n"
   ]
  },
  {
   "cell_type": "code",
   "execution_count": null,
   "metadata": {},
   "outputs": [],
   "source": []
  }
 ],
 "metadata": {
  "kernelspec": {
   "display_name": "Python 3",
   "language": "python",
   "name": "python3"
  },
  "language_info": {
   "codemirror_mode": {
    "name": "ipython",
    "version": 3
   },
   "file_extension": ".py",
   "mimetype": "text/x-python",
   "name": "python",
   "nbconvert_exporter": "python",
   "pygments_lexer": "ipython3",
   "version": "3.6.4"
  }
 },
 "nbformat": 4,
 "nbformat_minor": 2
}
