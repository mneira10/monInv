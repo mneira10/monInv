{
 "cells": [
  {
   "cell_type": "code",
   "execution_count": 1,
   "metadata": {},
   "outputs": [],
   "source": [
    "from sklearn.ensemble import RandomForestClassifier\n",
    "import sklearn.metrics\n",
    "import pandas as pd\n",
    "import numpy as np\n",
    "np.random.seed(0)\n",
    "from sklearn.model_selection import GridSearchCV, StratifiedKFold  # , cross_val_score\n",
    "from sklearn.metrics import make_scorer, accuracy_score, precision_score, recall_score, f1_score, precision_recall_fscore_support, confusion_matrix  # , classification_report\n",
    "from sklearn.model_selection import train_test_split\n",
    "\n",
    "from sklearn.metrics import precision_recall_curve\n",
    "import matplotlib.pyplot as plt\n",
    "from sklearn.metrics import average_precision_score\n",
    "from scipy import integrate\n"
   ]
  },
  {
   "cell_type": "code",
   "execution_count": 39,
   "metadata": {},
   "outputs": [],
   "source": [
    "DATA_PATH = \"./data/features/flux_v3/\""
   ]
  },
  {
   "cell_type": "code",
   "execution_count": 40,
   "metadata": {},
   "outputs": [],
   "source": [
    "diego_t = pd.read_pickle(DATA_PATH+\"/T.pickle\")\n",
    "diego_nt = pd.read_pickle(DATA_PATH+\"/NT.pickle\")"
   ]
  },
  {
   "cell_type": "code",
   "execution_count": 41,
   "metadata": {},
   "outputs": [],
   "source": [
    "diego_t['bin_class'] = diego_t['Class']==\"SN\"\n",
    "diego_t[\"fact_Class\"] = pd.factorize(diego_t['bin_class'])[0]\n",
    "diego_nt['bin_class'] = diego_nt['Class']==\"SN\"\n",
    "diego_nt[\"fact_Class\"] = pd.factorize(diego_nt['bin_class'])[0]"
   ]
  },
  {
   "cell_type": "code",
   "execution_count": 42,
   "metadata": {},
   "outputs": [
    {
     "data": {
      "text/html": [
       "<div>\n",
       "<style scoped>\n",
       "    .dataframe tbody tr th:only-of-type {\n",
       "        vertical-align: middle;\n",
       "    }\n",
       "\n",
       "    .dataframe tbody tr th {\n",
       "        vertical-align: top;\n",
       "    }\n",
       "\n",
       "    .dataframe thead th {\n",
       "        text-align: right;\n",
       "    }\n",
       "</style>\n",
       "<table border=\"1\" class=\"dataframe\">\n",
       "  <thead>\n",
       "    <tr style=\"text-align: right;\">\n",
       "      <th></th>\n",
       "      <th></th>\n",
       "      <th>Class</th>\n",
       "      <th>ObsCount</th>\n",
       "      <th>amplitude</th>\n",
       "      <th>beyond1st</th>\n",
       "      <th>flux_percentile_ratio_mid20</th>\n",
       "      <th>flux_percentile_ratio_mid35</th>\n",
       "      <th>flux_percentile_ratio_mid50</th>\n",
       "      <th>flux_percentile_ratio_mid65</th>\n",
       "      <th>flux_percentile_ratio_mid80</th>\n",
       "      <th>kurtosis</th>\n",
       "      <th>...</th>\n",
       "      <th>poly4_t2</th>\n",
       "      <th>poly4_t3</th>\n",
       "      <th>poly4_t4</th>\n",
       "      <th>skew</th>\n",
       "      <th>small_kurtosis</th>\n",
       "      <th>std</th>\n",
       "      <th>stetson_j</th>\n",
       "      <th>stetson_k</th>\n",
       "      <th>bin_class</th>\n",
       "      <th>fact_Class</th>\n",
       "    </tr>\n",
       "    <tr>\n",
       "      <th>ID</th>\n",
       "      <th>copy_num</th>\n",
       "      <th></th>\n",
       "      <th></th>\n",
       "      <th></th>\n",
       "      <th></th>\n",
       "      <th></th>\n",
       "      <th></th>\n",
       "      <th></th>\n",
       "      <th></th>\n",
       "      <th></th>\n",
       "      <th></th>\n",
       "      <th></th>\n",
       "      <th></th>\n",
       "      <th></th>\n",
       "      <th></th>\n",
       "      <th></th>\n",
       "      <th></th>\n",
       "      <th></th>\n",
       "      <th></th>\n",
       "      <th></th>\n",
       "      <th></th>\n",
       "      <th></th>\n",
       "    </tr>\n",
       "  </thead>\n",
       "  <tbody>\n",
       "    <tr>\n",
       "      <th>TranID1409030010044114444</th>\n",
       "      <th>0</th>\n",
       "      <td>SN?</td>\n",
       "      <td>13</td>\n",
       "      <td>6.606619e-20</td>\n",
       "      <td>0.153846</td>\n",
       "      <td>0.067363</td>\n",
       "      <td>0.145074</td>\n",
       "      <td>0.159700</td>\n",
       "      <td>0.296120</td>\n",
       "      <td>0.519169</td>\n",
       "      <td>0</td>\n",
       "      <td>...</td>\n",
       "      <td>-4.924016e-26</td>\n",
       "      <td>-3.251950e-29</td>\n",
       "      <td>4.063888e-32</td>\n",
       "      <td>0</td>\n",
       "      <td>-3.927273</td>\n",
       "      <td>3.625611e-20</td>\n",
       "      <td>2.653184</td>\n",
       "      <td>0.674821</td>\n",
       "      <td>False</td>\n",
       "      <td>0</td>\n",
       "    </tr>\n",
       "    <tr>\n",
       "      <th>TranID1209210010044118805</th>\n",
       "      <th>0</th>\n",
       "      <td>Flare</td>\n",
       "      <td>68</td>\n",
       "      <td>4.046382e-17</td>\n",
       "      <td>0.014706</td>\n",
       "      <td>0.043604</td>\n",
       "      <td>0.077573</td>\n",
       "      <td>0.111773</td>\n",
       "      <td>0.140895</td>\n",
       "      <td>0.215354</td>\n",
       "      <td>0</td>\n",
       "      <td>...</td>\n",
       "      <td>7.742926e-24</td>\n",
       "      <td>1.676101e-28</td>\n",
       "      <td>-3.274201e-30</td>\n",
       "      <td>0</td>\n",
       "      <td>-3.139161</td>\n",
       "      <td>9.811163e-18</td>\n",
       "      <td>351.818004</td>\n",
       "      <td>0.715629</td>\n",
       "      <td>False</td>\n",
       "      <td>0</td>\n",
       "    </tr>\n",
       "    <tr>\n",
       "      <th>TranID1310250040014131234</th>\n",
       "      <th>0</th>\n",
       "      <td>SN</td>\n",
       "      <td>185</td>\n",
       "      <td>4.205281e-18</td>\n",
       "      <td>0.043243</td>\n",
       "      <td>0.025245</td>\n",
       "      <td>0.061235</td>\n",
       "      <td>0.082459</td>\n",
       "      <td>0.126591</td>\n",
       "      <td>0.314544</td>\n",
       "      <td>0</td>\n",
       "      <td>...</td>\n",
       "      <td>-1.044870e-24</td>\n",
       "      <td>5.970998e-28</td>\n",
       "      <td>6.915890e-31</td>\n",
       "      <td>0</td>\n",
       "      <td>-3.049541</td>\n",
       "      <td>1.364362e-18</td>\n",
       "      <td>21.488547</td>\n",
       "      <td>0.663141</td>\n",
       "      <td>True</td>\n",
       "      <td>1</td>\n",
       "    </tr>\n",
       "    <tr>\n",
       "      <th>TranID801010040034114166</th>\n",
       "      <th>0</th>\n",
       "      <td>Var?</td>\n",
       "      <td>26</td>\n",
       "      <td>1.704704e-19</td>\n",
       "      <td>0.038462</td>\n",
       "      <td>0.178109</td>\n",
       "      <td>0.267323</td>\n",
       "      <td>0.307942</td>\n",
       "      <td>0.636355</td>\n",
       "      <td>0.910583</td>\n",
       "      <td>0</td>\n",
       "      <td>...</td>\n",
       "      <td>8.845517e-26</td>\n",
       "      <td>4.664982e-30</td>\n",
       "      <td>-3.847573e-32</td>\n",
       "      <td>0</td>\n",
       "      <td>-3.396739</td>\n",
       "      <td>6.714612e-20</td>\n",
       "      <td>5.465193</td>\n",
       "      <td>0.710980</td>\n",
       "      <td>False</td>\n",
       "      <td>0</td>\n",
       "    </tr>\n",
       "    <tr>\n",
       "      <th>TranID1011080040044131101</th>\n",
       "      <th>0</th>\n",
       "      <td>SN</td>\n",
       "      <td>41</td>\n",
       "      <td>3.023817e-19</td>\n",
       "      <td>0.121951</td>\n",
       "      <td>0.031154</td>\n",
       "      <td>0.055487</td>\n",
       "      <td>0.073229</td>\n",
       "      <td>0.405480</td>\n",
       "      <td>0.874745</td>\n",
       "      <td>0</td>\n",
       "      <td>...</td>\n",
       "      <td>-1.303991e-25</td>\n",
       "      <td>-2.135346e-29</td>\n",
       "      <td>6.109557e-32</td>\n",
       "      <td>0</td>\n",
       "      <td>-3.238866</td>\n",
       "      <td>1.047484e-19</td>\n",
       "      <td>10.394458</td>\n",
       "      <td>0.710591</td>\n",
       "      <td>True</td>\n",
       "      <td>1</td>\n",
       "    </tr>\n",
       "  </tbody>\n",
       "</table>\n",
       "<p>5 rows × 34 columns</p>\n",
       "</div>"
      ],
      "text/plain": [
       "                                    Class  ObsCount     amplitude  beyond1st  \\\n",
       "ID                        copy_num                                             \n",
       "TranID1409030010044114444 0           SN?        13  6.606619e-20   0.153846   \n",
       "TranID1209210010044118805 0         Flare        68  4.046382e-17   0.014706   \n",
       "TranID1310250040014131234 0            SN       185  4.205281e-18   0.043243   \n",
       "TranID801010040034114166  0          Var?        26  1.704704e-19   0.038462   \n",
       "TranID1011080040044131101 0            SN        41  3.023817e-19   0.121951   \n",
       "\n",
       "                                    flux_percentile_ratio_mid20  \\\n",
       "ID                        copy_num                                \n",
       "TranID1409030010044114444 0                            0.067363   \n",
       "TranID1209210010044118805 0                            0.043604   \n",
       "TranID1310250040014131234 0                            0.025245   \n",
       "TranID801010040034114166  0                            0.178109   \n",
       "TranID1011080040044131101 0                            0.031154   \n",
       "\n",
       "                                    flux_percentile_ratio_mid35  \\\n",
       "ID                        copy_num                                \n",
       "TranID1409030010044114444 0                            0.145074   \n",
       "TranID1209210010044118805 0                            0.077573   \n",
       "TranID1310250040014131234 0                            0.061235   \n",
       "TranID801010040034114166  0                            0.267323   \n",
       "TranID1011080040044131101 0                            0.055487   \n",
       "\n",
       "                                    flux_percentile_ratio_mid50  \\\n",
       "ID                        copy_num                                \n",
       "TranID1409030010044114444 0                            0.159700   \n",
       "TranID1209210010044118805 0                            0.111773   \n",
       "TranID1310250040014131234 0                            0.082459   \n",
       "TranID801010040034114166  0                            0.307942   \n",
       "TranID1011080040044131101 0                            0.073229   \n",
       "\n",
       "                                    flux_percentile_ratio_mid65  \\\n",
       "ID                        copy_num                                \n",
       "TranID1409030010044114444 0                            0.296120   \n",
       "TranID1209210010044118805 0                            0.140895   \n",
       "TranID1310250040014131234 0                            0.126591   \n",
       "TranID801010040034114166  0                            0.636355   \n",
       "TranID1011080040044131101 0                            0.405480   \n",
       "\n",
       "                                    flux_percentile_ratio_mid80  kurtosis  \\\n",
       "ID                        copy_num                                          \n",
       "TranID1409030010044114444 0                            0.519169         0   \n",
       "TranID1209210010044118805 0                            0.215354         0   \n",
       "TranID1310250040014131234 0                            0.314544         0   \n",
       "TranID801010040034114166  0                            0.910583         0   \n",
       "TranID1011080040044131101 0                            0.874745         0   \n",
       "\n",
       "                                       ...          poly4_t2      poly4_t3  \\\n",
       "ID                        copy_num     ...                                   \n",
       "TranID1409030010044114444 0            ...     -4.924016e-26 -3.251950e-29   \n",
       "TranID1209210010044118805 0            ...      7.742926e-24  1.676101e-28   \n",
       "TranID1310250040014131234 0            ...     -1.044870e-24  5.970998e-28   \n",
       "TranID801010040034114166  0            ...      8.845517e-26  4.664982e-30   \n",
       "TranID1011080040044131101 0            ...     -1.303991e-25 -2.135346e-29   \n",
       "\n",
       "                                        poly4_t4  skew  small_kurtosis  \\\n",
       "ID                        copy_num                                       \n",
       "TranID1409030010044114444 0         4.063888e-32     0       -3.927273   \n",
       "TranID1209210010044118805 0        -3.274201e-30     0       -3.139161   \n",
       "TranID1310250040014131234 0         6.915890e-31     0       -3.049541   \n",
       "TranID801010040034114166  0        -3.847573e-32     0       -3.396739   \n",
       "TranID1011080040044131101 0         6.109557e-32     0       -3.238866   \n",
       "\n",
       "                                             std   stetson_j  stetson_k  \\\n",
       "ID                        copy_num                                        \n",
       "TranID1409030010044114444 0         3.625611e-20    2.653184   0.674821   \n",
       "TranID1209210010044118805 0         9.811163e-18  351.818004   0.715629   \n",
       "TranID1310250040014131234 0         1.364362e-18   21.488547   0.663141   \n",
       "TranID801010040034114166  0         6.714612e-20    5.465193   0.710980   \n",
       "TranID1011080040044131101 0         1.047484e-19   10.394458   0.710591   \n",
       "\n",
       "                                    bin_class  fact_Class  \n",
       "ID                        copy_num                         \n",
       "TranID1409030010044114444 0             False           0  \n",
       "TranID1209210010044118805 0             False           0  \n",
       "TranID1310250040014131234 0              True           1  \n",
       "TranID801010040034114166  0             False           0  \n",
       "TranID1011080040044131101 0              True           1  \n",
       "\n",
       "[5 rows x 34 columns]"
      ]
     },
     "execution_count": 42,
     "metadata": {},
     "output_type": "execute_result"
    }
   ],
   "source": [
    "diego_t.head()"
   ]
  },
  {
   "cell_type": "code",
   "execution_count": 21,
   "metadata": {},
   "outputs": [
    {
     "data": {
      "text/html": [
       "<div>\n",
       "<style scoped>\n",
       "    .dataframe tbody tr th:only-of-type {\n",
       "        vertical-align: middle;\n",
       "    }\n",
       "\n",
       "    .dataframe tbody tr th {\n",
       "        vertical-align: top;\n",
       "    }\n",
       "\n",
       "    .dataframe thead th {\n",
       "        text-align: right;\n",
       "    }\n",
       "</style>\n",
       "<table border=\"1\" class=\"dataframe\">\n",
       "  <thead>\n",
       "    <tr style=\"text-align: right;\">\n",
       "      <th></th>\n",
       "      <th></th>\n",
       "      <th>Class</th>\n",
       "      <th>ObsCount</th>\n",
       "      <th>amplitude</th>\n",
       "      <th>beyond1st</th>\n",
       "      <th>flux_percentile_ratio_mid20</th>\n",
       "      <th>flux_percentile_ratio_mid35</th>\n",
       "      <th>flux_percentile_ratio_mid50</th>\n",
       "      <th>flux_percentile_ratio_mid65</th>\n",
       "      <th>flux_percentile_ratio_mid80</th>\n",
       "      <th>kurtosis</th>\n",
       "      <th>...</th>\n",
       "      <th>poly4_t2</th>\n",
       "      <th>poly4_t3</th>\n",
       "      <th>poly4_t4</th>\n",
       "      <th>skew</th>\n",
       "      <th>small_kurtosis</th>\n",
       "      <th>std</th>\n",
       "      <th>stetson_j</th>\n",
       "      <th>stetson_k</th>\n",
       "      <th>bin_class</th>\n",
       "      <th>fact_Class</th>\n",
       "    </tr>\n",
       "    <tr>\n",
       "      <th>ID</th>\n",
       "      <th>copy_num</th>\n",
       "      <th></th>\n",
       "      <th></th>\n",
       "      <th></th>\n",
       "      <th></th>\n",
       "      <th></th>\n",
       "      <th></th>\n",
       "      <th></th>\n",
       "      <th></th>\n",
       "      <th></th>\n",
       "      <th></th>\n",
       "      <th></th>\n",
       "      <th></th>\n",
       "      <th></th>\n",
       "      <th></th>\n",
       "      <th></th>\n",
       "      <th></th>\n",
       "      <th></th>\n",
       "      <th></th>\n",
       "      <th></th>\n",
       "      <th></th>\n",
       "      <th></th>\n",
       "    </tr>\n",
       "  </thead>\n",
       "  <tbody>\n",
       "    <tr>\n",
       "      <th>TranID809290121154131085</th>\n",
       "      <th>3</th>\n",
       "      <td>SN</td>\n",
       "      <td>19</td>\n",
       "      <td>6.010130e-16</td>\n",
       "      <td>0.052632</td>\n",
       "      <td>0.000114</td>\n",
       "      <td>0.000291</td>\n",
       "      <td>0.000428</td>\n",
       "      <td>0.000530</td>\n",
       "      <td>0.020584</td>\n",
       "      <td>0</td>\n",
       "      <td>...</td>\n",
       "      <td>-1.306003e-20</td>\n",
       "      <td>-2.997369e-24</td>\n",
       "      <td>1.492962e-26</td>\n",
       "      <td>0</td>\n",
       "      <td>-3.573529</td>\n",
       "      <td>2.756043e-16</td>\n",
       "      <td>5561.772897</td>\n",
       "      <td>0.480369</td>\n",
       "      <td>True</td>\n",
       "      <td>1</td>\n",
       "    </tr>\n",
       "    <tr>\n",
       "      <th>TranID711031091234108744</th>\n",
       "      <th>6</th>\n",
       "      <td>Ast?</td>\n",
       "      <td>5</td>\n",
       "      <td>4.999350e-20</td>\n",
       "      <td>0.400000</td>\n",
       "      <td>0.255031</td>\n",
       "      <td>0.446305</td>\n",
       "      <td>0.637578</td>\n",
       "      <td>0.773486</td>\n",
       "      <td>0.909395</td>\n",
       "      <td>0</td>\n",
       "      <td>...</td>\n",
       "      <td>-1.856391e-16</td>\n",
       "      <td>5.713816e-19</td>\n",
       "      <td>-7.082542e-23</td>\n",
       "      <td>0</td>\n",
       "      <td>-8.000000</td>\n",
       "      <td>4.236560e-20</td>\n",
       "      <td>0.092331</td>\n",
       "      <td>0.833965</td>\n",
       "      <td>False</td>\n",
       "      <td>0</td>\n",
       "    </tr>\n",
       "    <tr>\n",
       "      <th>TranID1310241630244134804</th>\n",
       "      <th>10</th>\n",
       "      <td>Unknown</td>\n",
       "      <td>84</td>\n",
       "      <td>5.323451e-18</td>\n",
       "      <td>0.107143</td>\n",
       "      <td>0.038130</td>\n",
       "      <td>0.064197</td>\n",
       "      <td>0.106319</td>\n",
       "      <td>0.151000</td>\n",
       "      <td>0.402147</td>\n",
       "      <td>0</td>\n",
       "      <td>...</td>\n",
       "      <td>-2.917525e-24</td>\n",
       "      <td>3.602548e-27</td>\n",
       "      <td>2.762753e-30</td>\n",
       "      <td>0</td>\n",
       "      <td>-3.111563</td>\n",
       "      <td>1.975675e-18</td>\n",
       "      <td>43.004178</td>\n",
       "      <td>0.199912</td>\n",
       "      <td>False</td>\n",
       "      <td>0</td>\n",
       "    </tr>\n",
       "    <tr>\n",
       "      <th>TranID1112291120524129371</th>\n",
       "      <th>9</th>\n",
       "      <td>LPV</td>\n",
       "      <td>458</td>\n",
       "      <td>5.373549e-14</td>\n",
       "      <td>0.222707</td>\n",
       "      <td>0.096141</td>\n",
       "      <td>0.184049</td>\n",
       "      <td>0.249861</td>\n",
       "      <td>0.476119</td>\n",
       "      <td>0.821909</td>\n",
       "      <td>0</td>\n",
       "      <td>...</td>\n",
       "      <td>-2.141519e-20</td>\n",
       "      <td>2.170168e-24</td>\n",
       "      <td>1.109105e-26</td>\n",
       "      <td>0</td>\n",
       "      <td>-3.019795</td>\n",
       "      <td>2.078542e-14</td>\n",
       "      <td>72.677327</td>\n",
       "      <td>0.481423</td>\n",
       "      <td>False</td>\n",
       "      <td>0</td>\n",
       "    </tr>\n",
       "    <tr>\n",
       "      <th>TranID1104271460494129915</th>\n",
       "      <th>0</th>\n",
       "      <td>HPM</td>\n",
       "      <td>100</td>\n",
       "      <td>6.101802e-19</td>\n",
       "      <td>0.160000</td>\n",
       "      <td>0.154260</td>\n",
       "      <td>0.314767</td>\n",
       "      <td>0.429300</td>\n",
       "      <td>0.593015</td>\n",
       "      <td>0.751878</td>\n",
       "      <td>0</td>\n",
       "      <td>...</td>\n",
       "      <td>5.863664e-25</td>\n",
       "      <td>3.606502e-28</td>\n",
       "      <td>-9.450684e-31</td>\n",
       "      <td>0</td>\n",
       "      <td>-3.093099</td>\n",
       "      <td>1.556850e-19</td>\n",
       "      <td>0.317101</td>\n",
       "      <td>0.491474</td>\n",
       "      <td>False</td>\n",
       "      <td>0</td>\n",
       "    </tr>\n",
       "  </tbody>\n",
       "</table>\n",
       "<p>5 rows × 34 columns</p>\n",
       "</div>"
      ],
      "text/plain": [
       "                                      Class  ObsCount     amplitude  \\\n",
       "ID                        copy_num                                    \n",
       "TranID809290121154131085  3              SN        19  6.010130e-16   \n",
       "TranID711031091234108744  6            Ast?         5  4.999350e-20   \n",
       "TranID1310241630244134804 10        Unknown        84  5.323451e-18   \n",
       "TranID1112291120524129371 9             LPV       458  5.373549e-14   \n",
       "TranID1104271460494129915 0             HPM       100  6.101802e-19   \n",
       "\n",
       "                                    beyond1st  flux_percentile_ratio_mid20  \\\n",
       "ID                        copy_num                                           \n",
       "TranID809290121154131085  3          0.052632                     0.000114   \n",
       "TranID711031091234108744  6          0.400000                     0.255031   \n",
       "TranID1310241630244134804 10         0.107143                     0.038130   \n",
       "TranID1112291120524129371 9          0.222707                     0.096141   \n",
       "TranID1104271460494129915 0          0.160000                     0.154260   \n",
       "\n",
       "                                    flux_percentile_ratio_mid35  \\\n",
       "ID                        copy_num                                \n",
       "TranID809290121154131085  3                            0.000291   \n",
       "TranID711031091234108744  6                            0.446305   \n",
       "TranID1310241630244134804 10                           0.064197   \n",
       "TranID1112291120524129371 9                            0.184049   \n",
       "TranID1104271460494129915 0                            0.314767   \n",
       "\n",
       "                                    flux_percentile_ratio_mid50  \\\n",
       "ID                        copy_num                                \n",
       "TranID809290121154131085  3                            0.000428   \n",
       "TranID711031091234108744  6                            0.637578   \n",
       "TranID1310241630244134804 10                           0.106319   \n",
       "TranID1112291120524129371 9                            0.249861   \n",
       "TranID1104271460494129915 0                            0.429300   \n",
       "\n",
       "                                    flux_percentile_ratio_mid65  \\\n",
       "ID                        copy_num                                \n",
       "TranID809290121154131085  3                            0.000530   \n",
       "TranID711031091234108744  6                            0.773486   \n",
       "TranID1310241630244134804 10                           0.151000   \n",
       "TranID1112291120524129371 9                            0.476119   \n",
       "TranID1104271460494129915 0                            0.593015   \n",
       "\n",
       "                                    flux_percentile_ratio_mid80  kurtosis  \\\n",
       "ID                        copy_num                                          \n",
       "TranID809290121154131085  3                            0.020584         0   \n",
       "TranID711031091234108744  6                            0.909395         0   \n",
       "TranID1310241630244134804 10                           0.402147         0   \n",
       "TranID1112291120524129371 9                            0.821909         0   \n",
       "TranID1104271460494129915 0                            0.751878         0   \n",
       "\n",
       "                                       ...          poly4_t2      poly4_t3  \\\n",
       "ID                        copy_num     ...                                   \n",
       "TranID809290121154131085  3            ...     -1.306003e-20 -2.997369e-24   \n",
       "TranID711031091234108744  6            ...     -1.856391e-16  5.713816e-19   \n",
       "TranID1310241630244134804 10           ...     -2.917525e-24  3.602548e-27   \n",
       "TranID1112291120524129371 9            ...     -2.141519e-20  2.170168e-24   \n",
       "TranID1104271460494129915 0            ...      5.863664e-25  3.606502e-28   \n",
       "\n",
       "                                        poly4_t4  skew  small_kurtosis  \\\n",
       "ID                        copy_num                                       \n",
       "TranID809290121154131085  3         1.492962e-26     0       -3.573529   \n",
       "TranID711031091234108744  6        -7.082542e-23     0       -8.000000   \n",
       "TranID1310241630244134804 10        2.762753e-30     0       -3.111563   \n",
       "TranID1112291120524129371 9         1.109105e-26     0       -3.019795   \n",
       "TranID1104271460494129915 0        -9.450684e-31     0       -3.093099   \n",
       "\n",
       "                                             std    stetson_j  stetson_k  \\\n",
       "ID                        copy_num                                         \n",
       "TranID809290121154131085  3         2.756043e-16  5561.772897   0.480369   \n",
       "TranID711031091234108744  6         4.236560e-20     0.092331   0.833965   \n",
       "TranID1310241630244134804 10        1.975675e-18    43.004178   0.199912   \n",
       "TranID1112291120524129371 9         2.078542e-14    72.677327   0.481423   \n",
       "TranID1104271460494129915 0         1.556850e-19     0.317101   0.491474   \n",
       "\n",
       "                                    bin_class  fact_Class  \n",
       "ID                        copy_num                         \n",
       "TranID809290121154131085  3              True           1  \n",
       "TranID711031091234108744  6             False           0  \n",
       "TranID1310241630244134804 10            False           0  \n",
       "TranID1112291120524129371 9             False           0  \n",
       "TranID1104271460494129915 0             False           0  \n",
       "\n",
       "[5 rows x 34 columns]"
      ]
     },
     "execution_count": 21,
     "metadata": {},
     "output_type": "execute_result"
    }
   ],
   "source": [
    "diego_t.head()"
   ]
  },
  {
   "cell_type": "markdown",
   "metadata": {},
   "source": [
    "### Scramble the data"
   ]
  },
  {
   "cell_type": "code",
   "execution_count": 37,
   "metadata": {},
   "outputs": [],
   "source": [
    "diego_t = diego_t.sample(frac=1)\n",
    "diego_nt = diego_nt.sample(frac=1)"
   ]
  },
  {
   "cell_type": "code",
   "execution_count": 33,
   "metadata": {},
   "outputs": [],
   "source": [
    "all_train, all_test= train_test_split(diego_t,test_size = 0.25)"
   ]
  },
  {
   "cell_type": "markdown",
   "metadata": {},
   "source": [
    "It never hurts to rescramble...."
   ]
  },
  {
   "cell_type": "code",
   "execution_count": 34,
   "metadata": {},
   "outputs": [],
   "source": [
    "all_train = all_train.sample(frac=1)\n",
    "all_test = all_test.sample(frac=1)"
   ]
  },
  {
   "cell_type": "code",
   "execution_count": 35,
   "metadata": {},
   "outputs": [
    {
     "data": {
      "text/html": [
       "<div>\n",
       "<style scoped>\n",
       "    .dataframe tbody tr th:only-of-type {\n",
       "        vertical-align: middle;\n",
       "    }\n",
       "\n",
       "    .dataframe tbody tr th {\n",
       "        vertical-align: top;\n",
       "    }\n",
       "\n",
       "    .dataframe thead th {\n",
       "        text-align: right;\n",
       "    }\n",
       "</style>\n",
       "<table border=\"1\" class=\"dataframe\">\n",
       "  <thead>\n",
       "    <tr style=\"text-align: right;\">\n",
       "      <th></th>\n",
       "      <th></th>\n",
       "      <th>Class</th>\n",
       "      <th>ObsCount</th>\n",
       "      <th>amplitude</th>\n",
       "      <th>beyond1st</th>\n",
       "      <th>flux_percentile_ratio_mid20</th>\n",
       "      <th>flux_percentile_ratio_mid35</th>\n",
       "      <th>flux_percentile_ratio_mid50</th>\n",
       "      <th>flux_percentile_ratio_mid65</th>\n",
       "      <th>flux_percentile_ratio_mid80</th>\n",
       "      <th>kurtosis</th>\n",
       "      <th>...</th>\n",
       "      <th>poly4_t2</th>\n",
       "      <th>poly4_t3</th>\n",
       "      <th>poly4_t4</th>\n",
       "      <th>skew</th>\n",
       "      <th>small_kurtosis</th>\n",
       "      <th>std</th>\n",
       "      <th>stetson_j</th>\n",
       "      <th>stetson_k</th>\n",
       "      <th>bin_class</th>\n",
       "      <th>fact_Class</th>\n",
       "    </tr>\n",
       "    <tr>\n",
       "      <th>ID</th>\n",
       "      <th>copy_num</th>\n",
       "      <th></th>\n",
       "      <th></th>\n",
       "      <th></th>\n",
       "      <th></th>\n",
       "      <th></th>\n",
       "      <th></th>\n",
       "      <th></th>\n",
       "      <th></th>\n",
       "      <th></th>\n",
       "      <th></th>\n",
       "      <th></th>\n",
       "      <th></th>\n",
       "      <th></th>\n",
       "      <th></th>\n",
       "      <th></th>\n",
       "      <th></th>\n",
       "      <th></th>\n",
       "      <th></th>\n",
       "      <th></th>\n",
       "      <th></th>\n",
       "      <th></th>\n",
       "    </tr>\n",
       "  </thead>\n",
       "  <tbody>\n",
       "    <tr>\n",
       "      <th>TranID1409030040054108840</th>\n",
       "      <th>9</th>\n",
       "      <td>SN</td>\n",
       "      <td>22</td>\n",
       "      <td>2.994092e-20</td>\n",
       "      <td>0.181818</td>\n",
       "      <td>0.044335</td>\n",
       "      <td>0.082286</td>\n",
       "      <td>0.194572</td>\n",
       "      <td>0.410118</td>\n",
       "      <td>0.958185</td>\n",
       "      <td>0</td>\n",
       "      <td>...</td>\n",
       "      <td>-2.460929e-26</td>\n",
       "      <td>-1.602805e-29</td>\n",
       "      <td>1.455960e-32</td>\n",
       "      <td>0</td>\n",
       "      <td>-3.481579</td>\n",
       "      <td>1.745695e-20</td>\n",
       "      <td>2.584441</td>\n",
       "      <td>0.731022</td>\n",
       "      <td>True</td>\n",
       "      <td>1</td>\n",
       "    </tr>\n",
       "    <tr>\n",
       "      <th>TranID1209141090054139367</th>\n",
       "      <th>10</th>\n",
       "      <td>AGN?</td>\n",
       "      <td>96</td>\n",
       "      <td>8.228342e-18</td>\n",
       "      <td>0.010417</td>\n",
       "      <td>0.068969</td>\n",
       "      <td>0.113656</td>\n",
       "      <td>0.173391</td>\n",
       "      <td>0.304999</td>\n",
       "      <td>0.603298</td>\n",
       "      <td>0</td>\n",
       "      <td>...</td>\n",
       "      <td>1.084127e-24</td>\n",
       "      <td>2.689856e-27</td>\n",
       "      <td>8.206898e-31</td>\n",
       "      <td>0</td>\n",
       "      <td>-3.097117</td>\n",
       "      <td>1.677642e-18</td>\n",
       "      <td>41.210356</td>\n",
       "      <td>0.321553</td>\n",
       "      <td>False</td>\n",
       "      <td>0</td>\n",
       "    </tr>\n",
       "    <tr>\n",
       "      <th>TranID1401041150114109714</th>\n",
       "      <th>9</th>\n",
       "      <td>AGN</td>\n",
       "      <td>44</td>\n",
       "      <td>4.866736e-20</td>\n",
       "      <td>0.272727</td>\n",
       "      <td>0.074206</td>\n",
       "      <td>0.148757</td>\n",
       "      <td>0.382454</td>\n",
       "      <td>0.539299</td>\n",
       "      <td>0.783118</td>\n",
       "      <td>0</td>\n",
       "      <td>...</td>\n",
       "      <td>6.450373e-26</td>\n",
       "      <td>4.543571e-29</td>\n",
       "      <td>1.148828e-32</td>\n",
       "      <td>0</td>\n",
       "      <td>-3.221254</td>\n",
       "      <td>2.171316e-20</td>\n",
       "      <td>3.442188</td>\n",
       "      <td>0.477291</td>\n",
       "      <td>False</td>\n",
       "      <td>0</td>\n",
       "    </tr>\n",
       "    <tr>\n",
       "      <th>TranID1005100040634116249</th>\n",
       "      <th>5</th>\n",
       "      <td>CV</td>\n",
       "      <td>287</td>\n",
       "      <td>1.770866e-13</td>\n",
       "      <td>0.083624</td>\n",
       "      <td>0.000227</td>\n",
       "      <td>0.000551</td>\n",
       "      <td>0.000954</td>\n",
       "      <td>0.002500</td>\n",
       "      <td>0.090977</td>\n",
       "      <td>0</td>\n",
       "      <td>...</td>\n",
       "      <td>8.621446e-21</td>\n",
       "      <td>-2.409551e-23</td>\n",
       "      <td>-1.094261e-26</td>\n",
       "      <td>0</td>\n",
       "      <td>-3.031727</td>\n",
       "      <td>5.915574e-14</td>\n",
       "      <td>2124.721622</td>\n",
       "      <td>0.698740</td>\n",
       "      <td>False</td>\n",
       "      <td>0</td>\n",
       "    </tr>\n",
       "    <tr>\n",
       "      <th>TranID1408310011164108034</th>\n",
       "      <th>4</th>\n",
       "      <td>SN</td>\n",
       "      <td>345</td>\n",
       "      <td>2.562825e-19</td>\n",
       "      <td>0.257971</td>\n",
       "      <td>0.148689</td>\n",
       "      <td>0.234902</td>\n",
       "      <td>0.374212</td>\n",
       "      <td>0.490494</td>\n",
       "      <td>0.726399</td>\n",
       "      <td>0</td>\n",
       "      <td>...</td>\n",
       "      <td>-3.124050e-27</td>\n",
       "      <td>1.345060e-29</td>\n",
       "      <td>2.988734e-33</td>\n",
       "      <td>0</td>\n",
       "      <td>-3.026341</td>\n",
       "      <td>6.707210e-20</td>\n",
       "      <td>0.850809</td>\n",
       "      <td>0.507641</td>\n",
       "      <td>True</td>\n",
       "      <td>1</td>\n",
       "    </tr>\n",
       "  </tbody>\n",
       "</table>\n",
       "<p>5 rows × 34 columns</p>\n",
       "</div>"
      ],
      "text/plain": [
       "                                   Class  ObsCount     amplitude  beyond1st  \\\n",
       "ID                        copy_num                                            \n",
       "TranID1409030040054108840 9           SN        22  2.994092e-20   0.181818   \n",
       "TranID1209141090054139367 10        AGN?        96  8.228342e-18   0.010417   \n",
       "TranID1401041150114109714 9          AGN        44  4.866736e-20   0.272727   \n",
       "TranID1005100040634116249 5           CV       287  1.770866e-13   0.083624   \n",
       "TranID1408310011164108034 4           SN       345  2.562825e-19   0.257971   \n",
       "\n",
       "                                    flux_percentile_ratio_mid20  \\\n",
       "ID                        copy_num                                \n",
       "TranID1409030040054108840 9                            0.044335   \n",
       "TranID1209141090054139367 10                           0.068969   \n",
       "TranID1401041150114109714 9                            0.074206   \n",
       "TranID1005100040634116249 5                            0.000227   \n",
       "TranID1408310011164108034 4                            0.148689   \n",
       "\n",
       "                                    flux_percentile_ratio_mid35  \\\n",
       "ID                        copy_num                                \n",
       "TranID1409030040054108840 9                            0.082286   \n",
       "TranID1209141090054139367 10                           0.113656   \n",
       "TranID1401041150114109714 9                            0.148757   \n",
       "TranID1005100040634116249 5                            0.000551   \n",
       "TranID1408310011164108034 4                            0.234902   \n",
       "\n",
       "                                    flux_percentile_ratio_mid50  \\\n",
       "ID                        copy_num                                \n",
       "TranID1409030040054108840 9                            0.194572   \n",
       "TranID1209141090054139367 10                           0.173391   \n",
       "TranID1401041150114109714 9                            0.382454   \n",
       "TranID1005100040634116249 5                            0.000954   \n",
       "TranID1408310011164108034 4                            0.374212   \n",
       "\n",
       "                                    flux_percentile_ratio_mid65  \\\n",
       "ID                        copy_num                                \n",
       "TranID1409030040054108840 9                            0.410118   \n",
       "TranID1209141090054139367 10                           0.304999   \n",
       "TranID1401041150114109714 9                            0.539299   \n",
       "TranID1005100040634116249 5                            0.002500   \n",
       "TranID1408310011164108034 4                            0.490494   \n",
       "\n",
       "                                    flux_percentile_ratio_mid80  kurtosis  \\\n",
       "ID                        copy_num                                          \n",
       "TranID1409030040054108840 9                            0.958185         0   \n",
       "TranID1209141090054139367 10                           0.603298         0   \n",
       "TranID1401041150114109714 9                            0.783118         0   \n",
       "TranID1005100040634116249 5                            0.090977         0   \n",
       "TranID1408310011164108034 4                            0.726399         0   \n",
       "\n",
       "                                       ...          poly4_t2      poly4_t3  \\\n",
       "ID                        copy_num     ...                                   \n",
       "TranID1409030040054108840 9            ...     -2.460929e-26 -1.602805e-29   \n",
       "TranID1209141090054139367 10           ...      1.084127e-24  2.689856e-27   \n",
       "TranID1401041150114109714 9            ...      6.450373e-26  4.543571e-29   \n",
       "TranID1005100040634116249 5            ...      8.621446e-21 -2.409551e-23   \n",
       "TranID1408310011164108034 4            ...     -3.124050e-27  1.345060e-29   \n",
       "\n",
       "                                        poly4_t4  skew  small_kurtosis  \\\n",
       "ID                        copy_num                                       \n",
       "TranID1409030040054108840 9         1.455960e-32     0       -3.481579   \n",
       "TranID1209141090054139367 10        8.206898e-31     0       -3.097117   \n",
       "TranID1401041150114109714 9         1.148828e-32     0       -3.221254   \n",
       "TranID1005100040634116249 5        -1.094261e-26     0       -3.031727   \n",
       "TranID1408310011164108034 4         2.988734e-33     0       -3.026341   \n",
       "\n",
       "                                             std    stetson_j  stetson_k  \\\n",
       "ID                        copy_num                                         \n",
       "TranID1409030040054108840 9         1.745695e-20     2.584441   0.731022   \n",
       "TranID1209141090054139367 10        1.677642e-18    41.210356   0.321553   \n",
       "TranID1401041150114109714 9         2.171316e-20     3.442188   0.477291   \n",
       "TranID1005100040634116249 5         5.915574e-14  2124.721622   0.698740   \n",
       "TranID1408310011164108034 4         6.707210e-20     0.850809   0.507641   \n",
       "\n",
       "                                    bin_class  fact_Class  \n",
       "ID                        copy_num                         \n",
       "TranID1409030040054108840 9              True           1  \n",
       "TranID1209141090054139367 10            False           0  \n",
       "TranID1401041150114109714 9             False           0  \n",
       "TranID1005100040634116249 5             False           0  \n",
       "TranID1408310011164108034 4              True           1  \n",
       "\n",
       "[5 rows x 34 columns]"
      ]
     },
     "execution_count": 35,
     "metadata": {},
     "output_type": "execute_result"
    }
   ],
   "source": [
    "all_test.head()"
   ]
  },
  {
   "cell_type": "markdown",
   "metadata": {},
   "source": [
    "## Remove oversampled data on test to reduce bias\n"
   ]
  },
  {
   "cell_type": "code",
   "execution_count": 48,
   "metadata": {},
   "outputs": [],
   "source": [
    "all_test = all_test.iloc[all_test.index.get_level_values('copy_num') == str(0)]"
   ]
  },
  {
   "cell_type": "code",
   "execution_count": 49,
   "metadata": {},
   "outputs": [
    {
     "name": "stdout",
     "output_type": "stream",
     "text": [
      "Index(['amplitude', 'beyond1st', 'flux_percentile_ratio_mid20',\n",
      "       'flux_percentile_ratio_mid35', 'flux_percentile_ratio_mid50',\n",
      "       'flux_percentile_ratio_mid65', 'flux_percentile_ratio_mid80',\n",
      "       'kurtosis', 'max_slope', 'median_absolute_deviation',\n",
      "       'median_buffer_range_percentage', 'pair_slope_trend',\n",
      "       'pair_slope_trend_last_30', 'percent_amplitude',\n",
      "       'percent_difference_flux_percentile', 'poly1_t1', 'poly2_t1',\n",
      "       'poly2_t2', 'poly3_t1', 'poly3_t2', 'poly3_t3', 'poly4_t1', 'poly4_t2',\n",
      "       'poly4_t3', 'poly4_t4', 'skew', 'small_kurtosis', 'std', 'stetson_j',\n",
      "       'stetson_k'],\n",
      "      dtype='object')\n"
     ]
    }
   ],
   "source": [
    "features = all_train.columns[2:-2]\n",
    "print(features)\n",
    "y_train = np.array(all_train['fact_Class'])\n",
    "y_test = np.array(all_test['fact_Class'])"
   ]
  },
  {
   "cell_type": "code",
   "execution_count": 50,
   "metadata": {},
   "outputs": [
    {
     "name": "stdout",
     "output_type": "stream",
     "text": [
      "35219\n",
      "1070\n"
     ]
    }
   ],
   "source": [
    "print(len(y_train))\n",
    "print(len(y_test))\n"
   ]
  },
  {
   "cell_type": "markdown",
   "metadata": {},
   "source": [
    "## Train the algorithm"
   ]
  },
  {
   "cell_type": "code",
   "execution_count": 51,
   "metadata": {},
   "outputs": [
    {
     "data": {
      "text/plain": [
       "RandomForestClassifier(bootstrap=True, class_weight='balanced',\n",
       "            criterion='gini', max_depth=None, max_features='auto',\n",
       "            max_leaf_nodes=None, min_impurity_decrease=0.0,\n",
       "            min_impurity_split=None, min_samples_leaf=1,\n",
       "            min_samples_split=2, min_weight_fraction_leaf=0.0,\n",
       "            n_estimators=50, n_jobs=1, oob_score=False, random_state=0,\n",
       "            verbose=0, warm_start=False)"
      ]
     },
     "execution_count": 51,
     "metadata": {},
     "output_type": "execute_result"
    }
   ],
   "source": [
    "clf = RandomForestClassifier(n_estimators=50,random_state=0, class_weight='balanced')\n",
    "clf.fit(all_train[features], y_train)"
   ]
  },
  {
   "cell_type": "code",
   "execution_count": 52,
   "metadata": {},
   "outputs": [
    {
     "data": {
      "text/plain": [
       "0.8261682242990654"
      ]
     },
     "execution_count": 52,
     "metadata": {},
     "output_type": "execute_result"
    }
   ],
   "source": [
    "clf.score(all_test[features],y_test)"
   ]
  },
  {
   "cell_type": "code",
   "execution_count": 53,
   "metadata": {},
   "outputs": [
    {
     "data": {
      "text/html": [
       "<div>\n",
       "<style scoped>\n",
       "    .dataframe tbody tr th:only-of-type {\n",
       "        vertical-align: middle;\n",
       "    }\n",
       "\n",
       "    .dataframe tbody tr th {\n",
       "        vertical-align: top;\n",
       "    }\n",
       "\n",
       "    .dataframe thead th {\n",
       "        text-align: right;\n",
       "    }\n",
       "</style>\n",
       "<table border=\"1\" class=\"dataframe\">\n",
       "  <thead>\n",
       "    <tr style=\"text-align: right;\">\n",
       "      <th>Actual</th>\n",
       "      <th>0</th>\n",
       "      <th>1</th>\n",
       "    </tr>\n",
       "    <tr>\n",
       "      <th>Predicted</th>\n",
       "      <th></th>\n",
       "      <th></th>\n",
       "    </tr>\n",
       "  </thead>\n",
       "  <tbody>\n",
       "    <tr>\n",
       "      <th>0</th>\n",
       "      <td>683</td>\n",
       "      <td>136</td>\n",
       "    </tr>\n",
       "    <tr>\n",
       "      <th>1</th>\n",
       "      <td>50</td>\n",
       "      <td>201</td>\n",
       "    </tr>\n",
       "  </tbody>\n",
       "</table>\n",
       "</div>"
      ],
      "text/plain": [
       "Actual        0    1\n",
       "Predicted           \n",
       "0           683  136\n",
       "1            50  201"
      ]
     },
     "execution_count": 53,
     "metadata": {},
     "output_type": "execute_result"
    }
   ],
   "source": [
    "preds = clf.predict(all_test[features])\n",
    "pd.crosstab(preds, y_test, rownames=['Predicted '], colnames=['Actual '])"
   ]
  },
  {
   "cell_type": "code",
   "execution_count": 54,
   "metadata": {},
   "outputs": [
    {
     "data": {
      "text/plain": [
       "Text(0,0.5,'precision')"
      ]
     },
     "execution_count": 54,
     "metadata": {},
     "output_type": "execute_result"
    },
    {
     "data": {
      "image/png": "[encoded data removed]",
      "text/plain": [
       "<matplotlib.figure.Figure at 0x7f6171f62668>"
      ]
     },
     "metadata": {},
     "output_type": "display_data"
    }
   ],
   "source": [
    "# plt.style.use(['dark_background'])\n",
    "preds1 = clf.predict_proba(all_test[features])\n",
    "precision, recall, _ = precision_recall_curve(y_test, preds1[:,0],pos_label=0)\n",
    "\n",
    "plt.step(recall,precision)\n",
    "plt.fill_between(recall, precision,step='pre', alpha=0.2,\n",
    "                 color='b')\n",
    "plt.xlabel('recall')\n",
    "plt.ylabel('precision')\n"
   ]
  },
  {
   "cell_type": "code",
   "execution_count": 55,
   "metadata": {},
   "outputs": [
    {
     "data": {
      "text/plain": [
       "0.9561384838783016"
      ]
     },
     "execution_count": 55,
     "metadata": {},
     "output_type": "execute_result"
    }
   ],
   "source": [
    "integrate.trapz(precision[::-1],recall[::-1])"
   ]
  },
  {
   "cell_type": "code",
   "execution_count": 56,
   "metadata": {},
   "outputs": [
    {
     "data": {
      "text/plain": [
       "0.6836734693877551"
      ]
     },
     "execution_count": 56,
     "metadata": {},
     "output_type": "execute_result"
    }
   ],
   "source": [
    "\n",
    "f1_score(np.array(preds),np.array(y_test))"
   ]
  },
  {
   "cell_type": "markdown",
   "metadata": {},
   "source": [
    "# Lets mix the non-transients"
   ]
  },
  {
   "cell_type": "code",
   "execution_count": 57,
   "metadata": {},
   "outputs": [],
   "source": [
    "alldata = pd.concat([diego_t,diego_nt])"
   ]
  },
  {
   "cell_type": "code",
   "execution_count": 58,
   "metadata": {},
   "outputs": [],
   "source": [
    "alldata = alldata.sample(frac=1)"
   ]
  },
  {
   "cell_type": "code",
   "execution_count": 59,
   "metadata": {},
   "outputs": [],
   "source": [
    "all_train, all_test= train_test_split(alldata,test_size = 0.25)"
   ]
  },
  {
   "cell_type": "code",
   "execution_count": 62,
   "metadata": {},
   "outputs": [],
   "source": [
    "all_test = all_test.iloc[all_test.index.get_level_values('copy_num') == str(0)]"
   ]
  },
  {
   "cell_type": "code",
   "execution_count": 63,
   "metadata": {},
   "outputs": [],
   "source": [
    "all_train = all_train.sample(frac=1)\n",
    "all_test = all_test.sample(frac=1)"
   ]
  },
  {
   "cell_type": "code",
   "execution_count": 64,
   "metadata": {},
   "outputs": [
    {
     "name": "stdout",
     "output_type": "stream",
     "text": [
      "Index(['amplitude', 'beyond1st', 'flux_percentile_ratio_mid20',\n",
      "       'flux_percentile_ratio_mid35', 'flux_percentile_ratio_mid50',\n",
      "       'flux_percentile_ratio_mid65', 'flux_percentile_ratio_mid80',\n",
      "       'kurtosis', 'max_slope', 'median_absolute_deviation',\n",
      "       'median_buffer_range_percentage', 'pair_slope_trend',\n",
      "       'pair_slope_trend_last_30', 'percent_amplitude',\n",
      "       'percent_difference_flux_percentile', 'poly1_t1', 'poly2_t1',\n",
      "       'poly2_t2', 'poly3_t1', 'poly3_t2', 'poly3_t3', 'poly4_t1', 'poly4_t2',\n",
      "       'poly4_t3', 'poly4_t4', 'skew', 'small_kurtosis', 'std', 'stetson_j',\n",
      "       'stetson_k'],\n",
      "      dtype='object')\n"
     ]
    }
   ],
   "source": [
    "features = all_train.columns[2:-2]\n",
    "print(features)\n",
    "y_train = np.array(all_train['fact_Class'])\n",
    "y_test = np.array(all_test['fact_Class'])"
   ]
  },
  {
   "cell_type": "code",
   "execution_count": 65,
   "metadata": {},
   "outputs": [
    {
     "name": "stdout",
     "output_type": "stream",
     "text": [
      "46614\n",
      "4798\n"
     ]
    }
   ],
   "source": [
    "print(len(y_train))\n",
    "print(len(y_test))\n"
   ]
  },
  {
   "cell_type": "code",
   "execution_count": 66,
   "metadata": {},
   "outputs": [
    {
     "data": {
      "text/plain": [
       "RandomForestClassifier(bootstrap=True, class_weight='balanced',\n",
       "            criterion='gini', max_depth=None, max_features='auto',\n",
       "            max_leaf_nodes=None, min_impurity_decrease=0.0,\n",
       "            min_impurity_split=None, min_samples_leaf=1,\n",
       "            min_samples_split=2, min_weight_fraction_leaf=0.0,\n",
       "            n_estimators=50, n_jobs=1, oob_score=False, random_state=0,\n",
       "            verbose=0, warm_start=False)"
      ]
     },
     "execution_count": 66,
     "metadata": {},
     "output_type": "execute_result"
    }
   ],
   "source": [
    "clf = RandomForestClassifier(n_estimators=50,random_state=0, class_weight='balanced')\n",
    "clf.fit(all_train[features], y_train)"
   ]
  },
  {
   "cell_type": "code",
   "execution_count": 67,
   "metadata": {},
   "outputs": [
    {
     "data": {
      "text/plain": [
       "0.9416423509795748"
      ]
     },
     "execution_count": 67,
     "metadata": {},
     "output_type": "execute_result"
    }
   ],
   "source": [
    "clf.score(all_test[features],y_test)"
   ]
  },
  {
   "cell_type": "code",
   "execution_count": 68,
   "metadata": {},
   "outputs": [
    {
     "data": {
      "text/html": [
       "<div>\n",
       "<style scoped>\n",
       "    .dataframe tbody tr th:only-of-type {\n",
       "        vertical-align: middle;\n",
       "    }\n",
       "\n",
       "    .dataframe tbody tr th {\n",
       "        vertical-align: top;\n",
       "    }\n",
       "\n",
       "    .dataframe thead th {\n",
       "        text-align: right;\n",
       "    }\n",
       "</style>\n",
       "<table border=\"1\" class=\"dataframe\">\n",
       "  <thead>\n",
       "    <tr style=\"text-align: right;\">\n",
       "      <th>Actual</th>\n",
       "      <th>0</th>\n",
       "      <th>1</th>\n",
       "    </tr>\n",
       "    <tr>\n",
       "      <th>Predicted</th>\n",
       "      <th></th>\n",
       "      <th></th>\n",
       "    </tr>\n",
       "  </thead>\n",
       "  <tbody>\n",
       "    <tr>\n",
       "      <th>0</th>\n",
       "      <td>4386</td>\n",
       "      <td>206</td>\n",
       "    </tr>\n",
       "    <tr>\n",
       "      <th>1</th>\n",
       "      <td>74</td>\n",
       "      <td>132</td>\n",
       "    </tr>\n",
       "  </tbody>\n",
       "</table>\n",
       "</div>"
      ],
      "text/plain": [
       "Actual         0    1\n",
       "Predicted            \n",
       "0           4386  206\n",
       "1             74  132"
      ]
     },
     "execution_count": 68,
     "metadata": {},
     "output_type": "execute_result"
    }
   ],
   "source": [
    "preds = clf.predict(all_test[features])\n",
    "pd.crosstab(preds, y_test, rownames=['Predicted '], colnames=['Actual '])"
   ]
  },
  {
   "cell_type": "code",
   "execution_count": 69,
   "metadata": {},
   "outputs": [
    {
     "data": {
      "text/plain": [
       "Text(0,0.5,'precision')"
      ]
     },
     "execution_count": 69,
     "metadata": {},
     "output_type": "execute_result"
    },
    {
     "data": {
      "image/png": "[encoded data removed]",
      "text/plain": [
       "<matplotlib.figure.Figure at 0x7f6171ea6978>"
      ]
     },
     "metadata": {},
     "output_type": "display_data"
    }
   ],
   "source": [
    "# plt.style.use(['dark_background'])\n",
    "preds1 = clf.predict_proba(all_test[features])\n",
    "precision, recall, _ = precision_recall_curve(y_test, preds1[:,0],pos_label=0)\n",
    "\n",
    "plt.step(recall,precision)\n",
    "plt.fill_between(recall, precision,step='pre', alpha=0.2,\n",
    "                 color='b')\n",
    "plt.xlabel('recall')\n",
    "plt.ylabel('precision')\n"
   ]
  },
  {
   "cell_type": "code",
   "execution_count": 70,
   "metadata": {},
   "outputs": [
    {
     "data": {
      "text/plain": [
       "0.9916881514867125"
      ]
     },
     "execution_count": 70,
     "metadata": {},
     "output_type": "execute_result"
    }
   ],
   "source": [
    "integrate.trapz(precision[::-1],recall[::-1])"
   ]
  },
  {
   "cell_type": "code",
   "execution_count": 71,
   "metadata": {},
   "outputs": [
    {
     "data": {
      "text/plain": [
       "0.4852941176470589"
      ]
     },
     "execution_count": 71,
     "metadata": {},
     "output_type": "execute_result"
    }
   ],
   "source": [
    "f1_score(np.array(preds),np.array(y_test))"
   ]
  },
  {
   "cell_type": "code",
   "execution_count": null,
   "metadata": {},
   "outputs": [],
   "source": []
  }
 ],
 "metadata": {
  "kernelspec": {
   "display_name": "Python 3",
   "language": "python",
   "name": "python3"
  },
  "language_info": {
   "codemirror_mode": {
    "name": "ipython",
    "version": 3
   },
   "file_extension": ".py",
   "mimetype": "text/x-python",
   "name": "python",
   "nbconvert_exporter": "python",
   "pygments_lexer": "ipython3",
   "version": "3.6.4"
  }
 },
 "nbformat": 4,
 "nbformat_minor": 2
}
