{
 "cells": [
  {
   "cell_type": "code",
   "execution_count": 1,
   "metadata": {},
   "outputs": [],
   "source": [
    "from sklearn.ensemble import RandomForestClassifier\n",
    "import sklearn.metrics\n",
    "import pandas as pd\n",
    "import numpy as np\n",
    "np.random.seed(0)\n",
    "from sklearn.model_selection import GridSearchCV, StratifiedKFold  # , cross_val_score\n",
    "from sklearn.metrics import make_scorer, accuracy_score, precision_score, recall_score, f1_score, precision_recall_fscore_support, confusion_matrix  # , classification_report\n",
    "from sklearn.model_selection import train_test_split\n",
    "\n",
    "from sklearn.metrics import precision_recall_curve\n",
    "import matplotlib.pyplot as plt\n",
    "from sklearn.metrics import average_precision_score\n",
    "from scipy import integrate\n"
   ]
  },
  {
   "cell_type": "code",
   "execution_count": 38,
   "metadata": {},
   "outputs": [],
   "source": [
    "DATA_PATH_NT = \"./data/features/diegoData/properOversample/\"\n",
    "DATA_PATH_T = DATA_PATH_NT"
   ]
  },
  {
   "cell_type": "code",
   "execution_count": 39,
   "metadata": {},
   "outputs": [],
   "source": [
    "diego_t_test = pd.read_pickle(DATA_PATH_T+\"/Ttest.pickle\")\n",
    "diego_t_train = pd.read_pickle(DATA_PATH_T+\"/Ttrain.pickle\")\n",
    "diego_nt = pd.read_pickle(DATA_PATH_NT+\"/NT.pickle\")"
   ]
  },
  {
   "cell_type": "code",
   "execution_count": 40,
   "metadata": {},
   "outputs": [],
   "source": [
    "def createBinClass(df):\n",
    "    df['bin_class'] = df['Class']==\"SN\"\n",
    "    df[\"fact_Class\"] = pd.factorize(df['bin_class'])[0]"
   ]
  },
  {
   "cell_type": "code",
   "execution_count": 41,
   "metadata": {},
   "outputs": [],
   "source": [
    "# diego_t['bin_class'] = diego_t['Class']==\"SN\"\n",
    "# diego_t[\"fact_Class\"] = pd.factorize(diego_t['bin_class'])[0]\n",
    "# diego_nt['bin_class'] = diego_nt['Class']==\"SN\"\n",
    "# diego_nt[\"fact_Class\"] = pd.factorize(diego_nt['bin_class'])[0]\n",
    "createBinClass(diego_nt)\n",
    "createBinClass(diego_t_train)\n",
    "createBinClass(diego_t_test)"
   ]
  },
  {
   "cell_type": "code",
   "execution_count": 42,
   "metadata": {},
   "outputs": [
    {
     "data": {
      "text/html": [
       "<div>\n",
       "<style scoped>\n",
       "    .dataframe tbody tr th:only-of-type {\n",
       "        vertical-align: middle;\n",
       "    }\n",
       "\n",
       "    .dataframe tbody tr th {\n",
       "        vertical-align: top;\n",
       "    }\n",
       "\n",
       "    .dataframe thead th {\n",
       "        text-align: right;\n",
       "    }\n",
       "</style>\n",
       "<table border=\"1\" class=\"dataframe\">\n",
       "  <thead>\n",
       "    <tr style=\"text-align: right;\">\n",
       "      <th></th>\n",
       "      <th></th>\n",
       "      <th>Class</th>\n",
       "      <th>ObsCount</th>\n",
       "      <th>amplitude</th>\n",
       "      <th>beyond1st</th>\n",
       "      <th>flux_percentile_ratio_mid20</th>\n",
       "      <th>flux_percentile_ratio_mid35</th>\n",
       "      <th>flux_percentile_ratio_mid50</th>\n",
       "      <th>flux_percentile_ratio_mid65</th>\n",
       "      <th>flux_percentile_ratio_mid80</th>\n",
       "      <th>kurtosis</th>\n",
       "      <th>...</th>\n",
       "      <th>poly4_t2</th>\n",
       "      <th>poly4_t3</th>\n",
       "      <th>poly4_t4</th>\n",
       "      <th>skew</th>\n",
       "      <th>small_kurtosis</th>\n",
       "      <th>std</th>\n",
       "      <th>stetson_j</th>\n",
       "      <th>stetson_k</th>\n",
       "      <th>bin_class</th>\n",
       "      <th>fact_Class</th>\n",
       "    </tr>\n",
       "    <tr>\n",
       "      <th>ID</th>\n",
       "      <th>copy_num</th>\n",
       "      <th></th>\n",
       "      <th></th>\n",
       "      <th></th>\n",
       "      <th></th>\n",
       "      <th></th>\n",
       "      <th></th>\n",
       "      <th></th>\n",
       "      <th></th>\n",
       "      <th></th>\n",
       "      <th></th>\n",
       "      <th></th>\n",
       "      <th></th>\n",
       "      <th></th>\n",
       "      <th></th>\n",
       "      <th></th>\n",
       "      <th></th>\n",
       "      <th></th>\n",
       "      <th></th>\n",
       "      <th></th>\n",
       "      <th></th>\n",
       "      <th></th>\n",
       "    </tr>\n",
       "  </thead>\n",
       "  <tbody>\n",
       "    <tr>\n",
       "      <th>TranID1409030010044114444</th>\n",
       "      <th>0</th>\n",
       "      <td>SN?</td>\n",
       "      <td>13</td>\n",
       "      <td>1.12135</td>\n",
       "      <td>0.307692</td>\n",
       "      <td>0.176239</td>\n",
       "      <td>0.360298</td>\n",
       "      <td>0.394351</td>\n",
       "      <td>0.706535</td>\n",
       "      <td>0.854753</td>\n",
       "      <td>-0.552947</td>\n",
       "      <td>...</td>\n",
       "      <td>1.393948e-07</td>\n",
       "      <td>2.573913e-10</td>\n",
       "      <td>-3.677913e-13</td>\n",
       "      <td>-0.287598</td>\n",
       "      <td>-3.927273</td>\n",
       "      <td>0.681471</td>\n",
       "      <td>-0.562822</td>\n",
       "      <td>0.707972</td>\n",
       "      <td>False</td>\n",
       "      <td>0</td>\n",
       "    </tr>\n",
       "    <tr>\n",
       "      <th>TranID1209210010044118805</th>\n",
       "      <th>0</th>\n",
       "      <td>Flare</td>\n",
       "      <td>68</td>\n",
       "      <td>2.56960</td>\n",
       "      <td>0.352941</td>\n",
       "      <td>0.150676</td>\n",
       "      <td>0.264000</td>\n",
       "      <td>0.371657</td>\n",
       "      <td>0.446887</td>\n",
       "      <td>0.678558</td>\n",
       "      <td>10.041946</td>\n",
       "      <td>...</td>\n",
       "      <td>-7.297054e-07</td>\n",
       "      <td>4.150062e-11</td>\n",
       "      <td>2.744152e-13</td>\n",
       "      <td>-2.355343</td>\n",
       "      <td>-3.139161</td>\n",
       "      <td>0.788365</td>\n",
       "      <td>0.941645</td>\n",
       "      <td>0.322600</td>\n",
       "      <td>False</td>\n",
       "      <td>0</td>\n",
       "    </tr>\n",
       "    <tr>\n",
       "      <th>TranID1310250040014131234</th>\n",
       "      <th>0</th>\n",
       "      <td>SN</td>\n",
       "      <td>185</td>\n",
       "      <td>1.88140</td>\n",
       "      <td>0.297297</td>\n",
       "      <td>0.095021</td>\n",
       "      <td>0.222692</td>\n",
       "      <td>0.286157</td>\n",
       "      <td>0.424600</td>\n",
       "      <td>0.681645</td>\n",
       "      <td>3.159501</td>\n",
       "      <td>...</td>\n",
       "      <td>4.197685e-07</td>\n",
       "      <td>-2.467111e-10</td>\n",
       "      <td>-2.952595e-13</td>\n",
       "      <td>-1.412739</td>\n",
       "      <td>-3.049541</td>\n",
       "      <td>0.656324</td>\n",
       "      <td>1.700725</td>\n",
       "      <td>0.492124</td>\n",
       "      <td>True</td>\n",
       "      <td>1</td>\n",
       "    </tr>\n",
       "    <tr>\n",
       "      <th>TranID801010040034114166</th>\n",
       "      <th>0</th>\n",
       "      <td>Var?</td>\n",
       "      <td>26</td>\n",
       "      <td>1.27585</td>\n",
       "      <td>0.384615</td>\n",
       "      <td>0.352484</td>\n",
       "      <td>0.476246</td>\n",
       "      <td>0.602373</td>\n",
       "      <td>0.824997</td>\n",
       "      <td>0.951375</td>\n",
       "      <td>-0.590139</td>\n",
       "      <td>...</td>\n",
       "      <td>-1.531308e-06</td>\n",
       "      <td>5.664993e-12</td>\n",
       "      <td>7.185570e-13</td>\n",
       "      <td>-0.458774</td>\n",
       "      <td>-3.396739</td>\n",
       "      <td>0.686460</td>\n",
       "      <td>0.922882</td>\n",
       "      <td>0.738895</td>\n",
       "      <td>False</td>\n",
       "      <td>0</td>\n",
       "    </tr>\n",
       "    <tr>\n",
       "      <th>TranID1011080040044131101</th>\n",
       "      <th>0</th>\n",
       "      <td>SN</td>\n",
       "      <td>41</td>\n",
       "      <td>1.46335</td>\n",
       "      <td>0.439024</td>\n",
       "      <td>0.150511</td>\n",
       "      <td>0.259985</td>\n",
       "      <td>0.332801</td>\n",
       "      <td>0.739057</td>\n",
       "      <td>0.954815</td>\n",
       "      <td>-0.155772</td>\n",
       "      <td>...</td>\n",
       "      <td>1.428477e-06</td>\n",
       "      <td>9.526601e-12</td>\n",
       "      <td>-6.340534e-13</td>\n",
       "      <td>-0.794969</td>\n",
       "      <td>-3.238866</td>\n",
       "      <td>0.753666</td>\n",
       "      <td>0.984150</td>\n",
       "      <td>0.627376</td>\n",
       "      <td>True</td>\n",
       "      <td>1</td>\n",
       "    </tr>\n",
       "  </tbody>\n",
       "</table>\n",
       "<p>5 rows × 34 columns</p>\n",
       "</div>"
      ],
      "text/plain": [
       "                                    Class  ObsCount  amplitude  beyond1st  \\\n",
       "ID                        copy_num                                          \n",
       "TranID1409030010044114444 0           SN?        13    1.12135   0.307692   \n",
       "TranID1209210010044118805 0         Flare        68    2.56960   0.352941   \n",
       "TranID1310250040014131234 0            SN       185    1.88140   0.297297   \n",
       "TranID801010040034114166  0          Var?        26    1.27585   0.384615   \n",
       "TranID1011080040044131101 0            SN        41    1.46335   0.439024   \n",
       "\n",
       "                                    flux_percentile_ratio_mid20  \\\n",
       "ID                        copy_num                                \n",
       "TranID1409030010044114444 0                            0.176239   \n",
       "TranID1209210010044118805 0                            0.150676   \n",
       "TranID1310250040014131234 0                            0.095021   \n",
       "TranID801010040034114166  0                            0.352484   \n",
       "TranID1011080040044131101 0                            0.150511   \n",
       "\n",
       "                                    flux_percentile_ratio_mid35  \\\n",
       "ID                        copy_num                                \n",
       "TranID1409030010044114444 0                            0.360298   \n",
       "TranID1209210010044118805 0                            0.264000   \n",
       "TranID1310250040014131234 0                            0.222692   \n",
       "TranID801010040034114166  0                            0.476246   \n",
       "TranID1011080040044131101 0                            0.259985   \n",
       "\n",
       "                                    flux_percentile_ratio_mid50  \\\n",
       "ID                        copy_num                                \n",
       "TranID1409030010044114444 0                            0.394351   \n",
       "TranID1209210010044118805 0                            0.371657   \n",
       "TranID1310250040014131234 0                            0.286157   \n",
       "TranID801010040034114166  0                            0.602373   \n",
       "TranID1011080040044131101 0                            0.332801   \n",
       "\n",
       "                                    flux_percentile_ratio_mid65  \\\n",
       "ID                        copy_num                                \n",
       "TranID1409030010044114444 0                            0.706535   \n",
       "TranID1209210010044118805 0                            0.446887   \n",
       "TranID1310250040014131234 0                            0.424600   \n",
       "TranID801010040034114166  0                            0.824997   \n",
       "TranID1011080040044131101 0                            0.739057   \n",
       "\n",
       "                                    flux_percentile_ratio_mid80   kurtosis  \\\n",
       "ID                        copy_num                                           \n",
       "TranID1409030010044114444 0                            0.854753  -0.552947   \n",
       "TranID1209210010044118805 0                            0.678558  10.041946   \n",
       "TranID1310250040014131234 0                            0.681645   3.159501   \n",
       "TranID801010040034114166  0                            0.951375  -0.590139   \n",
       "TranID1011080040044131101 0                            0.954815  -0.155772   \n",
       "\n",
       "                                       ...          poly4_t2      poly4_t3  \\\n",
       "ID                        copy_num     ...                                   \n",
       "TranID1409030010044114444 0            ...      1.393948e-07  2.573913e-10   \n",
       "TranID1209210010044118805 0            ...     -7.297054e-07  4.150062e-11   \n",
       "TranID1310250040014131234 0            ...      4.197685e-07 -2.467111e-10   \n",
       "TranID801010040034114166  0            ...     -1.531308e-06  5.664993e-12   \n",
       "TranID1011080040044131101 0            ...      1.428477e-06  9.526601e-12   \n",
       "\n",
       "                                        poly4_t4      skew  small_kurtosis  \\\n",
       "ID                        copy_num                                           \n",
       "TranID1409030010044114444 0        -3.677913e-13 -0.287598       -3.927273   \n",
       "TranID1209210010044118805 0         2.744152e-13 -2.355343       -3.139161   \n",
       "TranID1310250040014131234 0        -2.952595e-13 -1.412739       -3.049541   \n",
       "TranID801010040034114166  0         7.185570e-13 -0.458774       -3.396739   \n",
       "TranID1011080040044131101 0        -6.340534e-13 -0.794969       -3.238866   \n",
       "\n",
       "                                         std  stetson_j  stetson_k  bin_class  \\\n",
       "ID                        copy_num                                              \n",
       "TranID1409030010044114444 0         0.681471  -0.562822   0.707972      False   \n",
       "TranID1209210010044118805 0         0.788365   0.941645   0.322600      False   \n",
       "TranID1310250040014131234 0         0.656324   1.700725   0.492124       True   \n",
       "TranID801010040034114166  0         0.686460   0.922882   0.738895      False   \n",
       "TranID1011080040044131101 0         0.753666   0.984150   0.627376       True   \n",
       "\n",
       "                                    fact_Class  \n",
       "ID                        copy_num              \n",
       "TranID1409030010044114444 0                  0  \n",
       "TranID1209210010044118805 0                  0  \n",
       "TranID1310250040014131234 0                  1  \n",
       "TranID801010040034114166  0                  0  \n",
       "TranID1011080040044131101 0                  1  \n",
       "\n",
       "[5 rows x 34 columns]"
      ]
     },
     "execution_count": 42,
     "metadata": {},
     "output_type": "execute_result"
    }
   ],
   "source": [
    "diego_t_train.head()"
   ]
  },
  {
   "cell_type": "code",
   "execution_count": 43,
   "metadata": {},
   "outputs": [
    {
     "data": {
      "text/html": [
       "<div>\n",
       "<style scoped>\n",
       "    .dataframe tbody tr th:only-of-type {\n",
       "        vertical-align: middle;\n",
       "    }\n",
       "\n",
       "    .dataframe tbody tr th {\n",
       "        vertical-align: top;\n",
       "    }\n",
       "\n",
       "    .dataframe thead th {\n",
       "        text-align: right;\n",
       "    }\n",
       "</style>\n",
       "<table border=\"1\" class=\"dataframe\">\n",
       "  <thead>\n",
       "    <tr style=\"text-align: right;\">\n",
       "      <th></th>\n",
       "      <th></th>\n",
       "      <th>Class</th>\n",
       "      <th>ObsCount</th>\n",
       "      <th>amplitude</th>\n",
       "      <th>beyond1st</th>\n",
       "      <th>flux_percentile_ratio_mid20</th>\n",
       "      <th>flux_percentile_ratio_mid35</th>\n",
       "      <th>flux_percentile_ratio_mid50</th>\n",
       "      <th>flux_percentile_ratio_mid65</th>\n",
       "      <th>flux_percentile_ratio_mid80</th>\n",
       "      <th>kurtosis</th>\n",
       "      <th>...</th>\n",
       "      <th>poly4_t2</th>\n",
       "      <th>poly4_t3</th>\n",
       "      <th>poly4_t4</th>\n",
       "      <th>skew</th>\n",
       "      <th>small_kurtosis</th>\n",
       "      <th>std</th>\n",
       "      <th>stetson_j</th>\n",
       "      <th>stetson_k</th>\n",
       "      <th>bin_class</th>\n",
       "      <th>fact_Class</th>\n",
       "    </tr>\n",
       "    <tr>\n",
       "      <th>ID</th>\n",
       "      <th>copy_num</th>\n",
       "      <th></th>\n",
       "      <th></th>\n",
       "      <th></th>\n",
       "      <th></th>\n",
       "      <th></th>\n",
       "      <th></th>\n",
       "      <th></th>\n",
       "      <th></th>\n",
       "      <th></th>\n",
       "      <th></th>\n",
       "      <th></th>\n",
       "      <th></th>\n",
       "      <th></th>\n",
       "      <th></th>\n",
       "      <th></th>\n",
       "      <th></th>\n",
       "      <th></th>\n",
       "      <th></th>\n",
       "      <th></th>\n",
       "      <th></th>\n",
       "      <th></th>\n",
       "    </tr>\n",
       "  </thead>\n",
       "  <tbody>\n",
       "    <tr>\n",
       "      <th>CataID1121048016765</th>\n",
       "      <th>0</th>\n",
       "      <td>non-transient</td>\n",
       "      <td>37</td>\n",
       "      <td>1.325</td>\n",
       "      <td>0.270270</td>\n",
       "      <td>0.182249</td>\n",
       "      <td>0.269822</td>\n",
       "      <td>0.325444</td>\n",
       "      <td>0.495858</td>\n",
       "      <td>0.637870</td>\n",
       "      <td>0.806118</td>\n",
       "      <td>...</td>\n",
       "      <td>5.795073e-09</td>\n",
       "      <td>1.657338e-10</td>\n",
       "      <td>1.347946e-13</td>\n",
       "      <td>-0.121108</td>\n",
       "      <td>-3.267227</td>\n",
       "      <td>0.520336</td>\n",
       "      <td>-0.213986</td>\n",
       "      <td>0.658328</td>\n",
       "      <td>False</td>\n",
       "      <td>0</td>\n",
       "    </tr>\n",
       "    <tr>\n",
       "      <th>CataID1121048016959</th>\n",
       "      <th>0</th>\n",
       "      <td>non-transient</td>\n",
       "      <td>162</td>\n",
       "      <td>1.285</td>\n",
       "      <td>0.333333</td>\n",
       "      <td>0.174850</td>\n",
       "      <td>0.310580</td>\n",
       "      <td>0.441875</td>\n",
       "      <td>0.635413</td>\n",
       "      <td>0.798226</td>\n",
       "      <td>-0.216866</td>\n",
       "      <td>...</td>\n",
       "      <td>1.175388e-07</td>\n",
       "      <td>5.420264e-11</td>\n",
       "      <td>-1.443238e-15</td>\n",
       "      <td>-0.027053</td>\n",
       "      <td>-3.056722</td>\n",
       "      <td>0.497320</td>\n",
       "      <td>0.158238</td>\n",
       "      <td>0.711336</td>\n",
       "      <td>False</td>\n",
       "      <td>0</td>\n",
       "    </tr>\n",
       "    <tr>\n",
       "      <th>CataID1112021056668</th>\n",
       "      <th>0</th>\n",
       "      <td>non-transient</td>\n",
       "      <td>25</td>\n",
       "      <td>1.090</td>\n",
       "      <td>0.440000</td>\n",
       "      <td>0.211813</td>\n",
       "      <td>0.319756</td>\n",
       "      <td>0.448065</td>\n",
       "      <td>0.540733</td>\n",
       "      <td>0.810591</td>\n",
       "      <td>-0.578216</td>\n",
       "      <td>...</td>\n",
       "      <td>2.293719e-07</td>\n",
       "      <td>-2.428915e-10</td>\n",
       "      <td>3.115327e-14</td>\n",
       "      <td>-0.402302</td>\n",
       "      <td>-3.415020</td>\n",
       "      <td>0.617377</td>\n",
       "      <td>-0.326482</td>\n",
       "      <td>0.714699</td>\n",
       "      <td>False</td>\n",
       "      <td>0</td>\n",
       "    </tr>\n",
       "    <tr>\n",
       "      <th>CataID1112021056680</th>\n",
       "      <th>0</th>\n",
       "      <td>non-transient</td>\n",
       "      <td>342</td>\n",
       "      <td>0.770</td>\n",
       "      <td>0.201754</td>\n",
       "      <td>0.079491</td>\n",
       "      <td>0.193561</td>\n",
       "      <td>0.286169</td>\n",
       "      <td>0.450318</td>\n",
       "      <td>0.683625</td>\n",
       "      <td>4.943506</td>\n",
       "      <td>...</td>\n",
       "      <td>1.679038e-08</td>\n",
       "      <td>2.447224e-11</td>\n",
       "      <td>-1.943614e-14</td>\n",
       "      <td>1.654544</td>\n",
       "      <td>-3.026575</td>\n",
       "      <td>0.211430</td>\n",
       "      <td>0.096149</td>\n",
       "      <td>0.745172</td>\n",
       "      <td>False</td>\n",
       "      <td>0</td>\n",
       "    </tr>\n",
       "    <tr>\n",
       "      <th>CataID1112021056719</th>\n",
       "      <th>0</th>\n",
       "      <td>non-transient</td>\n",
       "      <td>368</td>\n",
       "      <td>0.210</td>\n",
       "      <td>0.271739</td>\n",
       "      <td>0.133333</td>\n",
       "      <td>0.266667</td>\n",
       "      <td>0.400000</td>\n",
       "      <td>0.533333</td>\n",
       "      <td>0.800000</td>\n",
       "      <td>1.958833</td>\n",
       "      <td>...</td>\n",
       "      <td>-3.588746e-08</td>\n",
       "      <td>2.733594e-12</td>\n",
       "      <td>1.793104e-14</td>\n",
       "      <td>-0.325084</td>\n",
       "      <td>-3.024680</td>\n",
       "      <td>0.049496</td>\n",
       "      <td>0.060285</td>\n",
       "      <td>0.769558</td>\n",
       "      <td>False</td>\n",
       "      <td>0</td>\n",
       "    </tr>\n",
       "  </tbody>\n",
       "</table>\n",
       "<p>5 rows × 34 columns</p>\n",
       "</div>"
      ],
      "text/plain": [
       "                                      Class  ObsCount  amplitude  beyond1st  \\\n",
       "ID                  copy_num                                                  \n",
       "CataID1121048016765 0         non-transient        37      1.325   0.270270   \n",
       "CataID1121048016959 0         non-transient       162      1.285   0.333333   \n",
       "CataID1112021056668 0         non-transient        25      1.090   0.440000   \n",
       "CataID1112021056680 0         non-transient       342      0.770   0.201754   \n",
       "CataID1112021056719 0         non-transient       368      0.210   0.271739   \n",
       "\n",
       "                              flux_percentile_ratio_mid20  \\\n",
       "ID                  copy_num                                \n",
       "CataID1121048016765 0                            0.182249   \n",
       "CataID1121048016959 0                            0.174850   \n",
       "CataID1112021056668 0                            0.211813   \n",
       "CataID1112021056680 0                            0.079491   \n",
       "CataID1112021056719 0                            0.133333   \n",
       "\n",
       "                              flux_percentile_ratio_mid35  \\\n",
       "ID                  copy_num                                \n",
       "CataID1121048016765 0                            0.269822   \n",
       "CataID1121048016959 0                            0.310580   \n",
       "CataID1112021056668 0                            0.319756   \n",
       "CataID1112021056680 0                            0.193561   \n",
       "CataID1112021056719 0                            0.266667   \n",
       "\n",
       "                              flux_percentile_ratio_mid50  \\\n",
       "ID                  copy_num                                \n",
       "CataID1121048016765 0                            0.325444   \n",
       "CataID1121048016959 0                            0.441875   \n",
       "CataID1112021056668 0                            0.448065   \n",
       "CataID1112021056680 0                            0.286169   \n",
       "CataID1112021056719 0                            0.400000   \n",
       "\n",
       "                              flux_percentile_ratio_mid65  \\\n",
       "ID                  copy_num                                \n",
       "CataID1121048016765 0                            0.495858   \n",
       "CataID1121048016959 0                            0.635413   \n",
       "CataID1112021056668 0                            0.540733   \n",
       "CataID1112021056680 0                            0.450318   \n",
       "CataID1112021056719 0                            0.533333   \n",
       "\n",
       "                              flux_percentile_ratio_mid80  kurtosis  \\\n",
       "ID                  copy_num                                          \n",
       "CataID1121048016765 0                            0.637870  0.806118   \n",
       "CataID1121048016959 0                            0.798226 -0.216866   \n",
       "CataID1112021056668 0                            0.810591 -0.578216   \n",
       "CataID1112021056680 0                            0.683625  4.943506   \n",
       "CataID1112021056719 0                            0.800000  1.958833   \n",
       "\n",
       "                                 ...          poly4_t2      poly4_t3  \\\n",
       "ID                  copy_num     ...                                   \n",
       "CataID1121048016765 0            ...      5.795073e-09  1.657338e-10   \n",
       "CataID1121048016959 0            ...      1.175388e-07  5.420264e-11   \n",
       "CataID1112021056668 0            ...      2.293719e-07 -2.428915e-10   \n",
       "CataID1112021056680 0            ...      1.679038e-08  2.447224e-11   \n",
       "CataID1112021056719 0            ...     -3.588746e-08  2.733594e-12   \n",
       "\n",
       "                                  poly4_t4      skew  small_kurtosis  \\\n",
       "ID                  copy_num                                           \n",
       "CataID1121048016765 0         1.347946e-13 -0.121108       -3.267227   \n",
       "CataID1121048016959 0        -1.443238e-15 -0.027053       -3.056722   \n",
       "CataID1112021056668 0         3.115327e-14 -0.402302       -3.415020   \n",
       "CataID1112021056680 0        -1.943614e-14  1.654544       -3.026575   \n",
       "CataID1112021056719 0         1.793104e-14 -0.325084       -3.024680   \n",
       "\n",
       "                                   std  stetson_j  stetson_k  bin_class  \\\n",
       "ID                  copy_num                                              \n",
       "CataID1121048016765 0         0.520336  -0.213986   0.658328      False   \n",
       "CataID1121048016959 0         0.497320   0.158238   0.711336      False   \n",
       "CataID1112021056668 0         0.617377  -0.326482   0.714699      False   \n",
       "CataID1112021056680 0         0.211430   0.096149   0.745172      False   \n",
       "CataID1112021056719 0         0.049496   0.060285   0.769558      False   \n",
       "\n",
       "                              fact_Class  \n",
       "ID                  copy_num              \n",
       "CataID1121048016765 0                  0  \n",
       "CataID1121048016959 0                  0  \n",
       "CataID1112021056668 0                  0  \n",
       "CataID1112021056680 0                  0  \n",
       "CataID1112021056719 0                  0  \n",
       "\n",
       "[5 rows x 34 columns]"
      ]
     },
     "execution_count": 43,
     "metadata": {},
     "output_type": "execute_result"
    }
   ],
   "source": [
    "diego_nt.head()"
   ]
  },
  {
   "cell_type": "markdown",
   "metadata": {},
   "source": [
    "## Shuffle the data"
   ]
  },
  {
   "cell_type": "code",
   "execution_count": 44,
   "metadata": {},
   "outputs": [],
   "source": [
    "diego_t_train = diego_t_train.sample(frac=1)\n",
    "diego_t_test = diego_t_test.sample(frac=1)\n",
    "diego_nt = diego_nt.sample(frac=1)"
   ]
  },
  {
   "cell_type": "markdown",
   "metadata": {},
   "source": [
    "# SN within transients and non-transients"
   ]
  },
  {
   "cell_type": "code",
   "execution_count": 45,
   "metadata": {},
   "outputs": [],
   "source": [
    "nt_train, nt_test= train_test_split(diego_nt,test_size = 0.25)"
   ]
  },
  {
   "cell_type": "code",
   "execution_count": 46,
   "metadata": {},
   "outputs": [],
   "source": [
    "all_train = pd.concat([diego_t_train,nt_train])\n",
    "all_test = pd.concat([diego_t_test,nt_test])"
   ]
  },
  {
   "cell_type": "code",
   "execution_count": 47,
   "metadata": {},
   "outputs": [],
   "source": [
    "all_train = all_train.sample(frac=1)\n",
    "all_test = all_test.sample(frac=1)"
   ]
  },
  {
   "cell_type": "code",
   "execution_count": 48,
   "metadata": {},
   "outputs": [
    {
     "name": "stdout",
     "output_type": "stream",
     "text": [
      "Index(['amplitude', 'beyond1st', 'flux_percentile_ratio_mid20',\n",
      "       'flux_percentile_ratio_mid35', 'flux_percentile_ratio_mid50',\n",
      "       'flux_percentile_ratio_mid65', 'flux_percentile_ratio_mid80',\n",
      "       'kurtosis', 'max_slope', 'median_absolute_deviation',\n",
      "       'median_buffer_range_percentage', 'pair_slope_trend',\n",
      "       'pair_slope_trend_last_30', 'percent_amplitude',\n",
      "       'percent_difference_flux_percentile', 'poly1_t1', 'poly2_t1',\n",
      "       'poly2_t2', 'poly3_t1', 'poly3_t2', 'poly3_t3', 'poly4_t1', 'poly4_t2',\n",
      "       'poly4_t3', 'poly4_t4', 'skew', 'small_kurtosis', 'std', 'stetson_j',\n",
      "       'stetson_k'],\n",
      "      dtype='object')\n"
     ]
    }
   ],
   "source": [
    "features = all_train.columns[2:-2]\n",
    "print(features)\n",
    "y_train = np.array(all_train['fact_Class'])\n",
    "y_test = np.array(all_test['fact_Class'])"
   ]
  },
  {
   "cell_type": "code",
   "execution_count": 49,
   "metadata": {},
   "outputs": [
    {
     "name": "stdout",
     "output_type": "stream",
     "text": [
      "46583\n",
      "4869\n"
     ]
    }
   ],
   "source": [
    "print(len(y_train))\n",
    "print(len(y_test))"
   ]
  },
  {
   "cell_type": "markdown",
   "metadata": {},
   "source": [
    "# Train the algorithm"
   ]
  },
  {
   "cell_type": "code",
   "execution_count": 50,
   "metadata": {},
   "outputs": [
    {
     "data": {
      "text/plain": [
       "RandomForestClassifier(bootstrap=True, class_weight='balanced',\n",
       "            criterion='gini', max_depth=None, max_features='auto',\n",
       "            max_leaf_nodes=None, min_impurity_decrease=0.0,\n",
       "            min_impurity_split=None, min_samples_leaf=1,\n",
       "            min_samples_split=2, min_weight_fraction_leaf=0.0,\n",
       "            n_estimators=50, n_jobs=1, oob_score=False, random_state=0,\n",
       "            verbose=0, warm_start=False)"
      ]
     },
     "execution_count": 50,
     "metadata": {},
     "output_type": "execute_result"
    }
   ],
   "source": [
    "clf = RandomForestClassifier(n_estimators=50,random_state=0, class_weight='balanced')\n",
    "clf.fit(all_train[features], y_train)"
   ]
  },
  {
   "cell_type": "code",
   "execution_count": 51,
   "metadata": {},
   "outputs": [
    {
     "data": {
      "text/plain": [
       "0.8192647360854385"
      ]
     },
     "execution_count": 51,
     "metadata": {},
     "output_type": "execute_result"
    }
   ],
   "source": [
    "clf.score(all_test[features],y_test)"
   ]
  },
  {
   "cell_type": "code",
   "execution_count": 52,
   "metadata": {},
   "outputs": [
    {
     "data": {
      "text/html": [
       "<div>\n",
       "<style scoped>\n",
       "    .dataframe tbody tr th:only-of-type {\n",
       "        vertical-align: middle;\n",
       "    }\n",
       "\n",
       "    .dataframe tbody tr th {\n",
       "        vertical-align: top;\n",
       "    }\n",
       "\n",
       "    .dataframe thead th {\n",
       "        text-align: right;\n",
       "    }\n",
       "</style>\n",
       "<table border=\"1\" class=\"dataframe\">\n",
       "  <thead>\n",
       "    <tr style=\"text-align: right;\">\n",
       "      <th>Actual</th>\n",
       "      <th>0</th>\n",
       "      <th>1</th>\n",
       "    </tr>\n",
       "    <tr>\n",
       "      <th>Predicted</th>\n",
       "      <th></th>\n",
       "      <th></th>\n",
       "    </tr>\n",
       "  </thead>\n",
       "  <tbody>\n",
       "    <tr>\n",
       "      <th>0</th>\n",
       "      <td>3949</td>\n",
       "      <td>725</td>\n",
       "    </tr>\n",
       "    <tr>\n",
       "      <th>1</th>\n",
       "      <td>155</td>\n",
       "      <td>40</td>\n",
       "    </tr>\n",
       "  </tbody>\n",
       "</table>\n",
       "</div>"
      ],
      "text/plain": [
       "Actual         0    1\n",
       "Predicted            \n",
       "0           3949  725\n",
       "1            155   40"
      ]
     },
     "execution_count": 52,
     "metadata": {},
     "output_type": "execute_result"
    }
   ],
   "source": [
    "preds = clf.predict(all_test[features])\n",
    "pd.crosstab(preds, y_test, rownames=['Predicted '], colnames=['Actual '])"
   ]
  },
  {
   "cell_type": "code",
   "execution_count": 53,
   "metadata": {},
   "outputs": [
    {
     "data": {
      "text/plain": [
       "Text(0,0.5,'precision')"
      ]
     },
     "execution_count": 53,
     "metadata": {},
     "output_type": "execute_result"
    },
    {
     "data": {
      "image/png": "[encoded data removed]",
      "text/plain": [
       "<matplotlib.figure.Figure at 0x7f44549160f0>"
      ]
     },
     "metadata": {},
     "output_type": "display_data"
    }
   ],
   "source": [
    "# plt.style.use(['dark_background'])\n",
    "preds1 = clf.predict_proba(all_test[features])\n",
    "precision, recall, _ = precision_recall_curve(y_test, preds1[:,0],pos_label=0)\n",
    "\n",
    "plt.step(recall,precision)\n",
    "plt.fill_between(recall, precision,step='pre', alpha=0.2,\n",
    "                 color='b')\n",
    "plt.xlabel('recall')\n",
    "plt.ylabel('precision')"
   ]
  },
  {
   "cell_type": "code",
   "execution_count": 54,
   "metadata": {},
   "outputs": [
    {
     "data": {
      "text/plain": [
       "0.8918828517315024"
      ]
     },
     "execution_count": 54,
     "metadata": {},
     "output_type": "execute_result"
    }
   ],
   "source": [
    "integrate.trapz(precision[::-1],recall[::-1])"
   ]
  },
  {
   "cell_type": "code",
   "execution_count": 55,
   "metadata": {},
   "outputs": [
    {
     "data": {
      "text/plain": [
       "0.08333333333333334"
      ]
     },
     "execution_count": 55,
     "metadata": {},
     "output_type": "execute_result"
    }
   ],
   "source": [
    "\n",
    "f1_score(np.array(preds),np.array(y_test))"
   ]
  },
  {
   "cell_type": "markdown",
   "metadata": {},
   "source": [
    "# SN within transients"
   ]
  },
  {
   "cell_type": "code",
   "execution_count": 66,
   "metadata": {},
   "outputs": [],
   "source": [
    "\n",
    "all_train = diego_t_train\n",
    "all_test = diego_t_test\n",
    "\n"
   ]
  },
  {
   "cell_type": "code",
   "execution_count": 74,
   "metadata": {},
   "outputs": [
    {
     "data": {
      "text/html": [
       "<div>\n",
       "<style scoped>\n",
       "    .dataframe tbody tr th:only-of-type {\n",
       "        vertical-align: middle;\n",
       "    }\n",
       "\n",
       "    .dataframe tbody tr th {\n",
       "        vertical-align: top;\n",
       "    }\n",
       "\n",
       "    .dataframe thead th {\n",
       "        text-align: right;\n",
       "    }\n",
       "</style>\n",
       "<table border=\"1\" class=\"dataframe\">\n",
       "  <thead>\n",
       "    <tr style=\"text-align: right;\">\n",
       "      <th></th>\n",
       "      <th></th>\n",
       "      <th>Class</th>\n",
       "      <th>ObsCount</th>\n",
       "      <th>amplitude</th>\n",
       "      <th>beyond1st</th>\n",
       "      <th>flux_percentile_ratio_mid20</th>\n",
       "      <th>flux_percentile_ratio_mid35</th>\n",
       "      <th>flux_percentile_ratio_mid50</th>\n",
       "      <th>flux_percentile_ratio_mid65</th>\n",
       "      <th>flux_percentile_ratio_mid80</th>\n",
       "      <th>kurtosis</th>\n",
       "      <th>...</th>\n",
       "      <th>poly4_t2</th>\n",
       "      <th>poly4_t3</th>\n",
       "      <th>poly4_t4</th>\n",
       "      <th>skew</th>\n",
       "      <th>small_kurtosis</th>\n",
       "      <th>std</th>\n",
       "      <th>stetson_j</th>\n",
       "      <th>stetson_k</th>\n",
       "      <th>bin_class</th>\n",
       "      <th>fact_Class</th>\n",
       "    </tr>\n",
       "    <tr>\n",
       "      <th>ID</th>\n",
       "      <th>copy_num</th>\n",
       "      <th></th>\n",
       "      <th></th>\n",
       "      <th></th>\n",
       "      <th></th>\n",
       "      <th></th>\n",
       "      <th></th>\n",
       "      <th></th>\n",
       "      <th></th>\n",
       "      <th></th>\n",
       "      <th></th>\n",
       "      <th></th>\n",
       "      <th></th>\n",
       "      <th></th>\n",
       "      <th></th>\n",
       "      <th></th>\n",
       "      <th></th>\n",
       "      <th></th>\n",
       "      <th></th>\n",
       "      <th></th>\n",
       "      <th></th>\n",
       "      <th></th>\n",
       "    </tr>\n",
       "  </thead>\n",
       "  <tbody>\n",
       "    <tr>\n",
       "      <th>TranID1601301490384135528</th>\n",
       "      <th>4</th>\n",
       "      <td>HPM</td>\n",
       "      <td>13</td>\n",
       "      <td>0.201680</td>\n",
       "      <td>0.230769</td>\n",
       "      <td>0.128276</td>\n",
       "      <td>0.203179</td>\n",
       "      <td>0.368561</td>\n",
       "      <td>0.405794</td>\n",
       "      <td>0.774623</td>\n",
       "      <td>0.644358</td>\n",
       "      <td>...</td>\n",
       "      <td>-3.254815e-05</td>\n",
       "      <td>3.226448e-08</td>\n",
       "      <td>5.315882e-10</td>\n",
       "      <td>-0.963255</td>\n",
       "      <td>-3.927273</td>\n",
       "      <td>0.116035</td>\n",
       "      <td>1.064054</td>\n",
       "      <td>0.779512</td>\n",
       "      <td>False</td>\n",
       "      <td>0</td>\n",
       "    </tr>\n",
       "    <tr>\n",
       "      <th>TranID1004121040434181465</th>\n",
       "      <th>7</th>\n",
       "      <td>SN</td>\n",
       "      <td>12</td>\n",
       "      <td>0.821045</td>\n",
       "      <td>0.500000</td>\n",
       "      <td>0.785029</td>\n",
       "      <td>0.802570</td>\n",
       "      <td>0.816606</td>\n",
       "      <td>0.846517</td>\n",
       "      <td>0.913308</td>\n",
       "      <td>-2.315540</td>\n",
       "      <td>...</td>\n",
       "      <td>-1.168190e+02</td>\n",
       "      <td>-7.340511e-04</td>\n",
       "      <td>3.214634e-01</td>\n",
       "      <td>-0.008574</td>\n",
       "      <td>-4.033333</td>\n",
       "      <td>0.688105</td>\n",
       "      <td>6.689121</td>\n",
       "      <td>0.977076</td>\n",
       "      <td>True</td>\n",
       "      <td>1</td>\n",
       "    </tr>\n",
       "    <tr>\n",
       "      <th>TranID1109190121114107721</th>\n",
       "      <th>5</th>\n",
       "      <td>CV</td>\n",
       "      <td>81</td>\n",
       "      <td>2.040180</td>\n",
       "      <td>0.395062</td>\n",
       "      <td>0.119920</td>\n",
       "      <td>0.322553</td>\n",
       "      <td>0.482442</td>\n",
       "      <td>0.582825</td>\n",
       "      <td>0.889510</td>\n",
       "      <td>-0.876362</td>\n",
       "      <td>...</td>\n",
       "      <td>1.328852e-07</td>\n",
       "      <td>-3.116253e-11</td>\n",
       "      <td>-4.693852e-14</td>\n",
       "      <td>-0.018814</td>\n",
       "      <td>-3.115871</td>\n",
       "      <td>1.094954</td>\n",
       "      <td>3.378831</td>\n",
       "      <td>0.716476</td>\n",
       "      <td>False</td>\n",
       "      <td>0</td>\n",
       "    </tr>\n",
       "    <tr>\n",
       "      <th>TranID1006010090764153269</th>\n",
       "      <th>9</th>\n",
       "      <td>Blazar</td>\n",
       "      <td>225</td>\n",
       "      <td>1.872204</td>\n",
       "      <td>0.337778</td>\n",
       "      <td>0.127277</td>\n",
       "      <td>0.246815</td>\n",
       "      <td>0.351678</td>\n",
       "      <td>0.522938</td>\n",
       "      <td>0.767629</td>\n",
       "      <td>0.449904</td>\n",
       "      <td>...</td>\n",
       "      <td>6.540515e-09</td>\n",
       "      <td>-5.824525e-11</td>\n",
       "      <td>-6.860942e-14</td>\n",
       "      <td>-0.146151</td>\n",
       "      <td>-3.040601</td>\n",
       "      <td>0.617565</td>\n",
       "      <td>1.475649</td>\n",
       "      <td>0.720621</td>\n",
       "      <td>False</td>\n",
       "      <td>0</td>\n",
       "    </tr>\n",
       "    <tr>\n",
       "      <th>TranID1202111180194119491</th>\n",
       "      <th>6</th>\n",
       "      <td>SN</td>\n",
       "      <td>28</td>\n",
       "      <td>1.696602</td>\n",
       "      <td>0.464286</td>\n",
       "      <td>0.119691</td>\n",
       "      <td>0.307788</td>\n",
       "      <td>0.451805</td>\n",
       "      <td>0.608682</td>\n",
       "      <td>0.865437</td>\n",
       "      <td>-0.558828</td>\n",
       "      <td>...</td>\n",
       "      <td>-2.047051e-06</td>\n",
       "      <td>1.631758e-09</td>\n",
       "      <td>1.634193e-12</td>\n",
       "      <td>-0.471246</td>\n",
       "      <td>-3.364615</td>\n",
       "      <td>0.948155</td>\n",
       "      <td>2.168519</td>\n",
       "      <td>0.634728</td>\n",
       "      <td>True</td>\n",
       "      <td>1</td>\n",
       "    </tr>\n",
       "  </tbody>\n",
       "</table>\n",
       "<p>5 rows × 34 columns</p>\n",
       "</div>"
      ],
      "text/plain": [
       "                                     Class  ObsCount  amplitude  beyond1st  \\\n",
       "ID                        copy_num                                           \n",
       "TranID1601301490384135528 4            HPM        13   0.201680   0.230769   \n",
       "TranID1004121040434181465 7             SN        12   0.821045   0.500000   \n",
       "TranID1109190121114107721 5             CV        81   2.040180   0.395062   \n",
       "TranID1006010090764153269 9         Blazar       225   1.872204   0.337778   \n",
       "TranID1202111180194119491 6             SN        28   1.696602   0.464286   \n",
       "\n",
       "                                    flux_percentile_ratio_mid20  \\\n",
       "ID                        copy_num                                \n",
       "TranID1601301490384135528 4                            0.128276   \n",
       "TranID1004121040434181465 7                            0.785029   \n",
       "TranID1109190121114107721 5                            0.119920   \n",
       "TranID1006010090764153269 9                            0.127277   \n",
       "TranID1202111180194119491 6                            0.119691   \n",
       "\n",
       "                                    flux_percentile_ratio_mid35  \\\n",
       "ID                        copy_num                                \n",
       "TranID1601301490384135528 4                            0.203179   \n",
       "TranID1004121040434181465 7                            0.802570   \n",
       "TranID1109190121114107721 5                            0.322553   \n",
       "TranID1006010090764153269 9                            0.246815   \n",
       "TranID1202111180194119491 6                            0.307788   \n",
       "\n",
       "                                    flux_percentile_ratio_mid50  \\\n",
       "ID                        copy_num                                \n",
       "TranID1601301490384135528 4                            0.368561   \n",
       "TranID1004121040434181465 7                            0.816606   \n",
       "TranID1109190121114107721 5                            0.482442   \n",
       "TranID1006010090764153269 9                            0.351678   \n",
       "TranID1202111180194119491 6                            0.451805   \n",
       "\n",
       "                                    flux_percentile_ratio_mid65  \\\n",
       "ID                        copy_num                                \n",
       "TranID1601301490384135528 4                            0.405794   \n",
       "TranID1004121040434181465 7                            0.846517   \n",
       "TranID1109190121114107721 5                            0.582825   \n",
       "TranID1006010090764153269 9                            0.522938   \n",
       "TranID1202111180194119491 6                            0.608682   \n",
       "\n",
       "                                    flux_percentile_ratio_mid80  kurtosis  \\\n",
       "ID                        copy_num                                          \n",
       "TranID1601301490384135528 4                            0.774623  0.644358   \n",
       "TranID1004121040434181465 7                            0.913308 -2.315540   \n",
       "TranID1109190121114107721 5                            0.889510 -0.876362   \n",
       "TranID1006010090764153269 9                            0.767629  0.449904   \n",
       "TranID1202111180194119491 6                            0.865437 -0.558828   \n",
       "\n",
       "                                       ...          poly4_t2      poly4_t3  \\\n",
       "ID                        copy_num     ...                                   \n",
       "TranID1601301490384135528 4            ...     -3.254815e-05  3.226448e-08   \n",
       "TranID1004121040434181465 7            ...     -1.168190e+02 -7.340511e-04   \n",
       "TranID1109190121114107721 5            ...      1.328852e-07 -3.116253e-11   \n",
       "TranID1006010090764153269 9            ...      6.540515e-09 -5.824525e-11   \n",
       "TranID1202111180194119491 6            ...     -2.047051e-06  1.631758e-09   \n",
       "\n",
       "                                        poly4_t4      skew  small_kurtosis  \\\n",
       "ID                        copy_num                                           \n",
       "TranID1601301490384135528 4         5.315882e-10 -0.963255       -3.927273   \n",
       "TranID1004121040434181465 7         3.214634e-01 -0.008574       -4.033333   \n",
       "TranID1109190121114107721 5        -4.693852e-14 -0.018814       -3.115871   \n",
       "TranID1006010090764153269 9        -6.860942e-14 -0.146151       -3.040601   \n",
       "TranID1202111180194119491 6         1.634193e-12 -0.471246       -3.364615   \n",
       "\n",
       "                                         std  stetson_j  stetson_k  bin_class  \\\n",
       "ID                        copy_num                                              \n",
       "TranID1601301490384135528 4         0.116035   1.064054   0.779512      False   \n",
       "TranID1004121040434181465 7         0.688105   6.689121   0.977076       True   \n",
       "TranID1109190121114107721 5         1.094954   3.378831   0.716476      False   \n",
       "TranID1006010090764153269 9         0.617565   1.475649   0.720621      False   \n",
       "TranID1202111180194119491 6         0.948155   2.168519   0.634728       True   \n",
       "\n",
       "                                    fact_Class  \n",
       "ID                        copy_num              \n",
       "TranID1601301490384135528 4                  0  \n",
       "TranID1004121040434181465 7                  1  \n",
       "TranID1109190121114107721 5                  0  \n",
       "TranID1006010090764153269 9                  0  \n",
       "TranID1202111180194119491 6                  1  \n",
       "\n",
       "[5 rows x 34 columns]"
      ]
     },
     "execution_count": 74,
     "metadata": {},
     "output_type": "execute_result"
    }
   ],
   "source": [
    "all_train.head()"
   ]
  },
  {
   "cell_type": "code",
   "execution_count": 67,
   "metadata": {},
   "outputs": [],
   "source": [
    "all_train = all_train.sample(frac=1)\n",
    "all_test = all_test.sample(frac=1)"
   ]
  },
  {
   "cell_type": "code",
   "execution_count": 68,
   "metadata": {},
   "outputs": [
    {
     "name": "stdout",
     "output_type": "stream",
     "text": [
      "Index(['amplitude', 'beyond1st', 'flux_percentile_ratio_mid20',\n",
      "       'flux_percentile_ratio_mid35', 'flux_percentile_ratio_mid50',\n",
      "       'flux_percentile_ratio_mid65', 'flux_percentile_ratio_mid80',\n",
      "       'kurtosis', 'max_slope', 'median_absolute_deviation',\n",
      "       'median_buffer_range_percentage', 'pair_slope_trend',\n",
      "       'pair_slope_trend_last_30', 'percent_amplitude',\n",
      "       'percent_difference_flux_percentile', 'poly1_t1', 'poly2_t1',\n",
      "       'poly2_t2', 'poly3_t1', 'poly3_t2', 'poly3_t3', 'poly4_t1', 'poly4_t2',\n",
      "       'poly4_t3', 'poly4_t4', 'skew', 'small_kurtosis', 'std', 'stetson_j',\n",
      "       'stetson_k'],\n",
      "      dtype='object')\n"
     ]
    }
   ],
   "source": [
    "features = all_train.columns[2:-2]\n",
    "print(features)\n",
    "y_train = np.array(all_train['fact_Class'])\n",
    "y_test = np.array(all_test['fact_Class'])"
   ]
  },
  {
   "cell_type": "code",
   "execution_count": 69,
   "metadata": {},
   "outputs": [
    {
     "name": "stdout",
     "output_type": "stream",
     "text": [
      "35189\n",
      "1070\n"
     ]
    }
   ],
   "source": [
    "print(len(y_train))\n",
    "print(len(y_test))\n"
   ]
  },
  {
   "cell_type": "code",
   "execution_count": 70,
   "metadata": {},
   "outputs": [
    {
     "data": {
      "text/plain": [
       "RandomForestClassifier(bootstrap=True, class_weight='balanced',\n",
       "            criterion='gini', max_depth=None, max_features='auto',\n",
       "            max_leaf_nodes=None, min_impurity_decrease=0.0,\n",
       "            min_impurity_split=None, min_samples_leaf=1,\n",
       "            min_samples_split=2, min_weight_fraction_leaf=0.0,\n",
       "            n_estimators=50, n_jobs=1, oob_score=False, random_state=0,\n",
       "            verbose=0, warm_start=False)"
      ]
     },
     "execution_count": 70,
     "metadata": {},
     "output_type": "execute_result"
    }
   ],
   "source": [
    "clf = RandomForestClassifier(n_estimators=50,random_state=0, class_weight='balanced')\n",
    "clf.fit(all_train[features], y_train)"
   ]
  },
  {
   "cell_type": "code",
   "execution_count": 71,
   "metadata": {},
   "outputs": [
    {
     "data": {
      "text/plain": [
       "0.18691588785046728"
      ]
     },
     "execution_count": 71,
     "metadata": {},
     "output_type": "execute_result"
    }
   ],
   "source": [
    "clf.score(all_test[features],y_test)"
   ]
  },
  {
   "cell_type": "code",
   "execution_count": 72,
   "metadata": {},
   "outputs": [
    {
     "data": {
      "text/html": [
       "<div>\n",
       "<style scoped>\n",
       "    .dataframe tbody tr th:only-of-type {\n",
       "        vertical-align: middle;\n",
       "    }\n",
       "\n",
       "    .dataframe tbody tr th {\n",
       "        vertical-align: top;\n",
       "    }\n",
       "\n",
       "    .dataframe thead th {\n",
       "        text-align: right;\n",
       "    }\n",
       "</style>\n",
       "<table border=\"1\" class=\"dataframe\">\n",
       "  <thead>\n",
       "    <tr style=\"text-align: right;\">\n",
       "      <th>Actual</th>\n",
       "      <th>0</th>\n",
       "      <th>1</th>\n",
       "    </tr>\n",
       "    <tr>\n",
       "      <th>Predicted</th>\n",
       "      <th></th>\n",
       "      <th></th>\n",
       "    </tr>\n",
       "  </thead>\n",
       "  <tbody>\n",
       "    <tr>\n",
       "      <th>0</th>\n",
       "      <td>138</td>\n",
       "      <td>703</td>\n",
       "    </tr>\n",
       "    <tr>\n",
       "      <th>1</th>\n",
       "      <td>167</td>\n",
       "      <td>62</td>\n",
       "    </tr>\n",
       "  </tbody>\n",
       "</table>\n",
       "</div>"
      ],
      "text/plain": [
       "Actual        0    1\n",
       "Predicted           \n",
       "0           138  703\n",
       "1           167   62"
      ]
     },
     "execution_count": 72,
     "metadata": {},
     "output_type": "execute_result"
    }
   ],
   "source": [
    "preds = clf.predict(all_test[features])\n",
    "pd.crosstab(preds, y_test, rownames=['Predicted '], colnames=['Actual '])"
   ]
  },
  {
   "cell_type": "code",
   "execution_count": 73,
   "metadata": {},
   "outputs": [
    {
     "data": {
      "text/plain": [
       "Text(0,0.5,'precision')"
      ]
     },
     "execution_count": 73,
     "metadata": {},
     "output_type": "execute_result"
    },
    {
     "data": {
      "image/png": "[encoded data removed]",
      "text/plain": [
       "<matplotlib.figure.Figure at 0x7f445480c8d0>"
      ]
     },
     "metadata": {},
     "output_type": "display_data"
    }
   ],
   "source": [
    "# plt.style.use(['dark_background'])\n",
    "preds1 = clf.predict_proba(all_test[features])\n",
    "precision, recall, _ = precision_recall_curve(y_test, preds1[:,0],pos_label=0)\n",
    "\n",
    "plt.step(recall,precision)\n",
    "plt.fill_between(recall, precision,step='pre', alpha=0.2,\n",
    "                 color='b')\n",
    "plt.xlabel('recall')\n",
    "plt.ylabel('precision')"
   ]
  },
  {
   "cell_type": "code",
   "execution_count": 64,
   "metadata": {},
   "outputs": [
    {
     "data": {
      "text/plain": [
       "0.16785557772464102"
      ]
     },
     "execution_count": 64,
     "metadata": {},
     "output_type": "execute_result"
    }
   ],
   "source": [
    "integrate.trapz(precision[::-1],recall[::-1])"
   ]
  },
  {
   "cell_type": "code",
   "execution_count": 65,
   "metadata": {},
   "outputs": [
    {
     "data": {
      "text/plain": [
       "0.12310797174571139"
      ]
     },
     "execution_count": 65,
     "metadata": {},
     "output_type": "execute_result"
    }
   ],
   "source": [
    "f1_score(np.array(preds),np.array(y_test))"
   ]
  },
  {
   "cell_type": "code",
   "execution_count": null,
   "metadata": {},
   "outputs": [],
   "source": []
  }
 ],
 "metadata": {
  "kernelspec": {
   "display_name": "Python 3",
   "language": "python",
   "name": "python3"
  },
  "language_info": {
   "codemirror_mode": {
    "name": "ipython",
    "version": 3
   },
   "file_extension": ".py",
   "mimetype": "text/x-python",
   "name": "python",
   "nbconvert_exporter": "python",
   "pygments_lexer": "ipython3",
   "version": "3.6.4"
  }
 },
 "nbformat": 4,
 "nbformat_minor": 2
}
