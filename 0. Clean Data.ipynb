{
 "cells": [
  {
   "cell_type": "code",
   "execution_count": 4,
   "metadata": {},
   "outputs": [],
   "source": [
    "DATA_PATH = './data/'\n",
    "LIGHTCURVES_PATH = DATA_PATH + 'lightcurves/'\n",
    "FEATURES_PATH = DATA_PATH + 'features/'"
   ]
  },
  {
   "cell_type": "code",
   "execution_count": 5,
   "metadata": {},
   "outputs": [],
   "source": [
    "import numpy as np\n",
    "import pandas as pd\n",
    "import measurements, extract\n",
    "import matplotlib.pyplot as plt"
   ]
  },
  {
   "cell_type": "code",
   "execution_count": 6,
   "metadata": {},
   "outputs": [],
   "source": [
    "def deleteCopies(df_lcs, copies_dict):\n",
    "    for original_id, current_copies_list in copies_dict.items():\n",
    "        df_lcs = df_lcs.drop(current_copies_list, level='ID')\n",
    "    return df_lcs\n",
    "\n",
    "def areEqualLightCurves(df_lcs, id1, id2):\n",
    "    lc1 = df_lcs.loc[id1].sort_values(by='MJD')\n",
    "    lc1 = lc1[['FLUX', 'FLUX_ERROR', 'MJD']].reset_index(drop=True)\n",
    "    lc2 = df_lcs.loc[id2].sort_values(by='MJD')\n",
    "    lc2 = lc2[['FLUX', 'FLUX_ERROR', 'MJD']].reset_index(drop=True)\n",
    "    return lc1.equals(lc2)\n",
    "\n",
    "def possiblyRepeatedObservations(df_lcs, min_obs = 1):\n",
    "    \n",
    "    df_counts_by_observation = df_lcs.groupby(['FLUX', 'FLUX_ERROR', 'MJD'], as_index=False).size().reset_index(name=\"ObsCount\")\n",
    "    df_counts_by_observation = df_counts_by_observation[df_counts_by_observation.ObsCount > min_obs]\n",
    "    return df_counts_by_observation\n",
    "\n",
    "def possiblyRepeatedByGroups(df_lcs):\n",
    "    groups = []\n",
    "    existing = dict()\n",
    "    df_poss_repeat_obs = possiblyRepeatedObservations(df_lcs)\n",
    "    for _, row in df_poss_repeat_obs.iterrows():\n",
    "        current_ids = df_lcs[\n",
    "            (df_lcs.FLUX == row.FLUX)&(df_lcs.FLUX_ERROR == row.FLUX_ERROR) &(df_lcs.MJD == row.MJD)\n",
    "        ].index.get_level_values('ID').unique().format()\n",
    "        if(len(current_ids) > 1) and tuple(current_ids) not in existing:\n",
    "            groups.append(current_ids)\n",
    "            existing[tuple(current_ids)] = True\n",
    "    return groups\n",
    "\n",
    "def repeatedLightCurves(df_lcs, possibly_by_groups_list):\n",
    "    copies = {}\n",
    "    len_possibly_by_groups_list = len(possibly_by_groups_list)\n",
    "    for i_group, group in enumerate(possibly_by_groups_list):\n",
    "        if i_group % int(len_possibly_by_groups_list/10) == 0:\n",
    "            print(i_group, '/', len_possibly_by_groups_list)\n",
    "        found_as_copy = []\n",
    "        for i, id1 in enumerate(group):\n",
    "#             print(i, len(group))\n",
    "            if id1 not in found_as_copy:\n",
    "                for j, id2 in enumerate(group[i+1:]):\n",
    "                    are_equal = areEqualLightCurves(df_lcs, id1, id2)\n",
    "                    if are_equal and (id1 not in copies or id2 not in copies[id1]): \n",
    "                        found_as_copy.append(id2)\n",
    "                        print(id1, id2)\n",
    "                        if id1 not in copies: \n",
    "                            copies[id1] = []\n",
    "                        copies[id1].append(id2)\n",
    "    return copies"
   ]
  },
  {
   "cell_type": "markdown",
   "metadata": {},
   "source": [
    "### Non-SN"
   ]
  },
  {
   "cell_type": "markdown",
   "metadata": {},
   "source": [
    "Import non-sn light curves"
   ]
  },
  {
   "cell_type": "code",
   "execution_count": 5,
   "metadata": {},
   "outputs": [
    {
     "data": {
      "text/plain": [
       "(8580130, 12)"
      ]
     },
     "execution_count": 5,
     "metadata": {},
     "output_type": "execute_result"
    }
   ],
   "source": [
    "filename = 'not_sns.pickle'\n",
    "indir = LIGHTCURVES_PATH; filepath = indir + filename\n",
    "nsns = pd.read_pickle(filepath)\n",
    "nsns.shape"
   ]
  },
  {
   "cell_type": "code",
   "execution_count": 6,
   "metadata": {},
   "outputs": [
    {
     "data": {
      "text/html": [
       "<div>\n",
       "<style scoped>\n",
       "    .dataframe tbody tr th:only-of-type {\n",
       "        vertical-align: middle;\n",
       "    }\n",
       "\n",
       "    .dataframe tbody tr th {\n",
       "        vertical-align: top;\n",
       "    }\n",
       "\n",
       "    .dataframe thead th {\n",
       "        text-align: right;\n",
       "    }\n",
       "</style>\n",
       "<table border=\"1\" class=\"dataframe\">\n",
       "  <thead>\n",
       "    <tr style=\"text-align: right;\">\n",
       "      <th></th>\n",
       "      <th>mjd</th>\n",
       "      <th>classification</th>\n",
       "      <th>zpsys</th>\n",
       "      <th>flux</th>\n",
       "      <th>ra</th>\n",
       "      <th>flux_error</th>\n",
       "      <th>dec</th>\n",
       "      <th>zp</th>\n",
       "      <th>bandpass</th>\n",
       "      <th>magnitude</th>\n",
       "      <th>magnitude_error</th>\n",
       "      <th>ID</th>\n",
       "    </tr>\n",
       "  </thead>\n",
       "  <tbody>\n",
       "    <tr>\n",
       "      <th>0</th>\n",
       "      <td>53080.0</td>\n",
       "      <td>6.0</td>\n",
       "      <td>ab</td>\n",
       "      <td>72.388634</td>\n",
       "      <td>3.764254</td>\n",
       "      <td>0.974762</td>\n",
       "      <td>0.923296</td>\n",
       "      <td>30.0</td>\n",
       "      <td>sdssi</td>\n",
       "      <td>25.350824</td>\n",
       "      <td>0.014620</td>\n",
       "      <td>0</td>\n",
       "    </tr>\n",
       "    <tr>\n",
       "      <th>1</th>\n",
       "      <td>53083.0</td>\n",
       "      <td>6.0</td>\n",
       "      <td>ab</td>\n",
       "      <td>18.016556</td>\n",
       "      <td>3.764254</td>\n",
       "      <td>0.850242</td>\n",
       "      <td>0.923296</td>\n",
       "      <td>30.0</td>\n",
       "      <td>sdssg</td>\n",
       "      <td>26.860821</td>\n",
       "      <td>0.051238</td>\n",
       "      <td>0</td>\n",
       "    </tr>\n",
       "    <tr>\n",
       "      <th>2</th>\n",
       "      <td>53083.0</td>\n",
       "      <td>6.0</td>\n",
       "      <td>ab</td>\n",
       "      <td>82.849670</td>\n",
       "      <td>3.764254</td>\n",
       "      <td>1.209626</td>\n",
       "      <td>0.923296</td>\n",
       "      <td>30.0</td>\n",
       "      <td>sdssi</td>\n",
       "      <td>25.204273</td>\n",
       "      <td>0.015852</td>\n",
       "      <td>0</td>\n",
       "    </tr>\n",
       "    <tr>\n",
       "      <th>3</th>\n",
       "      <td>53109.0</td>\n",
       "      <td>6.0</td>\n",
       "      <td>ab</td>\n",
       "      <td>15.385023</td>\n",
       "      <td>3.764255</td>\n",
       "      <td>1.162016</td>\n",
       "      <td>0.923296</td>\n",
       "      <td>30.0</td>\n",
       "      <td>sdssg</td>\n",
       "      <td>27.032255</td>\n",
       "      <td>0.082005</td>\n",
       "      <td>0</td>\n",
       "    </tr>\n",
       "    <tr>\n",
       "      <th>4</th>\n",
       "      <td>53138.0</td>\n",
       "      <td>6.0</td>\n",
       "      <td>ab</td>\n",
       "      <td>19.325619</td>\n",
       "      <td>3.764254</td>\n",
       "      <td>0.896431</td>\n",
       "      <td>0.923296</td>\n",
       "      <td>30.0</td>\n",
       "      <td>sdssg</td>\n",
       "      <td>26.784666</td>\n",
       "      <td>0.050363</td>\n",
       "      <td>0</td>\n",
       "    </tr>\n",
       "  </tbody>\n",
       "</table>\n",
       "</div>"
      ],
      "text/plain": [
       "       mjd  classification zpsys       flux        ra  flux_error       dec  \\\n",
       "0  53080.0             6.0    ab  72.388634  3.764254    0.974762  0.923296   \n",
       "1  53083.0             6.0    ab  18.016556  3.764254    0.850242  0.923296   \n",
       "2  53083.0             6.0    ab  82.849670  3.764254    1.209626  0.923296   \n",
       "3  53109.0             6.0    ab  15.385023  3.764255    1.162016  0.923296   \n",
       "4  53138.0             6.0    ab  19.325619  3.764254    0.896431  0.923296   \n",
       "\n",
       "     zp bandpass  magnitude  magnitude_error  ID  \n",
       "0  30.0    sdssi  25.350824         0.014620   0  \n",
       "1  30.0    sdssg  26.860821         0.051238   0  \n",
       "2  30.0    sdssi  25.204273         0.015852   0  \n",
       "3  30.0    sdssg  27.032255         0.082005   0  \n",
       "4  30.0    sdssg  26.784666         0.050363   0  "
      ]
     },
     "execution_count": 6,
     "metadata": {},
     "output_type": "execute_result"
    }
   ],
   "source": [
    "nsns.head()"
   ]
  },
  {
   "cell_type": "markdown",
   "metadata": {},
   "source": [
    "Drop irrelevant columns"
   ]
  },
  {
   "cell_type": "code",
   "execution_count": 7,
   "metadata": {},
   "outputs": [
    {
     "data": {
      "text/html": [
       "<div>\n",
       "<style scoped>\n",
       "    .dataframe tbody tr th:only-of-type {\n",
       "        vertical-align: middle;\n",
       "    }\n",
       "\n",
       "    .dataframe tbody tr th {\n",
       "        vertical-align: top;\n",
       "    }\n",
       "\n",
       "    .dataframe thead th {\n",
       "        text-align: right;\n",
       "    }\n",
       "</style>\n",
       "<table border=\"1\" class=\"dataframe\">\n",
       "  <thead>\n",
       "    <tr style=\"text-align: right;\">\n",
       "      <th></th>\n",
       "      <th>mjd</th>\n",
       "      <th>flux</th>\n",
       "      <th>flux_error</th>\n",
       "      <th>bandpass</th>\n",
       "      <th>ID</th>\n",
       "    </tr>\n",
       "  </thead>\n",
       "  <tbody>\n",
       "    <tr>\n",
       "      <th>0</th>\n",
       "      <td>53080.0</td>\n",
       "      <td>72.388634</td>\n",
       "      <td>0.974762</td>\n",
       "      <td>sdssi</td>\n",
       "      <td>0</td>\n",
       "    </tr>\n",
       "    <tr>\n",
       "      <th>1</th>\n",
       "      <td>53083.0</td>\n",
       "      <td>18.016556</td>\n",
       "      <td>0.850242</td>\n",
       "      <td>sdssg</td>\n",
       "      <td>0</td>\n",
       "    </tr>\n",
       "    <tr>\n",
       "      <th>2</th>\n",
       "      <td>53083.0</td>\n",
       "      <td>82.849670</td>\n",
       "      <td>1.209626</td>\n",
       "      <td>sdssi</td>\n",
       "      <td>0</td>\n",
       "    </tr>\n",
       "    <tr>\n",
       "      <th>3</th>\n",
       "      <td>53109.0</td>\n",
       "      <td>15.385023</td>\n",
       "      <td>1.162016</td>\n",
       "      <td>sdssg</td>\n",
       "      <td>0</td>\n",
       "    </tr>\n",
       "    <tr>\n",
       "      <th>4</th>\n",
       "      <td>53138.0</td>\n",
       "      <td>19.325619</td>\n",
       "      <td>0.896431</td>\n",
       "      <td>sdssg</td>\n",
       "      <td>0</td>\n",
       "    </tr>\n",
       "  </tbody>\n",
       "</table>\n",
       "</div>"
      ],
      "text/plain": [
       "       mjd       flux  flux_error bandpass  ID\n",
       "0  53080.0  72.388634    0.974762    sdssi   0\n",
       "1  53083.0  18.016556    0.850242    sdssg   0\n",
       "2  53083.0  82.849670    1.209626    sdssi   0\n",
       "3  53109.0  15.385023    1.162016    sdssg   0\n",
       "4  53138.0  19.325619    0.896431    sdssg   0"
      ]
     },
     "execution_count": 7,
     "metadata": {},
     "output_type": "execute_result"
    }
   ],
   "source": [
    "nsns = nsns.drop(['classification','zpsys','ra','dec','magnitude','magnitude_error','zp'],axis=1)\n",
    "nsns.head()"
   ]
  },
  {
   "cell_type": "code",
   "execution_count": 8,
   "metadata": {},
   "outputs": [],
   "source": [
    "bandpass_elems = ['i','g','r','z']\n",
    "for elem in bandpass_elems:\n",
    "    nsns.loc[nsns.bandpass=='sdss'+elem, 'bandpass'] = elem"
   ]
  },
  {
   "cell_type": "code",
   "execution_count": 9,
   "metadata": {},
   "outputs": [
    {
     "data": {
      "text/plain": [
       "{'g': Int64Index([ 1,  3,  4,  9, 10,  2,  8, 13, 19, 21,\n",
       "             ...\n",
       "             12,  0,  1,  2,  5,  6,  7,  9, 10, 11],\n",
       "            dtype='int64', length=1876341),\n",
       " 'i': Int64Index([ 0,  2,  6,  8,  3,  4,  6,  7,  9, 10,\n",
       "             ...\n",
       "              1,  2,  3,  4,  5,  8, 15, 16, 18, 20],\n",
       "            dtype='int64', length=3230967),\n",
       " 'r': Int64Index([  5,   7,   0,   1,   5,  12,  20,  25,  29,  30,\n",
       "             ...\n",
       "             160, 162, 165,   3,   8,   6,  11,  12,  14,  21],\n",
       "            dtype='int64', length=2647692),\n",
       " 'z': Int64Index([13, 28, 31, 37, 41, 43, 53, 58, 65, 67,\n",
       "             ...\n",
       "             10,  1,  4,  0,  7,  9, 10, 13, 17, 19],\n",
       "            dtype='int64', length=825130)}"
      ]
     },
     "execution_count": 9,
     "metadata": {},
     "output_type": "execute_result"
    }
   ],
   "source": [
    "nsns.groupby(['bandpass']).groups"
   ]
  },
  {
   "cell_type": "code",
   "execution_count": 10,
   "metadata": {},
   "outputs": [
    {
     "data": {
      "text/html": [
       "<div>\n",
       "<style scoped>\n",
       "    .dataframe tbody tr th:only-of-type {\n",
       "        vertical-align: middle;\n",
       "    }\n",
       "\n",
       "    .dataframe tbody tr th {\n",
       "        vertical-align: top;\n",
       "    }\n",
       "\n",
       "    .dataframe thead th {\n",
       "        text-align: right;\n",
       "    }\n",
       "</style>\n",
       "<table border=\"1\" class=\"dataframe\">\n",
       "  <thead>\n",
       "    <tr style=\"text-align: right;\">\n",
       "      <th></th>\n",
       "      <th>mjd</th>\n",
       "      <th>flux</th>\n",
       "      <th>flux_error</th>\n",
       "      <th>bandpass</th>\n",
       "      <th>ID</th>\n",
       "    </tr>\n",
       "  </thead>\n",
       "  <tbody>\n",
       "    <tr>\n",
       "      <th>0</th>\n",
       "      <td>53080.0</td>\n",
       "      <td>72.388634</td>\n",
       "      <td>0.974762</td>\n",
       "      <td>i</td>\n",
       "      <td>0</td>\n",
       "    </tr>\n",
       "    <tr>\n",
       "      <th>1</th>\n",
       "      <td>53083.0</td>\n",
       "      <td>18.016556</td>\n",
       "      <td>0.850242</td>\n",
       "      <td>g</td>\n",
       "      <td>0</td>\n",
       "    </tr>\n",
       "    <tr>\n",
       "      <th>2</th>\n",
       "      <td>53083.0</td>\n",
       "      <td>82.849670</td>\n",
       "      <td>1.209626</td>\n",
       "      <td>i</td>\n",
       "      <td>0</td>\n",
       "    </tr>\n",
       "    <tr>\n",
       "      <th>3</th>\n",
       "      <td>53109.0</td>\n",
       "      <td>15.385023</td>\n",
       "      <td>1.162016</td>\n",
       "      <td>g</td>\n",
       "      <td>0</td>\n",
       "    </tr>\n",
       "    <tr>\n",
       "      <th>4</th>\n",
       "      <td>53138.0</td>\n",
       "      <td>19.325619</td>\n",
       "      <td>0.896431</td>\n",
       "      <td>g</td>\n",
       "      <td>0</td>\n",
       "    </tr>\n",
       "  </tbody>\n",
       "</table>\n",
       "</div>"
      ],
      "text/plain": [
       "       mjd       flux  flux_error bandpass  ID\n",
       "0  53080.0  72.388634    0.974762        i   0\n",
       "1  53083.0  18.016556    0.850242        g   0\n",
       "2  53083.0  82.849670    1.209626        i   0\n",
       "3  53109.0  15.385023    1.162016        g   0\n",
       "4  53138.0  19.325619    0.896431        g   0"
      ]
     },
     "execution_count": 10,
     "metadata": {},
     "output_type": "execute_result"
    }
   ],
   "source": [
    "nsns.head()"
   ]
  },
  {
   "cell_type": "code",
   "execution_count": 11,
   "metadata": {},
   "outputs": [
    {
     "data": {
      "text/plain": [
       "(8580130, 5)"
      ]
     },
     "execution_count": 11,
     "metadata": {},
     "output_type": "execute_result"
    }
   ],
   "source": [
    "nsns.columns = ['MJD','FLUX','FLUX_ERROR','BANDPASS',\"ID\"]\n",
    "nsns.shape"
   ]
  },
  {
   "cell_type": "markdown",
   "metadata": {},
   "source": [
    "Delete rows of blended observations"
   ]
  },
  {
   "cell_type": "code",
   "execution_count": 12,
   "metadata": {},
   "outputs": [
    {
     "data": {
      "text/plain": [
       "(8580130, 5)"
      ]
     },
     "execution_count": 12,
     "metadata": {},
     "output_type": "execute_result"
    }
   ],
   "source": [
    "nsns = nsns.drop_duplicates(['ID','MJD','BANDPASS'], keep='first')\n",
    "nsns.shape"
   ]
  },
  {
   "cell_type": "markdown",
   "metadata": {},
   "source": [
    "Replace index into --> [ID(Object), observation_id]"
   ]
  },
  {
   "cell_type": "code",
   "execution_count": 13,
   "metadata": {},
   "outputs": [
    {
     "data": {
      "text/plain": [
       "(8580130, 4)"
      ]
     },
     "execution_count": 13,
     "metadata": {},
     "output_type": "execute_result"
    }
   ],
   "source": [
    "nsns.index.name = 'observation_id'\n",
    "nsns = nsns.set_index(['ID'], append=True)\n",
    "nsns = nsns.reorder_levels(['ID', 'observation_id'])\n",
    "nsns.shape"
   ]
  },
  {
   "cell_type": "code",
   "execution_count": 14,
   "metadata": {},
   "outputs": [
    {
     "data": {
      "text/html": [
       "<div>\n",
       "<style scoped>\n",
       "    .dataframe tbody tr th:only-of-type {\n",
       "        vertical-align: middle;\n",
       "    }\n",
       "\n",
       "    .dataframe tbody tr th {\n",
       "        vertical-align: top;\n",
       "    }\n",
       "\n",
       "    .dataframe thead th {\n",
       "        text-align: right;\n",
       "    }\n",
       "</style>\n",
       "<table border=\"1\" class=\"dataframe\">\n",
       "  <thead>\n",
       "    <tr style=\"text-align: right;\">\n",
       "      <th></th>\n",
       "      <th></th>\n",
       "      <th>MJD</th>\n",
       "      <th>FLUX</th>\n",
       "      <th>FLUX_ERROR</th>\n",
       "      <th>BANDPASS</th>\n",
       "    </tr>\n",
       "    <tr>\n",
       "      <th>ID</th>\n",
       "      <th>observation_id</th>\n",
       "      <th></th>\n",
       "      <th></th>\n",
       "      <th></th>\n",
       "      <th></th>\n",
       "    </tr>\n",
       "  </thead>\n",
       "  <tbody>\n",
       "    <tr>\n",
       "      <th rowspan=\"5\" valign=\"top\">0</th>\n",
       "      <th>0</th>\n",
       "      <td>53080.0</td>\n",
       "      <td>72.388634</td>\n",
       "      <td>0.974762</td>\n",
       "      <td>i</td>\n",
       "    </tr>\n",
       "    <tr>\n",
       "      <th>1</th>\n",
       "      <td>53083.0</td>\n",
       "      <td>18.016556</td>\n",
       "      <td>0.850242</td>\n",
       "      <td>g</td>\n",
       "    </tr>\n",
       "    <tr>\n",
       "      <th>2</th>\n",
       "      <td>53083.0</td>\n",
       "      <td>82.849670</td>\n",
       "      <td>1.209626</td>\n",
       "      <td>i</td>\n",
       "    </tr>\n",
       "    <tr>\n",
       "      <th>3</th>\n",
       "      <td>53109.0</td>\n",
       "      <td>15.385023</td>\n",
       "      <td>1.162016</td>\n",
       "      <td>g</td>\n",
       "    </tr>\n",
       "    <tr>\n",
       "      <th>4</th>\n",
       "      <td>53138.0</td>\n",
       "      <td>19.325619</td>\n",
       "      <td>0.896431</td>\n",
       "      <td>g</td>\n",
       "    </tr>\n",
       "  </tbody>\n",
       "</table>\n",
       "</div>"
      ],
      "text/plain": [
       "                       MJD       FLUX  FLUX_ERROR BANDPASS\n",
       "ID observation_id                                         \n",
       "0  0               53080.0  72.388634    0.974762        i\n",
       "   1               53083.0  18.016556    0.850242        g\n",
       "   2               53083.0  82.849670    1.209626        i\n",
       "   3               53109.0  15.385023    1.162016        g\n",
       "   4               53138.0  19.325619    0.896431        g"
      ]
     },
     "execution_count": 14,
     "metadata": {},
     "output_type": "execute_result"
    }
   ],
   "source": [
    "nsns.head()"
   ]
  },
  {
   "cell_type": "markdown",
   "metadata": {},
   "source": [
    "Find duplicated light-curves in non-transient dataframe"
   ]
  },
  {
   "cell_type": "code",
   "execution_count": 120,
   "metadata": {
    "scrolled": true
   },
   "outputs": [
    {
     "ename": "KeyboardInterrupt",
     "evalue": "",
     "output_type": "error",
     "traceback": [
      "\u001b[0;31m---------------------------------------------------------------------------\u001b[0m",
      "\u001b[0;31mKeyboardInterrupt\u001b[0m                         Traceback (most recent call last)",
      "\u001b[0;32m<ipython-input-120-6e1275fbb278>\u001b[0m in \u001b[0;36m<module>\u001b[0;34m()\u001b[0m\n\u001b[1;32m      2\u001b[0m \u001b[0;31m# Takes a while...\u001b[0m\u001b[0;34m\u001b[0m\u001b[0;34m\u001b[0m\u001b[0m\n\u001b[1;32m      3\u001b[0m \u001b[0;31m#groups arent repeated in our case.\u001b[0m\u001b[0;34m\u001b[0m\u001b[0;34m\u001b[0m\u001b[0m\n\u001b[0;32m----> 4\u001b[0;31m \u001b[0mpossibly_by_groups_list_nt\u001b[0m \u001b[0;34m=\u001b[0m \u001b[0mpossiblyRepeatedByGroups\u001b[0m\u001b[0;34m(\u001b[0m\u001b[0mnsns\u001b[0m\u001b[0;34m)\u001b[0m\u001b[0;34m\u001b[0m\u001b[0m\n\u001b[0m",
      "\u001b[0;32m<ipython-input-72-2b22a3ba293c>\u001b[0m in \u001b[0;36mpossiblyRepeatedByGroups\u001b[0;34m(df_lcs)\u001b[0m\n\u001b[1;32m     23\u001b[0m     \u001b[0;32mfor\u001b[0m \u001b[0m_\u001b[0m\u001b[0;34m,\u001b[0m \u001b[0mrow\u001b[0m \u001b[0;32min\u001b[0m \u001b[0mdf_poss_repeat_obs\u001b[0m\u001b[0;34m.\u001b[0m\u001b[0miterrows\u001b[0m\u001b[0;34m(\u001b[0m\u001b[0;34m)\u001b[0m\u001b[0;34m:\u001b[0m\u001b[0;34m\u001b[0m\u001b[0m\n\u001b[1;32m     24\u001b[0m         current_ids = df_lcs[\n\u001b[0;32m---> 25\u001b[0;31m             \u001b[0;34m(\u001b[0m\u001b[0mdf_lcs\u001b[0m\u001b[0;34m.\u001b[0m\u001b[0mFLUX\u001b[0m \u001b[0;34m==\u001b[0m \u001b[0mrow\u001b[0m\u001b[0;34m.\u001b[0m\u001b[0mFLUX\u001b[0m\u001b[0;34m)\u001b[0m\u001b[0;34m&\u001b[0m\u001b[0;34m(\u001b[0m\u001b[0mdf_lcs\u001b[0m\u001b[0;34m.\u001b[0m\u001b[0mFLUX_ERROR\u001b[0m \u001b[0;34m==\u001b[0m \u001b[0mrow\u001b[0m\u001b[0;34m.\u001b[0m\u001b[0mFLUX_ERROR\u001b[0m\u001b[0;34m)\u001b[0m \u001b[0;34m&\u001b[0m\u001b[0;34m(\u001b[0m\u001b[0mdf_lcs\u001b[0m\u001b[0;34m.\u001b[0m\u001b[0mMJD\u001b[0m \u001b[0;34m==\u001b[0m \u001b[0mrow\u001b[0m\u001b[0;34m.\u001b[0m\u001b[0mMJD\u001b[0m\u001b[0;34m)\u001b[0m\u001b[0;34m\u001b[0m\u001b[0m\n\u001b[0m\u001b[1;32m     26\u001b[0m         ].index.get_level_values('ID').unique().format()\n\u001b[1;32m     27\u001b[0m         \u001b[0;32mif\u001b[0m\u001b[0;34m(\u001b[0m\u001b[0mlen\u001b[0m\u001b[0;34m(\u001b[0m\u001b[0mcurrent_ids\u001b[0m\u001b[0;34m)\u001b[0m \u001b[0;34m>\u001b[0m \u001b[0;36m1\u001b[0m\u001b[0;34m)\u001b[0m \u001b[0;32mand\u001b[0m \u001b[0mtuple\u001b[0m\u001b[0;34m(\u001b[0m\u001b[0mcurrent_ids\u001b[0m\u001b[0;34m)\u001b[0m \u001b[0;32mnot\u001b[0m \u001b[0;32min\u001b[0m \u001b[0mexisting\u001b[0m\u001b[0;34m:\u001b[0m\u001b[0;34m\u001b[0m\u001b[0m\n",
      "\u001b[0;32m~/anaconda3/lib/python3.6/site-packages/pandas/core/ops.py\u001b[0m in \u001b[0;36mwrapper\u001b[0;34m(self, other)\u001b[0m\n\u001b[1;32m    941\u001b[0m             filler = (fill_int if is_self_int_dtype and is_other_int_dtype\n\u001b[1;32m    942\u001b[0m                       else fill_bool)\n\u001b[0;32m--> 943\u001b[0;31m             return filler(self._constructor(na_op(self.values, other.values),\n\u001b[0m\u001b[1;32m    944\u001b[0m                                             index=self.index, name=name))\n\u001b[1;32m    945\u001b[0m \u001b[0;34m\u001b[0m\u001b[0m\n",
      "\u001b[0;32m~/anaconda3/lib/python3.6/site-packages/pandas/core/ops.py\u001b[0m in \u001b[0;36mna_op\u001b[0;34m(x, y)\u001b[0m\n\u001b[1;32m    899\u001b[0m     \u001b[0;32mdef\u001b[0m \u001b[0mna_op\u001b[0m\u001b[0;34m(\u001b[0m\u001b[0mx\u001b[0m\u001b[0;34m,\u001b[0m \u001b[0my\u001b[0m\u001b[0;34m)\u001b[0m\u001b[0;34m:\u001b[0m\u001b[0;34m\u001b[0m\u001b[0m\n\u001b[1;32m    900\u001b[0m         \u001b[0;32mtry\u001b[0m\u001b[0;34m:\u001b[0m\u001b[0;34m\u001b[0m\u001b[0m\n\u001b[0;32m--> 901\u001b[0;31m             \u001b[0mresult\u001b[0m \u001b[0;34m=\u001b[0m \u001b[0mop\u001b[0m\u001b[0;34m(\u001b[0m\u001b[0mx\u001b[0m\u001b[0;34m,\u001b[0m \u001b[0my\u001b[0m\u001b[0;34m)\u001b[0m\u001b[0;34m\u001b[0m\u001b[0m\n\u001b[0m\u001b[1;32m    902\u001b[0m         \u001b[0;32mexcept\u001b[0m \u001b[0mTypeError\u001b[0m\u001b[0;34m:\u001b[0m\u001b[0;34m\u001b[0m\u001b[0m\n\u001b[1;32m    903\u001b[0m             \u001b[0;32mif\u001b[0m \u001b[0misinstance\u001b[0m\u001b[0;34m(\u001b[0m\u001b[0my\u001b[0m\u001b[0;34m,\u001b[0m \u001b[0mlist\u001b[0m\u001b[0;34m)\u001b[0m\u001b[0;34m:\u001b[0m\u001b[0;34m\u001b[0m\u001b[0m\n",
      "\u001b[0;31mKeyboardInterrupt\u001b[0m: "
     ]
    }
   ],
   "source": [
    "# Find list containing groups of possibly repeated light curves\n",
    "# Takes a while...\n",
    "#groups arent repeated in our case.\n",
    "possibly_by_groups_list_nt = possiblyRepeatedByGroups(nsns)"
   ]
  },
  {
   "cell_type": "code",
   "execution_count": 35,
   "metadata": {
    "scrolled": true
   },
   "outputs": [
    {
     "name": "stdout",
     "output_type": "stream",
     "text": [
      "0 / 4955\n",
      "495 / 4955\n",
      "990 / 4955\n",
      "1485 / 4955\n",
      "1980 / 4955\n",
      "2475 / 4955\n",
      "2970 / 4955\n",
      "3465 / 4955\n",
      "3960 / 4955\n",
      "4455 / 4955\n",
      "4950 / 4955\n"
     ]
    }
   ],
   "source": [
    "copies_nt = repeatedLightCurves(nsns, possibly_by_groups_list_nt)"
   ]
  },
  {
   "cell_type": "code",
   "execution_count": 74,
   "metadata": {},
   "outputs": [
    {
     "ename": "NameError",
     "evalue": "name 'copies_nt' is not defined",
     "output_type": "error",
     "traceback": [
      "\u001b[0;31m---------------------------------------------------------------------------\u001b[0m",
      "\u001b[0;31mNameError\u001b[0m                                 Traceback (most recent call last)",
      "\u001b[0;32m<ipython-input-74-dbaddba092e0>\u001b[0m in \u001b[0;36m<module>\u001b[0;34m()\u001b[0m\n\u001b[0;32m----> 1\u001b[0;31m \u001b[0mcopies_nt\u001b[0m\u001b[0;34m,\u001b[0m \u001b[0mdf_nt_lcs\u001b[0m\u001b[0;34m.\u001b[0m\u001b[0mshape\u001b[0m\u001b[0;34m\u001b[0m\u001b[0m\n\u001b[0m",
      "\u001b[0;31mNameError\u001b[0m: name 'copies_nt' is not defined"
     ]
    }
   ],
   "source": [
    "copies_nt, nsns.shape"
   ]
  },
  {
   "cell_type": "code",
   "execution_count": 37,
   "metadata": {},
   "outputs": [],
   "source": [
    "dt_nt_lcs = deleteCopies(df_nt_lcs, copies_nt)"
   ]
  },
  {
   "cell_type": "code",
   "execution_count": 38,
   "metadata": {},
   "outputs": [
    {
     "data": {
      "text/plain": [
       "(1802695, 3)"
      ]
     },
     "execution_count": 38,
     "metadata": {},
     "output_type": "execute_result"
    }
   ],
   "source": [
    "df_nt_lcs.shape"
   ]
  },
  {
   "cell_type": "code",
   "execution_count": 76,
   "metadata": {},
   "outputs": [
    {
     "data": {
      "text/html": [
       "<div>\n",
       "<style scoped>\n",
       "    .dataframe tbody tr th:only-of-type {\n",
       "        vertical-align: middle;\n",
       "    }\n",
       "\n",
       "    .dataframe tbody tr th {\n",
       "        vertical-align: top;\n",
       "    }\n",
       "\n",
       "    .dataframe thead th {\n",
       "        text-align: right;\n",
       "    }\n",
       "</style>\n",
       "<table border=\"1\" class=\"dataframe\">\n",
       "  <thead>\n",
       "    <tr style=\"text-align: right;\">\n",
       "      <th></th>\n",
       "      <th></th>\n",
       "      <th>MJD</th>\n",
       "      <th>FLUX</th>\n",
       "      <th>FLUX_ERROR</th>\n",
       "      <th>BANDPASS</th>\n",
       "    </tr>\n",
       "    <tr>\n",
       "      <th>ID</th>\n",
       "      <th>observation_id</th>\n",
       "      <th></th>\n",
       "      <th></th>\n",
       "      <th></th>\n",
       "      <th></th>\n",
       "    </tr>\n",
       "  </thead>\n",
       "  <tbody>\n",
       "    <tr>\n",
       "      <th rowspan=\"5\" valign=\"top\">0</th>\n",
       "      <th>0</th>\n",
       "      <td>53080.0</td>\n",
       "      <td>72.388634</td>\n",
       "      <td>0.974762</td>\n",
       "      <td>i</td>\n",
       "    </tr>\n",
       "    <tr>\n",
       "      <th>1</th>\n",
       "      <td>53083.0</td>\n",
       "      <td>18.016556</td>\n",
       "      <td>0.850242</td>\n",
       "      <td>g</td>\n",
       "    </tr>\n",
       "    <tr>\n",
       "      <th>2</th>\n",
       "      <td>53083.0</td>\n",
       "      <td>82.849670</td>\n",
       "      <td>1.209626</td>\n",
       "      <td>i</td>\n",
       "    </tr>\n",
       "    <tr>\n",
       "      <th>3</th>\n",
       "      <td>53109.0</td>\n",
       "      <td>15.385023</td>\n",
       "      <td>1.162016</td>\n",
       "      <td>g</td>\n",
       "    </tr>\n",
       "    <tr>\n",
       "      <th>4</th>\n",
       "      <td>53138.0</td>\n",
       "      <td>19.325619</td>\n",
       "      <td>0.896431</td>\n",
       "      <td>g</td>\n",
       "    </tr>\n",
       "  </tbody>\n",
       "</table>\n",
       "</div>"
      ],
      "text/plain": [
       "                       MJD       FLUX  FLUX_ERROR BANDPASS\n",
       "ID observation_id                                         \n",
       "0  0               53080.0  72.388634    0.974762        i\n",
       "   1               53083.0  18.016556    0.850242        g\n",
       "   2               53083.0  82.849670    1.209626        i\n",
       "   3               53109.0  15.385023    1.162016        g\n",
       "   4               53138.0  19.325619    0.896431        g"
      ]
     },
     "execution_count": 76,
     "metadata": {},
     "output_type": "execute_result"
    }
   ],
   "source": [
    "nsns.head()"
   ]
  },
  {
   "cell_type": "markdown",
   "metadata": {},
   "source": [
    "######  TO PICKLE"
   ]
  },
  {
   "cell_type": "code",
   "execution_count": 78,
   "metadata": {},
   "outputs": [],
   "source": [
    "filename = 'not_sns_clean.pickle'\n",
    "outdir = LIGHTCURVES_PATH; filepath = outdir + filename\n",
    "nsns.to_pickle(filepath)"
   ]
  },
  {
   "cell_type": "markdown",
   "metadata": {},
   "source": [
    "### imulated supernova curves"
   ]
  },
  {
   "cell_type": "markdown",
   "metadata": {},
   "source": [
    "Import and filter transients"
   ]
  },
  {
   "cell_type": "code",
   "execution_count": 87,
   "metadata": {},
   "outputs": [
    {
     "data": {
      "text/plain": [
       "(203296, 10)"
      ]
     },
     "execution_count": 87,
     "metadata": {},
     "output_type": "execute_result"
    }
   ],
   "source": [
    "filename = 'sns.pickle'\n",
    "indir = LIGHTCURVES_PATH; filepath = indir + filename\n",
    "sns = pd.read_pickle(filepath)\n",
    "sns.shape"
   ]
  },
  {
   "cell_type": "code",
   "execution_count": 88,
   "metadata": {},
   "outputs": [
    {
     "data": {
      "text/html": [
       "<div>\n",
       "<style scoped>\n",
       "    .dataframe tbody tr th:only-of-type {\n",
       "        vertical-align: middle;\n",
       "    }\n",
       "\n",
       "    .dataframe tbody tr th {\n",
       "        vertical-align: top;\n",
       "    }\n",
       "\n",
       "    .dataframe thead th {\n",
       "        text-align: right;\n",
       "    }\n",
       "</style>\n",
       "<table border=\"1\" class=\"dataframe\">\n",
       "  <thead>\n",
       "    <tr style=\"text-align: right;\">\n",
       "      <th></th>\n",
       "      <th>MJD</th>\n",
       "      <th>FLT</th>\n",
       "      <th>FIELD</th>\n",
       "      <th>FLUXCAL</th>\n",
       "      <th>FLUXCALERR</th>\n",
       "      <th>PHOTFLAG</th>\n",
       "      <th>ZPT</th>\n",
       "      <th>PSF</th>\n",
       "      <th>SIM_MAGOBS</th>\n",
       "      <th>ID</th>\n",
       "    </tr>\n",
       "  </thead>\n",
       "  <tbody>\n",
       "    <tr>\n",
       "      <th>0</th>\n",
       "      <td>53094.543</td>\n",
       "      <td>i</td>\n",
       "      <td>NULL</td>\n",
       "      <td>18.7260</td>\n",
       "      <td>2.064</td>\n",
       "      <td>0</td>\n",
       "      <td>32.23</td>\n",
       "      <td>1.96</td>\n",
       "      <td>24.2286</td>\n",
       "      <td>SN_0</td>\n",
       "    </tr>\n",
       "    <tr>\n",
       "      <th>1</th>\n",
       "      <td>53094.586</td>\n",
       "      <td>r</td>\n",
       "      <td>NULL</td>\n",
       "      <td>7.3375</td>\n",
       "      <td>1.673</td>\n",
       "      <td>0</td>\n",
       "      <td>32.29</td>\n",
       "      <td>2.25</td>\n",
       "      <td>25.0393</td>\n",
       "      <td>SN_0</td>\n",
       "    </tr>\n",
       "    <tr>\n",
       "      <th>2</th>\n",
       "      <td>53094.613</td>\n",
       "      <td>z</td>\n",
       "      <td>NULL</td>\n",
       "      <td>9.8390</td>\n",
       "      <td>9.255</td>\n",
       "      <td>0</td>\n",
       "      <td>30.74</td>\n",
       "      <td>2.04</td>\n",
       "      <td>24.2888</td>\n",
       "      <td>SN_0</td>\n",
       "    </tr>\n",
       "    <tr>\n",
       "      <th>3</th>\n",
       "      <td>53109.492</td>\n",
       "      <td>i</td>\n",
       "      <td>NULL</td>\n",
       "      <td>125.7100</td>\n",
       "      <td>3.098</td>\n",
       "      <td>0</td>\n",
       "      <td>32.21</td>\n",
       "      <td>2.27</td>\n",
       "      <td>22.2288</td>\n",
       "      <td>SN_0</td>\n",
       "    </tr>\n",
       "    <tr>\n",
       "      <th>4</th>\n",
       "      <td>53109.539</td>\n",
       "      <td>r</td>\n",
       "      <td>NULL</td>\n",
       "      <td>110.4600</td>\n",
       "      <td>2.639</td>\n",
       "      <td>0</td>\n",
       "      <td>32.27</td>\n",
       "      <td>2.21</td>\n",
       "      <td>22.4121</td>\n",
       "      <td>SN_0</td>\n",
       "    </tr>\n",
       "  </tbody>\n",
       "</table>\n",
       "</div>"
      ],
      "text/plain": [
       "         MJD FLT FIELD   FLUXCAL  FLUXCALERR  PHOTFLAG    ZPT   PSF  \\\n",
       "0  53094.543   i  NULL   18.7260       2.064         0  32.23  1.96   \n",
       "1  53094.586   r  NULL    7.3375       1.673         0  32.29  2.25   \n",
       "2  53094.613   z  NULL    9.8390       9.255         0  30.74  2.04   \n",
       "3  53109.492   i  NULL  125.7100       3.098         0  32.21  2.27   \n",
       "4  53109.539   r  NULL  110.4600       2.639         0  32.27  2.21   \n",
       "\n",
       "   SIM_MAGOBS    ID  \n",
       "0     24.2286  SN_0  \n",
       "1     25.0393  SN_0  \n",
       "2     24.2888  SN_0  \n",
       "3     22.2288  SN_0  \n",
       "4     22.4121  SN_0  "
      ]
     },
     "execution_count": 88,
     "metadata": {},
     "output_type": "execute_result"
    }
   ],
   "source": [
    "sns.head()"
   ]
  },
  {
   "cell_type": "markdown",
   "metadata": {},
   "source": [
    "Delete rows of blended observations"
   ]
  },
  {
   "cell_type": "code",
   "execution_count": 89,
   "metadata": {},
   "outputs": [
    {
     "data": {
      "text/plain": [
       "(186510, 10)"
      ]
     },
     "execution_count": 89,
     "metadata": {},
     "output_type": "execute_result"
    }
   ],
   "source": [
    "# Delete rows of blended observations\n",
    "sns = sns.drop_duplicates(['ID','MJD','FLT'], keep='first')\n",
    "sns.shape"
   ]
  },
  {
   "cell_type": "markdown",
   "metadata": {},
   "source": [
    "Drop irrelevant columns and rename columns to standard "
   ]
  },
  {
   "cell_type": "code",
   "execution_count": 92,
   "metadata": {},
   "outputs": [],
   "source": [
    "sns = sns.drop(['FIELD','PHOTFLAG','ZPT','PSF','SIM_MAGOBS'],axis=1)"
   ]
  },
  {
   "cell_type": "code",
   "execution_count": 94,
   "metadata": {},
   "outputs": [
    {
     "data": {
      "text/html": [
       "<div>\n",
       "<style scoped>\n",
       "    .dataframe tbody tr th:only-of-type {\n",
       "        vertical-align: middle;\n",
       "    }\n",
       "\n",
       "    .dataframe tbody tr th {\n",
       "        vertical-align: top;\n",
       "    }\n",
       "\n",
       "    .dataframe thead th {\n",
       "        text-align: right;\n",
       "    }\n",
       "</style>\n",
       "<table border=\"1\" class=\"dataframe\">\n",
       "  <thead>\n",
       "    <tr style=\"text-align: right;\">\n",
       "      <th></th>\n",
       "      <th>MJD</th>\n",
       "      <th>BANDPASS</th>\n",
       "      <th>FLUX</th>\n",
       "      <th>FLUX_ERROR</th>\n",
       "      <th>ID</th>\n",
       "    </tr>\n",
       "  </thead>\n",
       "  <tbody>\n",
       "    <tr>\n",
       "      <th>0</th>\n",
       "      <td>53094.543</td>\n",
       "      <td>i</td>\n",
       "      <td>18.7260</td>\n",
       "      <td>2.064</td>\n",
       "      <td>SN_0</td>\n",
       "    </tr>\n",
       "    <tr>\n",
       "      <th>1</th>\n",
       "      <td>53094.586</td>\n",
       "      <td>r</td>\n",
       "      <td>7.3375</td>\n",
       "      <td>1.673</td>\n",
       "      <td>SN_0</td>\n",
       "    </tr>\n",
       "    <tr>\n",
       "      <th>2</th>\n",
       "      <td>53094.613</td>\n",
       "      <td>z</td>\n",
       "      <td>9.8390</td>\n",
       "      <td>9.255</td>\n",
       "      <td>SN_0</td>\n",
       "    </tr>\n",
       "    <tr>\n",
       "      <th>3</th>\n",
       "      <td>53109.492</td>\n",
       "      <td>i</td>\n",
       "      <td>125.7100</td>\n",
       "      <td>3.098</td>\n",
       "      <td>SN_0</td>\n",
       "    </tr>\n",
       "    <tr>\n",
       "      <th>4</th>\n",
       "      <td>53109.539</td>\n",
       "      <td>r</td>\n",
       "      <td>110.4600</td>\n",
       "      <td>2.639</td>\n",
       "      <td>SN_0</td>\n",
       "    </tr>\n",
       "  </tbody>\n",
       "</table>\n",
       "</div>"
      ],
      "text/plain": [
       "         MJD BANDPASS      FLUX  FLUX_ERROR    ID\n",
       "0  53094.543        i   18.7260       2.064  SN_0\n",
       "1  53094.586        r    7.3375       1.673  SN_0\n",
       "2  53094.613        z    9.8390       9.255  SN_0\n",
       "3  53109.492        i  125.7100       3.098  SN_0\n",
       "4  53109.539        r  110.4600       2.639  SN_0"
      ]
     },
     "execution_count": 94,
     "metadata": {},
     "output_type": "execute_result"
    }
   ],
   "source": [
    "sns.columns = ['MJD','BANDPASS','FLUX','FLUX_ERROR',\"ID\"]\n",
    "sns.head()"
   ]
  },
  {
   "cell_type": "markdown",
   "metadata": {},
   "source": [
    "Reset Index"
   ]
  },
  {
   "cell_type": "code",
   "execution_count": 95,
   "metadata": {},
   "outputs": [
    {
     "data": {
      "text/html": [
       "<div>\n",
       "<style scoped>\n",
       "    .dataframe tbody tr th:only-of-type {\n",
       "        vertical-align: middle;\n",
       "    }\n",
       "\n",
       "    .dataframe tbody tr th {\n",
       "        vertical-align: top;\n",
       "    }\n",
       "\n",
       "    .dataframe thead th {\n",
       "        text-align: right;\n",
       "    }\n",
       "</style>\n",
       "<table border=\"1\" class=\"dataframe\">\n",
       "  <thead>\n",
       "    <tr style=\"text-align: right;\">\n",
       "      <th></th>\n",
       "      <th></th>\n",
       "      <th>MJD</th>\n",
       "      <th>BANDPASS</th>\n",
       "      <th>FLUX</th>\n",
       "      <th>FLUX_ERROR</th>\n",
       "    </tr>\n",
       "    <tr>\n",
       "      <th>ID</th>\n",
       "      <th>observation_id</th>\n",
       "      <th></th>\n",
       "      <th></th>\n",
       "      <th></th>\n",
       "      <th></th>\n",
       "    </tr>\n",
       "  </thead>\n",
       "  <tbody>\n",
       "    <tr>\n",
       "      <th rowspan=\"5\" valign=\"top\">SN_0</th>\n",
       "      <th>0</th>\n",
       "      <td>53094.543</td>\n",
       "      <td>i</td>\n",
       "      <td>18.7260</td>\n",
       "      <td>2.064</td>\n",
       "    </tr>\n",
       "    <tr>\n",
       "      <th>1</th>\n",
       "      <td>53094.586</td>\n",
       "      <td>r</td>\n",
       "      <td>7.3375</td>\n",
       "      <td>1.673</td>\n",
       "    </tr>\n",
       "    <tr>\n",
       "      <th>2</th>\n",
       "      <td>53094.613</td>\n",
       "      <td>z</td>\n",
       "      <td>9.8390</td>\n",
       "      <td>9.255</td>\n",
       "    </tr>\n",
       "    <tr>\n",
       "      <th>3</th>\n",
       "      <td>53109.492</td>\n",
       "      <td>i</td>\n",
       "      <td>125.7100</td>\n",
       "      <td>3.098</td>\n",
       "    </tr>\n",
       "    <tr>\n",
       "      <th>4</th>\n",
       "      <td>53109.539</td>\n",
       "      <td>r</td>\n",
       "      <td>110.4600</td>\n",
       "      <td>2.639</td>\n",
       "    </tr>\n",
       "  </tbody>\n",
       "</table>\n",
       "</div>"
      ],
      "text/plain": [
       "                           MJD BANDPASS      FLUX  FLUX_ERROR\n",
       "ID   observation_id                                          \n",
       "SN_0 0               53094.543        i   18.7260       2.064\n",
       "     1               53094.586        r    7.3375       1.673\n",
       "     2               53094.613        z    9.8390       9.255\n",
       "     3               53109.492        i  125.7100       3.098\n",
       "     4               53109.539        r  110.4600       2.639"
      ]
     },
     "execution_count": 95,
     "metadata": {},
     "output_type": "execute_result"
    }
   ],
   "source": [
    "sns.index.name = 'observation_id'\n",
    "sns = sns.rename(columns={'TransientID':'ID'})\n",
    "sns = sns.set_index(['ID'], append=True)\n",
    "sns = sns.reorder_levels(['ID', 'observation_id'])\n",
    "sns.head()"
   ]
  },
  {
   "cell_type": "code",
   "execution_count": 97,
   "metadata": {},
   "outputs": [
    {
     "data": {
      "text/plain": [
       "5000"
      ]
     },
     "execution_count": 97,
     "metadata": {},
     "output_type": "execute_result"
    }
   ],
   "source": [
    "num_objects = sns.index.get_level_values('ID').unique()\n",
    "len(num_objects)"
   ]
  },
  {
   "cell_type": "markdown",
   "metadata": {},
   "source": [
    "Find copies"
   ]
  },
  {
   "cell_type": "code",
   "execution_count": 98,
   "metadata": {},
   "outputs": [],
   "source": [
    "# Takes a while...\n",
    "possibly_by_groups_list_t = possiblyRepeatedByGroups(sns)"
   ]
  },
  {
   "cell_type": "code",
   "execution_count": 100,
   "metadata": {
    "scrolled": true
   },
   "outputs": [
    {
     "name": "stdout",
     "output_type": "stream",
     "text": [
      "0 / 454\n",
      "45 / 454\n",
      "90 / 454\n",
      "135 / 454\n",
      "180 / 454\n",
      "225 / 454\n",
      "270 / 454\n",
      "315 / 454\n",
      "360 / 454\n",
      "405 / 454\n",
      "450 / 454\n"
     ]
    }
   ],
   "source": [
    "copies_t = repeatedLightCurves(sns, possibly_by_groups_list_t)"
   ]
  },
  {
   "cell_type": "code",
   "execution_count": 101,
   "metadata": {},
   "outputs": [
    {
     "data": {
      "text/plain": [
       "0"
      ]
     },
     "execution_count": 101,
     "metadata": {},
     "output_type": "execute_result"
    }
   ],
   "source": [
    "len(copies_t.items())"
   ]
  },
  {
   "cell_type": "markdown",
   "metadata": {},
   "source": [
    "Delete copies"
   ]
  },
  {
   "cell_type": "code",
   "execution_count": 102,
   "metadata": {},
   "outputs": [],
   "source": [
    "sns= deleteCopies(sns, copies_t)"
   ]
  },
  {
   "cell_type": "markdown",
   "metadata": {},
   "source": [
    "Show results"
   ]
  },
  {
   "cell_type": "code",
   "execution_count": 103,
   "metadata": {},
   "outputs": [
    {
     "data": {
      "text/plain": [
       "5000"
      ]
     },
     "execution_count": 103,
     "metadata": {},
     "output_type": "execute_result"
    }
   ],
   "source": [
    "num_objects = sns.index.get_level_values('ID').unique()\n",
    "len(num_objects)"
   ]
  },
  {
   "cell_type": "code",
   "execution_count": 104,
   "metadata": {},
   "outputs": [
    {
     "data": {
      "text/plain": [
       "(186510, 4)"
      ]
     },
     "execution_count": 104,
     "metadata": {},
     "output_type": "execute_result"
    }
   ],
   "source": [
    "sns.shape"
   ]
  },
  {
   "cell_type": "code",
   "execution_count": 105,
   "metadata": {},
   "outputs": [
    {
     "data": {
      "text/html": [
       "<div>\n",
       "<style scoped>\n",
       "    .dataframe tbody tr th:only-of-type {\n",
       "        vertical-align: middle;\n",
       "    }\n",
       "\n",
       "    .dataframe tbody tr th {\n",
       "        vertical-align: top;\n",
       "    }\n",
       "\n",
       "    .dataframe thead th {\n",
       "        text-align: right;\n",
       "    }\n",
       "</style>\n",
       "<table border=\"1\" class=\"dataframe\">\n",
       "  <thead>\n",
       "    <tr style=\"text-align: right;\">\n",
       "      <th></th>\n",
       "      <th></th>\n",
       "      <th>MJD</th>\n",
       "      <th>BANDPASS</th>\n",
       "      <th>FLUX</th>\n",
       "      <th>FLUX_ERROR</th>\n",
       "    </tr>\n",
       "    <tr>\n",
       "      <th>ID</th>\n",
       "      <th>observation_id</th>\n",
       "      <th></th>\n",
       "      <th></th>\n",
       "      <th></th>\n",
       "      <th></th>\n",
       "    </tr>\n",
       "  </thead>\n",
       "  <tbody>\n",
       "    <tr>\n",
       "      <th rowspan=\"5\" valign=\"top\">SN_0</th>\n",
       "      <th>0</th>\n",
       "      <td>53094.543</td>\n",
       "      <td>i</td>\n",
       "      <td>18.7260</td>\n",
       "      <td>2.064</td>\n",
       "    </tr>\n",
       "    <tr>\n",
       "      <th>1</th>\n",
       "      <td>53094.586</td>\n",
       "      <td>r</td>\n",
       "      <td>7.3375</td>\n",
       "      <td>1.673</td>\n",
       "    </tr>\n",
       "    <tr>\n",
       "      <th>2</th>\n",
       "      <td>53094.613</td>\n",
       "      <td>z</td>\n",
       "      <td>9.8390</td>\n",
       "      <td>9.255</td>\n",
       "    </tr>\n",
       "    <tr>\n",
       "      <th>3</th>\n",
       "      <td>53109.492</td>\n",
       "      <td>i</td>\n",
       "      <td>125.7100</td>\n",
       "      <td>3.098</td>\n",
       "    </tr>\n",
       "    <tr>\n",
       "      <th>4</th>\n",
       "      <td>53109.539</td>\n",
       "      <td>r</td>\n",
       "      <td>110.4600</td>\n",
       "      <td>2.639</td>\n",
       "    </tr>\n",
       "  </tbody>\n",
       "</table>\n",
       "</div>"
      ],
      "text/plain": [
       "                           MJD BANDPASS      FLUX  FLUX_ERROR\n",
       "ID   observation_id                                          \n",
       "SN_0 0               53094.543        i   18.7260       2.064\n",
       "     1               53094.586        r    7.3375       1.673\n",
       "     2               53094.613        z    9.8390       9.255\n",
       "     3               53109.492        i  125.7100       3.098\n",
       "     4               53109.539        r  110.4600       2.639"
      ]
     },
     "execution_count": 105,
     "metadata": {},
     "output_type": "execute_result"
    }
   ],
   "source": [
    "sns.head()"
   ]
  },
  {
   "cell_type": "markdown",
   "metadata": {},
   "source": [
    "###### TO PICKLE"
   ]
  },
  {
   "cell_type": "code",
   "execution_count": 106,
   "metadata": {},
   "outputs": [],
   "source": [
    "filename = 'sns_clean.pickle'\n",
    "outdir = LIGHTCURVES_PATH; filepath = outdir + filename\n",
    "sns.to_pickle(filepath)"
   ]
  },
  {
   "cell_type": "markdown",
   "metadata": {},
   "source": [
    "Test repeated have been cleared"
   ]
  },
  {
   "cell_type": "code",
   "execution_count": 107,
   "metadata": {},
   "outputs": [],
   "source": [
    "possibly_by_groups_list_t_updated = possiblyRepeatedByGroups(sns)"
   ]
  },
  {
   "cell_type": "code",
   "execution_count": 108,
   "metadata": {},
   "outputs": [
    {
     "data": {
      "text/plain": [
       "454"
      ]
     },
     "execution_count": 108,
     "metadata": {},
     "output_type": "execute_result"
    }
   ],
   "source": [
    "len(possibly_by_groups_list_t_updated)"
   ]
  },
  {
   "cell_type": "code",
   "execution_count": 109,
   "metadata": {},
   "outputs": [
    {
     "name": "stdout",
     "output_type": "stream",
     "text": [
      "0 / 454\n",
      "45 / 454\n",
      "90 / 454\n",
      "135 / 454\n",
      "180 / 454\n",
      "225 / 454\n",
      "270 / 454\n",
      "315 / 454\n",
      "360 / 454\n",
      "405 / 454\n",
      "450 / 454\n"
     ]
    }
   ],
   "source": [
    "copies_t = repeatedLightCurves(sns, possibly_by_groups_list_t_updated)"
   ]
  },
  {
   "cell_type": "markdown",
   "metadata": {},
   "source": [
    "### Measured Supernovas"
   ]
  },
  {
   "cell_type": "code",
   "execution_count": 4,
   "metadata": {},
   "outputs": [
    {
     "data": {
      "text/plain": [
       "(8604, 12)"
      ]
     },
     "execution_count": 4,
     "metadata": {},
     "output_type": "execute_result"
    }
   ],
   "source": [
    "filename = 'measured_sns.pickle'\n",
    "indir = LIGHTCURVES_PATH; filepath = indir + filename\n",
    "msns = pd.read_pickle(filepath)\n",
    "msns.shape"
   ]
  },
  {
   "cell_type": "code",
   "execution_count": 5,
   "metadata": {},
   "outputs": [
    {
     "data": {
      "text/html": [
       "<div>\n",
       "<style scoped>\n",
       "    .dataframe tbody tr th:only-of-type {\n",
       "        vertical-align: middle;\n",
       "    }\n",
       "\n",
       "    .dataframe tbody tr th {\n",
       "        vertical-align: top;\n",
       "    }\n",
       "\n",
       "    .dataframe thead th {\n",
       "        text-align: right;\n",
       "    }\n",
       "</style>\n",
       "<table border=\"1\" class=\"dataframe\">\n",
       "  <thead>\n",
       "    <tr style=\"text-align: right;\">\n",
       "      <th></th>\n",
       "      <th>mjd</th>\n",
       "      <th>flux</th>\n",
       "      <th>flux_error</th>\n",
       "      <th>bandpass</th>\n",
       "      <th>ID</th>\n",
       "    </tr>\n",
       "  </thead>\n",
       "  <tbody>\n",
       "    <tr>\n",
       "      <th>0</th>\n",
       "      <td>53169.0</td>\n",
       "      <td>258.411133</td>\n",
       "      <td>0.353578</td>\n",
       "      <td>sdssz</td>\n",
       "      <td>10502</td>\n",
       "    </tr>\n",
       "    <tr>\n",
       "      <th>1</th>\n",
       "      <td>53198.0</td>\n",
       "      <td>84.515526</td>\n",
       "      <td>0.065914</td>\n",
       "      <td>sdssr</td>\n",
       "      <td>10502</td>\n",
       "    </tr>\n",
       "    <tr>\n",
       "      <th>2</th>\n",
       "      <td>53193.0</td>\n",
       "      <td>417.638702</td>\n",
       "      <td>0.081262</td>\n",
       "      <td>sdssi</td>\n",
       "      <td>10502</td>\n",
       "    </tr>\n",
       "    <tr>\n",
       "      <th>3</th>\n",
       "      <td>53178.0</td>\n",
       "      <td>175.297058</td>\n",
       "      <td>0.045678</td>\n",
       "      <td>sdssr</td>\n",
       "      <td>10502</td>\n",
       "    </tr>\n",
       "    <tr>\n",
       "      <th>4</th>\n",
       "      <td>53178.0</td>\n",
       "      <td>458.938141</td>\n",
       "      <td>0.156932</td>\n",
       "      <td>sdssi</td>\n",
       "      <td>10502</td>\n",
       "    </tr>\n",
       "  </tbody>\n",
       "</table>\n",
       "</div>"
      ],
      "text/plain": [
       "       mjd        flux  flux_error bandpass     ID\n",
       "0  53169.0  258.411133    0.353578    sdssz  10502\n",
       "1  53198.0   84.515526    0.065914    sdssr  10502\n",
       "2  53193.0  417.638702    0.081262    sdssi  10502\n",
       "3  53178.0  175.297058    0.045678    sdssr  10502\n",
       "4  53178.0  458.938141    0.156932    sdssi  10502"
      ]
     },
     "execution_count": 5,
     "metadata": {},
     "output_type": "execute_result"
    }
   ],
   "source": [
    "msns = msns.drop(['classification','zpsys','ra','dec','magnitude','magnitude_error','zp'],axis=1)\n",
    "msns.head()"
   ]
  },
  {
   "cell_type": "code",
   "execution_count": 6,
   "metadata": {},
   "outputs": [],
   "source": [
    "msns[\"ID\"] = msns[\"ID\"].apply(lambda x: \"MSN_\"+str(x))\n",
    "# df['Date'] = df['Date'].apply(lambda x: int(str(x)[-4:]))"
   ]
  },
  {
   "cell_type": "code",
   "execution_count": 7,
   "metadata": {},
   "outputs": [],
   "source": [
    "bandpass_elems = ['i','g','r','z']\n",
    "for elem in bandpass_elems:\n",
    "    msns.loc[msns.bandpass=='sdss'+elem, 'bandpass'] = elem"
   ]
  },
  {
   "cell_type": "code",
   "execution_count": 8,
   "metadata": {},
   "outputs": [
    {
     "data": {
      "text/plain": [
       "{'g': Int64Index([ 6, 17, 29,  2,  7, 13, 18, 19, 94,  0,\n",
       "             ...\n",
       "             27, 13, 21,  1,  7, 11, 15, 17,  8, 19],\n",
       "            dtype='int64', length=1326),\n",
       " 'i': Int64Index([ 2,  4,  8, 10, 12, 16, 19, 21, 24, 25,\n",
       "             ...\n",
       "             16, 18, 20,  1,  3,  4,  5,  7,  8,  9],\n",
       "            dtype='int64', length=3375),\n",
       " 'r': Int64Index([ 1,  3,  7,  9, 15, 22,  3,  6,  8, 12,\n",
       "             ...\n",
       "             36, 39,  0,  7, 10, 14, 15,  0,  2,  6],\n",
       "            dtype='int64', length=2476),\n",
       " 'z': Int64Index([ 0,  5, 11, 13, 14, 18, 20, 23, 28, 35,\n",
       "             ...\n",
       "              8, 12, 19, 25, 37,  3,  5,  9, 17, 10],\n",
       "            dtype='int64', length=1427)}"
      ]
     },
     "execution_count": 8,
     "metadata": {},
     "output_type": "execute_result"
    }
   ],
   "source": [
    "msns.groupby(['bandpass']).groups"
   ]
  },
  {
   "cell_type": "code",
   "execution_count": 9,
   "metadata": {},
   "outputs": [
    {
     "data": {
      "text/plain": [
       "(8604, 5)"
      ]
     },
     "execution_count": 9,
     "metadata": {},
     "output_type": "execute_result"
    }
   ],
   "source": [
    "msns.columns = ['MJD','FLUX','FLUX_ERROR','BANDPASS',\"ID\"]\n",
    "msns.shape"
   ]
  },
  {
   "cell_type": "code",
   "execution_count": 10,
   "metadata": {},
   "outputs": [
    {
     "data": {
      "text/plain": [
       "(8604, 5)"
      ]
     },
     "execution_count": 10,
     "metadata": {},
     "output_type": "execute_result"
    }
   ],
   "source": [
    "msns = msns.drop_duplicates(['ID','MJD','BANDPASS'], keep='first')\n",
    "msns.shape"
   ]
  },
  {
   "cell_type": "code",
   "execution_count": 11,
   "metadata": {},
   "outputs": [
    {
     "data": {
      "text/plain": [
       "(8604, 4)"
      ]
     },
     "execution_count": 11,
     "metadata": {},
     "output_type": "execute_result"
    }
   ],
   "source": [
    "msns.index.name = 'observation_id'\n",
    "msns = msns.set_index(['ID'], append=True)\n",
    "msns = msns.reorder_levels(['ID', 'observation_id'])\n",
    "msns.shape"
   ]
  },
  {
   "cell_type": "code",
   "execution_count": 12,
   "metadata": {},
   "outputs": [
    {
     "data": {
      "text/html": [
       "<div>\n",
       "<style scoped>\n",
       "    .dataframe tbody tr th:only-of-type {\n",
       "        vertical-align: middle;\n",
       "    }\n",
       "\n",
       "    .dataframe tbody tr th {\n",
       "        vertical-align: top;\n",
       "    }\n",
       "\n",
       "    .dataframe thead th {\n",
       "        text-align: right;\n",
       "    }\n",
       "</style>\n",
       "<table border=\"1\" class=\"dataframe\">\n",
       "  <thead>\n",
       "    <tr style=\"text-align: right;\">\n",
       "      <th></th>\n",
       "      <th></th>\n",
       "      <th>MJD</th>\n",
       "      <th>FLUX</th>\n",
       "      <th>FLUX_ERROR</th>\n",
       "      <th>BANDPASS</th>\n",
       "    </tr>\n",
       "    <tr>\n",
       "      <th>ID</th>\n",
       "      <th>observation_id</th>\n",
       "      <th></th>\n",
       "      <th></th>\n",
       "      <th></th>\n",
       "      <th></th>\n",
       "    </tr>\n",
       "  </thead>\n",
       "  <tbody>\n",
       "    <tr>\n",
       "      <th rowspan=\"5\" valign=\"top\">MSN_10502</th>\n",
       "      <th>0</th>\n",
       "      <td>53169.0</td>\n",
       "      <td>258.411133</td>\n",
       "      <td>0.353578</td>\n",
       "      <td>z</td>\n",
       "    </tr>\n",
       "    <tr>\n",
       "      <th>1</th>\n",
       "      <td>53198.0</td>\n",
       "      <td>84.515526</td>\n",
       "      <td>0.065914</td>\n",
       "      <td>r</td>\n",
       "    </tr>\n",
       "    <tr>\n",
       "      <th>2</th>\n",
       "      <td>53193.0</td>\n",
       "      <td>417.638702</td>\n",
       "      <td>0.081262</td>\n",
       "      <td>i</td>\n",
       "    </tr>\n",
       "    <tr>\n",
       "      <th>3</th>\n",
       "      <td>53178.0</td>\n",
       "      <td>175.297058</td>\n",
       "      <td>0.045678</td>\n",
       "      <td>r</td>\n",
       "    </tr>\n",
       "    <tr>\n",
       "      <th>4</th>\n",
       "      <td>53178.0</td>\n",
       "      <td>458.938141</td>\n",
       "      <td>0.156932</td>\n",
       "      <td>i</td>\n",
       "    </tr>\n",
       "  </tbody>\n",
       "</table>\n",
       "</div>"
      ],
      "text/plain": [
       "                              MJD        FLUX  FLUX_ERROR BANDPASS\n",
       "ID        observation_id                                          \n",
       "MSN_10502 0               53169.0  258.411133    0.353578        z\n",
       "          1               53198.0   84.515526    0.065914        r\n",
       "          2               53193.0  417.638702    0.081262        i\n",
       "          3               53178.0  175.297058    0.045678        r\n",
       "          4               53178.0  458.938141    0.156932        i"
      ]
     },
     "execution_count": 12,
     "metadata": {},
     "output_type": "execute_result"
    }
   ],
   "source": [
    "msns.head()"
   ]
  },
  {
   "cell_type": "code",
   "execution_count": 14,
   "metadata": {},
   "outputs": [],
   "source": [
    "filename = 'measured_sns_clean.pickle'\n",
    "outdir = LIGHTCURVES_PATH; filepath = outdir + filename\n",
    "msns.to_pickle(filepath)"
   ]
  },
  {
   "cell_type": "code",
   "execution_count": null,
   "metadata": {},
   "outputs": [],
   "source": []
  }
 ],
 "metadata": {
  "kernelspec": {
   "display_name": "Python 3",
   "language": "python",
   "name": "python3"
  },
  "language_info": {
   "codemirror_mode": {
    "name": "ipython",
    "version": 3
   },
   "file_extension": ".py",
   "mimetype": "text/x-python",
   "name": "python",
   "nbconvert_exporter": "python",
   "pygments_lexer": "ipython3",
   "version": "3.6.4"
  }
 },
 "nbformat": 4,
 "nbformat_minor": 2
}
