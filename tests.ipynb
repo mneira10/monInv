{
 "cells": [
  {
   "cell_type": "code",
   "execution_count": 1,
   "metadata": {},
   "outputs": [],
   "source": [
    "import pandas as pd\n",
    "import  numpy as np\n",
    "import matplotlib.pyplot as plt"
   ]
  },
  {
   "cell_type": "code",
   "execution_count": 2,
   "metadata": {},
   "outputs": [],
   "source": [
    "all_lc = pd.read_pickle('./data/all_results.pkl')"
   ]
  },
  {
   "cell_type": "markdown",
   "metadata": {},
   "source": [
    "### Visualize premilimary data"
   ]
  },
  {
   "cell_type": "code",
   "execution_count": 3,
   "metadata": {},
   "outputs": [
    {
     "data": {
      "text/html": [
       "<div>\n",
       "<style scoped>\n",
       "    .dataframe tbody tr th:only-of-type {\n",
       "        vertical-align: middle;\n",
       "    }\n",
       "\n",
       "    .dataframe tbody tr th {\n",
       "        vertical-align: top;\n",
       "    }\n",
       "\n",
       "    .dataframe thead th {\n",
       "        text-align: right;\n",
       "    }\n",
       "</style>\n",
       "<table border=\"1\" class=\"dataframe\">\n",
       "  <thead>\n",
       "    <tr style=\"text-align: right;\">\n",
       "      <th></th>\n",
       "      <th>mjd</th>\n",
       "      <th>classification</th>\n",
       "      <th>zpsys</th>\n",
       "      <th>flux</th>\n",
       "      <th>ra</th>\n",
       "      <th>flux_error</th>\n",
       "      <th>dec</th>\n",
       "      <th>zp</th>\n",
       "      <th>bandpass</th>\n",
       "      <th>magnitude</th>\n",
       "      <th>magnitude_error</th>\n",
       "      <th>ID</th>\n",
       "    </tr>\n",
       "  </thead>\n",
       "  <tbody>\n",
       "    <tr>\n",
       "      <th>0</th>\n",
       "      <td>53080.0</td>\n",
       "      <td>6.0</td>\n",
       "      <td>ab</td>\n",
       "      <td>72.388634</td>\n",
       "      <td>3.764254</td>\n",
       "      <td>0.974762</td>\n",
       "      <td>0.923296</td>\n",
       "      <td>30.0</td>\n",
       "      <td>sdssi</td>\n",
       "      <td>25.350824</td>\n",
       "      <td>0.014620</td>\n",
       "      <td>0</td>\n",
       "    </tr>\n",
       "    <tr>\n",
       "      <th>1</th>\n",
       "      <td>53083.0</td>\n",
       "      <td>6.0</td>\n",
       "      <td>ab</td>\n",
       "      <td>18.016556</td>\n",
       "      <td>3.764254</td>\n",
       "      <td>0.850242</td>\n",
       "      <td>0.923296</td>\n",
       "      <td>30.0</td>\n",
       "      <td>sdssg</td>\n",
       "      <td>26.860821</td>\n",
       "      <td>0.051238</td>\n",
       "      <td>0</td>\n",
       "    </tr>\n",
       "    <tr>\n",
       "      <th>2</th>\n",
       "      <td>53083.0</td>\n",
       "      <td>6.0</td>\n",
       "      <td>ab</td>\n",
       "      <td>82.849670</td>\n",
       "      <td>3.764254</td>\n",
       "      <td>1.209626</td>\n",
       "      <td>0.923296</td>\n",
       "      <td>30.0</td>\n",
       "      <td>sdssi</td>\n",
       "      <td>25.204273</td>\n",
       "      <td>0.015852</td>\n",
       "      <td>0</td>\n",
       "    </tr>\n",
       "    <tr>\n",
       "      <th>3</th>\n",
       "      <td>53109.0</td>\n",
       "      <td>6.0</td>\n",
       "      <td>ab</td>\n",
       "      <td>15.385023</td>\n",
       "      <td>3.764255</td>\n",
       "      <td>1.162016</td>\n",
       "      <td>0.923296</td>\n",
       "      <td>30.0</td>\n",
       "      <td>sdssg</td>\n",
       "      <td>27.032255</td>\n",
       "      <td>0.082005</td>\n",
       "      <td>0</td>\n",
       "    </tr>\n",
       "    <tr>\n",
       "      <th>4</th>\n",
       "      <td>53138.0</td>\n",
       "      <td>6.0</td>\n",
       "      <td>ab</td>\n",
       "      <td>19.325619</td>\n",
       "      <td>3.764254</td>\n",
       "      <td>0.896431</td>\n",
       "      <td>0.923296</td>\n",
       "      <td>30.0</td>\n",
       "      <td>sdssg</td>\n",
       "      <td>26.784666</td>\n",
       "      <td>0.050363</td>\n",
       "      <td>0</td>\n",
       "    </tr>\n",
       "  </tbody>\n",
       "</table>\n",
       "</div>"
      ],
      "text/plain": [
       "       mjd  classification zpsys       flux        ra  flux_error       dec  \\\n",
       "0  53080.0             6.0    ab  72.388634  3.764254    0.974762  0.923296   \n",
       "1  53083.0             6.0    ab  18.016556  3.764254    0.850242  0.923296   \n",
       "2  53083.0             6.0    ab  82.849670  3.764254    1.209626  0.923296   \n",
       "3  53109.0             6.0    ab  15.385023  3.764255    1.162016  0.923296   \n",
       "4  53138.0             6.0    ab  19.325619  3.764254    0.896431  0.923296   \n",
       "\n",
       "     zp bandpass  magnitude  magnitude_error  ID  \n",
       "0  30.0    sdssi  25.350824         0.014620   0  \n",
       "1  30.0    sdssg  26.860821         0.051238   0  \n",
       "2  30.0    sdssi  25.204273         0.015852   0  \n",
       "3  30.0    sdssg  27.032255         0.082005   0  \n",
       "4  30.0    sdssg  26.784666         0.050363   0  "
      ]
     },
     "execution_count": 3,
     "metadata": {},
     "output_type": "execute_result"
    }
   ],
   "source": [
    "all_lc.head()"
   ]
  },
  {
   "cell_type": "markdown",
   "metadata": {},
   "source": [
    "### Drop redundant columns"
   ]
  },
  {
   "cell_type": "code",
   "execution_count": 4,
   "metadata": {},
   "outputs": [],
   "source": [
    "all_lc = all_lc.drop(columns=['zpsys','zp','classification'])"
   ]
  },
  {
   "cell_type": "code",
   "execution_count": 5,
   "metadata": {},
   "outputs": [],
   "source": [
    "filters = all_lc.groupby(\"ID\")"
   ]
  },
  {
   "cell_type": "code",
   "execution_count": 14,
   "metadata": {},
   "outputs": [
    {
     "data": {
      "text/html": [
       "<div>\n",
       "<style scoped>\n",
       "    .dataframe tbody tr th:only-of-type {\n",
       "        vertical-align: middle;\n",
       "    }\n",
       "\n",
       "    .dataframe tbody tr th {\n",
       "        vertical-align: top;\n",
       "    }\n",
       "\n",
       "    .dataframe thead th {\n",
       "        text-align: right;\n",
       "    }\n",
       "</style>\n",
       "<table border=\"1\" class=\"dataframe\">\n",
       "  <thead>\n",
       "    <tr style=\"text-align: right;\">\n",
       "      <th></th>\n",
       "      <th>mjd</th>\n",
       "      <th>flux</th>\n",
       "      <th>ra</th>\n",
       "      <th>flux_error</th>\n",
       "      <th>dec</th>\n",
       "      <th>bandpass</th>\n",
       "      <th>magnitude</th>\n",
       "      <th>magnitude_error</th>\n",
       "      <th>ID</th>\n",
       "    </tr>\n",
       "  </thead>\n",
       "  <tbody>\n",
       "    <tr>\n",
       "      <th>0</th>\n",
       "      <td>53083.0</td>\n",
       "      <td>10.499718</td>\n",
       "      <td>3.763584</td>\n",
       "      <td>0.398764</td>\n",
       "      <td>0.910898</td>\n",
       "      <td>sdssg</td>\n",
       "      <td>27.447056</td>\n",
       "      <td>0.041235</td>\n",
       "      <td>29</td>\n",
       "    </tr>\n",
       "    <tr>\n",
       "      <th>1</th>\n",
       "      <td>53121.0</td>\n",
       "      <td>15.255038</td>\n",
       "      <td>3.763587</td>\n",
       "      <td>0.491472</td>\n",
       "      <td>0.910896</td>\n",
       "      <td>sdssg</td>\n",
       "      <td>27.041467</td>\n",
       "      <td>0.034979</td>\n",
       "      <td>29</td>\n",
       "    </tr>\n",
       "    <tr>\n",
       "      <th>2</th>\n",
       "      <td>53109.0</td>\n",
       "      <td>11.646302</td>\n",
       "      <td>3.763586</td>\n",
       "      <td>0.506150</td>\n",
       "      <td>0.910895</td>\n",
       "      <td>sdssg</td>\n",
       "      <td>27.334530</td>\n",
       "      <td>0.047186</td>\n",
       "      <td>29</td>\n",
       "    </tr>\n",
       "    <tr>\n",
       "      <th>3</th>\n",
       "      <td>53146.0</td>\n",
       "      <td>14.253207</td>\n",
       "      <td>3.763586</td>\n",
       "      <td>0.581495</td>\n",
       "      <td>0.910896</td>\n",
       "      <td>sdssg</td>\n",
       "      <td>27.115219</td>\n",
       "      <td>0.044295</td>\n",
       "      <td>29</td>\n",
       "    </tr>\n",
       "    <tr>\n",
       "      <th>4</th>\n",
       "      <td>53138.0</td>\n",
       "      <td>11.627768</td>\n",
       "      <td>3.763584</td>\n",
       "      <td>0.571908</td>\n",
       "      <td>0.910897</td>\n",
       "      <td>sdssg</td>\n",
       "      <td>27.336259</td>\n",
       "      <td>0.053402</td>\n",
       "      <td>29</td>\n",
       "    </tr>\n",
       "    <tr>\n",
       "      <th>5</th>\n",
       "      <td>53149.0</td>\n",
       "      <td>17.456196</td>\n",
       "      <td>3.763587</td>\n",
       "      <td>0.694672</td>\n",
       "      <td>0.910896</td>\n",
       "      <td>sdssg</td>\n",
       "      <td>26.895126</td>\n",
       "      <td>0.043207</td>\n",
       "      <td>29</td>\n",
       "    </tr>\n",
       "    <tr>\n",
       "      <th>6</th>\n",
       "      <td>53165.0</td>\n",
       "      <td>14.979382</td>\n",
       "      <td>3.763586</td>\n",
       "      <td>0.495335</td>\n",
       "      <td>0.910896</td>\n",
       "      <td>sdssg</td>\n",
       "      <td>27.061265</td>\n",
       "      <td>0.035903</td>\n",
       "      <td>29</td>\n",
       "    </tr>\n",
       "    <tr>\n",
       "      <th>7</th>\n",
       "      <td>53117.0</td>\n",
       "      <td>14.980701</td>\n",
       "      <td>3.763586</td>\n",
       "      <td>0.485231</td>\n",
       "      <td>0.910896</td>\n",
       "      <td>sdssg</td>\n",
       "      <td>27.061170</td>\n",
       "      <td>0.035167</td>\n",
       "      <td>29</td>\n",
       "    </tr>\n",
       "    <tr>\n",
       "      <th>8</th>\n",
       "      <td>53178.0</td>\n",
       "      <td>14.926097</td>\n",
       "      <td>3.763587</td>\n",
       "      <td>0.517281</td>\n",
       "      <td>0.910896</td>\n",
       "      <td>sdssg</td>\n",
       "      <td>27.065134</td>\n",
       "      <td>0.037627</td>\n",
       "      <td>29</td>\n",
       "    </tr>\n",
       "    <tr>\n",
       "      <th>9</th>\n",
       "      <td>53195.0</td>\n",
       "      <td>16.029175</td>\n",
       "      <td>3.763587</td>\n",
       "      <td>0.502253</td>\n",
       "      <td>0.910896</td>\n",
       "      <td>sdssg</td>\n",
       "      <td>26.987722</td>\n",
       "      <td>0.034020</td>\n",
       "      <td>29</td>\n",
       "    </tr>\n",
       "    <tr>\n",
       "      <th>10</th>\n",
       "      <td>53200.0</td>\n",
       "      <td>14.544533</td>\n",
       "      <td>3.763586</td>\n",
       "      <td>0.585171</td>\n",
       "      <td>0.910895</td>\n",
       "      <td>sdssg</td>\n",
       "      <td>27.093251</td>\n",
       "      <td>0.043683</td>\n",
       "      <td>29</td>\n",
       "    </tr>\n",
       "    <tr>\n",
       "      <th>11</th>\n",
       "      <td>53175.0</td>\n",
       "      <td>13.455353</td>\n",
       "      <td>3.763587</td>\n",
       "      <td>0.467041</td>\n",
       "      <td>0.910895</td>\n",
       "      <td>sdssg</td>\n",
       "      <td>27.177762</td>\n",
       "      <td>0.037686</td>\n",
       "      <td>29</td>\n",
       "    </tr>\n",
       "  </tbody>\n",
       "</table>\n",
       "</div>"
      ],
      "text/plain": [
       "        mjd       flux        ra  flux_error       dec bandpass  magnitude  \\\n",
       "0   53083.0  10.499718  3.763584    0.398764  0.910898    sdssg  27.447056   \n",
       "1   53121.0  15.255038  3.763587    0.491472  0.910896    sdssg  27.041467   \n",
       "2   53109.0  11.646302  3.763586    0.506150  0.910895    sdssg  27.334530   \n",
       "3   53146.0  14.253207  3.763586    0.581495  0.910896    sdssg  27.115219   \n",
       "4   53138.0  11.627768  3.763584    0.571908  0.910897    sdssg  27.336259   \n",
       "5   53149.0  17.456196  3.763587    0.694672  0.910896    sdssg  26.895126   \n",
       "6   53165.0  14.979382  3.763586    0.495335  0.910896    sdssg  27.061265   \n",
       "7   53117.0  14.980701  3.763586    0.485231  0.910896    sdssg  27.061170   \n",
       "8   53178.0  14.926097  3.763587    0.517281  0.910896    sdssg  27.065134   \n",
       "9   53195.0  16.029175  3.763587    0.502253  0.910896    sdssg  26.987722   \n",
       "10  53200.0  14.544533  3.763586    0.585171  0.910895    sdssg  27.093251   \n",
       "11  53175.0  13.455353  3.763587    0.467041  0.910895    sdssg  27.177762   \n",
       "\n",
       "    magnitude_error  ID  \n",
       "0          0.041235  29  \n",
       "1          0.034979  29  \n",
       "2          0.047186  29  \n",
       "3          0.044295  29  \n",
       "4          0.053402  29  \n",
       "5          0.043207  29  \n",
       "6          0.035903  29  \n",
       "7          0.035167  29  \n",
       "8          0.037627  29  \n",
       "9          0.034020  29  \n",
       "10         0.043683  29  \n",
       "11         0.037686  29  "
      ]
     },
     "execution_count": 14,
     "metadata": {},
     "output_type": "execute_result"
    }
   ],
   "source": [
    "filters.get_group(29)\n"
   ]
  },
  {
   "cell_type": "code",
   "execution_count": 17,
   "metadata": {},
   "outputs": [
    {
     "data": {
      "text/plain": [
       "<matplotlib.collections.PathCollection at 0x7f6bfe961198>"
      ]
     },
     "execution_count": 17,
     "metadata": {},
     "output_type": "execute_result"
    },
    {
     "data": {
      "image/png": "[encoded data removed]",
      "text/plain": [
       "<matplotlib.figure.Figure at 0x7f6bfb3a1358>"
      ]
     },
     "metadata": {},
     "output_type": "display_data"
    }
   ],
   "source": [
    "plt.scatter(filters.get_group(30).mjd,filters.get_group(30).magnitude)"
   ]
  },
  {
   "cell_type": "code",
   "execution_count": 67,
   "metadata": {},
   "outputs": [],
   "source": [
    "idAndBandpass = all_lc[[\"ID\",'bandpass']]\n",
    "idAndBandpass = idAndBandpass.drop_duplicates().groupby(['ID'])"
   ]
  },
  {
   "cell_type": "code",
   "execution_count": 68,
   "metadata": {},
   "outputs": [
    {
     "data": {
      "text/plain": [
       "Text(0,0.5,'Number of light curves')"
      ]
     },
     "execution_count": 68,
     "metadata": {},
     "output_type": "execute_result"
    },
    {
     "data": {
      "image/png": "[encoded data removed]",
      "text/plain": [
       "<matplotlib.figure.Figure at 0x7f6bab97fcf8>"
      ]
     },
     "metadata": {},
     "output_type": "display_data"
    }
   ],
   "source": [
    "plt.hist(idAndBandpass.size())\n",
    "plt.xlabel(\"Number of available filters\")\n",
    "plt.ylabel(\"Number of light curves\")"
   ]
  },
  {
   "cell_type": "code",
   "execution_count": null,
   "metadata": {},
   "outputs": [],
   "source": []
  }
 ],
 "metadata": {
  "kernelspec": {
   "display_name": "Python 3",
   "language": "python",
   "name": "python3"
  },
  "language_info": {
   "codemirror_mode": {
    "name": "ipython",
    "version": 3
   },
   "file_extension": ".py",
   "mimetype": "text/x-python",
   "name": "python",
   "nbconvert_exporter": "python",
   "pygments_lexer": "ipython3",
   "version": "3.6.4"
  }
 },
 "nbformat": 4,
 "nbformat_minor": 2
}
