{
 "cells": [
  {
   "cell_type": "code",
   "execution_count": 27,
   "metadata": {},
   "outputs": [],
   "source": [
    "from sklearn.ensemble import RandomForestClassifier\n",
    "import sklearn.metrics\n",
    "import pandas as pd\n",
    "import numpy as np\n",
    "np.random.seed(0)\n",
    "from sklearn.model_selection import GridSearchCV, StratifiedKFold  # , cross_val_score\n",
    "from sklearn.metrics import make_scorer, accuracy_score, precision_score, recall_score, f1_score, precision_recall_fscore_support, confusion_matrix  # , classification_report\n",
    "import matplotlib.pyplot as plt \n"
   ]
  },
  {
   "cell_type": "code",
   "execution_count": 38,
   "metadata": {},
   "outputs": [],
   "source": [
    "DATA_PATH = './data/'\n",
    "LIGHTCURVES_PATH = DATA_PATH + 'lightcurves/'\n",
    "FEATURES_PATH = DATA_PATH + 'features/'\n",
    "RED = DATA_PATH + \"just_red/\""
   ]
  },
  {
   "cell_type": "code",
   "execution_count": 7,
   "metadata": {},
   "outputs": [
    {
     "data": {
      "text/plain": [
       "(186510, 4)"
      ]
     },
     "execution_count": 7,
     "metadata": {},
     "output_type": "execute_result"
    }
   ],
   "source": [
    "filename = 'sns_clean.pickle'\n",
    "indir = LIGHTCURVES_PATH; filepath = indir + filename\n",
    "sns = pd.read_pickle(filepath)\n",
    "sns.shape"
   ]
  },
  {
   "cell_type": "code",
   "execution_count": 9,
   "metadata": {},
   "outputs": [
    {
     "data": {
      "text/html": [
       "<div>\n",
       "<style scoped>\n",
       "    .dataframe tbody tr th:only-of-type {\n",
       "        vertical-align: middle;\n",
       "    }\n",
       "\n",
       "    .dataframe tbody tr th {\n",
       "        vertical-align: top;\n",
       "    }\n",
       "\n",
       "    .dataframe thead th {\n",
       "        text-align: right;\n",
       "    }\n",
       "</style>\n",
       "<table border=\"1\" class=\"dataframe\">\n",
       "  <thead>\n",
       "    <tr style=\"text-align: right;\">\n",
       "      <th></th>\n",
       "      <th></th>\n",
       "      <th>MJD</th>\n",
       "      <th>BANDPASS</th>\n",
       "      <th>FLUX</th>\n",
       "      <th>FLUX_ERROR</th>\n",
       "    </tr>\n",
       "    <tr>\n",
       "      <th>ID</th>\n",
       "      <th>observation_id</th>\n",
       "      <th></th>\n",
       "      <th></th>\n",
       "      <th></th>\n",
       "      <th></th>\n",
       "    </tr>\n",
       "  </thead>\n",
       "  <tbody>\n",
       "    <tr>\n",
       "      <th rowspan=\"5\" valign=\"top\">SN_0</th>\n",
       "      <th>0</th>\n",
       "      <td>53094.543</td>\n",
       "      <td>i</td>\n",
       "      <td>18.7260</td>\n",
       "      <td>2.064</td>\n",
       "    </tr>\n",
       "    <tr>\n",
       "      <th>1</th>\n",
       "      <td>53094.586</td>\n",
       "      <td>r</td>\n",
       "      <td>7.3375</td>\n",
       "      <td>1.673</td>\n",
       "    </tr>\n",
       "    <tr>\n",
       "      <th>2</th>\n",
       "      <td>53094.613</td>\n",
       "      <td>z</td>\n",
       "      <td>9.8390</td>\n",
       "      <td>9.255</td>\n",
       "    </tr>\n",
       "    <tr>\n",
       "      <th>3</th>\n",
       "      <td>53109.492</td>\n",
       "      <td>i</td>\n",
       "      <td>125.7100</td>\n",
       "      <td>3.098</td>\n",
       "    </tr>\n",
       "    <tr>\n",
       "      <th>4</th>\n",
       "      <td>53109.539</td>\n",
       "      <td>r</td>\n",
       "      <td>110.4600</td>\n",
       "      <td>2.639</td>\n",
       "    </tr>\n",
       "  </tbody>\n",
       "</table>\n",
       "</div>"
      ],
      "text/plain": [
       "                           MJD BANDPASS      FLUX  FLUX_ERROR\n",
       "ID   observation_id                                          \n",
       "SN_0 0               53094.543        i   18.7260       2.064\n",
       "     1               53094.586        r    7.3375       1.673\n",
       "     2               53094.613        z    9.8390       9.255\n",
       "     3               53109.492        i  125.7100       3.098\n",
       "     4               53109.539        r  110.4600       2.639"
      ]
     },
     "execution_count": 9,
     "metadata": {},
     "output_type": "execute_result"
    }
   ],
   "source": [
    "sns.head()"
   ]
  },
  {
   "cell_type": "code",
   "execution_count": 11,
   "metadata": {},
   "outputs": [],
   "source": [
    "just_red_sns = sns[sns[\"BANDPASS\"] == 'r']"
   ]
  },
  {
   "cell_type": "code",
   "execution_count": 13,
   "metadata": {},
   "outputs": [],
   "source": [
    "ids = just_red_sns.index.get_level_values(\"ID\").unique()"
   ]
  },
  {
   "cell_type": "code",
   "execution_count": 18,
   "metadata": {},
   "outputs": [],
   "source": [
    "ids = np.array(ids)"
   ]
  },
  {
   "cell_type": "code",
   "execution_count": 24,
   "metadata": {},
   "outputs": [
    {
     "data": {
      "text/plain": [
       "6"
      ]
     },
     "execution_count": 24,
     "metadata": {},
     "output_type": "execute_result"
    }
   ],
   "source": [
    "len(just_red_sns[just_red_sns.index.get_level_values(\"ID\") == ids[1]])"
   ]
  },
  {
   "cell_type": "code",
   "execution_count": 25,
   "metadata": {},
   "outputs": [],
   "source": [
    "num_points = []\n",
    "for i in ids:\n",
    "    num_points.append(len(just_red_sns[just_red_sns.index.get_level_values(\"ID\") == i]))"
   ]
  },
  {
   "cell_type": "code",
   "execution_count": 32,
   "metadata": {},
   "outputs": [
    {
     "data": {
      "text/plain": [
       "Text(0.5,1,'Histogram of number of points in the lightcurve, filter R')"
      ]
     },
     "execution_count": 32,
     "metadata": {},
     "output_type": "execute_result"
    },
    {
     "data": {
      "image/png": "[encoded data removed]",
      "text/plain": [
       "<matplotlib.figure.Figure at 0x7fcd60976da0>"
      ]
     },
     "metadata": {},
     "output_type": "display_data"
    }
   ],
   "source": [
    "plt.hist(num_points,bins=30)\n",
    "plt.xlabel(\"Number of points in the light curve\")\n",
    "plt.ylabel(\"Frecuency\")\n",
    "plt.title(\"Histogram of number of points in the lightcurve, filter R\")"
   ]
  },
  {
   "cell_type": "code",
   "execution_count": 36,
   "metadata": {},
   "outputs": [
    {
     "data": {
      "text/plain": [
       "138"
      ]
     },
     "execution_count": 36,
     "metadata": {},
     "output_type": "execute_result"
    }
   ],
   "source": [
    "sum(np.array(num_points)<5)"
   ]
  },
  {
   "cell_type": "code",
   "execution_count": 39,
   "metadata": {},
   "outputs": [
    {
     "data": {
      "text/plain": [
       "(94054, 32)"
      ]
     },
     "execution_count": 39,
     "metadata": {},
     "output_type": "execute_result"
    }
   ],
   "source": [
    "sn_train = pd.read_pickle(RED + 'sn_just_red.pickle')\n",
    "\n",
    "sn_train.shape\n",
    "\n",
    "sn_test = pd.read_pickle(RED + \"msn_just_red.pickle\")\n",
    "\n",
    "sn_test.shape\n",
    "\n",
    "allnsn_small = pd.read_pickle(RED+\"nsn_just_red.pickle\")\n",
    "\n",
    "allnsn_small.shape"
   ]
  },
  {
   "cell_type": "code",
   "execution_count": 41,
   "metadata": {},
   "outputs": [],
   "source": [
    "all_train = pd.concat([allnsn_small.sample(5000),sn_train])"
   ]
  },
  {
   "cell_type": "code",
   "execution_count": 42,
   "metadata": {},
   "outputs": [
    {
     "data": {
      "text/plain": [
       "(9862, 32)"
      ]
     },
     "execution_count": 42,
     "metadata": {},
     "output_type": "execute_result"
    }
   ],
   "source": [
    "all_train.shape"
   ]
  },
  {
   "cell_type": "code",
   "execution_count": 45,
   "metadata": {},
   "outputs": [
    {
     "data": {
      "text/html": [
       "<div>\n",
       "<style scoped>\n",
       "    .dataframe tbody tr th:only-of-type {\n",
       "        vertical-align: middle;\n",
       "    }\n",
       "\n",
       "    .dataframe tbody tr th {\n",
       "        vertical-align: top;\n",
       "    }\n",
       "\n",
       "    .dataframe thead th {\n",
       "        text-align: right;\n",
       "    }\n",
       "</style>\n",
       "<table border=\"1\" class=\"dataframe\">\n",
       "  <thead>\n",
       "    <tr style=\"text-align: right;\">\n",
       "      <th></th>\n",
       "      <th></th>\n",
       "      <th></th>\n",
       "      <th>Class</th>\n",
       "      <th>ObsCount</th>\n",
       "      <th>amplitude</th>\n",
       "      <th>beyond1st</th>\n",
       "      <th>flux_percentile_ratio_mid20</th>\n",
       "      <th>flux_percentile_ratio_mid35</th>\n",
       "      <th>flux_percentile_ratio_mid50</th>\n",
       "      <th>flux_percentile_ratio_mid65</th>\n",
       "      <th>flux_percentile_ratio_mid80</th>\n",
       "      <th>kurtosis</th>\n",
       "      <th>...</th>\n",
       "      <th>poly3_t3</th>\n",
       "      <th>poly4_t1</th>\n",
       "      <th>poly4_t2</th>\n",
       "      <th>poly4_t3</th>\n",
       "      <th>poly4_t4</th>\n",
       "      <th>skew</th>\n",
       "      <th>small_kurtosis</th>\n",
       "      <th>std</th>\n",
       "      <th>stetson_j</th>\n",
       "      <th>stetson_k</th>\n",
       "    </tr>\n",
       "    <tr>\n",
       "      <th>ID</th>\n",
       "      <th>copy_num</th>\n",
       "      <th>BANDPASS</th>\n",
       "      <th></th>\n",
       "      <th></th>\n",
       "      <th></th>\n",
       "      <th></th>\n",
       "      <th></th>\n",
       "      <th></th>\n",
       "      <th></th>\n",
       "      <th></th>\n",
       "      <th></th>\n",
       "      <th></th>\n",
       "      <th></th>\n",
       "      <th></th>\n",
       "      <th></th>\n",
       "      <th></th>\n",
       "      <th></th>\n",
       "      <th></th>\n",
       "      <th></th>\n",
       "      <th></th>\n",
       "      <th></th>\n",
       "      <th></th>\n",
       "      <th></th>\n",
       "    </tr>\n",
       "  </thead>\n",
       "  <tbody>\n",
       "    <tr>\n",
       "      <th>186521</th>\n",
       "      <th>0</th>\n",
       "      <th>r</th>\n",
       "      <td>non-sn</td>\n",
       "      <td>12</td>\n",
       "      <td>2.852910</td>\n",
       "      <td>0.250000</td>\n",
       "      <td>0.100948</td>\n",
       "      <td>0.216216</td>\n",
       "      <td>0.339722</td>\n",
       "      <td>0.494392</td>\n",
       "      <td>0.709870</td>\n",
       "      <td>1.088290</td>\n",
       "      <td>...</td>\n",
       "      <td>3.262969e-07</td>\n",
       "      <td>-0.021585</td>\n",
       "      <td>-0.000016</td>\n",
       "      <td>6.341107e-07</td>\n",
       "      <td>1.511403e-09</td>\n",
       "      <td>0.657155</td>\n",
       "      <td>-4.033333</td>\n",
       "      <td>1.512946</td>\n",
       "      <td>0.022932</td>\n",
       "      <td>0.784388</td>\n",
       "    </tr>\n",
       "    <tr>\n",
       "      <th>174832</th>\n",
       "      <th>0</th>\n",
       "      <th>r</th>\n",
       "      <td>non-sn</td>\n",
       "      <td>16</td>\n",
       "      <td>1.707491</td>\n",
       "      <td>0.375000</td>\n",
       "      <td>0.066579</td>\n",
       "      <td>0.309854</td>\n",
       "      <td>0.415356</td>\n",
       "      <td>0.739989</td>\n",
       "      <td>0.881931</td>\n",
       "      <td>-0.675908</td>\n",
       "      <td>...</td>\n",
       "      <td>8.736722e-09</td>\n",
       "      <td>-0.000878</td>\n",
       "      <td>0.000002</td>\n",
       "      <td>8.805043e-09</td>\n",
       "      <td>-2.678141e-12</td>\n",
       "      <td>0.855323</td>\n",
       "      <td>-3.708791</td>\n",
       "      <td>1.134199</td>\n",
       "      <td>-0.312050</td>\n",
       "      <td>0.862222</td>\n",
       "    </tr>\n",
       "    <tr>\n",
       "      <th>117973</th>\n",
       "      <th>0</th>\n",
       "      <th>r</th>\n",
       "      <td>non-sn</td>\n",
       "      <td>73</td>\n",
       "      <td>7.479734</td>\n",
       "      <td>0.328767</td>\n",
       "      <td>0.169417</td>\n",
       "      <td>0.292286</td>\n",
       "      <td>0.356970</td>\n",
       "      <td>0.544552</td>\n",
       "      <td>0.788164</td>\n",
       "      <td>-0.307402</td>\n",
       "      <td>...</td>\n",
       "      <td>1.776995e-08</td>\n",
       "      <td>-0.002442</td>\n",
       "      <td>-0.000003</td>\n",
       "      <td>1.396748e-08</td>\n",
       "      <td>7.159062e-11</td>\n",
       "      <td>0.153607</td>\n",
       "      <td>-3.129175</td>\n",
       "      <td>3.265079</td>\n",
       "      <td>-0.325806</td>\n",
       "      <td>0.805449</td>\n",
       "    </tr>\n",
       "    <tr>\n",
       "      <th>229245</th>\n",
       "      <th>0</th>\n",
       "      <th>r</th>\n",
       "      <td>non-sn</td>\n",
       "      <td>10</td>\n",
       "      <td>2.613791</td>\n",
       "      <td>0.100000</td>\n",
       "      <td>0.049241</td>\n",
       "      <td>0.086675</td>\n",
       "      <td>0.262052</td>\n",
       "      <td>0.347176</td>\n",
       "      <td>0.488197</td>\n",
       "      <td>6.436209</td>\n",
       "      <td>...</td>\n",
       "      <td>-1.313545e-07</td>\n",
       "      <td>0.009900</td>\n",
       "      <td>0.000048</td>\n",
       "      <td>-3.056658e-07</td>\n",
       "      <td>3.632756e-10</td>\n",
       "      <td>2.297308</td>\n",
       "      <td>-4.339286</td>\n",
       "      <td>1.465207</td>\n",
       "      <td>-0.140479</td>\n",
       "      <td>0.608206</td>\n",
       "    </tr>\n",
       "    <tr>\n",
       "      <th>5938</th>\n",
       "      <th>0</th>\n",
       "      <th>r</th>\n",
       "      <td>non-sn</td>\n",
       "      <td>7</td>\n",
       "      <td>1.259203</td>\n",
       "      <td>0.428571</td>\n",
       "      <td>0.194737</td>\n",
       "      <td>0.350049</td>\n",
       "      <td>0.579439</td>\n",
       "      <td>0.808828</td>\n",
       "      <td>0.928993</td>\n",
       "      <td>-1.336608</td>\n",
       "      <td>...</td>\n",
       "      <td>1.646947e-08</td>\n",
       "      <td>-0.001271</td>\n",
       "      <td>-0.000006</td>\n",
       "      <td>1.420230e-08</td>\n",
       "      <td>7.447832e-11</td>\n",
       "      <td>0.245531</td>\n",
       "      <td>-5.400000</td>\n",
       "      <td>0.965889</td>\n",
       "      <td>-0.663814</td>\n",
       "      <td>0.898495</td>\n",
       "    </tr>\n",
       "  </tbody>\n",
       "</table>\n",
       "<p>5 rows × 32 columns</p>\n",
       "</div>"
      ],
      "text/plain": [
       "                           Class  ObsCount  amplitude  beyond1st  \\\n",
       "ID     copy_num BANDPASS                                           \n",
       "186521 0        r         non-sn        12   2.852910   0.250000   \n",
       "174832 0        r         non-sn        16   1.707491   0.375000   \n",
       "117973 0        r         non-sn        73   7.479734   0.328767   \n",
       "229245 0        r         non-sn        10   2.613791   0.100000   \n",
       "5938   0        r         non-sn         7   1.259203   0.428571   \n",
       "\n",
       "                          flux_percentile_ratio_mid20  \\\n",
       "ID     copy_num BANDPASS                                \n",
       "186521 0        r                            0.100948   \n",
       "174832 0        r                            0.066579   \n",
       "117973 0        r                            0.169417   \n",
       "229245 0        r                            0.049241   \n",
       "5938   0        r                            0.194737   \n",
       "\n",
       "                          flux_percentile_ratio_mid35  \\\n",
       "ID     copy_num BANDPASS                                \n",
       "186521 0        r                            0.216216   \n",
       "174832 0        r                            0.309854   \n",
       "117973 0        r                            0.292286   \n",
       "229245 0        r                            0.086675   \n",
       "5938   0        r                            0.350049   \n",
       "\n",
       "                          flux_percentile_ratio_mid50  \\\n",
       "ID     copy_num BANDPASS                                \n",
       "186521 0        r                            0.339722   \n",
       "174832 0        r                            0.415356   \n",
       "117973 0        r                            0.356970   \n",
       "229245 0        r                            0.262052   \n",
       "5938   0        r                            0.579439   \n",
       "\n",
       "                          flux_percentile_ratio_mid65  \\\n",
       "ID     copy_num BANDPASS                                \n",
       "186521 0        r                            0.494392   \n",
       "174832 0        r                            0.739989   \n",
       "117973 0        r                            0.544552   \n",
       "229245 0        r                            0.347176   \n",
       "5938   0        r                            0.808828   \n",
       "\n",
       "                          flux_percentile_ratio_mid80  kurtosis    ...      \\\n",
       "ID     copy_num BANDPASS                                           ...       \n",
       "186521 0        r                            0.709870  1.088290    ...       \n",
       "174832 0        r                            0.881931 -0.675908    ...       \n",
       "117973 0        r                            0.788164 -0.307402    ...       \n",
       "229245 0        r                            0.488197  6.436209    ...       \n",
       "5938   0        r                            0.928993 -1.336608    ...       \n",
       "\n",
       "                              poly3_t3  poly4_t1  poly4_t2      poly4_t3  \\\n",
       "ID     copy_num BANDPASS                                                   \n",
       "186521 0        r         3.262969e-07 -0.021585 -0.000016  6.341107e-07   \n",
       "174832 0        r         8.736722e-09 -0.000878  0.000002  8.805043e-09   \n",
       "117973 0        r         1.776995e-08 -0.002442 -0.000003  1.396748e-08   \n",
       "229245 0        r        -1.313545e-07  0.009900  0.000048 -3.056658e-07   \n",
       "5938   0        r         1.646947e-08 -0.001271 -0.000006  1.420230e-08   \n",
       "\n",
       "                              poly4_t4      skew  small_kurtosis       std  \\\n",
       "ID     copy_num BANDPASS                                                     \n",
       "186521 0        r         1.511403e-09  0.657155       -4.033333  1.512946   \n",
       "174832 0        r        -2.678141e-12  0.855323       -3.708791  1.134199   \n",
       "117973 0        r         7.159062e-11  0.153607       -3.129175  3.265079   \n",
       "229245 0        r         3.632756e-10  2.297308       -4.339286  1.465207   \n",
       "5938   0        r         7.447832e-11  0.245531       -5.400000  0.965889   \n",
       "\n",
       "                          stetson_j  stetson_k  \n",
       "ID     copy_num BANDPASS                        \n",
       "186521 0        r          0.022932   0.784388  \n",
       "174832 0        r         -0.312050   0.862222  \n",
       "117973 0        r         -0.325806   0.805449  \n",
       "229245 0        r         -0.140479   0.608206  \n",
       "5938   0        r         -0.663814   0.898495  \n",
       "\n",
       "[5 rows x 32 columns]"
      ]
     },
     "execution_count": 45,
     "metadata": {},
     "output_type": "execute_result"
    }
   ],
   "source": [
    "all_train.head()"
   ]
  },
  {
   "cell_type": "code",
   "execution_count": 55,
   "metadata": {},
   "outputs": [
    {
     "data": {
      "text/plain": [
       "(125, 32)"
      ]
     },
     "execution_count": 55,
     "metadata": {},
     "output_type": "execute_result"
    }
   ],
   "source": [
    "sn_test.shape"
   ]
  },
  {
   "cell_type": "code",
   "execution_count": 56,
   "metadata": {},
   "outputs": [
    {
     "data": {
      "text/plain": [
       "Text(0.5,1,'Number of observations per light curve, R filter')"
      ]
     },
     "execution_count": 56,
     "metadata": {},
     "output_type": "execute_result"
    },
    {
     "data": {
      "image/png": "[encoded data removed]",
      "text/plain": [
       "<matplotlib.figure.Figure at 0x7fcd6064bd30>"
      ]
     },
     "metadata": {},
     "output_type": "display_data"
    }
   ],
   "source": [
    "plt.hist(all_train[\"ObsCount\"])\n",
    "plt.xlabel(\"Number of observations in the lightcurve\")\n",
    "plt.ylabel(\"Frequency\")\n",
    "plt.title(\"Number of observations per light curve, R filter\")"
   ]
  },
  {
   "cell_type": "code",
   "execution_count": null,
   "metadata": {},
   "outputs": [],
   "source": []
  }
 ],
 "metadata": {
  "kernelspec": {
   "display_name": "Python 3",
   "language": "python",
   "name": "python3"
  },
  "language_info": {
   "codemirror_mode": {
    "name": "ipython",
    "version": 3
   },
   "file_extension": ".py",
   "mimetype": "text/x-python",
   "name": "python",
   "nbconvert_exporter": "python",
   "pygments_lexer": "ipython3",
   "version": "3.6.4"
  }
 },
 "nbformat": 4,
 "nbformat_minor": 2
}
