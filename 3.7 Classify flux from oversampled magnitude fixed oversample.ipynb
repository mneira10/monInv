{
 "cells": [
  {
   "cell_type": "code",
   "execution_count": 1,
   "metadata": {},
   "outputs": [],
   "source": [
    "from sklearn.ensemble import RandomForestClassifier\n",
    "import sklearn.metrics\n",
    "import pandas as pd\n",
    "import numpy as np\n",
    "np.random.seed(0)\n",
    "from sklearn.model_selection import GridSearchCV, StratifiedKFold  # , cross_val_score\n",
    "from sklearn.metrics import make_scorer, accuracy_score, precision_score, recall_score, f1_score, precision_recall_fscore_support, confusion_matrix  # , classification_report\n",
    "from sklearn.model_selection import train_test_split\n",
    "\n",
    "from sklearn.metrics import precision_recall_curve\n",
    "import matplotlib.pyplot as plt\n",
    "from sklearn.metrics import average_precision_score\n",
    "from scipy import integrate\n"
   ]
  },
  {
   "cell_type": "code",
   "execution_count": 6,
   "metadata": {},
   "outputs": [],
   "source": [
    "DATA_PATH_NT = \"./data/features/fluxFromMagOversample\"\n",
    "DATA_PATH_T = \"./data/features/fixedOversampled\"\n"
   ]
  },
  {
   "cell_type": "code",
   "execution_count": 8,
   "metadata": {},
   "outputs": [],
   "source": [
    "diego_t_test = pd.read_pickle(DATA_PATH_T+\"/Ttest.pickle\")\n",
    "diego_t_train = pd.read_pickle(DATA_PATH_T+\"/Ttrain.pickle\")\n",
    "diego_nt = pd.read_pickle(DATA_PATH_NT+\"/NT.pickle\")"
   ]
  },
  {
   "cell_type": "code",
   "execution_count": 9,
   "metadata": {},
   "outputs": [],
   "source": [
    "def createBinClass(df):\n",
    "    df['bin_class'] = df['Class']==\"SN\"\n",
    "    df[\"fact_Class\"] = pd.factorize(df['bin_class'])[0]"
   ]
  },
  {
   "cell_type": "code",
   "execution_count": 10,
   "metadata": {},
   "outputs": [],
   "source": [
    "# diego_t['bin_class'] = diego_t['Class']==\"SN\"\n",
    "# diego_t[\"fact_Class\"] = pd.factorize(diego_t['bin_class'])[0]\n",
    "# diego_nt['bin_class'] = diego_nt['Class']==\"SN\"\n",
    "# diego_nt[\"fact_Class\"] = pd.factorize(diego_nt['bin_class'])[0]\n",
    "createBinClass(diego_nt)\n",
    "createBinClass(diego_t_train)\n",
    "createBinClass(diego_t_test)"
   ]
  },
  {
   "cell_type": "code",
   "execution_count": 13,
   "metadata": {},
   "outputs": [
    {
     "data": {
      "text/html": [
       "<div>\n",
       "<style scoped>\n",
       "    .dataframe tbody tr th:only-of-type {\n",
       "        vertical-align: middle;\n",
       "    }\n",
       "\n",
       "    .dataframe tbody tr th {\n",
       "        vertical-align: top;\n",
       "    }\n",
       "\n",
       "    .dataframe thead th {\n",
       "        text-align: right;\n",
       "    }\n",
       "</style>\n",
       "<table border=\"1\" class=\"dataframe\">\n",
       "  <thead>\n",
       "    <tr style=\"text-align: right;\">\n",
       "      <th></th>\n",
       "      <th></th>\n",
       "      <th>Class</th>\n",
       "      <th>ObsCount</th>\n",
       "      <th>amplitude</th>\n",
       "      <th>beyond1st</th>\n",
       "      <th>flux_percentile_ratio_mid20</th>\n",
       "      <th>flux_percentile_ratio_mid35</th>\n",
       "      <th>flux_percentile_ratio_mid50</th>\n",
       "      <th>flux_percentile_ratio_mid65</th>\n",
       "      <th>flux_percentile_ratio_mid80</th>\n",
       "      <th>kurtosis</th>\n",
       "      <th>...</th>\n",
       "      <th>poly4_t2</th>\n",
       "      <th>poly4_t3</th>\n",
       "      <th>poly4_t4</th>\n",
       "      <th>skew</th>\n",
       "      <th>small_kurtosis</th>\n",
       "      <th>std</th>\n",
       "      <th>stetson_j</th>\n",
       "      <th>stetson_k</th>\n",
       "      <th>bin_class</th>\n",
       "      <th>fact_Class</th>\n",
       "    </tr>\n",
       "    <tr>\n",
       "      <th>ID</th>\n",
       "      <th>copy_num</th>\n",
       "      <th></th>\n",
       "      <th></th>\n",
       "      <th></th>\n",
       "      <th></th>\n",
       "      <th></th>\n",
       "      <th></th>\n",
       "      <th></th>\n",
       "      <th></th>\n",
       "      <th></th>\n",
       "      <th></th>\n",
       "      <th></th>\n",
       "      <th></th>\n",
       "      <th></th>\n",
       "      <th></th>\n",
       "      <th></th>\n",
       "      <th></th>\n",
       "      <th></th>\n",
       "      <th></th>\n",
       "      <th></th>\n",
       "      <th></th>\n",
       "      <th></th>\n",
       "    </tr>\n",
       "  </thead>\n",
       "  <tbody>\n",
       "    <tr>\n",
       "      <th>TranID1109211120074116827</th>\n",
       "      <th>0</th>\n",
       "      <td>Blazar</td>\n",
       "      <td>210</td>\n",
       "      <td>7.172527e-18</td>\n",
       "      <td>0.023810</td>\n",
       "      <td>0.082745</td>\n",
       "      <td>0.163277</td>\n",
       "      <td>0.243656</td>\n",
       "      <td>0.357815</td>\n",
       "      <td>0.506161</td>\n",
       "      <td>0</td>\n",
       "      <td>...</td>\n",
       "      <td>-6.380424e-26</td>\n",
       "      <td>-1.460659e-28</td>\n",
       "      <td>2.881289e-32</td>\n",
       "      <td>0</td>\n",
       "      <td>-3.043548</td>\n",
       "      <td>1.006218e-18</td>\n",
       "      <td>6.433194</td>\n",
       "      <td>0.516595</td>\n",
       "      <td>False</td>\n",
       "      <td>0</td>\n",
       "    </tr>\n",
       "    <tr>\n",
       "      <th>TranID1303231520434129450</th>\n",
       "      <th>0</th>\n",
       "      <td>HPM</td>\n",
       "      <td>38</td>\n",
       "      <td>7.074969e-17</td>\n",
       "      <td>0.394737</td>\n",
       "      <td>0.056171</td>\n",
       "      <td>0.137395</td>\n",
       "      <td>0.206649</td>\n",
       "      <td>0.353441</td>\n",
       "      <td>0.691391</td>\n",
       "      <td>0</td>\n",
       "      <td>...</td>\n",
       "      <td>2.273280e-22</td>\n",
       "      <td>8.676291e-25</td>\n",
       "      <td>-7.432468e-28</td>\n",
       "      <td>0</td>\n",
       "      <td>-3.259524</td>\n",
       "      <td>2.977006e-17</td>\n",
       "      <td>0.552256</td>\n",
       "      <td>0.371362</td>\n",
       "      <td>False</td>\n",
       "      <td>0</td>\n",
       "    </tr>\n",
       "    <tr>\n",
       "      <th>TranID1406061320624120923</th>\n",
       "      <th>0</th>\n",
       "      <td>SN</td>\n",
       "      <td>214</td>\n",
       "      <td>2.171602e-16</td>\n",
       "      <td>0.219626</td>\n",
       "      <td>0.104990</td>\n",
       "      <td>0.210532</td>\n",
       "      <td>0.338337</td>\n",
       "      <td>0.465419</td>\n",
       "      <td>0.704337</td>\n",
       "      <td>0</td>\n",
       "      <td>...</td>\n",
       "      <td>1.139319e-23</td>\n",
       "      <td>-1.994027e-26</td>\n",
       "      <td>1.207772e-29</td>\n",
       "      <td>0</td>\n",
       "      <td>-3.042721</td>\n",
       "      <td>5.707475e-17</td>\n",
       "      <td>0.296954</td>\n",
       "      <td>0.442943</td>\n",
       "      <td>True</td>\n",
       "      <td>1</td>\n",
       "    </tr>\n",
       "    <tr>\n",
       "      <th>TranID1110211321074152444</th>\n",
       "      <th>0</th>\n",
       "      <td>CV</td>\n",
       "      <td>251</td>\n",
       "      <td>2.801807e-17</td>\n",
       "      <td>0.127490</td>\n",
       "      <td>0.125948</td>\n",
       "      <td>0.212846</td>\n",
       "      <td>0.296347</td>\n",
       "      <td>0.462458</td>\n",
       "      <td>0.698255</td>\n",
       "      <td>0</td>\n",
       "      <td>...</td>\n",
       "      <td>3.410133e-24</td>\n",
       "      <td>-1.632573e-27</td>\n",
       "      <td>-1.445264e-30</td>\n",
       "      <td>0</td>\n",
       "      <td>-3.036339</td>\n",
       "      <td>5.534651e-18</td>\n",
       "      <td>5.401905</td>\n",
       "      <td>0.310460</td>\n",
       "      <td>False</td>\n",
       "      <td>0</td>\n",
       "    </tr>\n",
       "    <tr>\n",
       "      <th>TranID1110181320174103285</th>\n",
       "      <th>0</th>\n",
       "      <td>YSO</td>\n",
       "      <td>182</td>\n",
       "      <td>1.833842e-18</td>\n",
       "      <td>0.346154</td>\n",
       "      <td>0.126076</td>\n",
       "      <td>0.213152</td>\n",
       "      <td>0.395421</td>\n",
       "      <td>0.585475</td>\n",
       "      <td>0.764825</td>\n",
       "      <td>0</td>\n",
       "      <td>...</td>\n",
       "      <td>-6.639562e-26</td>\n",
       "      <td>-9.446326e-28</td>\n",
       "      <td>-3.396044e-31</td>\n",
       "      <td>0</td>\n",
       "      <td>-3.050372</td>\n",
       "      <td>7.155837e-19</td>\n",
       "      <td>27.930486</td>\n",
       "      <td>0.340082</td>\n",
       "      <td>False</td>\n",
       "      <td>0</td>\n",
       "    </tr>\n",
       "  </tbody>\n",
       "</table>\n",
       "<p>5 rows × 34 columns</p>\n",
       "</div>"
      ],
      "text/plain": [
       "                                     Class  ObsCount     amplitude  beyond1st  \\\n",
       "ID                        copy_num                                              \n",
       "TranID1109211120074116827 0         Blazar       210  7.172527e-18   0.023810   \n",
       "TranID1303231520434129450 0            HPM        38  7.074969e-17   0.394737   \n",
       "TranID1406061320624120923 0             SN       214  2.171602e-16   0.219626   \n",
       "TranID1110211321074152444 0             CV       251  2.801807e-17   0.127490   \n",
       "TranID1110181320174103285 0            YSO       182  1.833842e-18   0.346154   \n",
       "\n",
       "                                    flux_percentile_ratio_mid20  \\\n",
       "ID                        copy_num                                \n",
       "TranID1109211120074116827 0                            0.082745   \n",
       "TranID1303231520434129450 0                            0.056171   \n",
       "TranID1406061320624120923 0                            0.104990   \n",
       "TranID1110211321074152444 0                            0.125948   \n",
       "TranID1110181320174103285 0                            0.126076   \n",
       "\n",
       "                                    flux_percentile_ratio_mid35  \\\n",
       "ID                        copy_num                                \n",
       "TranID1109211120074116827 0                            0.163277   \n",
       "TranID1303231520434129450 0                            0.137395   \n",
       "TranID1406061320624120923 0                            0.210532   \n",
       "TranID1110211321074152444 0                            0.212846   \n",
       "TranID1110181320174103285 0                            0.213152   \n",
       "\n",
       "                                    flux_percentile_ratio_mid50  \\\n",
       "ID                        copy_num                                \n",
       "TranID1109211120074116827 0                            0.243656   \n",
       "TranID1303231520434129450 0                            0.206649   \n",
       "TranID1406061320624120923 0                            0.338337   \n",
       "TranID1110211321074152444 0                            0.296347   \n",
       "TranID1110181320174103285 0                            0.395421   \n",
       "\n",
       "                                    flux_percentile_ratio_mid65  \\\n",
       "ID                        copy_num                                \n",
       "TranID1109211120074116827 0                            0.357815   \n",
       "TranID1303231520434129450 0                            0.353441   \n",
       "TranID1406061320624120923 0                            0.465419   \n",
       "TranID1110211321074152444 0                            0.462458   \n",
       "TranID1110181320174103285 0                            0.585475   \n",
       "\n",
       "                                    flux_percentile_ratio_mid80  kurtosis  \\\n",
       "ID                        copy_num                                          \n",
       "TranID1109211120074116827 0                            0.506161         0   \n",
       "TranID1303231520434129450 0                            0.691391         0   \n",
       "TranID1406061320624120923 0                            0.704337         0   \n",
       "TranID1110211321074152444 0                            0.698255         0   \n",
       "TranID1110181320174103285 0                            0.764825         0   \n",
       "\n",
       "                                       ...          poly4_t2      poly4_t3  \\\n",
       "ID                        copy_num     ...                                   \n",
       "TranID1109211120074116827 0            ...     -6.380424e-26 -1.460659e-28   \n",
       "TranID1303231520434129450 0            ...      2.273280e-22  8.676291e-25   \n",
       "TranID1406061320624120923 0            ...      1.139319e-23 -1.994027e-26   \n",
       "TranID1110211321074152444 0            ...      3.410133e-24 -1.632573e-27   \n",
       "TranID1110181320174103285 0            ...     -6.639562e-26 -9.446326e-28   \n",
       "\n",
       "                                        poly4_t4  skew  small_kurtosis  \\\n",
       "ID                        copy_num                                       \n",
       "TranID1109211120074116827 0         2.881289e-32     0       -3.043548   \n",
       "TranID1303231520434129450 0        -7.432468e-28     0       -3.259524   \n",
       "TranID1406061320624120923 0         1.207772e-29     0       -3.042721   \n",
       "TranID1110211321074152444 0        -1.445264e-30     0       -3.036339   \n",
       "TranID1110181320174103285 0        -3.396044e-31     0       -3.050372   \n",
       "\n",
       "                                             std  stetson_j  stetson_k  \\\n",
       "ID                        copy_num                                       \n",
       "TranID1109211120074116827 0         1.006218e-18   6.433194   0.516595   \n",
       "TranID1303231520434129450 0         2.977006e-17   0.552256   0.371362   \n",
       "TranID1406061320624120923 0         5.707475e-17   0.296954   0.442943   \n",
       "TranID1110211321074152444 0         5.534651e-18   5.401905   0.310460   \n",
       "TranID1110181320174103285 0         7.155837e-19  27.930486   0.340082   \n",
       "\n",
       "                                    bin_class  fact_Class  \n",
       "ID                        copy_num                         \n",
       "TranID1109211120074116827 0             False           0  \n",
       "TranID1303231520434129450 0             False           0  \n",
       "TranID1406061320624120923 0              True           1  \n",
       "TranID1110211321074152444 0             False           0  \n",
       "TranID1110181320174103285 0             False           0  \n",
       "\n",
       "[5 rows x 34 columns]"
      ]
     },
     "execution_count": 13,
     "metadata": {},
     "output_type": "execute_result"
    }
   ],
   "source": [
    "diego_t_train.head()"
   ]
  },
  {
   "cell_type": "code",
   "execution_count": 14,
   "metadata": {},
   "outputs": [
    {
     "data": {
      "text/html": [
       "<div>\n",
       "<style scoped>\n",
       "    .dataframe tbody tr th:only-of-type {\n",
       "        vertical-align: middle;\n",
       "    }\n",
       "\n",
       "    .dataframe tbody tr th {\n",
       "        vertical-align: top;\n",
       "    }\n",
       "\n",
       "    .dataframe thead th {\n",
       "        text-align: right;\n",
       "    }\n",
       "</style>\n",
       "<table border=\"1\" class=\"dataframe\">\n",
       "  <thead>\n",
       "    <tr style=\"text-align: right;\">\n",
       "      <th></th>\n",
       "      <th></th>\n",
       "      <th>Class</th>\n",
       "      <th>ObsCount</th>\n",
       "      <th>amplitude</th>\n",
       "      <th>beyond1st</th>\n",
       "      <th>flux_percentile_ratio_mid20</th>\n",
       "      <th>flux_percentile_ratio_mid35</th>\n",
       "      <th>flux_percentile_ratio_mid50</th>\n",
       "      <th>flux_percentile_ratio_mid65</th>\n",
       "      <th>flux_percentile_ratio_mid80</th>\n",
       "      <th>kurtosis</th>\n",
       "      <th>...</th>\n",
       "      <th>poly4_t2</th>\n",
       "      <th>poly4_t3</th>\n",
       "      <th>poly4_t4</th>\n",
       "      <th>skew</th>\n",
       "      <th>small_kurtosis</th>\n",
       "      <th>std</th>\n",
       "      <th>stetson_j</th>\n",
       "      <th>stetson_k</th>\n",
       "      <th>bin_class</th>\n",
       "      <th>fact_Class</th>\n",
       "    </tr>\n",
       "    <tr>\n",
       "      <th>ID</th>\n",
       "      <th>copy_num</th>\n",
       "      <th></th>\n",
       "      <th></th>\n",
       "      <th></th>\n",
       "      <th></th>\n",
       "      <th></th>\n",
       "      <th></th>\n",
       "      <th></th>\n",
       "      <th></th>\n",
       "      <th></th>\n",
       "      <th></th>\n",
       "      <th></th>\n",
       "      <th></th>\n",
       "      <th></th>\n",
       "      <th></th>\n",
       "      <th></th>\n",
       "      <th></th>\n",
       "      <th></th>\n",
       "      <th></th>\n",
       "      <th></th>\n",
       "      <th></th>\n",
       "      <th></th>\n",
       "    </tr>\n",
       "  </thead>\n",
       "  <tbody>\n",
       "    <tr>\n",
       "      <th>CataID1121048016765</th>\n",
       "      <th>0</th>\n",
       "      <td>non-transient</td>\n",
       "      <td>37</td>\n",
       "      <td>2.333440e-20</td>\n",
       "      <td>0.081081</td>\n",
       "      <td>0.085689</td>\n",
       "      <td>0.139318</td>\n",
       "      <td>0.186693</td>\n",
       "      <td>0.273474</td>\n",
       "      <td>0.379936</td>\n",
       "      <td>0</td>\n",
       "      <td>...</td>\n",
       "      <td>-1.227713e-27</td>\n",
       "      <td>-6.351738e-30</td>\n",
       "      <td>-2.764374e-33</td>\n",
       "      <td>0</td>\n",
       "      <td>-3.267227</td>\n",
       "      <td>8.182450e-21</td>\n",
       "      <td>0.961691</td>\n",
       "      <td>0.413107</td>\n",
       "      <td>False</td>\n",
       "      <td>0</td>\n",
       "    </tr>\n",
       "    <tr>\n",
       "      <th>CataID1121048016959</th>\n",
       "      <th>0</th>\n",
       "      <td>non-transient</td>\n",
       "      <td>162</td>\n",
       "      <td>7.375637e-20</td>\n",
       "      <td>0.117284</td>\n",
       "      <td>0.121476</td>\n",
       "      <td>0.216808</td>\n",
       "      <td>0.321775</td>\n",
       "      <td>0.543173</td>\n",
       "      <td>0.720385</td>\n",
       "      <td>0</td>\n",
       "      <td>...</td>\n",
       "      <td>3.435789e-27</td>\n",
       "      <td>5.131534e-31</td>\n",
       "      <td>-2.966116e-33</td>\n",
       "      <td>0</td>\n",
       "      <td>-3.056722</td>\n",
       "      <td>1.718766e-20</td>\n",
       "      <td>1.165157</td>\n",
       "      <td>0.638360</td>\n",
       "      <td>False</td>\n",
       "      <td>0</td>\n",
       "    </tr>\n",
       "    <tr>\n",
       "      <th>CataID1112021056668</th>\n",
       "      <th>0</th>\n",
       "      <td>non-transient</td>\n",
       "      <td>25</td>\n",
       "      <td>8.243111e-20</td>\n",
       "      <td>0.120000</td>\n",
       "      <td>0.074063</td>\n",
       "      <td>0.118072</td>\n",
       "      <td>0.167083</td>\n",
       "      <td>0.239397</td>\n",
       "      <td>0.649333</td>\n",
       "      <td>0</td>\n",
       "      <td>...</td>\n",
       "      <td>-1.019394e-25</td>\n",
       "      <td>-3.455726e-30</td>\n",
       "      <td>8.090981e-32</td>\n",
       "      <td>0</td>\n",
       "      <td>-3.415020</td>\n",
       "      <td>4.244134e-20</td>\n",
       "      <td>1.720962</td>\n",
       "      <td>0.687566</td>\n",
       "      <td>False</td>\n",
       "      <td>0</td>\n",
       "    </tr>\n",
       "    <tr>\n",
       "      <th>CataID1112021056680</th>\n",
       "      <th>0</th>\n",
       "      <td>non-transient</td>\n",
       "      <td>342</td>\n",
       "      <td>1.607906e-18</td>\n",
       "      <td>0.318713</td>\n",
       "      <td>0.089792</td>\n",
       "      <td>0.222260</td>\n",
       "      <td>0.329158</td>\n",
       "      <td>0.509584</td>\n",
       "      <td>0.750055</td>\n",
       "      <td>0</td>\n",
       "      <td>...</td>\n",
       "      <td>-1.461579e-25</td>\n",
       "      <td>-6.128517e-29</td>\n",
       "      <td>1.091448e-31</td>\n",
       "      <td>0</td>\n",
       "      <td>-3.026575</td>\n",
       "      <td>4.551548e-19</td>\n",
       "      <td>0.182665</td>\n",
       "      <td>0.501163</td>\n",
       "      <td>False</td>\n",
       "      <td>0</td>\n",
       "    </tr>\n",
       "    <tr>\n",
       "      <th>CataID1112021056719</th>\n",
       "      <th>0</th>\n",
       "      <td>non-transient</td>\n",
       "      <td>368</td>\n",
       "      <td>1.262493e-17</td>\n",
       "      <td>0.271739</td>\n",
       "      <td>0.131166</td>\n",
       "      <td>0.262401</td>\n",
       "      <td>0.393776</td>\n",
       "      <td>0.525359</td>\n",
       "      <td>0.789431</td>\n",
       "      <td>0</td>\n",
       "      <td>...</td>\n",
       "      <td>1.956175e-24</td>\n",
       "      <td>-1.700624e-28</td>\n",
       "      <td>-9.859054e-31</td>\n",
       "      <td>0</td>\n",
       "      <td>-3.024680</td>\n",
       "      <td>2.825978e-18</td>\n",
       "      <td>0.064208</td>\n",
       "      <td>0.768530</td>\n",
       "      <td>False</td>\n",
       "      <td>0</td>\n",
       "    </tr>\n",
       "  </tbody>\n",
       "</table>\n",
       "<p>5 rows × 34 columns</p>\n",
       "</div>"
      ],
      "text/plain": [
       "                                      Class  ObsCount     amplitude  \\\n",
       "ID                  copy_num                                          \n",
       "CataID1121048016765 0         non-transient        37  2.333440e-20   \n",
       "CataID1121048016959 0         non-transient       162  7.375637e-20   \n",
       "CataID1112021056668 0         non-transient        25  8.243111e-20   \n",
       "CataID1112021056680 0         non-transient       342  1.607906e-18   \n",
       "CataID1112021056719 0         non-transient       368  1.262493e-17   \n",
       "\n",
       "                              beyond1st  flux_percentile_ratio_mid20  \\\n",
       "ID                  copy_num                                           \n",
       "CataID1121048016765 0          0.081081                     0.085689   \n",
       "CataID1121048016959 0          0.117284                     0.121476   \n",
       "CataID1112021056668 0          0.120000                     0.074063   \n",
       "CataID1112021056680 0          0.318713                     0.089792   \n",
       "CataID1112021056719 0          0.271739                     0.131166   \n",
       "\n",
       "                              flux_percentile_ratio_mid35  \\\n",
       "ID                  copy_num                                \n",
       "CataID1121048016765 0                            0.139318   \n",
       "CataID1121048016959 0                            0.216808   \n",
       "CataID1112021056668 0                            0.118072   \n",
       "CataID1112021056680 0                            0.222260   \n",
       "CataID1112021056719 0                            0.262401   \n",
       "\n",
       "                              flux_percentile_ratio_mid50  \\\n",
       "ID                  copy_num                                \n",
       "CataID1121048016765 0                            0.186693   \n",
       "CataID1121048016959 0                            0.321775   \n",
       "CataID1112021056668 0                            0.167083   \n",
       "CataID1112021056680 0                            0.329158   \n",
       "CataID1112021056719 0                            0.393776   \n",
       "\n",
       "                              flux_percentile_ratio_mid65  \\\n",
       "ID                  copy_num                                \n",
       "CataID1121048016765 0                            0.273474   \n",
       "CataID1121048016959 0                            0.543173   \n",
       "CataID1112021056668 0                            0.239397   \n",
       "CataID1112021056680 0                            0.509584   \n",
       "CataID1112021056719 0                            0.525359   \n",
       "\n",
       "                              flux_percentile_ratio_mid80  kurtosis  \\\n",
       "ID                  copy_num                                          \n",
       "CataID1121048016765 0                            0.379936         0   \n",
       "CataID1121048016959 0                            0.720385         0   \n",
       "CataID1112021056668 0                            0.649333         0   \n",
       "CataID1112021056680 0                            0.750055         0   \n",
       "CataID1112021056719 0                            0.789431         0   \n",
       "\n",
       "                                 ...          poly4_t2      poly4_t3  \\\n",
       "ID                  copy_num     ...                                   \n",
       "CataID1121048016765 0            ...     -1.227713e-27 -6.351738e-30   \n",
       "CataID1121048016959 0            ...      3.435789e-27  5.131534e-31   \n",
       "CataID1112021056668 0            ...     -1.019394e-25 -3.455726e-30   \n",
       "CataID1112021056680 0            ...     -1.461579e-25 -6.128517e-29   \n",
       "CataID1112021056719 0            ...      1.956175e-24 -1.700624e-28   \n",
       "\n",
       "                                  poly4_t4  skew  small_kurtosis  \\\n",
       "ID                  copy_num                                       \n",
       "CataID1121048016765 0        -2.764374e-33     0       -3.267227   \n",
       "CataID1121048016959 0        -2.966116e-33     0       -3.056722   \n",
       "CataID1112021056668 0         8.090981e-32     0       -3.415020   \n",
       "CataID1112021056680 0         1.091448e-31     0       -3.026575   \n",
       "CataID1112021056719 0        -9.859054e-31     0       -3.024680   \n",
       "\n",
       "                                       std  stetson_j  stetson_k  bin_class  \\\n",
       "ID                  copy_num                                                  \n",
       "CataID1121048016765 0         8.182450e-21   0.961691   0.413107      False   \n",
       "CataID1121048016959 0         1.718766e-20   1.165157   0.638360      False   \n",
       "CataID1112021056668 0         4.244134e-20   1.720962   0.687566      False   \n",
       "CataID1112021056680 0         4.551548e-19   0.182665   0.501163      False   \n",
       "CataID1112021056719 0         2.825978e-18   0.064208   0.768530      False   \n",
       "\n",
       "                              fact_Class  \n",
       "ID                  copy_num              \n",
       "CataID1121048016765 0                  0  \n",
       "CataID1121048016959 0                  0  \n",
       "CataID1112021056668 0                  0  \n",
       "CataID1112021056680 0                  0  \n",
       "CataID1112021056719 0                  0  \n",
       "\n",
       "[5 rows x 34 columns]"
      ]
     },
     "execution_count": 14,
     "metadata": {},
     "output_type": "execute_result"
    }
   ],
   "source": [
    "diego_nt.head()"
   ]
  },
  {
   "cell_type": "markdown",
   "metadata": {},
   "source": [
    "## Shuffle the data"
   ]
  },
  {
   "cell_type": "code",
   "execution_count": 15,
   "metadata": {},
   "outputs": [],
   "source": [
    "diego_t_train = diego_t_train.sample(frac=1)\n",
    "diego_t_test = diego_t_test.sample(frac=1)\n",
    "diego_nt = diego_nt.sample(frac=1)"
   ]
  },
  {
   "cell_type": "markdown",
   "metadata": {},
   "source": [
    "# SN within transients and non-transients"
   ]
  },
  {
   "cell_type": "code",
   "execution_count": 16,
   "metadata": {},
   "outputs": [],
   "source": [
    "nt_train, nt_test= train_test_split(diego_nt,test_size = 0.25)"
   ]
  },
  {
   "cell_type": "code",
   "execution_count": 18,
   "metadata": {},
   "outputs": [],
   "source": [
    "all_train = pd.concat([diego_t_train,nt_train])\n",
    "all_test = pd.concat([diego_t_test,nt_test])"
   ]
  },
  {
   "cell_type": "code",
   "execution_count": 19,
   "metadata": {},
   "outputs": [],
   "source": [
    "all_train = all_train.sample(frac=1)\n",
    "all_test = all_test.sample(frac=1)"
   ]
  },
  {
   "cell_type": "code",
   "execution_count": 20,
   "metadata": {},
   "outputs": [
    {
     "name": "stdout",
     "output_type": "stream",
     "text": [
      "Index(['amplitude', 'beyond1st', 'flux_percentile_ratio_mid20',\n",
      "       'flux_percentile_ratio_mid35', 'flux_percentile_ratio_mid50',\n",
      "       'flux_percentile_ratio_mid65', 'flux_percentile_ratio_mid80',\n",
      "       'kurtosis', 'max_slope', 'median_absolute_deviation',\n",
      "       'median_buffer_range_percentage', 'pair_slope_trend',\n",
      "       'pair_slope_trend_last_30', 'percent_amplitude',\n",
      "       'percent_difference_flux_percentile', 'poly1_t1', 'poly2_t1',\n",
      "       'poly2_t2', 'poly3_t1', 'poly3_t2', 'poly3_t3', 'poly4_t1', 'poly4_t2',\n",
      "       'poly4_t3', 'poly4_t4', 'skew', 'small_kurtosis', 'std', 'stetson_j',\n",
      "       'stetson_k'],\n",
      "      dtype='object')\n"
     ]
    }
   ],
   "source": [
    "features = all_train.columns[2:-2]\n",
    "print(features)\n",
    "y_train = np.array(all_train['fact_Class'])\n",
    "y_test = np.array(all_test['fact_Class'])"
   ]
  },
  {
   "cell_type": "code",
   "execution_count": 21,
   "metadata": {},
   "outputs": [
    {
     "name": "stdout",
     "output_type": "stream",
     "text": [
      "55603\n",
      "36722\n"
     ]
    }
   ],
   "source": [
    "print(len(y_train))\n",
    "print(len(y_test))"
   ]
  },
  {
   "cell_type": "markdown",
   "metadata": {},
   "source": [
    "# Train the algorithm"
   ]
  },
  {
   "cell_type": "code",
   "execution_count": 22,
   "metadata": {},
   "outputs": [
    {
     "data": {
      "text/plain": [
       "RandomForestClassifier(bootstrap=True, class_weight='balanced',\n",
       "            criterion='gini', max_depth=None, max_features='auto',\n",
       "            max_leaf_nodes=None, min_impurity_decrease=0.0,\n",
       "            min_impurity_split=None, min_samples_leaf=1,\n",
       "            min_samples_split=2, min_weight_fraction_leaf=0.0,\n",
       "            n_estimators=50, n_jobs=1, oob_score=False, random_state=0,\n",
       "            verbose=0, warm_start=False)"
      ]
     },
     "execution_count": 22,
     "metadata": {},
     "output_type": "execute_result"
    }
   ],
   "source": [
    "clf = RandomForestClassifier(n_estimators=50,random_state=0, class_weight='balanced')\n",
    "clf.fit(all_train[features], y_train)"
   ]
  },
  {
   "cell_type": "code",
   "execution_count": 23,
   "metadata": {},
   "outputs": [
    {
     "data": {
      "text/plain": [
       "0.7650182451936169"
      ]
     },
     "execution_count": 23,
     "metadata": {},
     "output_type": "execute_result"
    }
   ],
   "source": [
    "clf.score(all_test[features],y_test)"
   ]
  },
  {
   "cell_type": "code",
   "execution_count": 24,
   "metadata": {},
   "outputs": [
    {
     "data": {
      "text/html": [
       "<div>\n",
       "<style scoped>\n",
       "    .dataframe tbody tr th:only-of-type {\n",
       "        vertical-align: middle;\n",
       "    }\n",
       "\n",
       "    .dataframe tbody tr th {\n",
       "        vertical-align: top;\n",
       "    }\n",
       "\n",
       "    .dataframe thead th {\n",
       "        text-align: right;\n",
       "    }\n",
       "</style>\n",
       "<table border=\"1\" class=\"dataframe\">\n",
       "  <thead>\n",
       "    <tr style=\"text-align: right;\">\n",
       "      <th>Actual</th>\n",
       "      <th>0</th>\n",
       "      <th>1</th>\n",
       "    </tr>\n",
       "    <tr>\n",
       "      <th>Predicted</th>\n",
       "      <th></th>\n",
       "      <th></th>\n",
       "    </tr>\n",
       "  </thead>\n",
       "  <tbody>\n",
       "    <tr>\n",
       "      <th>0</th>\n",
       "      <td>26046</td>\n",
       "      <td>5829</td>\n",
       "    </tr>\n",
       "    <tr>\n",
       "      <th>1</th>\n",
       "      <td>2800</td>\n",
       "      <td>2047</td>\n",
       "    </tr>\n",
       "  </tbody>\n",
       "</table>\n",
       "</div>"
      ],
      "text/plain": [
       "Actual          0     1\n",
       "Predicted              \n",
       "0           26046  5829\n",
       "1            2800  2047"
      ]
     },
     "execution_count": 24,
     "metadata": {},
     "output_type": "execute_result"
    }
   ],
   "source": [
    "preds = clf.predict(all_test[features])\n",
    "pd.crosstab(preds, y_test, rownames=['Predicted '], colnames=['Actual '])"
   ]
  },
  {
   "cell_type": "code",
   "execution_count": 25,
   "metadata": {},
   "outputs": [
    {
     "data": {
      "text/plain": [
       "Text(0,0.5,'precision')"
      ]
     },
     "execution_count": 25,
     "metadata": {},
     "output_type": "execute_result"
    },
    {
     "data": {
      "image/png": "[encoded data removed]",
      "text/plain": [
       "<matplotlib.figure.Figure at 0x7f60939a2cc0>"
      ]
     },
     "metadata": {},
     "output_type": "display_data"
    }
   ],
   "source": [
    "# plt.style.use(['dark_background'])\n",
    "preds1 = clf.predict_proba(all_test[features])\n",
    "precision, recall, _ = precision_recall_curve(y_test, preds1[:,0],pos_label=0)\n",
    "\n",
    "plt.step(recall,precision)\n",
    "plt.fill_between(recall, precision,step='pre', alpha=0.2,\n",
    "                 color='b')\n",
    "plt.xlabel('recall')\n",
    "plt.ylabel('precision')"
   ]
  },
  {
   "cell_type": "code",
   "execution_count": 26,
   "metadata": {},
   "outputs": [
    {
     "data": {
      "text/plain": [
       "0.9017858373324066"
      ]
     },
     "execution_count": 26,
     "metadata": {},
     "output_type": "execute_result"
    }
   ],
   "source": [
    "integrate.trapz(precision[::-1],recall[::-1])"
   ]
  },
  {
   "cell_type": "code",
   "execution_count": 27,
   "metadata": {},
   "outputs": [
    {
     "data": {
      "text/plain": [
       "0.321779454531164"
      ]
     },
     "execution_count": 27,
     "metadata": {},
     "output_type": "execute_result"
    }
   ],
   "source": [
    "\n",
    "f1_score(np.array(preds),np.array(y_test))"
   ]
  },
  {
   "cell_type": "markdown",
   "metadata": {},
   "source": [
    "# SN within transients"
   ]
  },
  {
   "cell_type": "code",
   "execution_count": 29,
   "metadata": {},
   "outputs": [],
   "source": [
    "\n",
    "all_train = diego_t_train\n",
    "all_test = diego_t_test\n",
    "\n"
   ]
  },
  {
   "cell_type": "code",
   "execution_count": 30,
   "metadata": {},
   "outputs": [],
   "source": [
    "all_train = all_train.sample(frac=1)\n",
    "all_test = all_test.sample(frac=1)"
   ]
  },
  {
   "cell_type": "code",
   "execution_count": 31,
   "metadata": {},
   "outputs": [
    {
     "name": "stdout",
     "output_type": "stream",
     "text": [
      "Index(['amplitude', 'beyond1st', 'flux_percentile_ratio_mid20',\n",
      "       'flux_percentile_ratio_mid35', 'flux_percentile_ratio_mid50',\n",
      "       'flux_percentile_ratio_mid65', 'flux_percentile_ratio_mid80',\n",
      "       'kurtosis', 'max_slope', 'median_absolute_deviation',\n",
      "       'median_buffer_range_percentage', 'pair_slope_trend',\n",
      "       'pair_slope_trend_last_30', 'percent_amplitude',\n",
      "       'percent_difference_flux_percentile', 'poly1_t1', 'poly2_t1',\n",
      "       'poly2_t2', 'poly3_t1', 'poly3_t2', 'poly3_t3', 'poly4_t1', 'poly4_t2',\n",
      "       'poly4_t3', 'poly4_t4', 'skew', 'small_kurtosis', 'std', 'stetson_j',\n",
      "       'stetson_k'],\n",
      "      dtype='object')\n"
     ]
    }
   ],
   "source": [
    "features = all_train.columns[2:-2]\n",
    "print(features)\n",
    "y_train = np.array(all_train['fact_Class'])\n",
    "y_test = np.array(all_test['fact_Class'])"
   ]
  },
  {
   "cell_type": "code",
   "execution_count": 32,
   "metadata": {},
   "outputs": [
    {
     "name": "stdout",
     "output_type": "stream",
     "text": [
      "44209\n",
      "32923\n"
     ]
    }
   ],
   "source": [
    "print(len(y_train))\n",
    "print(len(y_test))\n"
   ]
  },
  {
   "cell_type": "code",
   "execution_count": 33,
   "metadata": {},
   "outputs": [
    {
     "data": {
      "text/plain": [
       "RandomForestClassifier(bootstrap=True, class_weight='balanced',\n",
       "            criterion='gini', max_depth=None, max_features='auto',\n",
       "            max_leaf_nodes=None, min_impurity_decrease=0.0,\n",
       "            min_impurity_split=None, min_samples_leaf=1,\n",
       "            min_samples_split=2, min_weight_fraction_leaf=0.0,\n",
       "            n_estimators=50, n_jobs=1, oob_score=False, random_state=0,\n",
       "            verbose=0, warm_start=False)"
      ]
     },
     "execution_count": 33,
     "metadata": {},
     "output_type": "execute_result"
    }
   ],
   "source": [
    "clf = RandomForestClassifier(n_estimators=50,random_state=0, class_weight='balanced')\n",
    "clf.fit(all_train[features], y_train)"
   ]
  },
  {
   "cell_type": "code",
   "execution_count": 34,
   "metadata": {},
   "outputs": [
    {
     "data": {
      "text/plain": [
       "0.7243264587066792"
      ]
     },
     "execution_count": 34,
     "metadata": {},
     "output_type": "execute_result"
    }
   ],
   "source": [
    "clf.score(all_test[features],y_test)"
   ]
  },
  {
   "cell_type": "code",
   "execution_count": 35,
   "metadata": {},
   "outputs": [
    {
     "data": {
      "text/html": [
       "<div>\n",
       "<style scoped>\n",
       "    .dataframe tbody tr th:only-of-type {\n",
       "        vertical-align: middle;\n",
       "    }\n",
       "\n",
       "    .dataframe tbody tr th {\n",
       "        vertical-align: top;\n",
       "    }\n",
       "\n",
       "    .dataframe thead th {\n",
       "        text-align: right;\n",
       "    }\n",
       "</style>\n",
       "<table border=\"1\" class=\"dataframe\">\n",
       "  <thead>\n",
       "    <tr style=\"text-align: right;\">\n",
       "      <th>Actual</th>\n",
       "      <th>0</th>\n",
       "      <th>1</th>\n",
       "    </tr>\n",
       "    <tr>\n",
       "      <th>Predicted</th>\n",
       "      <th></th>\n",
       "      <th></th>\n",
       "    </tr>\n",
       "  </thead>\n",
       "  <tbody>\n",
       "    <tr>\n",
       "      <th>0</th>\n",
       "      <td>21191</td>\n",
       "      <td>5220</td>\n",
       "    </tr>\n",
       "    <tr>\n",
       "      <th>1</th>\n",
       "      <td>3856</td>\n",
       "      <td>2656</td>\n",
       "    </tr>\n",
       "  </tbody>\n",
       "</table>\n",
       "</div>"
      ],
      "text/plain": [
       "Actual          0     1\n",
       "Predicted              \n",
       "0           21191  5220\n",
       "1            3856  2656"
      ]
     },
     "execution_count": 35,
     "metadata": {},
     "output_type": "execute_result"
    }
   ],
   "source": [
    "preds = clf.predict(all_test[features])\n",
    "pd.crosstab(preds, y_test, rownames=['Predicted '], colnames=['Actual '])"
   ]
  },
  {
   "cell_type": "code",
   "execution_count": 36,
   "metadata": {},
   "outputs": [
    {
     "data": {
      "text/plain": [
       "Text(0,0.5,'precision')"
      ]
     },
     "execution_count": 36,
     "metadata": {},
     "output_type": "execute_result"
    },
    {
     "data": {
      "image/png": "[encoded data removed]",
      "text/plain": [
       "<matplotlib.figure.Figure at 0x7f608f78bc18>"
      ]
     },
     "metadata": {},
     "output_type": "display_data"
    }
   ],
   "source": [
    "# plt.style.use(['dark_background'])\n",
    "preds1 = clf.predict_proba(all_test[features])\n",
    "precision, recall, _ = precision_recall_curve(y_test, preds1[:,0],pos_label=0)\n",
    "\n",
    "plt.step(recall,precision)\n",
    "plt.fill_between(recall, precision,step='pre', alpha=0.2,\n",
    "                 color='b')\n",
    "plt.xlabel('recall')\n",
    "plt.ylabel('precision')"
   ]
  },
  {
   "cell_type": "code",
   "execution_count": 37,
   "metadata": {},
   "outputs": [
    {
     "data": {
      "text/plain": [
       "0.8908228415790352"
      ]
     },
     "execution_count": 37,
     "metadata": {},
     "output_type": "execute_result"
    }
   ],
   "source": [
    "integrate.trapz(precision[::-1],recall[::-1])"
   ]
  },
  {
   "cell_type": "code",
   "execution_count": 38,
   "metadata": {},
   "outputs": [
    {
     "data": {
      "text/plain": [
       "0.36919655268279117"
      ]
     },
     "execution_count": 38,
     "metadata": {},
     "output_type": "execute_result"
    }
   ],
   "source": [
    "f1_score(np.array(preds),np.array(y_test))"
   ]
  },
  {
   "cell_type": "code",
   "execution_count": null,
   "metadata": {},
   "outputs": [],
   "source": []
  }
 ],
 "metadata": {
  "kernelspec": {
   "display_name": "Python 3",
   "language": "python",
   "name": "python3"
  },
  "language_info": {
   "codemirror_mode": {
    "name": "ipython",
    "version": 3
   },
   "file_extension": ".py",
   "mimetype": "text/x-python",
   "name": "python",
   "nbconvert_exporter": "python",
   "pygments_lexer": "ipython3",
   "version": "3.6.4"
  }
 },
 "nbformat": 4,
 "nbformat_minor": 2
}
