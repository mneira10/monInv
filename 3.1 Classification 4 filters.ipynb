{
 "cells": [
  {
   "cell_type": "code",
   "execution_count": 1,
   "metadata": {},
   "outputs": [],
   "source": [
    "from sklearn.ensemble import RandomForestClassifier\n",
    "import sklearn.metrics\n",
    "import pandas as pd\n",
    "import numpy as np\n",
    "np.random.seed(0)\n",
    "from sklearn.model_selection import GridSearchCV, StratifiedKFold  # , cross_val_score\n",
    "from sklearn.metrics import make_scorer, accuracy_score, precision_score, recall_score, f1_score, precision_recall_fscore_support, confusion_matrix  # , classification_report\n",
    "\n"
   ]
  },
  {
   "cell_type": "code",
   "execution_count": 2,
   "metadata": {},
   "outputs": [],
   "source": [
    "DATA_PATH = \"./data/\"\n",
    "FEATURES_4D = DATA_PATH + \"4dFeatures/\""
   ]
  },
  {
   "cell_type": "code",
   "execution_count": 3,
   "metadata": {},
   "outputs": [
    {
     "data": {
      "text/plain": [
       "(5000, 126)"
      ]
     },
     "execution_count": 3,
     "metadata": {},
     "output_type": "execute_result"
    }
   ],
   "source": [
    "sn_train = pd.read_pickle(FEATURES_4D + 'allSNS.pickle')\n",
    "\n",
    "sn_train.shape"
   ]
  },
  {
   "cell_type": "code",
   "execution_count": 4,
   "metadata": {},
   "outputs": [
    {
     "data": {
      "text/plain": [
       "(153, 126)"
      ]
     },
     "execution_count": 4,
     "metadata": {},
     "output_type": "execute_result"
    }
   ],
   "source": [
    "sn_test = pd.read_pickle(FEATURES_4D + \"allMSN.pickle\")\n",
    "\n",
    "sn_test.shape\n"
   ]
  },
  {
   "cell_type": "code",
   "execution_count": 5,
   "metadata": {},
   "outputs": [
    {
     "data": {
      "text/plain": [
       "(5500, 126)"
      ]
     },
     "execution_count": 5,
     "metadata": {},
     "output_type": "execute_result"
    }
   ],
   "source": [
    "allnsn_small = pd.read_pickle(FEATURES_4D+\"allNSNsmall.pickle\")\n",
    "\n",
    "allnsn_small.shape"
   ]
  },
  {
   "cell_type": "code",
   "execution_count": 6,
   "metadata": {},
   "outputs": [
    {
     "data": {
      "text/plain": [
       "(300, 126)"
      ]
     },
     "execution_count": 6,
     "metadata": {},
     "output_type": "execute_result"
    }
   ],
   "source": [
    "nsns_test = allnsn_small.sample(300)\n",
    "\n",
    "nsns_train = allnsn_small[~allnsn_small.ID.isin(nsns_test.ID)].sample(5000)\n",
    "\n",
    "nsns_test.shape"
   ]
  },
  {
   "cell_type": "code",
   "execution_count": 7,
   "metadata": {},
   "outputs": [
    {
     "data": {
      "text/plain": [
       "(10000, 126)"
      ]
     },
     "execution_count": 7,
     "metadata": {},
     "output_type": "execute_result"
    }
   ],
   "source": [
    "all_train = pd.concat([sn_train,nsns_train])\n",
    "\n",
    "all_test = pd.concat([sn_test,nsns_test])\n",
    "\n",
    "all_train.shape"
   ]
  },
  {
   "cell_type": "code",
   "execution_count": 8,
   "metadata": {},
   "outputs": [
    {
     "data": {
      "text/html": [
       "<div>\n",
       "<style scoped>\n",
       "    .dataframe tbody tr th:only-of-type {\n",
       "        vertical-align: middle;\n",
       "    }\n",
       "\n",
       "    .dataframe tbody tr th {\n",
       "        vertical-align: top;\n",
       "    }\n",
       "\n",
       "    .dataframe thead th {\n",
       "        text-align: right;\n",
       "    }\n",
       "</style>\n",
       "<table border=\"1\" class=\"dataframe\">\n",
       "  <thead>\n",
       "    <tr style=\"text-align: right;\">\n",
       "      <th></th>\n",
       "      <th>ID</th>\n",
       "      <th>ObsCount_i</th>\n",
       "      <th>amplitude_i</th>\n",
       "      <th>beyond1st_i</th>\n",
       "      <th>flux_percentile_ratio_mid20_i</th>\n",
       "      <th>flux_percentile_ratio_mid35_i</th>\n",
       "      <th>flux_percentile_ratio_mid50_i</th>\n",
       "      <th>flux_percentile_ratio_mid65_i</th>\n",
       "      <th>flux_percentile_ratio_mid80_i</th>\n",
       "      <th>kurtosis_i</th>\n",
       "      <th>...</th>\n",
       "      <th>poly4_t1_g</th>\n",
       "      <th>poly4_t2_g</th>\n",
       "      <th>poly4_t3_g</th>\n",
       "      <th>poly4_t4_g</th>\n",
       "      <th>skew_g</th>\n",
       "      <th>small_kurtosis_g</th>\n",
       "      <th>std_g</th>\n",
       "      <th>stetson_j_g</th>\n",
       "      <th>stetson_k_g</th>\n",
       "      <th>Class</th>\n",
       "    </tr>\n",
       "  </thead>\n",
       "  <tbody>\n",
       "    <tr>\n",
       "      <th>0</th>\n",
       "      <td>SN_0</td>\n",
       "      <td>21</td>\n",
       "      <td>78.920400</td>\n",
       "      <td>0.285714</td>\n",
       "      <td>0.226183</td>\n",
       "      <td>0.535467</td>\n",
       "      <td>0.793241</td>\n",
       "      <td>0.931034</td>\n",
       "      <td>0.970109</td>\n",
       "      <td>-1.466621</td>\n",
       "      <td>...</td>\n",
       "      <td>-0.177729</td>\n",
       "      <td>0.031785</td>\n",
       "      <td>-0.000283</td>\n",
       "      <td>-0.000008</td>\n",
       "      <td>1.442733</td>\n",
       "      <td>-4.033333</td>\n",
       "      <td>25.138730</td>\n",
       "      <td>16.242553</td>\n",
       "      <td>0.927641</td>\n",
       "      <td>sn</td>\n",
       "    </tr>\n",
       "    <tr>\n",
       "      <th>1</th>\n",
       "      <td>SN_1</td>\n",
       "      <td>7</td>\n",
       "      <td>21.993055</td>\n",
       "      <td>0.285714</td>\n",
       "      <td>0.422545</td>\n",
       "      <td>0.709212</td>\n",
       "      <td>0.753952</td>\n",
       "      <td>0.798691</td>\n",
       "      <td>0.915855</td>\n",
       "      <td>-2.377776</td>\n",
       "      <td>...</td>\n",
       "      <td>0.000000</td>\n",
       "      <td>0.000000</td>\n",
       "      <td>0.000000</td>\n",
       "      <td>0.000000</td>\n",
       "      <td>0.000000</td>\n",
       "      <td>0.000000</td>\n",
       "      <td>0.000000</td>\n",
       "      <td>0.000000</td>\n",
       "      <td>0.000000</td>\n",
       "      <td>sn</td>\n",
       "    </tr>\n",
       "    <tr>\n",
       "      <th>2</th>\n",
       "      <td>SN_2</td>\n",
       "      <td>5</td>\n",
       "      <td>21.529500</td>\n",
       "      <td>0.400000</td>\n",
       "      <td>0.319354</td>\n",
       "      <td>0.558869</td>\n",
       "      <td>0.798384</td>\n",
       "      <td>0.873990</td>\n",
       "      <td>0.949596</td>\n",
       "      <td>-2.438208</td>\n",
       "      <td>...</td>\n",
       "      <td>0.000000</td>\n",
       "      <td>0.000000</td>\n",
       "      <td>0.000000</td>\n",
       "      <td>0.000000</td>\n",
       "      <td>0.000000</td>\n",
       "      <td>0.000000</td>\n",
       "      <td>0.000000</td>\n",
       "      <td>0.000000</td>\n",
       "      <td>0.000000</td>\n",
       "      <td>sn</td>\n",
       "    </tr>\n",
       "    <tr>\n",
       "      <th>3</th>\n",
       "      <td>SN_3</td>\n",
       "      <td>13</td>\n",
       "      <td>72.678250</td>\n",
       "      <td>0.307692</td>\n",
       "      <td>0.097085</td>\n",
       "      <td>0.199656</td>\n",
       "      <td>0.363920</td>\n",
       "      <td>0.582721</td>\n",
       "      <td>0.834838</td>\n",
       "      <td>0.099839</td>\n",
       "      <td>...</td>\n",
       "      <td>-0.336197</td>\n",
       "      <td>0.030121</td>\n",
       "      <td>-0.000030</td>\n",
       "      <td>-0.000015</td>\n",
       "      <td>2.159561</td>\n",
       "      <td>-4.900000</td>\n",
       "      <td>9.075783</td>\n",
       "      <td>2.838324</td>\n",
       "      <td>0.756163</td>\n",
       "      <td>sn</td>\n",
       "    </tr>\n",
       "    <tr>\n",
       "      <th>4</th>\n",
       "      <td>SN_4</td>\n",
       "      <td>8</td>\n",
       "      <td>65.732650</td>\n",
       "      <td>0.125000</td>\n",
       "      <td>0.494576</td>\n",
       "      <td>0.508182</td>\n",
       "      <td>0.525156</td>\n",
       "      <td>0.545836</td>\n",
       "      <td>0.760223</td>\n",
       "      <td>0.290385</td>\n",
       "      <td>...</td>\n",
       "      <td>0.000000</td>\n",
       "      <td>0.000000</td>\n",
       "      <td>0.000000</td>\n",
       "      <td>0.000000</td>\n",
       "      <td>0.000000</td>\n",
       "      <td>0.000000</td>\n",
       "      <td>0.000000</td>\n",
       "      <td>0.000000</td>\n",
       "      <td>0.000000</td>\n",
       "      <td>sn</td>\n",
       "    </tr>\n",
       "  </tbody>\n",
       "</table>\n",
       "<p>5 rows × 126 columns</p>\n",
       "</div>"
      ],
      "text/plain": [
       "     ID ObsCount_i  amplitude_i  beyond1st_i  flux_percentile_ratio_mid20_i  \\\n",
       "0  SN_0         21    78.920400     0.285714                       0.226183   \n",
       "1  SN_1          7    21.993055     0.285714                       0.422545   \n",
       "2  SN_2          5    21.529500     0.400000                       0.319354   \n",
       "3  SN_3         13    72.678250     0.307692                       0.097085   \n",
       "4  SN_4          8    65.732650     0.125000                       0.494576   \n",
       "\n",
       "   flux_percentile_ratio_mid35_i  flux_percentile_ratio_mid50_i  \\\n",
       "0                       0.535467                       0.793241   \n",
       "1                       0.709212                       0.753952   \n",
       "2                       0.558869                       0.798384   \n",
       "3                       0.199656                       0.363920   \n",
       "4                       0.508182                       0.525156   \n",
       "\n",
       "   flux_percentile_ratio_mid65_i  flux_percentile_ratio_mid80_i  kurtosis_i  \\\n",
       "0                       0.931034                       0.970109   -1.466621   \n",
       "1                       0.798691                       0.915855   -2.377776   \n",
       "2                       0.873990                       0.949596   -2.438208   \n",
       "3                       0.582721                       0.834838    0.099839   \n",
       "4                       0.545836                       0.760223    0.290385   \n",
       "\n",
       "   ...    poly4_t1_g  poly4_t2_g  poly4_t3_g  poly4_t4_g    skew_g  \\\n",
       "0  ...     -0.177729    0.031785   -0.000283   -0.000008  1.442733   \n",
       "1  ...      0.000000    0.000000    0.000000    0.000000  0.000000   \n",
       "2  ...      0.000000    0.000000    0.000000    0.000000  0.000000   \n",
       "3  ...     -0.336197    0.030121   -0.000030   -0.000015  2.159561   \n",
       "4  ...      0.000000    0.000000    0.000000    0.000000  0.000000   \n",
       "\n",
       "   small_kurtosis_g      std_g  stetson_j_g  stetson_k_g  Class  \n",
       "0         -4.033333  25.138730    16.242553     0.927641     sn  \n",
       "1          0.000000   0.000000     0.000000     0.000000     sn  \n",
       "2          0.000000   0.000000     0.000000     0.000000     sn  \n",
       "3         -4.900000   9.075783     2.838324     0.756163     sn  \n",
       "4          0.000000   0.000000     0.000000     0.000000     sn  \n",
       "\n",
       "[5 rows x 126 columns]"
      ]
     },
     "execution_count": 8,
     "metadata": {},
     "output_type": "execute_result"
    }
   ],
   "source": [
    "all_train.head()"
   ]
  },
  {
   "cell_type": "code",
   "execution_count": 9,
   "metadata": {},
   "outputs": [
    {
     "data": {
      "text/html": [
       "<div>\n",
       "<style scoped>\n",
       "    .dataframe tbody tr th:only-of-type {\n",
       "        vertical-align: middle;\n",
       "    }\n",
       "\n",
       "    .dataframe tbody tr th {\n",
       "        vertical-align: top;\n",
       "    }\n",
       "\n",
       "    .dataframe thead th {\n",
       "        text-align: right;\n",
       "    }\n",
       "</style>\n",
       "<table border=\"1\" class=\"dataframe\">\n",
       "  <thead>\n",
       "    <tr style=\"text-align: right;\">\n",
       "      <th></th>\n",
       "      <th>ID</th>\n",
       "      <th>ObsCount_i</th>\n",
       "      <th>amplitude_i</th>\n",
       "      <th>beyond1st_i</th>\n",
       "      <th>flux_percentile_ratio_mid20_i</th>\n",
       "      <th>flux_percentile_ratio_mid35_i</th>\n",
       "      <th>flux_percentile_ratio_mid50_i</th>\n",
       "      <th>flux_percentile_ratio_mid65_i</th>\n",
       "      <th>flux_percentile_ratio_mid80_i</th>\n",
       "      <th>kurtosis_i</th>\n",
       "      <th>...</th>\n",
       "      <th>poly4_t1_g</th>\n",
       "      <th>poly4_t2_g</th>\n",
       "      <th>poly4_t3_g</th>\n",
       "      <th>poly4_t4_g</th>\n",
       "      <th>skew_g</th>\n",
       "      <th>small_kurtosis_g</th>\n",
       "      <th>std_g</th>\n",
       "      <th>stetson_j_g</th>\n",
       "      <th>stetson_k_g</th>\n",
       "      <th>Class</th>\n",
       "    </tr>\n",
       "  </thead>\n",
       "  <tbody>\n",
       "    <tr>\n",
       "      <th>0</th>\n",
       "      <td>MSN_10502</td>\n",
       "      <td>21</td>\n",
       "      <td>185.342232</td>\n",
       "      <td>0.095238</td>\n",
       "      <td>0.080170</td>\n",
       "      <td>0.122250</td>\n",
       "      <td>0.175617</td>\n",
       "      <td>0.337986</td>\n",
       "      <td>0.621979</td>\n",
       "      <td>5.160671</td>\n",
       "      <td>...</td>\n",
       "      <td>0.0</td>\n",
       "      <td>0.0</td>\n",
       "      <td>0.0</td>\n",
       "      <td>0.0</td>\n",
       "      <td>0.0</td>\n",
       "      <td>0.0</td>\n",
       "      <td>0.0</td>\n",
       "      <td>0.0</td>\n",
       "      <td>0.0</td>\n",
       "      <td>sn</td>\n",
       "    </tr>\n",
       "    <tr>\n",
       "      <th>1</th>\n",
       "      <td>MSN_87679</td>\n",
       "      <td>13</td>\n",
       "      <td>34.943539</td>\n",
       "      <td>0.230769</td>\n",
       "      <td>0.303379</td>\n",
       "      <td>0.402537</td>\n",
       "      <td>0.610876</td>\n",
       "      <td>0.872824</td>\n",
       "      <td>0.942403</td>\n",
       "      <td>-1.268704</td>\n",
       "      <td>...</td>\n",
       "      <td>0.0</td>\n",
       "      <td>0.0</td>\n",
       "      <td>0.0</td>\n",
       "      <td>0.0</td>\n",
       "      <td>0.0</td>\n",
       "      <td>0.0</td>\n",
       "      <td>0.0</td>\n",
       "      <td>0.0</td>\n",
       "      <td>0.0</td>\n",
       "      <td>sn</td>\n",
       "    </tr>\n",
       "    <tr>\n",
       "      <th>2</th>\n",
       "      <td>MSN_119183</td>\n",
       "      <td>17</td>\n",
       "      <td>12.828232</td>\n",
       "      <td>0.411765</td>\n",
       "      <td>0.124565</td>\n",
       "      <td>0.183884</td>\n",
       "      <td>0.233649</td>\n",
       "      <td>0.801787</td>\n",
       "      <td>0.920751</td>\n",
       "      <td>-0.219656</td>\n",
       "      <td>...</td>\n",
       "      <td>0.0</td>\n",
       "      <td>0.0</td>\n",
       "      <td>0.0</td>\n",
       "      <td>0.0</td>\n",
       "      <td>0.0</td>\n",
       "      <td>0.0</td>\n",
       "      <td>0.0</td>\n",
       "      <td>0.0</td>\n",
       "      <td>0.0</td>\n",
       "      <td>sn</td>\n",
       "    </tr>\n",
       "    <tr>\n",
       "      <th>3</th>\n",
       "      <td>MSN_62488</td>\n",
       "      <td>45</td>\n",
       "      <td>59.885384</td>\n",
       "      <td>0.333333</td>\n",
       "      <td>0.081737</td>\n",
       "      <td>0.196849</td>\n",
       "      <td>0.418143</td>\n",
       "      <td>0.578618</td>\n",
       "      <td>0.790034</td>\n",
       "      <td>0.098639</td>\n",
       "      <td>...</td>\n",
       "      <td>0.0</td>\n",
       "      <td>0.0</td>\n",
       "      <td>0.0</td>\n",
       "      <td>0.0</td>\n",
       "      <td>0.0</td>\n",
       "      <td>0.0</td>\n",
       "      <td>0.0</td>\n",
       "      <td>0.0</td>\n",
       "      <td>0.0</td>\n",
       "      <td>sn</td>\n",
       "    </tr>\n",
       "    <tr>\n",
       "      <th>4</th>\n",
       "      <td>MSN_107646</td>\n",
       "      <td>9</td>\n",
       "      <td>11.143585</td>\n",
       "      <td>0.333333</td>\n",
       "      <td>0.124915</td>\n",
       "      <td>0.312376</td>\n",
       "      <td>0.546724</td>\n",
       "      <td>0.695278</td>\n",
       "      <td>0.862875</td>\n",
       "      <td>-0.790142</td>\n",
       "      <td>...</td>\n",
       "      <td>0.0</td>\n",
       "      <td>0.0</td>\n",
       "      <td>0.0</td>\n",
       "      <td>0.0</td>\n",
       "      <td>0.0</td>\n",
       "      <td>0.0</td>\n",
       "      <td>0.0</td>\n",
       "      <td>0.0</td>\n",
       "      <td>0.0</td>\n",
       "      <td>sn</td>\n",
       "    </tr>\n",
       "  </tbody>\n",
       "</table>\n",
       "<p>5 rows × 126 columns</p>\n",
       "</div>"
      ],
      "text/plain": [
       "           ID ObsCount_i  amplitude_i  beyond1st_i  \\\n",
       "0   MSN_10502         21   185.342232     0.095238   \n",
       "1   MSN_87679         13    34.943539     0.230769   \n",
       "2  MSN_119183         17    12.828232     0.411765   \n",
       "3   MSN_62488         45    59.885384     0.333333   \n",
       "4  MSN_107646          9    11.143585     0.333333   \n",
       "\n",
       "   flux_percentile_ratio_mid20_i  flux_percentile_ratio_mid35_i  \\\n",
       "0                       0.080170                       0.122250   \n",
       "1                       0.303379                       0.402537   \n",
       "2                       0.124565                       0.183884   \n",
       "3                       0.081737                       0.196849   \n",
       "4                       0.124915                       0.312376   \n",
       "\n",
       "   flux_percentile_ratio_mid50_i  flux_percentile_ratio_mid65_i  \\\n",
       "0                       0.175617                       0.337986   \n",
       "1                       0.610876                       0.872824   \n",
       "2                       0.233649                       0.801787   \n",
       "3                       0.418143                       0.578618   \n",
       "4                       0.546724                       0.695278   \n",
       "\n",
       "   flux_percentile_ratio_mid80_i  kurtosis_i  ...    poly4_t1_g  poly4_t2_g  \\\n",
       "0                       0.621979    5.160671  ...           0.0         0.0   \n",
       "1                       0.942403   -1.268704  ...           0.0         0.0   \n",
       "2                       0.920751   -0.219656  ...           0.0         0.0   \n",
       "3                       0.790034    0.098639  ...           0.0         0.0   \n",
       "4                       0.862875   -0.790142  ...           0.0         0.0   \n",
       "\n",
       "   poly4_t3_g  poly4_t4_g  skew_g  small_kurtosis_g  std_g  stetson_j_g  \\\n",
       "0         0.0         0.0     0.0               0.0    0.0          0.0   \n",
       "1         0.0         0.0     0.0               0.0    0.0          0.0   \n",
       "2         0.0         0.0     0.0               0.0    0.0          0.0   \n",
       "3         0.0         0.0     0.0               0.0    0.0          0.0   \n",
       "4         0.0         0.0     0.0               0.0    0.0          0.0   \n",
       "\n",
       "   stetson_k_g  Class  \n",
       "0          0.0     sn  \n",
       "1          0.0     sn  \n",
       "2          0.0     sn  \n",
       "3          0.0     sn  \n",
       "4          0.0     sn  \n",
       "\n",
       "[5 rows x 126 columns]"
      ]
     },
     "execution_count": 9,
     "metadata": {},
     "output_type": "execute_result"
    }
   ],
   "source": [
    "all_test.head()"
   ]
  },
  {
   "cell_type": "code",
   "execution_count": 10,
   "metadata": {},
   "outputs": [],
   "source": [
    "features = all_train.columns[1:-1]\n",
    "\n",
    "y_train = pd.factorize(all_train['Class'])[0]\n",
    "y_train\n",
    "\n",
    "\n",
    "\n",
    "\n",
    "clf = RandomForestClassifier(n_estimators=50,random_state=0, class_weight='balanced')"
   ]
  },
  {
   "cell_type": "markdown",
   "metadata": {},
   "source": [
    "Hay nan values...."
   ]
  },
  {
   "cell_type": "code",
   "execution_count": 11,
   "metadata": {},
   "outputs": [],
   "source": [
    "all_train = all_train.fillna(0)"
   ]
  },
  {
   "cell_type": "code",
   "execution_count": 12,
   "metadata": {},
   "outputs": [
    {
     "data": {
      "text/plain": [
       "RandomForestClassifier(bootstrap=True, class_weight='balanced',\n",
       "            criterion='gini', max_depth=None, max_features='auto',\n",
       "            max_leaf_nodes=None, min_impurity_decrease=0.0,\n",
       "            min_impurity_split=None, min_samples_leaf=1,\n",
       "            min_samples_split=2, min_weight_fraction_leaf=0.0,\n",
       "            n_estimators=50, n_jobs=1, oob_score=False, random_state=0,\n",
       "            verbose=0, warm_start=False)"
      ]
     },
     "execution_count": 12,
     "metadata": {},
     "output_type": "execute_result"
    }
   ],
   "source": [
    "clf.fit(all_train[features], y_train)"
   ]
  },
  {
   "cell_type": "code",
   "execution_count": 13,
   "metadata": {},
   "outputs": [],
   "source": [
    "all_test = all_test.fillna(0)"
   ]
  },
  {
   "cell_type": "code",
   "execution_count": 14,
   "metadata": {},
   "outputs": [],
   "source": [
    "preds = clf.predict(all_test[features])"
   ]
  },
  {
   "cell_type": "code",
   "execution_count": 15,
   "metadata": {},
   "outputs": [],
   "source": [
    "y_test = pd.factorize(all_test[\"Class\"])[0]"
   ]
  },
  {
   "cell_type": "code",
   "execution_count": 17,
   "metadata": {},
   "outputs": [
    {
     "data": {
      "text/html": [
       "<div>\n",
       "<style scoped>\n",
       "    .dataframe tbody tr th:only-of-type {\n",
       "        vertical-align: middle;\n",
       "    }\n",
       "\n",
       "    .dataframe tbody tr th {\n",
       "        vertical-align: top;\n",
       "    }\n",
       "\n",
       "    .dataframe thead th {\n",
       "        text-align: right;\n",
       "    }\n",
       "</style>\n",
       "<table border=\"1\" class=\"dataframe\">\n",
       "  <thead>\n",
       "    <tr style=\"text-align: right;\">\n",
       "      <th>Actual</th>\n",
       "      <th>0</th>\n",
       "      <th>1</th>\n",
       "    </tr>\n",
       "    <tr>\n",
       "      <th>Predicted</th>\n",
       "      <th></th>\n",
       "      <th></th>\n",
       "    </tr>\n",
       "  </thead>\n",
       "  <tbody>\n",
       "    <tr>\n",
       "      <th>0</th>\n",
       "      <td>59</td>\n",
       "      <td>4</td>\n",
       "    </tr>\n",
       "    <tr>\n",
       "      <th>1</th>\n",
       "      <td>94</td>\n",
       "      <td>296</td>\n",
       "    </tr>\n",
       "  </tbody>\n",
       "</table>\n",
       "</div>"
      ],
      "text/plain": [
       "Actual       0    1\n",
       "Predicted          \n",
       "0           59    4\n",
       "1           94  296"
      ]
     },
     "execution_count": 17,
     "metadata": {},
     "output_type": "execute_result"
    }
   ],
   "source": [
    "pd.crosstab(preds, y_test, rownames=['Predicted '], colnames=['Actual '])"
   ]
  }
 ],
 "metadata": {
  "kernelspec": {
   "display_name": "Python 3",
   "language": "python",
   "name": "python3"
  },
  "language_info": {
   "codemirror_mode": {
    "name": "ipython",
    "version": 3
   },
   "file_extension": ".py",
   "mimetype": "text/x-python",
   "name": "python",
   "nbconvert_exporter": "python",
   "pygments_lexer": "ipython3",
   "version": "3.6.4"
  }
 },
 "nbformat": 4,
 "nbformat_minor": 2
}
